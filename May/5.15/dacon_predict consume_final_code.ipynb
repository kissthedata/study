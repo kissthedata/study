{
 "cells": [
  {
   "cell_type": "markdown",
   "id": "e0cd619b",
   "metadata": {},
   "source": [
    "# Library"
   ]
  },
  {
   "cell_type": "code",
   "execution_count": 3,
   "id": "e5d31c54",
   "metadata": {
    "ExecuteTime": {
     "end_time": "2022-05-11T01:45:44.726993Z",
     "start_time": "2022-05-11T01:45:44.703623Z"
    }
   },
   "outputs": [],
   "source": [
    "import pandas as pd\n",
    "import numpy as np\n",
    "import seaborn as sns\n",
    "import matplotlib.pyplot as plt\n",
    "import matplotlib \n",
    "%matplotlib inline\n",
    "plt.style.use('seaborn')\n",
    "#view all columns\n",
    "pd.options.display.max_columns = None\n",
    "#.2f\n",
    "pd.options.display.float_format = '{:.4f}'.format\n",
    "\n",
    "import warnings\n",
    "warnings.filterwarnings('ignore')\n",
    "\n",
    "#sklearn\n",
    "from sklearn.preprocessing import LabelEncoder, StandardScaler\n",
    "from sklearn.model_selection import KFold, train_test_split,StratifiedKFold,cross_val_score\n",
    "\n",
    "#metrics\n",
    "from sklearn.metrics import accuracy_score, classification_report, confusion_matrix\n",
    "\n",
    "#sklearn\n",
    "from sklearn.ensemble import RandomForestRegressor,ExtraTreesRegressor\n",
    "from sklearn.svm import SVR\n",
    "from sklearn.neighbors import KNeighborsRegressor\n",
    "from lightgbm import LGBMRegressor\n",
    "from sklearn.metrics import mean_squared_error\n",
    "from xgboost import XGBRegressor\n",
    "from sklearn.ensemble import VotingRegressor\n",
    "from catboost import CatBoostRegressor\n",
    "\n",
    "from feature_engine.outliers import OutlierTrimmer\n",
    "from feature_engine.transformation import BoxCoxTransformer,YeoJohnsonTransformer\n",
    "from feature_engine.selection import DropFeatures,DropCorrelatedFeatures,DropDuplicateFeatures\n",
    "from sklearn.model_selection import GridSearchCV, RandomizedSearchCV\n",
    "\n",
    "#optuna\n",
    "import optuna\n",
    "from optuna import Trial, visualization\n",
    "from optuna.samplers import TPESampler"
   ]
  },
  {
   "cell_type": "markdown",
   "id": "3fc39d91",
   "metadata": {},
   "source": [
    "# Model"
   ]
  },
  {
   "cell_type": "code",
   "execution_count": 4,
   "id": "90f85c48",
   "metadata": {
    "ExecuteTime": {
     "end_time": "2022-05-11T01:45:45.884046Z",
     "start_time": "2022-05-11T01:45:45.800090Z"
    },
    "scrolled": true
   },
   "outputs": [],
   "source": [
    "train = pd.read_csv(\"./data/drive-download-20220502T013044Z-001/train.csv\")\n",
    "test = pd.read_csv(\"./data/drive-download-20220502T013044Z-001/test.csv\")\n",
    "sample_submission = pd.read_csv(\"./data/drive-download-20220502T013044Z-001/sample_submission.csv\")\n",
    "\n",
    "\n",
    "#drop id column\n",
    "train.drop(['id'],axis=1,inplace=True)\n",
    "test.drop(['id'],axis=1,inplace=True)\n",
    "\n",
    "num_cols = train.select_dtypes(include=['float64','int64']).columns.tolist()\n",
    "cat_cols = train.select_dtypes(exclude=['float64','int64']).columns.tolist()\n",
    "num_cols.remove('target')\n",
    "\n",
    "\n",
    "#Education\n",
    "train['Education']=train['Education'].map({'Basic':1,'2n Cycle':2,'Graduation':3,\n",
    "                       'PhD':4,'Master':5})\n",
    "test['Education']=test['Education'].map({'Basic':1,'2n Cycle':2,'Graduation':3,\n",
    "                       'PhD':4,'Master':5})\n",
    "#Dt_Customer\n",
    "train['Year_Customer']=train['Dt_Customer'].str.split('-',expand=True)[2].astype('int64')\n",
    "test['Year_Customer']=test['Dt_Customer'].str.split('-',expand=True)[2].astype('int64')\n",
    "train.drop('Dt_Customer',axis=1,inplace=True)\n",
    "test.drop('Dt_Customer',axis=1,inplace=True)\n",
    "\n",
    "#year_birth -> age : 상쇄\n",
    "\n",
    "#total purhases\n",
    "train['TotalPurchases']=train['NumCatalogPurchases']+train['NumStorePurchases']+train['NumWebPurchases']+train['NumDealsPurchases']\n",
    "test['TotalPurchases']=test['NumCatalogPurchases']+test['NumStorePurchases']+test['NumWebPurchases']+test['NumDealsPurchases']\n",
    "\n",
    "#kidhome+teenhome\n",
    "train['Child']=train['Kidhome'] + train['Teenhome']\n",
    "test['Child']=test['Kidhome'] + test['Teenhome']\n",
    "\n",
    "#Martial_status\n",
    "train['Marital_Status']=train['Marital_Status'].replace(['Divorced','Widow','YOLO','Alone','Absurd'],'Single')\n",
    "test['Marital_Status']=train['Marital_Status'].replace(['Divorced','Widow','YOLO','Alone','Absurd'],'Single')\n",
    "\n",
    "\n",
    "#drop outlier\n",
    "outliers = OutlierTrimmer(variables=['Year_Birth','Income'],fold=3)\n",
    "train = outliers.fit_transform(train)\n",
    "\n",
    "#target log\n",
    "train['target']= np.log1p(train['target'])\n",
    "\n",
    "#yeo\n",
    "#totalpurchases\n",
    "\n",
    "#StandardScaler\n",
    "\n",
    "ss=StandardScaler()\n",
    "train[num_cols]=ss.fit_transform(train[num_cols])\n",
    "test[num_cols]=ss.transform(test[num_cols])\n",
    "\n",
    "#dummies\n",
    "train = pd.get_dummies(train)\n",
    "test = pd.get_dummies(test)\n",
    "\n",
    "#model\n",
    "X= train.drop(['target'],axis=1)\n",
    "y= train['target']\n",
    "\n",
    "X_train,X_test,y_train,y_test = train_test_split(X,y,test_size=.3, random_state=42)\n",
    "\n",
    "\n",
    "#과적합\n",
    "# trans=YeoJohnsonTransformer(variables=['NumCatalogPurchases'\n",
    "# ])\n",
    "\n",
    "# X_train=trans.fit_transform(X_train)\n",
    "# X_test = trans.transform(X_test)"
   ]
  },
  {
   "cell_type": "markdown",
   "id": "945e9665",
   "metadata": {},
   "source": [
    "# fold"
   ]
  },
  {
   "cell_type": "code",
   "execution_count": 1,
   "id": "a0ca1420",
   "metadata": {
    "ExecuteTime": {
     "end_time": "2022-05-11T01:45:10.065748Z",
     "start_time": "2022-05-11T01:45:10.054919Z"
    }
   },
   "outputs": [],
   "source": []
  },
  {
   "cell_type": "code",
   "execution_count": 9,
   "id": "fb806242",
   "metadata": {
    "ExecuteTime": {
     "end_time": "2022-05-11T01:53:25.188110Z",
     "start_time": "2022-05-11T01:53:19.754674Z"
    }
   },
   "outputs": [
    {
     "name": "stdout",
     "output_type": "stream",
     "text": [
      "Learning rate set to 0.037282\n",
      "0:\tlearn: 1.4226296\ttotal: 992us\tremaining: 991ms\n",
      "1:\tlearn: 1.3824885\ttotal: 2.06ms\tremaining: 1.03s\n",
      "2:\tlearn: 1.3427377\ttotal: 3.06ms\tremaining: 1.02s\n",
      "3:\tlearn: 1.3020598\ttotal: 4.21ms\tremaining: 1.05s\n",
      "4:\tlearn: 1.2629998\ttotal: 5.21ms\tremaining: 1.03s\n",
      "5:\tlearn: 1.2275372\ttotal: 6.21ms\tremaining: 1.03s\n",
      "6:\tlearn: 1.1905651\ttotal: 7.2ms\tremaining: 1.02s\n",
      "7:\tlearn: 1.1598588\ttotal: 8.12ms\tremaining: 1.01s\n",
      "8:\tlearn: 1.1255565\ttotal: 9.95ms\tremaining: 1.09s\n",
      "9:\tlearn: 1.0911574\ttotal: 10.9ms\tremaining: 1.08s\n",
      "10:\tlearn: 1.0630548\ttotal: 11.3ms\tremaining: 1.01s\n",
      "11:\tlearn: 1.0343928\ttotal: 12.5ms\tremaining: 1.03s\n",
      "12:\tlearn: 1.0060993\ttotal: 13.6ms\tremaining: 1.03s\n",
      "13:\tlearn: 0.9776047\ttotal: 14.5ms\tremaining: 1.02s\n",
      "14:\tlearn: 0.9509992\ttotal: 15.1ms\tremaining: 994ms\n",
      "15:\tlearn: 0.9271806\ttotal: 15.5ms\tremaining: 952ms\n",
      "16:\tlearn: 0.9016047\ttotal: 16.5ms\tremaining: 952ms\n",
      "17:\tlearn: 0.8770633\ttotal: 17.5ms\tremaining: 955ms\n",
      "18:\tlearn: 0.8563336\ttotal: 18.5ms\tremaining: 954ms\n",
      "19:\tlearn: 0.8339148\ttotal: 19.4ms\tremaining: 949ms\n",
      "20:\tlearn: 0.8119194\ttotal: 20.5ms\tremaining: 957ms\n",
      "21:\tlearn: 0.7923522\ttotal: 21.8ms\tremaining: 967ms\n",
      "22:\tlearn: 0.7724735\ttotal: 22.8ms\tremaining: 970ms\n",
      "23:\tlearn: 0.7533609\ttotal: 23.9ms\tremaining: 974ms\n",
      "24:\tlearn: 0.7347543\ttotal: 24.9ms\tremaining: 972ms\n",
      "25:\tlearn: 0.7185640\ttotal: 25.6ms\tremaining: 958ms\n",
      "26:\tlearn: 0.7015461\ttotal: 26.6ms\tremaining: 960ms\n",
      "27:\tlearn: 0.6854208\ttotal: 27.7ms\tremaining: 961ms\n",
      "28:\tlearn: 0.6695289\ttotal: 28.7ms\tremaining: 960ms\n",
      "29:\tlearn: 0.6535194\ttotal: 29.7ms\tremaining: 962ms\n",
      "30:\tlearn: 0.6384672\ttotal: 30.7ms\tremaining: 959ms\n",
      "31:\tlearn: 0.6236282\ttotal: 31.6ms\tremaining: 956ms\n",
      "32:\tlearn: 0.6086927\ttotal: 32.7ms\tremaining: 957ms\n",
      "33:\tlearn: 0.5948431\ttotal: 33.6ms\tremaining: 955ms\n",
      "34:\tlearn: 0.5827960\ttotal: 34.6ms\tremaining: 954ms\n",
      "35:\tlearn: 0.5698838\ttotal: 35.7ms\tremaining: 957ms\n",
      "36:\tlearn: 0.5581771\ttotal: 36.7ms\tremaining: 954ms\n",
      "37:\tlearn: 0.5474575\ttotal: 37.7ms\tremaining: 953ms\n",
      "38:\tlearn: 0.5355571\ttotal: 38.6ms\tremaining: 951ms\n",
      "39:\tlearn: 0.5254771\ttotal: 39.6ms\tremaining: 951ms\n",
      "40:\tlearn: 0.5149113\ttotal: 40.6ms\tremaining: 950ms\n",
      "41:\tlearn: 0.5043616\ttotal: 41.6ms\tremaining: 949ms\n",
      "42:\tlearn: 0.4948854\ttotal: 42.6ms\tremaining: 949ms\n",
      "43:\tlearn: 0.4854832\ttotal: 43.7ms\tremaining: 949ms\n",
      "44:\tlearn: 0.4770891\ttotal: 44.7ms\tremaining: 949ms\n",
      "45:\tlearn: 0.4690252\ttotal: 45.6ms\tremaining: 946ms\n",
      "46:\tlearn: 0.4601618\ttotal: 46.6ms\tremaining: 946ms\n",
      "47:\tlearn: 0.4518066\ttotal: 47.7ms\tremaining: 946ms\n",
      "48:\tlearn: 0.4446368\ttotal: 48.7ms\tremaining: 946ms\n",
      "49:\tlearn: 0.4377326\ttotal: 49.7ms\tremaining: 944ms\n",
      "50:\tlearn: 0.4314266\ttotal: 50.3ms\tremaining: 937ms\n",
      "51:\tlearn: 0.4245045\ttotal: 51.4ms\tremaining: 937ms\n",
      "52:\tlearn: 0.4186311\ttotal: 52.4ms\tremaining: 936ms\n",
      "53:\tlearn: 0.4130603\ttotal: 53.5ms\tremaining: 937ms\n",
      "54:\tlearn: 0.4069382\ttotal: 54.4ms\tremaining: 934ms\n",
      "55:\tlearn: 0.4012001\ttotal: 55.4ms\tremaining: 934ms\n",
      "56:\tlearn: 0.3956307\ttotal: 56.3ms\tremaining: 932ms\n",
      "57:\tlearn: 0.3901206\ttotal: 57.4ms\tremaining: 933ms\n",
      "58:\tlearn: 0.3852458\ttotal: 58.4ms\tremaining: 931ms\n",
      "59:\tlearn: 0.3802060\ttotal: 59.3ms\tremaining: 929ms\n",
      "60:\tlearn: 0.3753769\ttotal: 60.3ms\tremaining: 928ms\n",
      "61:\tlearn: 0.3703513\ttotal: 61.2ms\tremaining: 926ms\n",
      "62:\tlearn: 0.3665259\ttotal: 61.9ms\tremaining: 921ms\n",
      "63:\tlearn: 0.3622884\ttotal: 63ms\tremaining: 921ms\n",
      "64:\tlearn: 0.3582609\ttotal: 63.9ms\tremaining: 919ms\n",
      "65:\tlearn: 0.3541280\ttotal: 64.9ms\tremaining: 918ms\n",
      "66:\tlearn: 0.3501110\ttotal: 65.8ms\tremaining: 917ms\n",
      "67:\tlearn: 0.3467979\ttotal: 66.8ms\tremaining: 916ms\n",
      "68:\tlearn: 0.3433818\ttotal: 67.9ms\tremaining: 916ms\n",
      "69:\tlearn: 0.3412279\ttotal: 68.4ms\tremaining: 909ms\n",
      "70:\tlearn: 0.3382857\ttotal: 69.3ms\tremaining: 907ms\n",
      "71:\tlearn: 0.3351734\ttotal: 70.4ms\tremaining: 907ms\n",
      "72:\tlearn: 0.3322785\ttotal: 71.4ms\tremaining: 906ms\n",
      "73:\tlearn: 0.3297472\ttotal: 72.3ms\tremaining: 905ms\n",
      "74:\tlearn: 0.3266543\ttotal: 73.3ms\tremaining: 904ms\n",
      "75:\tlearn: 0.3244273\ttotal: 74.3ms\tremaining: 903ms\n",
      "76:\tlearn: 0.3215893\ttotal: 75.4ms\tremaining: 904ms\n",
      "77:\tlearn: 0.3190406\ttotal: 76.5ms\tremaining: 904ms\n",
      "78:\tlearn: 0.3164340\ttotal: 77.5ms\tremaining: 903ms\n",
      "79:\tlearn: 0.3142786\ttotal: 78.5ms\tremaining: 903ms\n",
      "80:\tlearn: 0.3123969\ttotal: 79.6ms\tremaining: 903ms\n",
      "81:\tlearn: 0.3104315\ttotal: 80.1ms\tremaining: 897ms\n",
      "82:\tlearn: 0.3079030\ttotal: 81.1ms\tremaining: 896ms\n",
      "83:\tlearn: 0.3059804\ttotal: 82.1ms\tremaining: 895ms\n",
      "84:\tlearn: 0.3037857\ttotal: 83ms\tremaining: 894ms\n",
      "85:\tlearn: 0.3017446\ttotal: 84.1ms\tremaining: 893ms\n",
      "86:\tlearn: 0.2999750\ttotal: 85ms\tremaining: 892ms\n",
      "87:\tlearn: 0.2979290\ttotal: 86ms\tremaining: 891ms\n",
      "88:\tlearn: 0.2962769\ttotal: 86.9ms\tremaining: 890ms\n",
      "89:\tlearn: 0.2946732\ttotal: 87.9ms\tremaining: 889ms\n",
      "90:\tlearn: 0.2928213\ttotal: 88.9ms\tremaining: 888ms\n",
      "91:\tlearn: 0.2913604\ttotal: 89.9ms\tremaining: 887ms\n",
      "92:\tlearn: 0.2897938\ttotal: 90.9ms\tremaining: 887ms\n",
      "93:\tlearn: 0.2886681\ttotal: 92.5ms\tremaining: 891ms\n",
      "94:\tlearn: 0.2869169\ttotal: 94ms\tremaining: 895ms\n",
      "95:\tlearn: 0.2854133\ttotal: 94.9ms\tremaining: 894ms\n",
      "96:\tlearn: 0.2839711\ttotal: 95.8ms\tremaining: 892ms\n",
      "97:\tlearn: 0.2825094\ttotal: 96.9ms\tremaining: 892ms\n",
      "98:\tlearn: 0.2809699\ttotal: 97.8ms\tremaining: 890ms\n",
      "99:\tlearn: 0.2801776\ttotal: 98.7ms\tremaining: 888ms\n",
      "100:\tlearn: 0.2789519\ttotal: 99.5ms\tremaining: 886ms\n",
      "101:\tlearn: 0.2776943\ttotal: 101ms\tremaining: 886ms\n",
      "102:\tlearn: 0.2764187\ttotal: 102ms\tremaining: 885ms\n",
      "103:\tlearn: 0.2752629\ttotal: 102ms\tremaining: 883ms\n",
      "104:\tlearn: 0.2740130\ttotal: 104ms\tremaining: 884ms\n",
      "105:\tlearn: 0.2732790\ttotal: 105ms\tremaining: 884ms\n",
      "106:\tlearn: 0.2723193\ttotal: 106ms\tremaining: 882ms\n",
      "107:\tlearn: 0.2709431\ttotal: 107ms\tremaining: 880ms\n",
      "108:\tlearn: 0.2699933\ttotal: 108ms\tremaining: 879ms\n",
      "109:\tlearn: 0.2690380\ttotal: 108ms\tremaining: 877ms\n",
      "110:\tlearn: 0.2681557\ttotal: 109ms\tremaining: 876ms\n",
      "111:\tlearn: 0.2673317\ttotal: 110ms\tremaining: 875ms\n",
      "112:\tlearn: 0.2663815\ttotal: 111ms\tremaining: 874ms\n",
      "113:\tlearn: 0.2654732\ttotal: 112ms\tremaining: 874ms\n",
      "114:\tlearn: 0.2648051\ttotal: 114ms\tremaining: 874ms\n",
      "115:\tlearn: 0.2641079\ttotal: 115ms\tremaining: 873ms\n",
      "116:\tlearn: 0.2632038\ttotal: 116ms\tremaining: 874ms\n",
      "117:\tlearn: 0.2623662\ttotal: 117ms\tremaining: 873ms\n",
      "118:\tlearn: 0.2617839\ttotal: 118ms\tremaining: 872ms\n",
      "119:\tlearn: 0.2607444\ttotal: 119ms\tremaining: 871ms\n",
      "120:\tlearn: 0.2599065\ttotal: 120ms\tremaining: 870ms\n",
      "121:\tlearn: 0.2591915\ttotal: 121ms\tremaining: 869ms\n",
      "122:\tlearn: 0.2587124\ttotal: 122ms\tremaining: 868ms\n",
      "123:\tlearn: 0.2578175\ttotal: 123ms\tremaining: 868ms\n",
      "124:\tlearn: 0.2571586\ttotal: 124ms\tremaining: 868ms\n",
      "125:\tlearn: 0.2565995\ttotal: 125ms\tremaining: 866ms\n",
      "126:\tlearn: 0.2559116\ttotal: 126ms\tremaining: 865ms\n",
      "127:\tlearn: 0.2552358\ttotal: 127ms\tremaining: 866ms\n",
      "128:\tlearn: 0.2543696\ttotal: 128ms\tremaining: 865ms\n",
      "129:\tlearn: 0.2538153\ttotal: 129ms\tremaining: 863ms\n",
      "130:\tlearn: 0.2529846\ttotal: 130ms\tremaining: 862ms\n",
      "131:\tlearn: 0.2523433\ttotal: 131ms\tremaining: 862ms\n",
      "132:\tlearn: 0.2520095\ttotal: 132ms\tremaining: 858ms\n",
      "133:\tlearn: 0.2514440\ttotal: 133ms\tremaining: 857ms\n",
      "134:\tlearn: 0.2507442\ttotal: 134ms\tremaining: 855ms\n",
      "135:\tlearn: 0.2503887\ttotal: 135ms\tremaining: 856ms\n",
      "136:\tlearn: 0.2497973\ttotal: 136ms\tremaining: 855ms\n",
      "137:\tlearn: 0.2490639\ttotal: 137ms\tremaining: 855ms\n",
      "138:\tlearn: 0.2485398\ttotal: 138ms\tremaining: 854ms\n",
      "139:\tlearn: 0.2481028\ttotal: 139ms\tremaining: 853ms\n",
      "140:\tlearn: 0.2474521\ttotal: 140ms\tremaining: 852ms\n",
      "141:\tlearn: 0.2468964\ttotal: 141ms\tremaining: 852ms\n",
      "142:\tlearn: 0.2463748\ttotal: 142ms\tremaining: 851ms\n",
      "143:\tlearn: 0.2457644\ttotal: 143ms\tremaining: 850ms\n",
      "144:\tlearn: 0.2456276\ttotal: 144ms\tremaining: 849ms\n",
      "145:\tlearn: 0.2451184\ttotal: 145ms\tremaining: 848ms\n",
      "146:\tlearn: 0.2446399\ttotal: 146ms\tremaining: 847ms\n",
      "147:\tlearn: 0.2441656\ttotal: 147ms\tremaining: 846ms\n",
      "148:\tlearn: 0.2436071\ttotal: 148ms\tremaining: 845ms\n",
      "149:\tlearn: 0.2430794\ttotal: 149ms\tremaining: 844ms\n",
      "150:\tlearn: 0.2426488\ttotal: 150ms\tremaining: 844ms\n",
      "151:\tlearn: 0.2422166\ttotal: 151ms\tremaining: 843ms\n",
      "152:\tlearn: 0.2418804\ttotal: 152ms\tremaining: 841ms\n",
      "153:\tlearn: 0.2414302\ttotal: 153ms\tremaining: 840ms\n",
      "154:\tlearn: 0.2409140\ttotal: 154ms\tremaining: 839ms\n",
      "155:\tlearn: 0.2404529\ttotal: 155ms\tremaining: 837ms\n",
      "156:\tlearn: 0.2397251\ttotal: 156ms\tremaining: 836ms\n",
      "157:\tlearn: 0.2392368\ttotal: 157ms\tremaining: 835ms\n",
      "158:\tlearn: 0.2391598\ttotal: 157ms\tremaining: 831ms\n",
      "159:\tlearn: 0.2385231\ttotal: 158ms\tremaining: 830ms\n",
      "160:\tlearn: 0.2382385\ttotal: 159ms\tremaining: 829ms\n",
      "161:\tlearn: 0.2376461\ttotal: 160ms\tremaining: 828ms\n",
      "162:\tlearn: 0.2375105\ttotal: 161ms\tremaining: 824ms\n",
      "163:\tlearn: 0.2371038\ttotal: 162ms\tremaining: 824ms\n",
      "164:\tlearn: 0.2363494\ttotal: 163ms\tremaining: 823ms\n",
      "165:\tlearn: 0.2358516\ttotal: 164ms\tremaining: 822ms\n",
      "166:\tlearn: 0.2353777\ttotal: 165ms\tremaining: 822ms\n",
      "167:\tlearn: 0.2353302\ttotal: 165ms\tremaining: 818ms\n",
      "168:\tlearn: 0.2349574\ttotal: 166ms\tremaining: 817ms\n",
      "169:\tlearn: 0.2343530\ttotal: 167ms\tremaining: 816ms\n",
      "170:\tlearn: 0.2339443\ttotal: 168ms\tremaining: 814ms\n",
      "171:\tlearn: 0.2337118\ttotal: 169ms\tremaining: 813ms\n",
      "172:\tlearn: 0.2331431\ttotal: 170ms\tremaining: 812ms\n",
      "173:\tlearn: 0.2327869\ttotal: 171ms\tremaining: 812ms\n",
      "174:\tlearn: 0.2324170\ttotal: 172ms\tremaining: 811ms\n",
      "175:\tlearn: 0.2315268\ttotal: 173ms\tremaining: 809ms\n",
      "176:\tlearn: 0.2311019\ttotal: 174ms\tremaining: 808ms\n",
      "177:\tlearn: 0.2309632\ttotal: 175ms\tremaining: 806ms\n",
      "178:\tlearn: 0.2307108\ttotal: 176ms\tremaining: 805ms\n",
      "179:\tlearn: 0.2298020\ttotal: 177ms\tremaining: 804ms\n",
      "180:\tlearn: 0.2292911\ttotal: 178ms\tremaining: 804ms\n",
      "181:\tlearn: 0.2287353\ttotal: 179ms\tremaining: 803ms\n",
      "182:\tlearn: 0.2282934\ttotal: 179ms\tremaining: 801ms\n",
      "183:\tlearn: 0.2279774\ttotal: 180ms\tremaining: 800ms\n",
      "184:\tlearn: 0.2274304\ttotal: 182ms\tremaining: 800ms\n",
      "185:\tlearn: 0.2271215\ttotal: 183ms\tremaining: 799ms\n",
      "186:\tlearn: 0.2267728\ttotal: 183ms\tremaining: 798ms\n",
      "187:\tlearn: 0.2264569\ttotal: 184ms\tremaining: 796ms\n",
      "188:\tlearn: 0.2263561\ttotal: 185ms\tremaining: 792ms\n",
      "189:\tlearn: 0.2256817\ttotal: 186ms\tremaining: 791ms\n",
      "190:\tlearn: 0.2252534\ttotal: 187ms\tremaining: 790ms\n",
      "191:\tlearn: 0.2249342\ttotal: 187ms\tremaining: 787ms\n",
      "192:\tlearn: 0.2243785\ttotal: 188ms\tremaining: 785ms\n",
      "193:\tlearn: 0.2240864\ttotal: 189ms\tremaining: 784ms\n",
      "194:\tlearn: 0.2237521\ttotal: 190ms\tremaining: 783ms\n"
     ]
    },
    {
     "name": "stdout",
     "output_type": "stream",
     "text": [
      "195:\tlearn: 0.2233902\ttotal: 191ms\tremaining: 782ms\n",
      "196:\tlearn: 0.2228694\ttotal: 192ms\tremaining: 781ms\n",
      "197:\tlearn: 0.2224761\ttotal: 193ms\tremaining: 780ms\n",
      "198:\tlearn: 0.2224492\ttotal: 193ms\tremaining: 777ms\n",
      "199:\tlearn: 0.2222440\ttotal: 194ms\tremaining: 776ms\n",
      "200:\tlearn: 0.2219958\ttotal: 195ms\tremaining: 775ms\n",
      "201:\tlearn: 0.2216258\ttotal: 196ms\tremaining: 775ms\n",
      "202:\tlearn: 0.2213764\ttotal: 197ms\tremaining: 774ms\n",
      "203:\tlearn: 0.2208843\ttotal: 198ms\tremaining: 774ms\n",
      "204:\tlearn: 0.2205817\ttotal: 199ms\tremaining: 774ms\n",
      "205:\tlearn: 0.2202244\ttotal: 201ms\tremaining: 773ms\n",
      "206:\tlearn: 0.2199074\ttotal: 201ms\tremaining: 772ms\n",
      "207:\tlearn: 0.2196272\ttotal: 202ms\tremaining: 771ms\n",
      "208:\tlearn: 0.2193010\ttotal: 204ms\tremaining: 771ms\n",
      "209:\tlearn: 0.2189839\ttotal: 205ms\tremaining: 770ms\n",
      "210:\tlearn: 0.2184758\ttotal: 206ms\tremaining: 769ms\n",
      "211:\tlearn: 0.2178866\ttotal: 207ms\tremaining: 768ms\n",
      "212:\tlearn: 0.2174778\ttotal: 208ms\tremaining: 768ms\n",
      "213:\tlearn: 0.2168238\ttotal: 209ms\tremaining: 766ms\n",
      "214:\tlearn: 0.2163786\ttotal: 210ms\tremaining: 765ms\n",
      "215:\tlearn: 0.2162868\ttotal: 211ms\tremaining: 764ms\n",
      "216:\tlearn: 0.2159110\ttotal: 212ms\tremaining: 764ms\n",
      "217:\tlearn: 0.2157439\ttotal: 213ms\tremaining: 763ms\n",
      "218:\tlearn: 0.2155405\ttotal: 214ms\tremaining: 763ms\n",
      "219:\tlearn: 0.2153152\ttotal: 215ms\tremaining: 762ms\n",
      "220:\tlearn: 0.2151488\ttotal: 216ms\tremaining: 762ms\n",
      "221:\tlearn: 0.2149808\ttotal: 217ms\tremaining: 761ms\n",
      "222:\tlearn: 0.2143648\ttotal: 218ms\tremaining: 760ms\n",
      "223:\tlearn: 0.2141134\ttotal: 219ms\tremaining: 759ms\n",
      "224:\tlearn: 0.2136972\ttotal: 220ms\tremaining: 758ms\n",
      "225:\tlearn: 0.2133848\ttotal: 221ms\tremaining: 757ms\n",
      "226:\tlearn: 0.2132275\ttotal: 222ms\tremaining: 757ms\n",
      "227:\tlearn: 0.2128115\ttotal: 224ms\tremaining: 757ms\n",
      "228:\tlearn: 0.2124374\ttotal: 225ms\tremaining: 757ms\n",
      "229:\tlearn: 0.2117156\ttotal: 226ms\tremaining: 756ms\n",
      "230:\tlearn: 0.2113383\ttotal: 227ms\tremaining: 755ms\n",
      "231:\tlearn: 0.2110119\ttotal: 228ms\tremaining: 754ms\n",
      "232:\tlearn: 0.2104329\ttotal: 229ms\tremaining: 753ms\n",
      "233:\tlearn: 0.2101246\ttotal: 230ms\tremaining: 752ms\n",
      "234:\tlearn: 0.2099192\ttotal: 231ms\tremaining: 751ms\n",
      "235:\tlearn: 0.2096435\ttotal: 232ms\tremaining: 750ms\n",
      "236:\tlearn: 0.2091015\ttotal: 233ms\tremaining: 749ms\n",
      "237:\tlearn: 0.2088385\ttotal: 233ms\tremaining: 747ms\n",
      "238:\tlearn: 0.2085245\ttotal: 235ms\tremaining: 747ms\n",
      "239:\tlearn: 0.2078681\ttotal: 236ms\tremaining: 746ms\n",
      "240:\tlearn: 0.2075122\ttotal: 237ms\tremaining: 746ms\n",
      "241:\tlearn: 0.2071008\ttotal: 238ms\tremaining: 745ms\n",
      "242:\tlearn: 0.2068307\ttotal: 239ms\tremaining: 744ms\n",
      "243:\tlearn: 0.2066924\ttotal: 240ms\tremaining: 743ms\n",
      "244:\tlearn: 0.2063159\ttotal: 241ms\tremaining: 742ms\n",
      "245:\tlearn: 0.2061666\ttotal: 242ms\tremaining: 741ms\n",
      "246:\tlearn: 0.2055148\ttotal: 243ms\tremaining: 740ms\n",
      "247:\tlearn: 0.2053636\ttotal: 243ms\tremaining: 738ms\n",
      "248:\tlearn: 0.2048007\ttotal: 244ms\tremaining: 737ms\n",
      "249:\tlearn: 0.2045147\ttotal: 245ms\tremaining: 736ms\n",
      "250:\tlearn: 0.2042131\ttotal: 246ms\tremaining: 735ms\n",
      "251:\tlearn: 0.2037156\ttotal: 247ms\tremaining: 734ms\n",
      "252:\tlearn: 0.2036524\ttotal: 248ms\tremaining: 732ms\n",
      "253:\tlearn: 0.2033190\ttotal: 249ms\tremaining: 731ms\n",
      "254:\tlearn: 0.2030948\ttotal: 250ms\tremaining: 730ms\n",
      "255:\tlearn: 0.2027289\ttotal: 251ms\tremaining: 729ms\n",
      "256:\tlearn: 0.2021668\ttotal: 252ms\tremaining: 728ms\n",
      "257:\tlearn: 0.2016440\ttotal: 253ms\tremaining: 727ms\n",
      "258:\tlearn: 0.2010562\ttotal: 254ms\tremaining: 726ms\n",
      "259:\tlearn: 0.2004357\ttotal: 255ms\tremaining: 725ms\n",
      "260:\tlearn: 0.1999326\ttotal: 256ms\tremaining: 724ms\n",
      "261:\tlearn: 0.1998005\ttotal: 257ms\tremaining: 723ms\n",
      "262:\tlearn: 0.1992145\ttotal: 257ms\tremaining: 722ms\n",
      "263:\tlearn: 0.1986427\ttotal: 258ms\tremaining: 721ms\n",
      "264:\tlearn: 0.1983564\ttotal: 259ms\tremaining: 719ms\n",
      "265:\tlearn: 0.1977974\ttotal: 260ms\tremaining: 718ms\n",
      "266:\tlearn: 0.1975566\ttotal: 261ms\tremaining: 717ms\n",
      "267:\tlearn: 0.1972310\ttotal: 262ms\tremaining: 716ms\n",
      "268:\tlearn: 0.1965780\ttotal: 263ms\tremaining: 715ms\n",
      "269:\tlearn: 0.1963010\ttotal: 264ms\tremaining: 714ms\n",
      "270:\tlearn: 0.1957759\ttotal: 265ms\tremaining: 714ms\n",
      "271:\tlearn: 0.1952301\ttotal: 266ms\tremaining: 713ms\n",
      "272:\tlearn: 0.1950165\ttotal: 267ms\tremaining: 712ms\n",
      "273:\tlearn: 0.1947970\ttotal: 268ms\tremaining: 711ms\n",
      "274:\tlearn: 0.1943571\ttotal: 269ms\tremaining: 710ms\n",
      "275:\tlearn: 0.1938156\ttotal: 270ms\tremaining: 709ms\n",
      "276:\tlearn: 0.1936614\ttotal: 271ms\tremaining: 708ms\n",
      "277:\tlearn: 0.1932039\ttotal: 272ms\tremaining: 707ms\n",
      "278:\tlearn: 0.1928719\ttotal: 273ms\tremaining: 706ms\n",
      "279:\tlearn: 0.1925124\ttotal: 274ms\tremaining: 705ms\n",
      "280:\tlearn: 0.1919669\ttotal: 275ms\tremaining: 704ms\n",
      "281:\tlearn: 0.1916711\ttotal: 276ms\tremaining: 703ms\n",
      "282:\tlearn: 0.1911593\ttotal: 277ms\tremaining: 702ms\n",
      "283:\tlearn: 0.1907330\ttotal: 278ms\tremaining: 701ms\n",
      "284:\tlearn: 0.1905294\ttotal: 279ms\tremaining: 699ms\n",
      "285:\tlearn: 0.1902858\ttotal: 280ms\tremaining: 699ms\n",
      "286:\tlearn: 0.1898710\ttotal: 281ms\tremaining: 697ms\n",
      "287:\tlearn: 0.1895129\ttotal: 282ms\tremaining: 696ms\n",
      "288:\tlearn: 0.1892525\ttotal: 283ms\tremaining: 695ms\n",
      "289:\tlearn: 0.1891144\ttotal: 283ms\tremaining: 694ms\n",
      "290:\tlearn: 0.1890245\ttotal: 284ms\tremaining: 693ms\n",
      "291:\tlearn: 0.1884660\ttotal: 285ms\tremaining: 692ms\n",
      "292:\tlearn: 0.1881061\ttotal: 286ms\tremaining: 691ms\n",
      "293:\tlearn: 0.1875342\ttotal: 287ms\tremaining: 690ms\n",
      "294:\tlearn: 0.1874172\ttotal: 288ms\tremaining: 689ms\n",
      "295:\tlearn: 0.1868604\ttotal: 289ms\tremaining: 688ms\n",
      "296:\tlearn: 0.1864620\ttotal: 290ms\tremaining: 687ms\n",
      "297:\tlearn: 0.1861270\ttotal: 291ms\tremaining: 686ms\n",
      "298:\tlearn: 0.1857131\ttotal: 292ms\tremaining: 685ms\n",
      "299:\tlearn: 0.1854068\ttotal: 293ms\tremaining: 684ms\n",
      "300:\tlearn: 0.1851483\ttotal: 295ms\tremaining: 684ms\n",
      "301:\tlearn: 0.1846881\ttotal: 296ms\tremaining: 683ms\n",
      "302:\tlearn: 0.1843844\ttotal: 297ms\tremaining: 682ms\n",
      "303:\tlearn: 0.1839182\ttotal: 298ms\tremaining: 681ms\n",
      "304:\tlearn: 0.1835739\ttotal: 298ms\tremaining: 680ms\n",
      "305:\tlearn: 0.1834559\ttotal: 299ms\tremaining: 679ms\n",
      "306:\tlearn: 0.1830801\ttotal: 300ms\tremaining: 678ms\n",
      "307:\tlearn: 0.1825914\ttotal: 302ms\tremaining: 678ms\n",
      "308:\tlearn: 0.1824267\ttotal: 303ms\tremaining: 677ms\n",
      "309:\tlearn: 0.1821274\ttotal: 304ms\tremaining: 676ms\n",
      "310:\tlearn: 0.1817766\ttotal: 305ms\tremaining: 675ms\n",
      "311:\tlearn: 0.1813707\ttotal: 306ms\tremaining: 674ms\n",
      "312:\tlearn: 0.1809262\ttotal: 306ms\tremaining: 673ms\n",
      "313:\tlearn: 0.1804551\ttotal: 307ms\tremaining: 672ms\n",
      "314:\tlearn: 0.1803225\ttotal: 309ms\tremaining: 671ms\n",
      "315:\tlearn: 0.1799319\ttotal: 309ms\tremaining: 670ms\n",
      "316:\tlearn: 0.1797655\ttotal: 310ms\tremaining: 669ms\n",
      "317:\tlearn: 0.1794494\ttotal: 312ms\tremaining: 668ms\n",
      "318:\tlearn: 0.1792360\ttotal: 313ms\tremaining: 667ms\n",
      "319:\tlearn: 0.1788573\ttotal: 314ms\tremaining: 666ms\n",
      "320:\tlearn: 0.1782651\ttotal: 314ms\tremaining: 665ms\n",
      "321:\tlearn: 0.1778187\ttotal: 316ms\tremaining: 664ms\n",
      "322:\tlearn: 0.1775142\ttotal: 317ms\tremaining: 664ms\n",
      "323:\tlearn: 0.1773153\ttotal: 318ms\tremaining: 663ms\n",
      "324:\tlearn: 0.1771316\ttotal: 319ms\tremaining: 662ms\n",
      "325:\tlearn: 0.1767785\ttotal: 320ms\tremaining: 661ms\n",
      "326:\tlearn: 0.1762975\ttotal: 321ms\tremaining: 660ms\n",
      "327:\tlearn: 0.1759252\ttotal: 322ms\tremaining: 659ms\n",
      "328:\tlearn: 0.1756101\ttotal: 323ms\tremaining: 658ms\n",
      "329:\tlearn: 0.1754144\ttotal: 323ms\tremaining: 657ms\n",
      "330:\tlearn: 0.1752272\ttotal: 324ms\tremaining: 656ms\n",
      "331:\tlearn: 0.1747615\ttotal: 325ms\tremaining: 655ms\n",
      "332:\tlearn: 0.1744862\ttotal: 326ms\tremaining: 653ms\n",
      "333:\tlearn: 0.1742606\ttotal: 327ms\tremaining: 652ms\n",
      "334:\tlearn: 0.1738998\ttotal: 328ms\tremaining: 651ms\n",
      "335:\tlearn: 0.1736713\ttotal: 329ms\tremaining: 650ms\n",
      "336:\tlearn: 0.1734646\ttotal: 330ms\tremaining: 649ms\n",
      "337:\tlearn: 0.1731331\ttotal: 331ms\tremaining: 648ms\n",
      "338:\tlearn: 0.1726807\ttotal: 332ms\tremaining: 647ms\n",
      "339:\tlearn: 0.1722931\ttotal: 333ms\tremaining: 646ms\n",
      "340:\tlearn: 0.1718084\ttotal: 334ms\tremaining: 645ms\n",
      "341:\tlearn: 0.1716303\ttotal: 335ms\tremaining: 644ms\n",
      "342:\tlearn: 0.1714182\ttotal: 336ms\tremaining: 643ms\n",
      "343:\tlearn: 0.1711392\ttotal: 337ms\tremaining: 642ms\n",
      "344:\tlearn: 0.1707729\ttotal: 338ms\tremaining: 642ms\n",
      "345:\tlearn: 0.1704788\ttotal: 339ms\tremaining: 641ms\n",
      "346:\tlearn: 0.1703510\ttotal: 340ms\tremaining: 640ms\n",
      "347:\tlearn: 0.1699625\ttotal: 341ms\tremaining: 639ms\n",
      "348:\tlearn: 0.1696226\ttotal: 342ms\tremaining: 638ms\n",
      "349:\tlearn: 0.1692233\ttotal: 343ms\tremaining: 637ms\n",
      "350:\tlearn: 0.1688396\ttotal: 344ms\tremaining: 636ms\n",
      "351:\tlearn: 0.1684687\ttotal: 345ms\tremaining: 635ms\n",
      "352:\tlearn: 0.1681796\ttotal: 346ms\tremaining: 634ms\n",
      "353:\tlearn: 0.1679106\ttotal: 347ms\tremaining: 632ms\n",
      "354:\tlearn: 0.1675092\ttotal: 348ms\tremaining: 631ms\n",
      "355:\tlearn: 0.1674116\ttotal: 348ms\tremaining: 630ms\n",
      "356:\tlearn: 0.1671524\ttotal: 349ms\tremaining: 629ms\n",
      "357:\tlearn: 0.1667937\ttotal: 350ms\tremaining: 628ms\n",
      "358:\tlearn: 0.1665479\ttotal: 351ms\tremaining: 627ms\n",
      "359:\tlearn: 0.1663166\ttotal: 352ms\tremaining: 626ms\n",
      "360:\tlearn: 0.1659666\ttotal: 353ms\tremaining: 625ms\n",
      "361:\tlearn: 0.1658388\ttotal: 354ms\tremaining: 624ms\n",
      "362:\tlearn: 0.1654441\ttotal: 355ms\tremaining: 623ms\n",
      "363:\tlearn: 0.1651041\ttotal: 356ms\tremaining: 622ms\n",
      "364:\tlearn: 0.1646406\ttotal: 357ms\tremaining: 621ms\n",
      "365:\tlearn: 0.1644032\ttotal: 358ms\tremaining: 620ms\n",
      "366:\tlearn: 0.1641872\ttotal: 359ms\tremaining: 619ms\n",
      "367:\tlearn: 0.1639467\ttotal: 360ms\tremaining: 618ms\n",
      "368:\tlearn: 0.1636402\ttotal: 361ms\tremaining: 617ms\n",
      "369:\tlearn: 0.1633801\ttotal: 362ms\tremaining: 617ms\n",
      "370:\tlearn: 0.1630158\ttotal: 364ms\tremaining: 616ms\n",
      "371:\tlearn: 0.1627915\ttotal: 365ms\tremaining: 615ms\n",
      "372:\tlearn: 0.1625335\ttotal: 366ms\tremaining: 614ms\n",
      "373:\tlearn: 0.1622514\ttotal: 366ms\tremaining: 613ms\n",
      "374:\tlearn: 0.1618693\ttotal: 367ms\tremaining: 612ms\n",
      "375:\tlearn: 0.1616385\ttotal: 368ms\tremaining: 611ms\n",
      "376:\tlearn: 0.1613987\ttotal: 369ms\tremaining: 610ms\n",
      "377:\tlearn: 0.1611752\ttotal: 370ms\tremaining: 609ms\n",
      "378:\tlearn: 0.1610732\ttotal: 371ms\tremaining: 608ms\n",
      "379:\tlearn: 0.1607664\ttotal: 372ms\tremaining: 607ms\n",
      "380:\tlearn: 0.1605514\ttotal: 373ms\tremaining: 606ms\n",
      "381:\tlearn: 0.1602655\ttotal: 374ms\tremaining: 605ms\n",
      "382:\tlearn: 0.1599147\ttotal: 375ms\tremaining: 604ms\n",
      "383:\tlearn: 0.1597570\ttotal: 376ms\tremaining: 603ms\n",
      "384:\tlearn: 0.1594727\ttotal: 377ms\tremaining: 602ms\n",
      "385:\tlearn: 0.1592719\ttotal: 378ms\tremaining: 601ms\n",
      "386:\tlearn: 0.1589150\ttotal: 379ms\tremaining: 600ms\n",
      "387:\tlearn: 0.1585614\ttotal: 380ms\tremaining: 599ms\n",
      "388:\tlearn: 0.1583045\ttotal: 381ms\tremaining: 598ms\n",
      "389:\tlearn: 0.1580665\ttotal: 382ms\tremaining: 597ms\n"
     ]
    },
    {
     "name": "stdout",
     "output_type": "stream",
     "text": [
      "390:\tlearn: 0.1578458\ttotal: 383ms\tremaining: 596ms\n",
      "391:\tlearn: 0.1576200\ttotal: 384ms\tremaining: 596ms\n",
      "392:\tlearn: 0.1574038\ttotal: 385ms\tremaining: 595ms\n",
      "393:\tlearn: 0.1572719\ttotal: 386ms\tremaining: 594ms\n",
      "394:\tlearn: 0.1570398\ttotal: 387ms\tremaining: 593ms\n",
      "395:\tlearn: 0.1567998\ttotal: 388ms\tremaining: 592ms\n",
      "396:\tlearn: 0.1564933\ttotal: 389ms\tremaining: 591ms\n",
      "397:\tlearn: 0.1563776\ttotal: 390ms\tremaining: 590ms\n",
      "398:\tlearn: 0.1560262\ttotal: 391ms\tremaining: 589ms\n",
      "399:\tlearn: 0.1558127\ttotal: 392ms\tremaining: 588ms\n",
      "400:\tlearn: 0.1556895\ttotal: 393ms\tremaining: 587ms\n",
      "401:\tlearn: 0.1554227\ttotal: 394ms\tremaining: 586ms\n",
      "402:\tlearn: 0.1552832\ttotal: 395ms\tremaining: 585ms\n",
      "403:\tlearn: 0.1551930\ttotal: 396ms\tremaining: 584ms\n",
      "404:\tlearn: 0.1549854\ttotal: 397ms\tremaining: 583ms\n",
      "405:\tlearn: 0.1547491\ttotal: 398ms\tremaining: 582ms\n",
      "406:\tlearn: 0.1544431\ttotal: 399ms\tremaining: 581ms\n",
      "407:\tlearn: 0.1541568\ttotal: 400ms\tremaining: 581ms\n",
      "408:\tlearn: 0.1538647\ttotal: 401ms\tremaining: 580ms\n",
      "409:\tlearn: 0.1536673\ttotal: 402ms\tremaining: 579ms\n",
      "410:\tlearn: 0.1533252\ttotal: 403ms\tremaining: 578ms\n",
      "411:\tlearn: 0.1528791\ttotal: 404ms\tremaining: 577ms\n",
      "412:\tlearn: 0.1524461\ttotal: 405ms\tremaining: 576ms\n",
      "413:\tlearn: 0.1522537\ttotal: 406ms\tremaining: 575ms\n",
      "414:\tlearn: 0.1520631\ttotal: 407ms\tremaining: 574ms\n",
      "415:\tlearn: 0.1518676\ttotal: 409ms\tremaining: 574ms\n",
      "416:\tlearn: 0.1516331\ttotal: 410ms\tremaining: 573ms\n",
      "417:\tlearn: 0.1513030\ttotal: 411ms\tremaining: 572ms\n",
      "418:\tlearn: 0.1511271\ttotal: 412ms\tremaining: 571ms\n",
      "419:\tlearn: 0.1510064\ttotal: 413ms\tremaining: 570ms\n",
      "420:\tlearn: 0.1507178\ttotal: 414ms\tremaining: 569ms\n",
      "421:\tlearn: 0.1505619\ttotal: 415ms\tremaining: 568ms\n",
      "422:\tlearn: 0.1503390\ttotal: 416ms\tremaining: 567ms\n",
      "423:\tlearn: 0.1502013\ttotal: 416ms\tremaining: 566ms\n",
      "424:\tlearn: 0.1500110\ttotal: 417ms\tremaining: 565ms\n",
      "425:\tlearn: 0.1495505\ttotal: 418ms\tremaining: 564ms\n",
      "426:\tlearn: 0.1493672\ttotal: 419ms\tremaining: 563ms\n",
      "427:\tlearn: 0.1490536\ttotal: 420ms\tremaining: 562ms\n",
      "428:\tlearn: 0.1488912\ttotal: 421ms\tremaining: 561ms\n",
      "429:\tlearn: 0.1485453\ttotal: 422ms\tremaining: 560ms\n",
      "430:\tlearn: 0.1483597\ttotal: 423ms\tremaining: 559ms\n",
      "431:\tlearn: 0.1481416\ttotal: 424ms\tremaining: 558ms\n",
      "432:\tlearn: 0.1479572\ttotal: 425ms\tremaining: 557ms\n",
      "433:\tlearn: 0.1478299\ttotal: 427ms\tremaining: 556ms\n",
      "434:\tlearn: 0.1475203\ttotal: 428ms\tremaining: 555ms\n",
      "435:\tlearn: 0.1473044\ttotal: 429ms\tremaining: 555ms\n",
      "436:\tlearn: 0.1472305\ttotal: 430ms\tremaining: 553ms\n",
      "437:\tlearn: 0.1470200\ttotal: 431ms\tremaining: 553ms\n",
      "438:\tlearn: 0.1467584\ttotal: 432ms\tremaining: 552ms\n",
      "439:\tlearn: 0.1465838\ttotal: 433ms\tremaining: 551ms\n",
      "440:\tlearn: 0.1461462\ttotal: 434ms\tremaining: 550ms\n",
      "441:\tlearn: 0.1461075\ttotal: 435ms\tremaining: 549ms\n",
      "442:\tlearn: 0.1459046\ttotal: 436ms\tremaining: 548ms\n",
      "443:\tlearn: 0.1456469\ttotal: 437ms\tremaining: 547ms\n",
      "444:\tlearn: 0.1454184\ttotal: 438ms\tremaining: 546ms\n",
      "445:\tlearn: 0.1452483\ttotal: 439ms\tremaining: 545ms\n",
      "446:\tlearn: 0.1449531\ttotal: 440ms\tremaining: 544ms\n",
      "447:\tlearn: 0.1447648\ttotal: 440ms\tremaining: 543ms\n",
      "448:\tlearn: 0.1445633\ttotal: 441ms\tremaining: 542ms\n",
      "449:\tlearn: 0.1444174\ttotal: 442ms\tremaining: 541ms\n",
      "450:\tlearn: 0.1442409\ttotal: 443ms\tremaining: 540ms\n",
      "451:\tlearn: 0.1439405\ttotal: 444ms\tremaining: 539ms\n",
      "452:\tlearn: 0.1436815\ttotal: 445ms\tremaining: 538ms\n",
      "453:\tlearn: 0.1435639\ttotal: 446ms\tremaining: 537ms\n",
      "454:\tlearn: 0.1433794\ttotal: 447ms\tremaining: 536ms\n",
      "455:\tlearn: 0.1431155\ttotal: 448ms\tremaining: 535ms\n",
      "456:\tlearn: 0.1429142\ttotal: 449ms\tremaining: 534ms\n",
      "457:\tlearn: 0.1425770\ttotal: 450ms\tremaining: 533ms\n",
      "458:\tlearn: 0.1423707\ttotal: 451ms\tremaining: 532ms\n",
      "459:\tlearn: 0.1421674\ttotal: 452ms\tremaining: 531ms\n",
      "460:\tlearn: 0.1419974\ttotal: 453ms\tremaining: 530ms\n",
      "461:\tlearn: 0.1417187\ttotal: 454ms\tremaining: 529ms\n",
      "462:\tlearn: 0.1414926\ttotal: 455ms\tremaining: 528ms\n",
      "463:\tlearn: 0.1412804\ttotal: 456ms\tremaining: 527ms\n",
      "464:\tlearn: 0.1411135\ttotal: 457ms\tremaining: 526ms\n",
      "465:\tlearn: 0.1408585\ttotal: 458ms\tremaining: 525ms\n",
      "466:\tlearn: 0.1405366\ttotal: 459ms\tremaining: 524ms\n",
      "467:\tlearn: 0.1403998\ttotal: 460ms\tremaining: 523ms\n",
      "468:\tlearn: 0.1401823\ttotal: 461ms\tremaining: 522ms\n",
      "469:\tlearn: 0.1399225\ttotal: 462ms\tremaining: 521ms\n",
      "470:\tlearn: 0.1397129\ttotal: 463ms\tremaining: 520ms\n",
      "471:\tlearn: 0.1395226\ttotal: 464ms\tremaining: 519ms\n",
      "472:\tlearn: 0.1393689\ttotal: 465ms\tremaining: 518ms\n",
      "473:\tlearn: 0.1391817\ttotal: 466ms\tremaining: 517ms\n",
      "474:\tlearn: 0.1389741\ttotal: 467ms\tremaining: 516ms\n",
      "475:\tlearn: 0.1387841\ttotal: 468ms\tremaining: 515ms\n",
      "476:\tlearn: 0.1386022\ttotal: 469ms\tremaining: 514ms\n",
      "477:\tlearn: 0.1383450\ttotal: 470ms\tremaining: 513ms\n",
      "478:\tlearn: 0.1381904\ttotal: 471ms\tremaining: 512ms\n",
      "479:\tlearn: 0.1379948\ttotal: 472ms\tremaining: 511ms\n",
      "480:\tlearn: 0.1377432\ttotal: 473ms\tremaining: 510ms\n",
      "481:\tlearn: 0.1375477\ttotal: 474ms\tremaining: 509ms\n",
      "482:\tlearn: 0.1375008\ttotal: 475ms\tremaining: 508ms\n",
      "483:\tlearn: 0.1372839\ttotal: 476ms\tremaining: 507ms\n",
      "484:\tlearn: 0.1371287\ttotal: 477ms\tremaining: 506ms\n",
      "485:\tlearn: 0.1369815\ttotal: 478ms\tremaining: 505ms\n",
      "486:\tlearn: 0.1367666\ttotal: 479ms\tremaining: 504ms\n",
      "487:\tlearn: 0.1366097\ttotal: 480ms\tremaining: 503ms\n",
      "488:\tlearn: 0.1364796\ttotal: 481ms\tremaining: 502ms\n",
      "489:\tlearn: 0.1362871\ttotal: 482ms\tremaining: 501ms\n",
      "490:\tlearn: 0.1361347\ttotal: 483ms\tremaining: 500ms\n",
      "491:\tlearn: 0.1359070\ttotal: 484ms\tremaining: 499ms\n",
      "492:\tlearn: 0.1356045\ttotal: 485ms\tremaining: 498ms\n",
      "493:\tlearn: 0.1352912\ttotal: 485ms\tremaining: 497ms\n",
      "494:\tlearn: 0.1351258\ttotal: 486ms\tremaining: 496ms\n",
      "495:\tlearn: 0.1349815\ttotal: 487ms\tremaining: 495ms\n",
      "496:\tlearn: 0.1347642\ttotal: 489ms\tremaining: 494ms\n",
      "497:\tlearn: 0.1345645\ttotal: 489ms\tremaining: 493ms\n",
      "498:\tlearn: 0.1343175\ttotal: 491ms\tremaining: 493ms\n",
      "499:\tlearn: 0.1341496\ttotal: 492ms\tremaining: 492ms\n",
      "500:\tlearn: 0.1340531\ttotal: 493ms\tremaining: 491ms\n",
      "501:\tlearn: 0.1338626\ttotal: 494ms\tremaining: 490ms\n",
      "502:\tlearn: 0.1336174\ttotal: 495ms\tremaining: 489ms\n",
      "503:\tlearn: 0.1333426\ttotal: 496ms\tremaining: 488ms\n",
      "504:\tlearn: 0.1331651\ttotal: 497ms\tremaining: 488ms\n",
      "505:\tlearn: 0.1330180\ttotal: 498ms\tremaining: 486ms\n",
      "506:\tlearn: 0.1327794\ttotal: 499ms\tremaining: 485ms\n",
      "507:\tlearn: 0.1325076\ttotal: 500ms\tremaining: 484ms\n",
      "508:\tlearn: 0.1324386\ttotal: 501ms\tremaining: 483ms\n",
      "509:\tlearn: 0.1323445\ttotal: 502ms\tremaining: 482ms\n",
      "510:\tlearn: 0.1321119\ttotal: 503ms\tremaining: 482ms\n",
      "511:\tlearn: 0.1319112\ttotal: 504ms\tremaining: 481ms\n",
      "512:\tlearn: 0.1318025\ttotal: 505ms\tremaining: 480ms\n",
      "513:\tlearn: 0.1317297\ttotal: 506ms\tremaining: 479ms\n",
      "514:\tlearn: 0.1314887\ttotal: 507ms\tremaining: 477ms\n",
      "515:\tlearn: 0.1312431\ttotal: 508ms\tremaining: 477ms\n",
      "516:\tlearn: 0.1309678\ttotal: 509ms\tremaining: 476ms\n",
      "517:\tlearn: 0.1308985\ttotal: 510ms\tremaining: 474ms\n",
      "518:\tlearn: 0.1307808\ttotal: 511ms\tremaining: 473ms\n",
      "519:\tlearn: 0.1307141\ttotal: 512ms\tremaining: 472ms\n",
      "520:\tlearn: 0.1304348\ttotal: 513ms\tremaining: 471ms\n",
      "521:\tlearn: 0.1302697\ttotal: 514ms\tremaining: 470ms\n",
      "522:\tlearn: 0.1300300\ttotal: 515ms\tremaining: 469ms\n",
      "523:\tlearn: 0.1298458\ttotal: 516ms\tremaining: 468ms\n",
      "524:\tlearn: 0.1296889\ttotal: 517ms\tremaining: 467ms\n",
      "525:\tlearn: 0.1296633\ttotal: 518ms\tremaining: 466ms\n",
      "526:\tlearn: 0.1294513\ttotal: 519ms\tremaining: 465ms\n",
      "527:\tlearn: 0.1293103\ttotal: 519ms\tremaining: 464ms\n",
      "528:\tlearn: 0.1290706\ttotal: 521ms\tremaining: 464ms\n",
      "529:\tlearn: 0.1289537\ttotal: 521ms\tremaining: 462ms\n",
      "530:\tlearn: 0.1288348\ttotal: 523ms\tremaining: 462ms\n",
      "531:\tlearn: 0.1287233\ttotal: 523ms\tremaining: 460ms\n",
      "532:\tlearn: 0.1284636\ttotal: 524ms\tremaining: 459ms\n",
      "533:\tlearn: 0.1283346\ttotal: 525ms\tremaining: 458ms\n",
      "534:\tlearn: 0.1281283\ttotal: 526ms\tremaining: 457ms\n",
      "535:\tlearn: 0.1279453\ttotal: 527ms\tremaining: 456ms\n",
      "536:\tlearn: 0.1277756\ttotal: 528ms\tremaining: 455ms\n",
      "537:\tlearn: 0.1277517\ttotal: 529ms\tremaining: 454ms\n",
      "538:\tlearn: 0.1276439\ttotal: 530ms\tremaining: 453ms\n",
      "539:\tlearn: 0.1273792\ttotal: 531ms\tremaining: 452ms\n",
      "540:\tlearn: 0.1271532\ttotal: 532ms\tremaining: 451ms\n",
      "541:\tlearn: 0.1270535\ttotal: 533ms\tremaining: 450ms\n",
      "542:\tlearn: 0.1268582\ttotal: 534ms\tremaining: 449ms\n",
      "543:\tlearn: 0.1265996\ttotal: 535ms\tremaining: 448ms\n",
      "544:\tlearn: 0.1263462\ttotal: 536ms\tremaining: 447ms\n",
      "545:\tlearn: 0.1261670\ttotal: 537ms\tremaining: 446ms\n",
      "546:\tlearn: 0.1259466\ttotal: 538ms\tremaining: 445ms\n",
      "547:\tlearn: 0.1258710\ttotal: 539ms\tremaining: 445ms\n",
      "548:\tlearn: 0.1257034\ttotal: 540ms\tremaining: 444ms\n",
      "549:\tlearn: 0.1255113\ttotal: 541ms\tremaining: 443ms\n",
      "550:\tlearn: 0.1252797\ttotal: 542ms\tremaining: 441ms\n",
      "551:\tlearn: 0.1252627\ttotal: 543ms\tremaining: 441ms\n",
      "552:\tlearn: 0.1251453\ttotal: 544ms\tremaining: 440ms\n",
      "553:\tlearn: 0.1251043\ttotal: 545ms\tremaining: 439ms\n",
      "554:\tlearn: 0.1250164\ttotal: 546ms\tremaining: 438ms\n",
      "555:\tlearn: 0.1249091\ttotal: 547ms\tremaining: 437ms\n",
      "556:\tlearn: 0.1247492\ttotal: 548ms\tremaining: 436ms\n",
      "557:\tlearn: 0.1244948\ttotal: 549ms\tremaining: 435ms\n",
      "558:\tlearn: 0.1244683\ttotal: 550ms\tremaining: 434ms\n",
      "559:\tlearn: 0.1242839\ttotal: 551ms\tremaining: 433ms\n",
      "560:\tlearn: 0.1241397\ttotal: 552ms\tremaining: 432ms\n",
      "561:\tlearn: 0.1239797\ttotal: 553ms\tremaining: 431ms\n",
      "562:\tlearn: 0.1238312\ttotal: 554ms\tremaining: 430ms\n",
      "563:\tlearn: 0.1236695\ttotal: 555ms\tremaining: 429ms\n",
      "564:\tlearn: 0.1234268\ttotal: 556ms\tremaining: 428ms\n",
      "565:\tlearn: 0.1231899\ttotal: 557ms\tremaining: 427ms\n",
      "566:\tlearn: 0.1230080\ttotal: 558ms\tremaining: 426ms\n",
      "567:\tlearn: 0.1228046\ttotal: 559ms\tremaining: 425ms\n",
      "568:\tlearn: 0.1226250\ttotal: 560ms\tremaining: 424ms\n",
      "569:\tlearn: 0.1225245\ttotal: 561ms\tremaining: 423ms\n",
      "570:\tlearn: 0.1222975\ttotal: 562ms\tremaining: 422ms\n",
      "571:\tlearn: 0.1220937\ttotal: 563ms\tremaining: 421ms\n",
      "572:\tlearn: 0.1220765\ttotal: 564ms\tremaining: 420ms\n",
      "573:\tlearn: 0.1219122\ttotal: 565ms\tremaining: 419ms\n",
      "574:\tlearn: 0.1218741\ttotal: 566ms\tremaining: 418ms\n",
      "575:\tlearn: 0.1216975\ttotal: 567ms\tremaining: 417ms\n",
      "576:\tlearn: 0.1216392\ttotal: 568ms\tremaining: 416ms\n",
      "577:\tlearn: 0.1214370\ttotal: 569ms\tremaining: 415ms\n",
      "578:\tlearn: 0.1213212\ttotal: 570ms\tremaining: 414ms\n",
      "579:\tlearn: 0.1211880\ttotal: 571ms\tremaining: 413ms\n",
      "580:\tlearn: 0.1209613\ttotal: 572ms\tremaining: 412ms\n",
      "581:\tlearn: 0.1208519\ttotal: 573ms\tremaining: 411ms\n",
      "582:\tlearn: 0.1207017\ttotal: 574ms\tremaining: 410ms\n"
     ]
    },
    {
     "name": "stdout",
     "output_type": "stream",
     "text": [
      "583:\tlearn: 0.1205281\ttotal: 575ms\tremaining: 410ms\n",
      "584:\tlearn: 0.1203815\ttotal: 576ms\tremaining: 409ms\n",
      "585:\tlearn: 0.1202892\ttotal: 577ms\tremaining: 408ms\n",
      "586:\tlearn: 0.1200549\ttotal: 578ms\tremaining: 407ms\n",
      "587:\tlearn: 0.1199325\ttotal: 579ms\tremaining: 406ms\n",
      "588:\tlearn: 0.1197873\ttotal: 580ms\tremaining: 405ms\n",
      "589:\tlearn: 0.1196610\ttotal: 581ms\tremaining: 404ms\n",
      "590:\tlearn: 0.1195014\ttotal: 582ms\tremaining: 403ms\n",
      "591:\tlearn: 0.1192933\ttotal: 583ms\tremaining: 402ms\n",
      "592:\tlearn: 0.1191418\ttotal: 584ms\tremaining: 401ms\n",
      "593:\tlearn: 0.1189770\ttotal: 585ms\tremaining: 400ms\n",
      "594:\tlearn: 0.1188404\ttotal: 586ms\tremaining: 399ms\n",
      "595:\tlearn: 0.1188166\ttotal: 587ms\tremaining: 398ms\n",
      "596:\tlearn: 0.1186275\ttotal: 588ms\tremaining: 397ms\n",
      "597:\tlearn: 0.1185389\ttotal: 589ms\tremaining: 396ms\n",
      "598:\tlearn: 0.1184117\ttotal: 590ms\tremaining: 395ms\n",
      "599:\tlearn: 0.1183467\ttotal: 591ms\tremaining: 394ms\n",
      "600:\tlearn: 0.1182749\ttotal: 592ms\tremaining: 393ms\n",
      "601:\tlearn: 0.1181448\ttotal: 593ms\tremaining: 392ms\n",
      "602:\tlearn: 0.1180720\ttotal: 594ms\tremaining: 391ms\n",
      "603:\tlearn: 0.1178984\ttotal: 595ms\tremaining: 390ms\n",
      "604:\tlearn: 0.1177025\ttotal: 596ms\tremaining: 389ms\n",
      "605:\tlearn: 0.1174719\ttotal: 597ms\tremaining: 388ms\n",
      "606:\tlearn: 0.1172677\ttotal: 598ms\tremaining: 387ms\n",
      "607:\tlearn: 0.1171203\ttotal: 599ms\tremaining: 386ms\n",
      "608:\tlearn: 0.1169882\ttotal: 600ms\tremaining: 385ms\n",
      "609:\tlearn: 0.1168324\ttotal: 601ms\tremaining: 385ms\n",
      "610:\tlearn: 0.1167121\ttotal: 602ms\tremaining: 384ms\n",
      "611:\tlearn: 0.1166247\ttotal: 603ms\tremaining: 383ms\n",
      "612:\tlearn: 0.1164914\ttotal: 604ms\tremaining: 382ms\n",
      "613:\tlearn: 0.1164245\ttotal: 605ms\tremaining: 381ms\n",
      "614:\tlearn: 0.1162138\ttotal: 606ms\tremaining: 380ms\n",
      "615:\tlearn: 0.1160114\ttotal: 608ms\tremaining: 379ms\n",
      "616:\tlearn: 0.1158610\ttotal: 609ms\tremaining: 378ms\n",
      "617:\tlearn: 0.1157025\ttotal: 610ms\tremaining: 377ms\n",
      "618:\tlearn: 0.1155322\ttotal: 611ms\tremaining: 376ms\n",
      "619:\tlearn: 0.1153387\ttotal: 612ms\tremaining: 375ms\n",
      "620:\tlearn: 0.1152265\ttotal: 613ms\tremaining: 374ms\n",
      "621:\tlearn: 0.1150794\ttotal: 614ms\tremaining: 373ms\n",
      "622:\tlearn: 0.1149454\ttotal: 615ms\tremaining: 372ms\n",
      "623:\tlearn: 0.1148190\ttotal: 616ms\tremaining: 371ms\n",
      "624:\tlearn: 0.1145934\ttotal: 617ms\tremaining: 370ms\n",
      "625:\tlearn: 0.1145052\ttotal: 618ms\tremaining: 369ms\n",
      "626:\tlearn: 0.1143393\ttotal: 619ms\tremaining: 368ms\n",
      "627:\tlearn: 0.1141352\ttotal: 620ms\tremaining: 367ms\n",
      "628:\tlearn: 0.1139960\ttotal: 621ms\tremaining: 366ms\n",
      "629:\tlearn: 0.1138505\ttotal: 622ms\tremaining: 365ms\n",
      "630:\tlearn: 0.1137028\ttotal: 623ms\tremaining: 364ms\n",
      "631:\tlearn: 0.1134868\ttotal: 624ms\tremaining: 363ms\n",
      "632:\tlearn: 0.1133725\ttotal: 626ms\tremaining: 363ms\n",
      "633:\tlearn: 0.1131896\ttotal: 627ms\tremaining: 362ms\n",
      "634:\tlearn: 0.1130577\ttotal: 628ms\tremaining: 361ms\n",
      "635:\tlearn: 0.1130338\ttotal: 629ms\tremaining: 360ms\n",
      "636:\tlearn: 0.1128662\ttotal: 630ms\tremaining: 359ms\n",
      "637:\tlearn: 0.1128285\ttotal: 631ms\tremaining: 358ms\n",
      "638:\tlearn: 0.1127939\ttotal: 631ms\tremaining: 357ms\n",
      "639:\tlearn: 0.1127011\ttotal: 632ms\tremaining: 356ms\n",
      "640:\tlearn: 0.1125360\ttotal: 633ms\tremaining: 355ms\n",
      "641:\tlearn: 0.1124890\ttotal: 634ms\tremaining: 354ms\n",
      "642:\tlearn: 0.1123973\ttotal: 635ms\tremaining: 353ms\n",
      "643:\tlearn: 0.1123290\ttotal: 636ms\tremaining: 352ms\n",
      "644:\tlearn: 0.1122289\ttotal: 637ms\tremaining: 351ms\n",
      "645:\tlearn: 0.1120179\ttotal: 638ms\tremaining: 350ms\n",
      "646:\tlearn: 0.1119108\ttotal: 640ms\tremaining: 349ms\n",
      "647:\tlearn: 0.1117557\ttotal: 641ms\tremaining: 348ms\n",
      "648:\tlearn: 0.1115788\ttotal: 641ms\tremaining: 347ms\n",
      "649:\tlearn: 0.1114386\ttotal: 642ms\tremaining: 346ms\n",
      "650:\tlearn: 0.1113319\ttotal: 643ms\tremaining: 345ms\n",
      "651:\tlearn: 0.1111754\ttotal: 644ms\tremaining: 344ms\n",
      "652:\tlearn: 0.1110516\ttotal: 645ms\tremaining: 343ms\n",
      "653:\tlearn: 0.1109957\ttotal: 646ms\tremaining: 342ms\n",
      "654:\tlearn: 0.1109618\ttotal: 647ms\tremaining: 341ms\n",
      "655:\tlearn: 0.1108146\ttotal: 648ms\tremaining: 340ms\n",
      "656:\tlearn: 0.1106452\ttotal: 649ms\tremaining: 339ms\n",
      "657:\tlearn: 0.1105383\ttotal: 650ms\tremaining: 338ms\n",
      "658:\tlearn: 0.1103596\ttotal: 651ms\tremaining: 337ms\n",
      "659:\tlearn: 0.1101644\ttotal: 652ms\tremaining: 336ms\n",
      "660:\tlearn: 0.1100000\ttotal: 653ms\tremaining: 335ms\n",
      "661:\tlearn: 0.1097613\ttotal: 654ms\tremaining: 334ms\n",
      "662:\tlearn: 0.1096535\ttotal: 655ms\tremaining: 333ms\n",
      "663:\tlearn: 0.1094478\ttotal: 656ms\tremaining: 332ms\n",
      "664:\tlearn: 0.1092887\ttotal: 657ms\tremaining: 331ms\n",
      "665:\tlearn: 0.1091423\ttotal: 658ms\tremaining: 330ms\n",
      "666:\tlearn: 0.1089549\ttotal: 659ms\tremaining: 329ms\n",
      "667:\tlearn: 0.1088823\ttotal: 660ms\tremaining: 328ms\n",
      "668:\tlearn: 0.1088046\ttotal: 661ms\tremaining: 327ms\n",
      "669:\tlearn: 0.1087169\ttotal: 662ms\tremaining: 326ms\n",
      "670:\tlearn: 0.1086015\ttotal: 663ms\tremaining: 325ms\n",
      "671:\tlearn: 0.1084329\ttotal: 664ms\tremaining: 324ms\n",
      "672:\tlearn: 0.1083171\ttotal: 665ms\tremaining: 323ms\n",
      "673:\tlearn: 0.1081506\ttotal: 666ms\tremaining: 322ms\n",
      "674:\tlearn: 0.1080566\ttotal: 667ms\tremaining: 321ms\n",
      "675:\tlearn: 0.1079206\ttotal: 668ms\tremaining: 320ms\n",
      "676:\tlearn: 0.1078455\ttotal: 669ms\tremaining: 319ms\n",
      "677:\tlearn: 0.1077203\ttotal: 670ms\tremaining: 318ms\n",
      "678:\tlearn: 0.1076904\ttotal: 672ms\tremaining: 318ms\n",
      "679:\tlearn: 0.1076187\ttotal: 673ms\tremaining: 317ms\n",
      "680:\tlearn: 0.1075002\ttotal: 674ms\tremaining: 316ms\n",
      "681:\tlearn: 0.1073228\ttotal: 675ms\tremaining: 315ms\n",
      "682:\tlearn: 0.1071476\ttotal: 676ms\tremaining: 314ms\n",
      "683:\tlearn: 0.1070199\ttotal: 677ms\tremaining: 313ms\n",
      "684:\tlearn: 0.1069187\ttotal: 678ms\tremaining: 312ms\n",
      "685:\tlearn: 0.1067885\ttotal: 679ms\tremaining: 311ms\n",
      "686:\tlearn: 0.1066798\ttotal: 680ms\tremaining: 310ms\n",
      "687:\tlearn: 0.1065694\ttotal: 681ms\tremaining: 309ms\n",
      "688:\tlearn: 0.1064592\ttotal: 682ms\tremaining: 308ms\n",
      "689:\tlearn: 0.1062407\ttotal: 683ms\tremaining: 307ms\n",
      "690:\tlearn: 0.1062214\ttotal: 684ms\tremaining: 306ms\n",
      "691:\tlearn: 0.1062096\ttotal: 685ms\tremaining: 305ms\n",
      "692:\tlearn: 0.1061201\ttotal: 686ms\tremaining: 304ms\n",
      "693:\tlearn: 0.1060146\ttotal: 687ms\tremaining: 303ms\n",
      "694:\tlearn: 0.1059817\ttotal: 687ms\tremaining: 302ms\n",
      "695:\tlearn: 0.1058359\ttotal: 688ms\tremaining: 301ms\n",
      "696:\tlearn: 0.1058117\ttotal: 689ms\tremaining: 300ms\n",
      "697:\tlearn: 0.1056770\ttotal: 690ms\tremaining: 299ms\n",
      "698:\tlearn: 0.1055744\ttotal: 691ms\tremaining: 298ms\n",
      "699:\tlearn: 0.1054841\ttotal: 692ms\tremaining: 297ms\n",
      "700:\tlearn: 0.1052702\ttotal: 693ms\tremaining: 296ms\n",
      "701:\tlearn: 0.1051171\ttotal: 694ms\tremaining: 295ms\n",
      "702:\tlearn: 0.1050904\ttotal: 695ms\tremaining: 294ms\n",
      "703:\tlearn: 0.1049695\ttotal: 696ms\tremaining: 293ms\n",
      "704:\tlearn: 0.1048687\ttotal: 697ms\tremaining: 292ms\n",
      "705:\tlearn: 0.1048306\ttotal: 698ms\tremaining: 291ms\n",
      "706:\tlearn: 0.1046984\ttotal: 699ms\tremaining: 290ms\n",
      "707:\tlearn: 0.1046086\ttotal: 700ms\tremaining: 289ms\n",
      "708:\tlearn: 0.1045339\ttotal: 701ms\tremaining: 288ms\n",
      "709:\tlearn: 0.1043782\ttotal: 702ms\tremaining: 287ms\n",
      "710:\tlearn: 0.1043065\ttotal: 703ms\tremaining: 286ms\n",
      "711:\tlearn: 0.1042432\ttotal: 704ms\tremaining: 285ms\n",
      "712:\tlearn: 0.1040358\ttotal: 705ms\tremaining: 284ms\n",
      "713:\tlearn: 0.1039792\ttotal: 706ms\tremaining: 283ms\n",
      "714:\tlearn: 0.1039002\ttotal: 707ms\tremaining: 282ms\n",
      "715:\tlearn: 0.1038168\ttotal: 708ms\tremaining: 281ms\n",
      "716:\tlearn: 0.1037366\ttotal: 709ms\tremaining: 280ms\n",
      "717:\tlearn: 0.1036965\ttotal: 710ms\tremaining: 279ms\n",
      "718:\tlearn: 0.1036202\ttotal: 711ms\tremaining: 278ms\n",
      "719:\tlearn: 0.1034391\ttotal: 712ms\tremaining: 277ms\n",
      "720:\tlearn: 0.1033615\ttotal: 713ms\tremaining: 276ms\n",
      "721:\tlearn: 0.1032738\ttotal: 714ms\tremaining: 275ms\n",
      "722:\tlearn: 0.1031659\ttotal: 715ms\tremaining: 274ms\n",
      "723:\tlearn: 0.1029912\ttotal: 716ms\tremaining: 273ms\n",
      "724:\tlearn: 0.1029256\ttotal: 717ms\tremaining: 272ms\n",
      "725:\tlearn: 0.1027492\ttotal: 718ms\tremaining: 271ms\n",
      "726:\tlearn: 0.1026212\ttotal: 718ms\tremaining: 270ms\n",
      "727:\tlearn: 0.1025857\ttotal: 719ms\tremaining: 269ms\n",
      "728:\tlearn: 0.1024110\ttotal: 720ms\tremaining: 268ms\n",
      "729:\tlearn: 0.1022882\ttotal: 721ms\tremaining: 267ms\n",
      "730:\tlearn: 0.1021769\ttotal: 722ms\tremaining: 266ms\n",
      "731:\tlearn: 0.1019705\ttotal: 723ms\tremaining: 265ms\n",
      "732:\tlearn: 0.1018578\ttotal: 724ms\tremaining: 264ms\n",
      "733:\tlearn: 0.1017042\ttotal: 725ms\tremaining: 263ms\n",
      "734:\tlearn: 0.1015423\ttotal: 726ms\tremaining: 262ms\n",
      "735:\tlearn: 0.1013936\ttotal: 727ms\tremaining: 261ms\n",
      "736:\tlearn: 0.1012329\ttotal: 728ms\tremaining: 260ms\n",
      "737:\tlearn: 0.1010790\ttotal: 729ms\tremaining: 259ms\n",
      "738:\tlearn: 0.1010553\ttotal: 730ms\tremaining: 258ms\n",
      "739:\tlearn: 0.1009542\ttotal: 731ms\tremaining: 257ms\n",
      "740:\tlearn: 0.1008337\ttotal: 732ms\tremaining: 256ms\n",
      "741:\tlearn: 0.1007006\ttotal: 734ms\tremaining: 255ms\n",
      "742:\tlearn: 0.1006312\ttotal: 735ms\tremaining: 254ms\n",
      "743:\tlearn: 0.1004888\ttotal: 735ms\tremaining: 253ms\n",
      "744:\tlearn: 0.1003859\ttotal: 737ms\tremaining: 252ms\n",
      "745:\tlearn: 0.1003087\ttotal: 738ms\tremaining: 251ms\n",
      "746:\tlearn: 0.1002011\ttotal: 739ms\tremaining: 250ms\n",
      "747:\tlearn: 0.1000588\ttotal: 740ms\tremaining: 249ms\n",
      "748:\tlearn: 0.0999926\ttotal: 741ms\tremaining: 248ms\n",
      "749:\tlearn: 0.0998355\ttotal: 742ms\tremaining: 247ms\n",
      "750:\tlearn: 0.0997441\ttotal: 743ms\tremaining: 246ms\n",
      "751:\tlearn: 0.0996317\ttotal: 744ms\tremaining: 245ms\n",
      "752:\tlearn: 0.0995581\ttotal: 745ms\tremaining: 244ms\n",
      "753:\tlearn: 0.0994034\ttotal: 746ms\tremaining: 243ms\n",
      "754:\tlearn: 0.0993130\ttotal: 747ms\tremaining: 242ms\n",
      "755:\tlearn: 0.0992266\ttotal: 748ms\tremaining: 241ms\n",
      "756:\tlearn: 0.0991661\ttotal: 749ms\tremaining: 240ms\n",
      "757:\tlearn: 0.0990952\ttotal: 750ms\tremaining: 239ms\n",
      "758:\tlearn: 0.0990224\ttotal: 751ms\tremaining: 238ms\n",
      "759:\tlearn: 0.0989114\ttotal: 752ms\tremaining: 237ms\n",
      "760:\tlearn: 0.0987653\ttotal: 753ms\tremaining: 236ms\n",
      "761:\tlearn: 0.0985833\ttotal: 754ms\tremaining: 235ms\n",
      "762:\tlearn: 0.0984914\ttotal: 755ms\tremaining: 234ms\n",
      "763:\tlearn: 0.0984663\ttotal: 756ms\tremaining: 233ms\n",
      "764:\tlearn: 0.0984337\ttotal: 757ms\tremaining: 232ms\n",
      "765:\tlearn: 0.0982914\ttotal: 758ms\tremaining: 231ms\n",
      "766:\tlearn: 0.0982069\ttotal: 759ms\tremaining: 230ms\n",
      "767:\tlearn: 0.0980582\ttotal: 760ms\tremaining: 229ms\n",
      "768:\tlearn: 0.0979948\ttotal: 761ms\tremaining: 228ms\n",
      "769:\tlearn: 0.0979340\ttotal: 762ms\tremaining: 228ms\n",
      "770:\tlearn: 0.0978217\ttotal: 763ms\tremaining: 227ms\n",
      "771:\tlearn: 0.0976563\ttotal: 764ms\tremaining: 226ms\n",
      "772:\tlearn: 0.0975934\ttotal: 765ms\tremaining: 225ms\n",
      "773:\tlearn: 0.0975237\ttotal: 766ms\tremaining: 224ms\n"
     ]
    },
    {
     "name": "stdout",
     "output_type": "stream",
     "text": [
      "774:\tlearn: 0.0973278\ttotal: 767ms\tremaining: 223ms\n",
      "775:\tlearn: 0.0972047\ttotal: 768ms\tremaining: 222ms\n",
      "776:\tlearn: 0.0970659\ttotal: 769ms\tremaining: 221ms\n",
      "777:\tlearn: 0.0969055\ttotal: 770ms\tremaining: 220ms\n",
      "778:\tlearn: 0.0968327\ttotal: 771ms\tremaining: 219ms\n",
      "779:\tlearn: 0.0967628\ttotal: 772ms\tremaining: 218ms\n",
      "780:\tlearn: 0.0966976\ttotal: 773ms\tremaining: 217ms\n",
      "781:\tlearn: 0.0965857\ttotal: 774ms\tremaining: 216ms\n",
      "782:\tlearn: 0.0965130\ttotal: 775ms\tremaining: 215ms\n",
      "783:\tlearn: 0.0963605\ttotal: 776ms\tremaining: 214ms\n",
      "784:\tlearn: 0.0962828\ttotal: 777ms\tremaining: 213ms\n",
      "785:\tlearn: 0.0961636\ttotal: 778ms\tremaining: 212ms\n",
      "786:\tlearn: 0.0960748\ttotal: 780ms\tremaining: 211ms\n",
      "787:\tlearn: 0.0960005\ttotal: 781ms\tremaining: 210ms\n",
      "788:\tlearn: 0.0959487\ttotal: 782ms\tremaining: 209ms\n",
      "789:\tlearn: 0.0958525\ttotal: 783ms\tremaining: 208ms\n",
      "790:\tlearn: 0.0958151\ttotal: 784ms\tremaining: 207ms\n",
      "791:\tlearn: 0.0957374\ttotal: 785ms\tremaining: 206ms\n",
      "792:\tlearn: 0.0955757\ttotal: 786ms\tremaining: 205ms\n",
      "793:\tlearn: 0.0954523\ttotal: 787ms\tremaining: 204ms\n",
      "794:\tlearn: 0.0953610\ttotal: 788ms\tremaining: 203ms\n",
      "795:\tlearn: 0.0952492\ttotal: 790ms\tremaining: 202ms\n",
      "796:\tlearn: 0.0951792\ttotal: 791ms\tremaining: 201ms\n",
      "797:\tlearn: 0.0950673\ttotal: 792ms\tremaining: 200ms\n",
      "798:\tlearn: 0.0949722\ttotal: 793ms\tremaining: 199ms\n",
      "799:\tlearn: 0.0947738\ttotal: 794ms\tremaining: 198ms\n",
      "800:\tlearn: 0.0947477\ttotal: 795ms\tremaining: 197ms\n",
      "801:\tlearn: 0.0947355\ttotal: 796ms\tremaining: 196ms\n",
      "802:\tlearn: 0.0946868\ttotal: 797ms\tremaining: 195ms\n",
      "803:\tlearn: 0.0945790\ttotal: 798ms\tremaining: 194ms\n",
      "804:\tlearn: 0.0944465\ttotal: 799ms\tremaining: 193ms\n",
      "805:\tlearn: 0.0942825\ttotal: 800ms\tremaining: 193ms\n",
      "806:\tlearn: 0.0941617\ttotal: 802ms\tremaining: 192ms\n",
      "807:\tlearn: 0.0940868\ttotal: 803ms\tremaining: 191ms\n",
      "808:\tlearn: 0.0940735\ttotal: 804ms\tremaining: 190ms\n",
      "809:\tlearn: 0.0939230\ttotal: 804ms\tremaining: 189ms\n",
      "810:\tlearn: 0.0938204\ttotal: 805ms\tremaining: 188ms\n",
      "811:\tlearn: 0.0936392\ttotal: 806ms\tremaining: 187ms\n",
      "812:\tlearn: 0.0934883\ttotal: 807ms\tremaining: 186ms\n",
      "813:\tlearn: 0.0933413\ttotal: 808ms\tremaining: 185ms\n",
      "814:\tlearn: 0.0932883\ttotal: 809ms\tremaining: 184ms\n",
      "815:\tlearn: 0.0932144\ttotal: 810ms\tremaining: 183ms\n",
      "816:\tlearn: 0.0931127\ttotal: 812ms\tremaining: 182ms\n",
      "817:\tlearn: 0.0930248\ttotal: 813ms\tremaining: 181ms\n",
      "818:\tlearn: 0.0929588\ttotal: 813ms\tremaining: 180ms\n",
      "819:\tlearn: 0.0929369\ttotal: 814ms\tremaining: 179ms\n",
      "820:\tlearn: 0.0928898\ttotal: 815ms\tremaining: 178ms\n",
      "821:\tlearn: 0.0927633\ttotal: 816ms\tremaining: 177ms\n",
      "822:\tlearn: 0.0926272\ttotal: 817ms\tremaining: 176ms\n",
      "823:\tlearn: 0.0924818\ttotal: 818ms\tremaining: 175ms\n",
      "824:\tlearn: 0.0923639\ttotal: 819ms\tremaining: 174ms\n",
      "825:\tlearn: 0.0922964\ttotal: 821ms\tremaining: 173ms\n",
      "826:\tlearn: 0.0921893\ttotal: 822ms\tremaining: 172ms\n",
      "827:\tlearn: 0.0921032\ttotal: 823ms\tremaining: 171ms\n",
      "828:\tlearn: 0.0919747\ttotal: 824ms\tremaining: 170ms\n",
      "829:\tlearn: 0.0919468\ttotal: 825ms\tremaining: 169ms\n",
      "830:\tlearn: 0.0918348\ttotal: 826ms\tremaining: 168ms\n",
      "831:\tlearn: 0.0917757\ttotal: 827ms\tremaining: 167ms\n",
      "832:\tlearn: 0.0916678\ttotal: 828ms\tremaining: 166ms\n",
      "833:\tlearn: 0.0916279\ttotal: 829ms\tremaining: 165ms\n",
      "834:\tlearn: 0.0914639\ttotal: 830ms\tremaining: 164ms\n",
      "835:\tlearn: 0.0913793\ttotal: 831ms\tremaining: 163ms\n",
      "836:\tlearn: 0.0912864\ttotal: 832ms\tremaining: 162ms\n",
      "837:\tlearn: 0.0911764\ttotal: 833ms\tremaining: 161ms\n",
      "838:\tlearn: 0.0911734\ttotal: 834ms\tremaining: 160ms\n",
      "839:\tlearn: 0.0910398\ttotal: 835ms\tremaining: 159ms\n",
      "840:\tlearn: 0.0909869\ttotal: 836ms\tremaining: 158ms\n",
      "841:\tlearn: 0.0908587\ttotal: 837ms\tremaining: 157ms\n",
      "842:\tlearn: 0.0908350\ttotal: 838ms\tremaining: 156ms\n",
      "843:\tlearn: 0.0907628\ttotal: 839ms\tremaining: 155ms\n",
      "844:\tlearn: 0.0906303\ttotal: 840ms\tremaining: 154ms\n",
      "845:\tlearn: 0.0904872\ttotal: 841ms\tremaining: 153ms\n",
      "846:\tlearn: 0.0903802\ttotal: 842ms\tremaining: 152ms\n",
      "847:\tlearn: 0.0902266\ttotal: 843ms\tremaining: 151ms\n",
      "848:\tlearn: 0.0900995\ttotal: 844ms\tremaining: 150ms\n",
      "849:\tlearn: 0.0900484\ttotal: 845ms\tremaining: 149ms\n",
      "850:\tlearn: 0.0899735\ttotal: 846ms\tremaining: 148ms\n",
      "851:\tlearn: 0.0898900\ttotal: 847ms\tremaining: 147ms\n",
      "852:\tlearn: 0.0898142\ttotal: 848ms\tremaining: 146ms\n",
      "853:\tlearn: 0.0897000\ttotal: 849ms\tremaining: 145ms\n",
      "854:\tlearn: 0.0896294\ttotal: 850ms\tremaining: 144ms\n",
      "855:\tlearn: 0.0895966\ttotal: 851ms\tremaining: 143ms\n",
      "856:\tlearn: 0.0895235\ttotal: 852ms\tremaining: 142ms\n",
      "857:\tlearn: 0.0894016\ttotal: 853ms\tremaining: 141ms\n",
      "858:\tlearn: 0.0893350\ttotal: 854ms\tremaining: 140ms\n",
      "859:\tlearn: 0.0892366\ttotal: 855ms\tremaining: 139ms\n",
      "860:\tlearn: 0.0891219\ttotal: 857ms\tremaining: 138ms\n",
      "861:\tlearn: 0.0889968\ttotal: 858ms\tremaining: 137ms\n",
      "862:\tlearn: 0.0889610\ttotal: 859ms\tremaining: 136ms\n",
      "863:\tlearn: 0.0888485\ttotal: 860ms\tremaining: 135ms\n",
      "864:\tlearn: 0.0887023\ttotal: 861ms\tremaining: 134ms\n",
      "865:\tlearn: 0.0886142\ttotal: 862ms\tremaining: 133ms\n",
      "866:\tlearn: 0.0885686\ttotal: 863ms\tremaining: 132ms\n",
      "867:\tlearn: 0.0885016\ttotal: 864ms\tremaining: 131ms\n",
      "868:\tlearn: 0.0883924\ttotal: 865ms\tremaining: 130ms\n",
      "869:\tlearn: 0.0882977\ttotal: 866ms\tremaining: 129ms\n",
      "870:\tlearn: 0.0881850\ttotal: 867ms\tremaining: 128ms\n",
      "871:\tlearn: 0.0881200\ttotal: 868ms\tremaining: 127ms\n",
      "872:\tlearn: 0.0879967\ttotal: 869ms\tremaining: 126ms\n",
      "873:\tlearn: 0.0879193\ttotal: 870ms\tremaining: 125ms\n",
      "874:\tlearn: 0.0878397\ttotal: 871ms\tremaining: 124ms\n",
      "875:\tlearn: 0.0877874\ttotal: 872ms\tremaining: 123ms\n",
      "876:\tlearn: 0.0876871\ttotal: 873ms\tremaining: 122ms\n",
      "877:\tlearn: 0.0875873\ttotal: 874ms\tremaining: 121ms\n",
      "878:\tlearn: 0.0875587\ttotal: 875ms\tremaining: 120ms\n",
      "879:\tlearn: 0.0874685\ttotal: 876ms\tremaining: 119ms\n",
      "880:\tlearn: 0.0873024\ttotal: 877ms\tremaining: 118ms\n",
      "881:\tlearn: 0.0871769\ttotal: 878ms\tremaining: 117ms\n",
      "882:\tlearn: 0.0870601\ttotal: 879ms\tremaining: 116ms\n",
      "883:\tlearn: 0.0869976\ttotal: 880ms\tremaining: 115ms\n",
      "884:\tlearn: 0.0869100\ttotal: 881ms\tremaining: 114ms\n",
      "885:\tlearn: 0.0868285\ttotal: 882ms\tremaining: 113ms\n",
      "886:\tlearn: 0.0867561\ttotal: 883ms\tremaining: 112ms\n",
      "887:\tlearn: 0.0866023\ttotal: 884ms\tremaining: 111ms\n",
      "888:\tlearn: 0.0865866\ttotal: 885ms\tremaining: 110ms\n",
      "889:\tlearn: 0.0865390\ttotal: 886ms\tremaining: 109ms\n",
      "890:\tlearn: 0.0864800\ttotal: 887ms\tremaining: 108ms\n",
      "891:\tlearn: 0.0864184\ttotal: 888ms\tremaining: 107ms\n",
      "892:\tlearn: 0.0863474\ttotal: 889ms\tremaining: 106ms\n",
      "893:\tlearn: 0.0862285\ttotal: 890ms\tremaining: 106ms\n",
      "894:\tlearn: 0.0860807\ttotal: 891ms\tremaining: 105ms\n",
      "895:\tlearn: 0.0859658\ttotal: 892ms\tremaining: 104ms\n",
      "896:\tlearn: 0.0858536\ttotal: 893ms\tremaining: 103ms\n",
      "897:\tlearn: 0.0857595\ttotal: 894ms\tremaining: 102ms\n",
      "898:\tlearn: 0.0856725\ttotal: 895ms\tremaining: 101ms\n",
      "899:\tlearn: 0.0856202\ttotal: 896ms\tremaining: 99.6ms\n",
      "900:\tlearn: 0.0854865\ttotal: 897ms\tremaining: 98.6ms\n",
      "901:\tlearn: 0.0854593\ttotal: 898ms\tremaining: 97.6ms\n",
      "902:\tlearn: 0.0853139\ttotal: 899ms\tremaining: 96.6ms\n",
      "903:\tlearn: 0.0851882\ttotal: 900ms\tremaining: 95.6ms\n",
      "904:\tlearn: 0.0850867\ttotal: 901ms\tremaining: 94.6ms\n",
      "905:\tlearn: 0.0849732\ttotal: 902ms\tremaining: 93.6ms\n",
      "906:\tlearn: 0.0848486\ttotal: 903ms\tremaining: 92.6ms\n",
      "907:\tlearn: 0.0847300\ttotal: 904ms\tremaining: 91.6ms\n",
      "908:\tlearn: 0.0846877\ttotal: 905ms\tremaining: 90.6ms\n",
      "909:\tlearn: 0.0846066\ttotal: 906ms\tremaining: 89.6ms\n",
      "910:\tlearn: 0.0845349\ttotal: 907ms\tremaining: 88.6ms\n",
      "911:\tlearn: 0.0844657\ttotal: 908ms\tremaining: 87.6ms\n",
      "912:\tlearn: 0.0843885\ttotal: 909ms\tremaining: 86.6ms\n",
      "913:\tlearn: 0.0843611\ttotal: 910ms\tremaining: 85.6ms\n",
      "914:\tlearn: 0.0843047\ttotal: 911ms\tremaining: 84.6ms\n",
      "915:\tlearn: 0.0841981\ttotal: 912ms\tremaining: 83.6ms\n",
      "916:\tlearn: 0.0841549\ttotal: 913ms\tremaining: 82.6ms\n",
      "917:\tlearn: 0.0840904\ttotal: 914ms\tremaining: 81.6ms\n",
      "918:\tlearn: 0.0840003\ttotal: 915ms\tremaining: 80.6ms\n",
      "919:\tlearn: 0.0839866\ttotal: 916ms\tremaining: 79.7ms\n",
      "920:\tlearn: 0.0839037\ttotal: 917ms\tremaining: 78.7ms\n",
      "921:\tlearn: 0.0838841\ttotal: 919ms\tremaining: 77.8ms\n",
      "922:\tlearn: 0.0838115\ttotal: 920ms\tremaining: 76.8ms\n",
      "923:\tlearn: 0.0837417\ttotal: 921ms\tremaining: 75.8ms\n",
      "924:\tlearn: 0.0836434\ttotal: 922ms\tremaining: 74.8ms\n",
      "925:\tlearn: 0.0835373\ttotal: 923ms\tremaining: 73.8ms\n",
      "926:\tlearn: 0.0834134\ttotal: 924ms\tremaining: 72.8ms\n",
      "927:\tlearn: 0.0832937\ttotal: 925ms\tremaining: 71.8ms\n",
      "928:\tlearn: 0.0831933\ttotal: 926ms\tremaining: 70.7ms\n",
      "929:\tlearn: 0.0831450\ttotal: 927ms\tremaining: 69.7ms\n",
      "930:\tlearn: 0.0830286\ttotal: 928ms\tremaining: 68.7ms\n",
      "931:\tlearn: 0.0829569\ttotal: 929ms\tremaining: 67.8ms\n",
      "932:\tlearn: 0.0828327\ttotal: 930ms\tremaining: 66.8ms\n",
      "933:\tlearn: 0.0827644\ttotal: 931ms\tremaining: 65.8ms\n",
      "934:\tlearn: 0.0826609\ttotal: 932ms\tremaining: 64.8ms\n",
      "935:\tlearn: 0.0826084\ttotal: 933ms\tremaining: 63.8ms\n",
      "936:\tlearn: 0.0825300\ttotal: 934ms\tremaining: 62.8ms\n",
      "937:\tlearn: 0.0824642\ttotal: 935ms\tremaining: 61.8ms\n",
      "938:\tlearn: 0.0824106\ttotal: 936ms\tremaining: 60.8ms\n",
      "939:\tlearn: 0.0823757\ttotal: 936ms\tremaining: 59.8ms\n",
      "940:\tlearn: 0.0823199\ttotal: 937ms\tremaining: 58.8ms\n",
      "941:\tlearn: 0.0822136\ttotal: 938ms\tremaining: 57.8ms\n",
      "942:\tlearn: 0.0821876\ttotal: 939ms\tremaining: 56.8ms\n",
      "943:\tlearn: 0.0820820\ttotal: 940ms\tremaining: 55.8ms\n",
      "944:\tlearn: 0.0819988\ttotal: 941ms\tremaining: 54.8ms\n",
      "945:\tlearn: 0.0819103\ttotal: 942ms\tremaining: 53.8ms\n",
      "946:\tlearn: 0.0818699\ttotal: 943ms\tremaining: 52.8ms\n",
      "947:\tlearn: 0.0817962\ttotal: 944ms\tremaining: 51.8ms\n",
      "948:\tlearn: 0.0817459\ttotal: 945ms\tremaining: 50.8ms\n",
      "949:\tlearn: 0.0816435\ttotal: 947ms\tremaining: 49.8ms\n",
      "950:\tlearn: 0.0815284\ttotal: 948ms\tremaining: 48.8ms\n",
      "951:\tlearn: 0.0814186\ttotal: 949ms\tremaining: 47.8ms\n",
      "952:\tlearn: 0.0814089\ttotal: 950ms\tremaining: 46.8ms\n",
      "953:\tlearn: 0.0813224\ttotal: 951ms\tremaining: 45.8ms\n",
      "954:\tlearn: 0.0813065\ttotal: 952ms\tremaining: 44.8ms\n",
      "955:\tlearn: 0.0812257\ttotal: 953ms\tremaining: 43.9ms\n",
      "956:\tlearn: 0.0811493\ttotal: 954ms\tremaining: 42.9ms\n",
      "957:\tlearn: 0.0811026\ttotal: 955ms\tremaining: 41.9ms\n",
      "958:\tlearn: 0.0810147\ttotal: 956ms\tremaining: 40.9ms\n",
      "959:\tlearn: 0.0809283\ttotal: 957ms\tremaining: 39.9ms\n",
      "960:\tlearn: 0.0808883\ttotal: 958ms\tremaining: 38.9ms\n",
      "961:\tlearn: 0.0808494\ttotal: 959ms\tremaining: 37.9ms\n"
     ]
    },
    {
     "name": "stdout",
     "output_type": "stream",
     "text": [
      "962:\tlearn: 0.0807067\ttotal: 960ms\tremaining: 36.9ms\n",
      "963:\tlearn: 0.0806581\ttotal: 961ms\tremaining: 35.9ms\n",
      "964:\tlearn: 0.0805752\ttotal: 962ms\tremaining: 34.9ms\n",
      "965:\tlearn: 0.0805114\ttotal: 963ms\tremaining: 33.9ms\n",
      "966:\tlearn: 0.0804437\ttotal: 964ms\tremaining: 32.9ms\n",
      "967:\tlearn: 0.0803745\ttotal: 965ms\tremaining: 31.9ms\n",
      "968:\tlearn: 0.0803127\ttotal: 966ms\tremaining: 30.9ms\n",
      "969:\tlearn: 0.0802485\ttotal: 967ms\tremaining: 29.9ms\n",
      "970:\tlearn: 0.0801601\ttotal: 967ms\tremaining: 28.9ms\n",
      "971:\tlearn: 0.0800832\ttotal: 968ms\tremaining: 27.9ms\n",
      "972:\tlearn: 0.0800017\ttotal: 969ms\tremaining: 26.9ms\n",
      "973:\tlearn: 0.0799190\ttotal: 970ms\tremaining: 25.9ms\n",
      "974:\tlearn: 0.0797878\ttotal: 972ms\tremaining: 24.9ms\n",
      "975:\tlearn: 0.0796934\ttotal: 973ms\tremaining: 23.9ms\n",
      "976:\tlearn: 0.0795925\ttotal: 974ms\tremaining: 22.9ms\n",
      "977:\tlearn: 0.0795449\ttotal: 975ms\tremaining: 21.9ms\n",
      "978:\tlearn: 0.0794735\ttotal: 976ms\tremaining: 20.9ms\n",
      "979:\tlearn: 0.0793799\ttotal: 977ms\tremaining: 19.9ms\n",
      "980:\tlearn: 0.0793059\ttotal: 978ms\tremaining: 18.9ms\n",
      "981:\tlearn: 0.0792718\ttotal: 979ms\tremaining: 17.9ms\n",
      "982:\tlearn: 0.0792513\ttotal: 980ms\tremaining: 16.9ms\n",
      "983:\tlearn: 0.0792146\ttotal: 981ms\tremaining: 15.9ms\n",
      "984:\tlearn: 0.0791186\ttotal: 982ms\tremaining: 15ms\n",
      "985:\tlearn: 0.0790735\ttotal: 983ms\tremaining: 14ms\n",
      "986:\tlearn: 0.0789896\ttotal: 984ms\tremaining: 13ms\n",
      "987:\tlearn: 0.0789265\ttotal: 985ms\tremaining: 12ms\n",
      "988:\tlearn: 0.0787967\ttotal: 987ms\tremaining: 11ms\n",
      "989:\tlearn: 0.0787378\ttotal: 988ms\tremaining: 9.98ms\n",
      "990:\tlearn: 0.0786661\ttotal: 989ms\tremaining: 8.98ms\n",
      "991:\tlearn: 0.0786209\ttotal: 990ms\tremaining: 7.98ms\n",
      "992:\tlearn: 0.0785587\ttotal: 991ms\tremaining: 6.98ms\n",
      "993:\tlearn: 0.0784607\ttotal: 992ms\tremaining: 5.99ms\n",
      "994:\tlearn: 0.0783714\ttotal: 993ms\tremaining: 4.99ms\n",
      "995:\tlearn: 0.0782940\ttotal: 994ms\tremaining: 3.99ms\n",
      "996:\tlearn: 0.0782238\ttotal: 995ms\tremaining: 2.99ms\n",
      "997:\tlearn: 0.0781488\ttotal: 996ms\tremaining: 2ms\n",
      "998:\tlearn: 0.0780781\ttotal: 997ms\tremaining: 997us\n",
      "999:\tlearn: 0.0779921\ttotal: 998ms\tremaining: 0us\n",
      "[LightGBM] [Warning] lambda_l1 is set=1.776746024131738e-08, reg_alpha=0.0 will be ignored. Current value: lambda_l1=1.776746024131738e-08\n",
      "[LightGBM] [Warning] feature_fraction is set=0.7654450449982961, colsample_bytree=1.0 will be ignored. Current value: feature_fraction=0.7654450449982961\n",
      "[LightGBM] [Warning] bagging_fraction is set=0.4362714208794097, subsample=1.0 will be ignored. Current value: bagging_fraction=0.4362714208794097\n",
      "[LightGBM] [Warning] lambda_l2 is set=1.6357395553052135e-05, reg_lambda=0.0 will be ignored. Current value: lambda_l2=1.6357395553052135e-05\n",
      "Learning rate set to 0.037282\n",
      "0:\tlearn: 1.4176565\ttotal: 1.03ms\tremaining: 1.03s\n",
      "1:\tlearn: 1.3765466\ttotal: 2.02ms\tremaining: 1.01s\n",
      "2:\tlearn: 1.3348770\ttotal: 3.15ms\tremaining: 1.05s\n",
      "3:\tlearn: 1.2929832\ttotal: 4.1ms\tremaining: 1.02s\n",
      "4:\tlearn: 1.2547960\ttotal: 5ms\tremaining: 995ms\n",
      "5:\tlearn: 1.2206663\ttotal: 5.95ms\tremaining: 986ms\n",
      "6:\tlearn: 1.1856271\ttotal: 7.02ms\tremaining: 995ms\n",
      "7:\tlearn: 1.1529956\ttotal: 8.73ms\tremaining: 1.08s\n",
      "8:\tlearn: 1.1217494\ttotal: 10.5ms\tremaining: 1.15s\n",
      "9:\tlearn: 1.0895591\ttotal: 11.5ms\tremaining: 1.14s\n",
      "10:\tlearn: 1.0576575\ttotal: 12.5ms\tremaining: 1.13s\n",
      "11:\tlearn: 1.0268731\ttotal: 13.7ms\tremaining: 1.13s\n",
      "12:\tlearn: 0.9987085\ttotal: 14.6ms\tremaining: 1.11s\n",
      "13:\tlearn: 0.9733663\ttotal: 15.7ms\tremaining: 1.1s\n",
      "14:\tlearn: 0.9453278\ttotal: 16.6ms\tremaining: 1.09s\n",
      "15:\tlearn: 0.9188724\ttotal: 17.6ms\tremaining: 1.08s\n",
      "16:\tlearn: 0.8926821\ttotal: 18.7ms\tremaining: 1.08s\n",
      "17:\tlearn: 0.8681956\ttotal: 19.7ms\tremaining: 1.08s\n",
      "18:\tlearn: 0.8436183\ttotal: 20.7ms\tremaining: 1.07s\n",
      "19:\tlearn: 0.8216968\ttotal: 21.8ms\tremaining: 1.07s\n",
      "20:\tlearn: 0.8003499\ttotal: 22.9ms\tremaining: 1.07s\n",
      "21:\tlearn: 0.7781408\ttotal: 23.9ms\tremaining: 1.06s\n",
      "22:\tlearn: 0.7569477\ttotal: 24.9ms\tremaining: 1.06s\n",
      "23:\tlearn: 0.7363075\ttotal: 25.9ms\tremaining: 1.05s\n",
      "24:\tlearn: 0.7168147\ttotal: 26.9ms\tremaining: 1.05s\n",
      "25:\tlearn: 0.6987871\ttotal: 28ms\tremaining: 1.05s\n",
      "26:\tlearn: 0.6815506\ttotal: 28.9ms\tremaining: 1.04s\n",
      "27:\tlearn: 0.6636482\ttotal: 29.9ms\tremaining: 1.04s\n",
      "28:\tlearn: 0.6472914\ttotal: 31ms\tremaining: 1.04s\n",
      "29:\tlearn: 0.6326393\ttotal: 31.9ms\tremaining: 1.03s\n",
      "30:\tlearn: 0.6177223\ttotal: 32.9ms\tremaining: 1.03s\n",
      "31:\tlearn: 0.6044377\ttotal: 33.9ms\tremaining: 1.03s\n",
      "32:\tlearn: 0.5909716\ttotal: 35ms\tremaining: 1.02s\n",
      "33:\tlearn: 0.5766337\ttotal: 36ms\tremaining: 1.02s\n",
      "34:\tlearn: 0.5631445\ttotal: 37ms\tremaining: 1.02s\n",
      "35:\tlearn: 0.5509383\ttotal: 38ms\tremaining: 1.02s\n",
      "36:\tlearn: 0.5388830\ttotal: 38.9ms\tremaining: 1.01s\n",
      "37:\tlearn: 0.5267984\ttotal: 39.9ms\tremaining: 1.01s\n",
      "38:\tlearn: 0.5163472\ttotal: 41.3ms\tremaining: 1.02s\n",
      "39:\tlearn: 0.5069396\ttotal: 42.4ms\tremaining: 1.02s\n",
      "40:\tlearn: 0.4964105\ttotal: 43.3ms\tremaining: 1.01s\n",
      "41:\tlearn: 0.4873190\ttotal: 44.4ms\tremaining: 1.01s\n",
      "42:\tlearn: 0.4783587\ttotal: 45.3ms\tremaining: 1.01s\n",
      "43:\tlearn: 0.4690513\ttotal: 46.2ms\tremaining: 1s\n",
      "44:\tlearn: 0.4616248\ttotal: 47.2ms\tremaining: 1s\n",
      "45:\tlearn: 0.4533233\ttotal: 48.1ms\tremaining: 998ms\n",
      "46:\tlearn: 0.4451004\ttotal: 49.1ms\tremaining: 996ms\n",
      "47:\tlearn: 0.4380963\ttotal: 50.1ms\tremaining: 995ms\n",
      "48:\tlearn: 0.4306861\ttotal: 51.2ms\tremaining: 994ms\n",
      "49:\tlearn: 0.4231037\ttotal: 52.2ms\tremaining: 992ms\n",
      "50:\tlearn: 0.4161929\ttotal: 53.2ms\tremaining: 991ms\n",
      "51:\tlearn: 0.4097471\ttotal: 54.2ms\tremaining: 988ms\n",
      "52:\tlearn: 0.4036427\ttotal: 55.3ms\tremaining: 987ms\n",
      "53:\tlearn: 0.3970118\ttotal: 56.2ms\tremaining: 985ms\n",
      "54:\tlearn: 0.3914807\ttotal: 57.2ms\tremaining: 983ms\n",
      "55:\tlearn: 0.3860111\ttotal: 58.1ms\tremaining: 979ms\n",
      "56:\tlearn: 0.3801845\ttotal: 59.1ms\tremaining: 978ms\n",
      "57:\tlearn: 0.3749809\ttotal: 60.1ms\tremaining: 977ms\n",
      "58:\tlearn: 0.3711589\ttotal: 61.1ms\tremaining: 975ms\n",
      "59:\tlearn: 0.3670634\ttotal: 62.1ms\tremaining: 973ms\n",
      "60:\tlearn: 0.3624779\ttotal: 63.1ms\tremaining: 971ms\n",
      "61:\tlearn: 0.3580796\ttotal: 64.1ms\tremaining: 969ms\n",
      "62:\tlearn: 0.3540824\ttotal: 65.1ms\tremaining: 968ms\n",
      "63:\tlearn: 0.3498190\ttotal: 66.1ms\tremaining: 967ms\n",
      "64:\tlearn: 0.3462930\ttotal: 67.1ms\tremaining: 965ms\n",
      "65:\tlearn: 0.3423206\ttotal: 68ms\tremaining: 962ms\n",
      "66:\tlearn: 0.3386689\ttotal: 68.9ms\tremaining: 960ms\n",
      "67:\tlearn: 0.3347523\ttotal: 69.9ms\tremaining: 959ms\n",
      "68:\tlearn: 0.3317313\ttotal: 71ms\tremaining: 958ms\n",
      "69:\tlearn: 0.3284857\ttotal: 72ms\tremaining: 957ms\n",
      "70:\tlearn: 0.3252132\ttotal: 73.1ms\tremaining: 957ms\n",
      "71:\tlearn: 0.3223604\ttotal: 74.1ms\tremaining: 955ms\n",
      "72:\tlearn: 0.3199096\ttotal: 75ms\tremaining: 953ms\n",
      "73:\tlearn: 0.3177023\ttotal: 76.8ms\tremaining: 961ms\n",
      "74:\tlearn: 0.3153137\ttotal: 77.7ms\tremaining: 959ms\n",
      "75:\tlearn: 0.3128100\ttotal: 78.7ms\tremaining: 957ms\n",
      "76:\tlearn: 0.3102243\ttotal: 79.7ms\tremaining: 955ms\n",
      "77:\tlearn: 0.3073378\ttotal: 80.8ms\tremaining: 955ms\n",
      "78:\tlearn: 0.3053360\ttotal: 81.8ms\tremaining: 953ms\n",
      "79:\tlearn: 0.3030818\ttotal: 82.7ms\tremaining: 951ms\n",
      "80:\tlearn: 0.3009597\ttotal: 83.7ms\tremaining: 949ms\n",
      "81:\tlearn: 0.2988677\ttotal: 84.5ms\tremaining: 947ms\n",
      "82:\tlearn: 0.2967801\ttotal: 85.5ms\tremaining: 945ms\n",
      "83:\tlearn: 0.2948674\ttotal: 86.6ms\tremaining: 944ms\n",
      "84:\tlearn: 0.2928900\ttotal: 87.5ms\tremaining: 942ms\n",
      "85:\tlearn: 0.2912319\ttotal: 88.6ms\tremaining: 942ms\n",
      "86:\tlearn: 0.2897157\ttotal: 89.6ms\tremaining: 941ms\n",
      "87:\tlearn: 0.2881907\ttotal: 90.5ms\tremaining: 938ms\n",
      "88:\tlearn: 0.2868233\ttotal: 91.6ms\tremaining: 937ms\n",
      "89:\tlearn: 0.2848691\ttotal: 92.6ms\tremaining: 936ms\n",
      "90:\tlearn: 0.2834595\ttotal: 93.5ms\tremaining: 934ms\n",
      "91:\tlearn: 0.2822030\ttotal: 95.2ms\tremaining: 939ms\n",
      "92:\tlearn: 0.2808437\ttotal: 96.1ms\tremaining: 937ms\n",
      "93:\tlearn: 0.2794209\ttotal: 97.1ms\tremaining: 936ms\n",
      "94:\tlearn: 0.2778887\ttotal: 98.2ms\tremaining: 935ms\n",
      "95:\tlearn: 0.2763478\ttotal: 99.1ms\tremaining: 933ms\n",
      "96:\tlearn: 0.2748195\ttotal: 100ms\tremaining: 931ms\n",
      "97:\tlearn: 0.2738155\ttotal: 101ms\tremaining: 929ms\n",
      "98:\tlearn: 0.2726273\ttotal: 102ms\tremaining: 927ms\n",
      "99:\tlearn: 0.2717314\ttotal: 103ms\tremaining: 926ms\n",
      "100:\tlearn: 0.2708738\ttotal: 104ms\tremaining: 924ms\n",
      "101:\tlearn: 0.2692097\ttotal: 105ms\tremaining: 922ms\n",
      "102:\tlearn: 0.2679077\ttotal: 106ms\tremaining: 923ms\n",
      "103:\tlearn: 0.2666174\ttotal: 107ms\tremaining: 921ms\n",
      "104:\tlearn: 0.2655555\ttotal: 108ms\tremaining: 920ms\n",
      "105:\tlearn: 0.2646192\ttotal: 109ms\tremaining: 918ms\n",
      "106:\tlearn: 0.2638612\ttotal: 110ms\tremaining: 917ms\n",
      "107:\tlearn: 0.2627593\ttotal: 112ms\tremaining: 923ms\n",
      "108:\tlearn: 0.2620073\ttotal: 113ms\tremaining: 921ms\n",
      "109:\tlearn: 0.2610743\ttotal: 114ms\tremaining: 920ms\n",
      "110:\tlearn: 0.2600361\ttotal: 115ms\tremaining: 920ms\n",
      "111:\tlearn: 0.2593159\ttotal: 116ms\tremaining: 919ms\n",
      "112:\tlearn: 0.2586070\ttotal: 117ms\tremaining: 915ms\n",
      "113:\tlearn: 0.2577274\ttotal: 117ms\tremaining: 913ms\n",
      "114:\tlearn: 0.2568744\ttotal: 118ms\tremaining: 911ms\n",
      "115:\tlearn: 0.2561234\ttotal: 119ms\tremaining: 909ms\n",
      "116:\tlearn: 0.2553449\ttotal: 120ms\tremaining: 908ms\n",
      "117:\tlearn: 0.2545943\ttotal: 121ms\tremaining: 908ms\n",
      "118:\tlearn: 0.2537231\ttotal: 122ms\tremaining: 907ms\n",
      "119:\tlearn: 0.2528432\ttotal: 123ms\tremaining: 905ms\n",
      "120:\tlearn: 0.2521913\ttotal: 124ms\tremaining: 904ms\n",
      "121:\tlearn: 0.2516652\ttotal: 125ms\tremaining: 903ms\n",
      "122:\tlearn: 0.2510279\ttotal: 126ms\tremaining: 902ms\n",
      "123:\tlearn: 0.2502348\ttotal: 128ms\tremaining: 906ms\n",
      "124:\tlearn: 0.2497794\ttotal: 129ms\tremaining: 905ms\n",
      "125:\tlearn: 0.2493426\ttotal: 131ms\tremaining: 906ms\n",
      "126:\tlearn: 0.2485964\ttotal: 132ms\tremaining: 904ms\n",
      "127:\tlearn: 0.2479125\ttotal: 133ms\tremaining: 903ms\n",
      "128:\tlearn: 0.2474841\ttotal: 134ms\tremaining: 902ms\n",
      "129:\tlearn: 0.2469955\ttotal: 135ms\tremaining: 900ms\n",
      "130:\tlearn: 0.2467160\ttotal: 135ms\tremaining: 899ms\n",
      "131:\tlearn: 0.2460285\ttotal: 137ms\tremaining: 898ms\n",
      "132:\tlearn: 0.2455528\ttotal: 137ms\tremaining: 896ms\n",
      "133:\tlearn: 0.2450086\ttotal: 138ms\tremaining: 895ms\n",
      "134:\tlearn: 0.2446470\ttotal: 139ms\tremaining: 893ms\n",
      "135:\tlearn: 0.2442332\ttotal: 140ms\tremaining: 892ms\n",
      "136:\tlearn: 0.2431842\ttotal: 141ms\tremaining: 890ms\n",
      "137:\tlearn: 0.2426073\ttotal: 142ms\tremaining: 889ms\n",
      "138:\tlearn: 0.2420105\ttotal: 143ms\tremaining: 888ms\n",
      "139:\tlearn: 0.2413533\ttotal: 144ms\tremaining: 886ms\n",
      "140:\tlearn: 0.2405483\ttotal: 145ms\tremaining: 885ms\n",
      "141:\tlearn: 0.2399907\ttotal: 146ms\tremaining: 884ms\n",
      "142:\tlearn: 0.2392813\ttotal: 147ms\tremaining: 882ms\n",
      "143:\tlearn: 0.2387402\ttotal: 148ms\tremaining: 881ms\n",
      "144:\tlearn: 0.2384150\ttotal: 149ms\tremaining: 879ms\n",
      "145:\tlearn: 0.2380329\ttotal: 150ms\tremaining: 877ms\n",
      "146:\tlearn: 0.2377212\ttotal: 151ms\tremaining: 876ms\n",
      "147:\tlearn: 0.2369459\ttotal: 152ms\tremaining: 874ms\n",
      "148:\tlearn: 0.2362110\ttotal: 153ms\tremaining: 873ms\n",
      "149:\tlearn: 0.2356304\ttotal: 154ms\tremaining: 871ms\n",
      "150:\tlearn: 0.2351137\ttotal: 155ms\tremaining: 870ms\n",
      "151:\tlearn: 0.2346277\ttotal: 156ms\tremaining: 869ms\n",
      "152:\tlearn: 0.2337440\ttotal: 157ms\tremaining: 869ms\n",
      "153:\tlearn: 0.2330405\ttotal: 158ms\tremaining: 867ms\n",
      "154:\tlearn: 0.2327751\ttotal: 159ms\tremaining: 866ms\n",
      "155:\tlearn: 0.2322504\ttotal: 160ms\tremaining: 865ms\n",
      "156:\tlearn: 0.2318678\ttotal: 161ms\tremaining: 863ms\n",
      "157:\tlearn: 0.2313932\ttotal: 162ms\tremaining: 862ms\n",
      "158:\tlearn: 0.2311052\ttotal: 163ms\tremaining: 860ms\n",
      "159:\tlearn: 0.2307178\ttotal: 163ms\tremaining: 858ms\n",
      "160:\tlearn: 0.2300184\ttotal: 164ms\tremaining: 857ms\n",
      "161:\tlearn: 0.2298541\ttotal: 165ms\tremaining: 856ms\n",
      "162:\tlearn: 0.2292375\ttotal: 166ms\tremaining: 854ms\n",
      "163:\tlearn: 0.2290525\ttotal: 167ms\tremaining: 853ms\n",
      "164:\tlearn: 0.2284655\ttotal: 168ms\tremaining: 851ms\n",
      "165:\tlearn: 0.2279217\ttotal: 169ms\tremaining: 850ms\n",
      "166:\tlearn: 0.2273333\ttotal: 170ms\tremaining: 849ms\n",
      "167:\tlearn: 0.2270292\ttotal: 171ms\tremaining: 847ms\n",
      "168:\tlearn: 0.2263720\ttotal: 172ms\tremaining: 846ms\n",
      "169:\tlearn: 0.2255998\ttotal: 173ms\tremaining: 845ms\n",
      "170:\tlearn: 0.2253579\ttotal: 174ms\tremaining: 842ms\n",
      "171:\tlearn: 0.2249607\ttotal: 175ms\tremaining: 841ms\n",
      "172:\tlearn: 0.2246639\ttotal: 176ms\tremaining: 839ms\n",
      "173:\tlearn: 0.2241796\ttotal: 176ms\tremaining: 838ms\n",
      "174:\tlearn: 0.2238320\ttotal: 177ms\tremaining: 836ms\n",
      "175:\tlearn: 0.2235530\ttotal: 178ms\tremaining: 835ms\n",
      "176:\tlearn: 0.2228936\ttotal: 179ms\tremaining: 833ms\n",
      "177:\tlearn: 0.2227287\ttotal: 180ms\tremaining: 832ms\n",
      "178:\tlearn: 0.2222809\ttotal: 181ms\tremaining: 831ms\n",
      "179:\tlearn: 0.2218178\ttotal: 182ms\tremaining: 830ms\n",
      "180:\tlearn: 0.2216009\ttotal: 183ms\tremaining: 828ms\n",
      "181:\tlearn: 0.2210708\ttotal: 185ms\tremaining: 830ms\n",
      "182:\tlearn: 0.2204949\ttotal: 186ms\tremaining: 829ms\n",
      "183:\tlearn: 0.2203303\ttotal: 187ms\tremaining: 829ms\n",
      "184:\tlearn: 0.2200449\ttotal: 188ms\tremaining: 828ms\n",
      "185:\tlearn: 0.2195732\ttotal: 190ms\tremaining: 830ms\n",
      "186:\tlearn: 0.2193460\ttotal: 191ms\tremaining: 829ms\n"
     ]
    },
    {
     "name": "stdout",
     "output_type": "stream",
     "text": [
      "187:\tlearn: 0.2189652\ttotal: 192ms\tremaining: 829ms\n",
      "188:\tlearn: 0.2185154\ttotal: 193ms\tremaining: 828ms\n",
      "189:\tlearn: 0.2182422\ttotal: 194ms\tremaining: 826ms\n",
      "190:\tlearn: 0.2180367\ttotal: 195ms\tremaining: 825ms\n",
      "191:\tlearn: 0.2178514\ttotal: 196ms\tremaining: 824ms\n",
      "192:\tlearn: 0.2175266\ttotal: 197ms\tremaining: 823ms\n",
      "193:\tlearn: 0.2172158\ttotal: 198ms\tremaining: 823ms\n",
      "194:\tlearn: 0.2170342\ttotal: 199ms\tremaining: 822ms\n",
      "195:\tlearn: 0.2170110\ttotal: 200ms\tremaining: 819ms\n",
      "196:\tlearn: 0.2169600\ttotal: 200ms\tremaining: 816ms\n",
      "197:\tlearn: 0.2164263\ttotal: 201ms\tremaining: 815ms\n",
      "198:\tlearn: 0.2157090\ttotal: 202ms\tremaining: 814ms\n",
      "199:\tlearn: 0.2152513\ttotal: 203ms\tremaining: 813ms\n",
      "200:\tlearn: 0.2149815\ttotal: 204ms\tremaining: 812ms\n",
      "201:\tlearn: 0.2143529\ttotal: 205ms\tremaining: 811ms\n",
      "202:\tlearn: 0.2139600\ttotal: 206ms\tremaining: 810ms\n",
      "203:\tlearn: 0.2133346\ttotal: 207ms\tremaining: 809ms\n",
      "204:\tlearn: 0.2128017\ttotal: 208ms\tremaining: 808ms\n",
      "205:\tlearn: 0.2127313\ttotal: 210ms\tremaining: 808ms\n",
      "206:\tlearn: 0.2121528\ttotal: 211ms\tremaining: 807ms\n",
      "207:\tlearn: 0.2117503\ttotal: 212ms\tremaining: 806ms\n",
      "208:\tlearn: 0.2114153\ttotal: 213ms\tremaining: 805ms\n",
      "209:\tlearn: 0.2110839\ttotal: 214ms\tremaining: 804ms\n",
      "210:\tlearn: 0.2107504\ttotal: 215ms\tremaining: 803ms\n",
      "211:\tlearn: 0.2103031\ttotal: 216ms\tremaining: 803ms\n",
      "212:\tlearn: 0.2097147\ttotal: 217ms\tremaining: 802ms\n",
      "213:\tlearn: 0.2092529\ttotal: 218ms\tremaining: 800ms\n",
      "214:\tlearn: 0.2090956\ttotal: 219ms\tremaining: 800ms\n",
      "215:\tlearn: 0.2086121\ttotal: 220ms\tremaining: 799ms\n",
      "216:\tlearn: 0.2082646\ttotal: 221ms\tremaining: 799ms\n",
      "217:\tlearn: 0.2081913\ttotal: 222ms\tremaining: 797ms\n",
      "218:\tlearn: 0.2080365\ttotal: 223ms\tremaining: 796ms\n",
      "219:\tlearn: 0.2077719\ttotal: 224ms\tremaining: 795ms\n",
      "220:\tlearn: 0.2073663\ttotal: 226ms\tremaining: 797ms\n",
      "221:\tlearn: 0.2070225\ttotal: 228ms\tremaining: 798ms\n",
      "222:\tlearn: 0.2067447\ttotal: 229ms\tremaining: 797ms\n",
      "223:\tlearn: 0.2063644\ttotal: 230ms\tremaining: 796ms\n",
      "224:\tlearn: 0.2059072\ttotal: 231ms\tremaining: 796ms\n",
      "225:\tlearn: 0.2053864\ttotal: 232ms\tremaining: 795ms\n",
      "226:\tlearn: 0.2050361\ttotal: 234ms\tremaining: 795ms\n",
      "227:\tlearn: 0.2047487\ttotal: 235ms\tremaining: 794ms\n",
      "228:\tlearn: 0.2043476\ttotal: 236ms\tremaining: 793ms\n",
      "229:\tlearn: 0.2042784\ttotal: 236ms\tremaining: 790ms\n",
      "230:\tlearn: 0.2041015\ttotal: 237ms\tremaining: 789ms\n",
      "231:\tlearn: 0.2037831\ttotal: 238ms\tremaining: 788ms\n",
      "232:\tlearn: 0.2037402\ttotal: 239ms\tremaining: 787ms\n",
      "233:\tlearn: 0.2033032\ttotal: 240ms\tremaining: 786ms\n",
      "234:\tlearn: 0.2029374\ttotal: 241ms\tremaining: 785ms\n",
      "235:\tlearn: 0.2027986\ttotal: 242ms\tremaining: 784ms\n",
      "236:\tlearn: 0.2023944\ttotal: 243ms\tremaining: 783ms\n",
      "237:\tlearn: 0.2022144\ttotal: 244ms\tremaining: 781ms\n",
      "238:\tlearn: 0.2018864\ttotal: 245ms\tremaining: 780ms\n",
      "239:\tlearn: 0.2015270\ttotal: 246ms\tremaining: 779ms\n",
      "240:\tlearn: 0.2012160\ttotal: 247ms\tremaining: 777ms\n",
      "241:\tlearn: 0.2007744\ttotal: 248ms\tremaining: 777ms\n",
      "242:\tlearn: 0.2004929\ttotal: 249ms\tremaining: 776ms\n",
      "243:\tlearn: 0.2001473\ttotal: 250ms\tremaining: 775ms\n",
      "244:\tlearn: 0.2000343\ttotal: 251ms\tremaining: 773ms\n",
      "245:\tlearn: 0.1996156\ttotal: 252ms\tremaining: 772ms\n",
      "246:\tlearn: 0.1992608\ttotal: 253ms\tremaining: 771ms\n",
      "247:\tlearn: 0.1988327\ttotal: 254ms\tremaining: 770ms\n",
      "248:\tlearn: 0.1985544\ttotal: 255ms\tremaining: 769ms\n",
      "249:\tlearn: 0.1983705\ttotal: 256ms\tremaining: 768ms\n",
      "250:\tlearn: 0.1979886\ttotal: 257ms\tremaining: 767ms\n",
      "251:\tlearn: 0.1978561\ttotal: 258ms\tremaining: 766ms\n",
      "252:\tlearn: 0.1977136\ttotal: 259ms\tremaining: 765ms\n",
      "253:\tlearn: 0.1976242\ttotal: 260ms\tremaining: 763ms\n",
      "254:\tlearn: 0.1972579\ttotal: 261ms\tremaining: 762ms\n",
      "255:\tlearn: 0.1969787\ttotal: 262ms\tremaining: 761ms\n",
      "256:\tlearn: 0.1967624\ttotal: 263ms\tremaining: 760ms\n",
      "257:\tlearn: 0.1965151\ttotal: 264ms\tremaining: 758ms\n",
      "258:\tlearn: 0.1961531\ttotal: 265ms\tremaining: 757ms\n",
      "259:\tlearn: 0.1958182\ttotal: 266ms\tremaining: 756ms\n",
      "260:\tlearn: 0.1953759\ttotal: 267ms\tremaining: 755ms\n",
      "261:\tlearn: 0.1949461\ttotal: 267ms\tremaining: 753ms\n",
      "262:\tlearn: 0.1947034\ttotal: 268ms\tremaining: 752ms\n",
      "263:\tlearn: 0.1943606\ttotal: 269ms\tremaining: 751ms\n",
      "264:\tlearn: 0.1939249\ttotal: 270ms\tremaining: 750ms\n",
      "265:\tlearn: 0.1935236\ttotal: 272ms\tremaining: 749ms\n",
      "266:\tlearn: 0.1931584\ttotal: 273ms\tremaining: 748ms\n",
      "267:\tlearn: 0.1926910\ttotal: 273ms\tremaining: 747ms\n",
      "268:\tlearn: 0.1923193\ttotal: 274ms\tremaining: 746ms\n",
      "269:\tlearn: 0.1921776\ttotal: 275ms\tremaining: 744ms\n",
      "270:\tlearn: 0.1917112\ttotal: 276ms\tremaining: 743ms\n",
      "271:\tlearn: 0.1913044\ttotal: 277ms\tremaining: 742ms\n",
      "272:\tlearn: 0.1908262\ttotal: 278ms\tremaining: 741ms\n",
      "273:\tlearn: 0.1904068\ttotal: 279ms\tremaining: 740ms\n",
      "274:\tlearn: 0.1901131\ttotal: 280ms\tremaining: 739ms\n",
      "275:\tlearn: 0.1896583\ttotal: 281ms\tremaining: 737ms\n",
      "276:\tlearn: 0.1894393\ttotal: 282ms\tremaining: 736ms\n",
      "277:\tlearn: 0.1892487\ttotal: 283ms\tremaining: 735ms\n",
      "278:\tlearn: 0.1888477\ttotal: 284ms\tremaining: 734ms\n",
      "279:\tlearn: 0.1885331\ttotal: 285ms\tremaining: 733ms\n",
      "280:\tlearn: 0.1882855\ttotal: 286ms\tremaining: 732ms\n",
      "281:\tlearn: 0.1881318\ttotal: 287ms\tremaining: 731ms\n",
      "282:\tlearn: 0.1877938\ttotal: 288ms\tremaining: 730ms\n",
      "283:\tlearn: 0.1874542\ttotal: 289ms\tremaining: 729ms\n",
      "284:\tlearn: 0.1870930\ttotal: 290ms\tremaining: 728ms\n",
      "285:\tlearn: 0.1867163\ttotal: 291ms\tremaining: 727ms\n",
      "286:\tlearn: 0.1862315\ttotal: 292ms\tremaining: 726ms\n",
      "287:\tlearn: 0.1857849\ttotal: 293ms\tremaining: 725ms\n",
      "288:\tlearn: 0.1854698\ttotal: 294ms\tremaining: 723ms\n",
      "289:\tlearn: 0.1851140\ttotal: 295ms\tremaining: 723ms\n",
      "290:\tlearn: 0.1846745\ttotal: 296ms\tremaining: 721ms\n",
      "291:\tlearn: 0.1844194\ttotal: 297ms\tremaining: 721ms\n",
      "292:\tlearn: 0.1840455\ttotal: 298ms\tremaining: 720ms\n",
      "293:\tlearn: 0.1837542\ttotal: 299ms\tremaining: 719ms\n",
      "294:\tlearn: 0.1835961\ttotal: 300ms\tremaining: 718ms\n",
      "295:\tlearn: 0.1833861\ttotal: 301ms\tremaining: 717ms\n",
      "296:\tlearn: 0.1828796\ttotal: 302ms\tremaining: 716ms\n",
      "297:\tlearn: 0.1826434\ttotal: 303ms\tremaining: 715ms\n",
      "298:\tlearn: 0.1822900\ttotal: 304ms\tremaining: 714ms\n",
      "299:\tlearn: 0.1819251\ttotal: 305ms\tremaining: 713ms\n",
      "300:\tlearn: 0.1814583\ttotal: 306ms\tremaining: 712ms\n",
      "301:\tlearn: 0.1811621\ttotal: 308ms\tremaining: 711ms\n",
      "302:\tlearn: 0.1806553\ttotal: 308ms\tremaining: 710ms\n",
      "303:\tlearn: 0.1803582\ttotal: 309ms\tremaining: 708ms\n",
      "304:\tlearn: 0.1799528\ttotal: 311ms\tremaining: 708ms\n",
      "305:\tlearn: 0.1796202\ttotal: 311ms\tremaining: 706ms\n",
      "306:\tlearn: 0.1791629\ttotal: 312ms\tremaining: 705ms\n",
      "307:\tlearn: 0.1787827\ttotal: 313ms\tremaining: 704ms\n",
      "308:\tlearn: 0.1785015\ttotal: 314ms\tremaining: 703ms\n",
      "309:\tlearn: 0.1781575\ttotal: 315ms\tremaining: 701ms\n",
      "310:\tlearn: 0.1778188\ttotal: 316ms\tremaining: 700ms\n",
      "311:\tlearn: 0.1775045\ttotal: 317ms\tremaining: 699ms\n",
      "312:\tlearn: 0.1773210\ttotal: 318ms\tremaining: 698ms\n",
      "313:\tlearn: 0.1771221\ttotal: 319ms\tremaining: 697ms\n",
      "314:\tlearn: 0.1767792\ttotal: 320ms\tremaining: 696ms\n",
      "315:\tlearn: 0.1764039\ttotal: 321ms\tremaining: 694ms\n",
      "316:\tlearn: 0.1759895\ttotal: 322ms\tremaining: 693ms\n",
      "317:\tlearn: 0.1757443\ttotal: 323ms\tremaining: 692ms\n",
      "318:\tlearn: 0.1754127\ttotal: 324ms\tremaining: 692ms\n",
      "319:\tlearn: 0.1749972\ttotal: 325ms\tremaining: 690ms\n",
      "320:\tlearn: 0.1747212\ttotal: 326ms\tremaining: 689ms\n",
      "321:\tlearn: 0.1743706\ttotal: 327ms\tremaining: 688ms\n",
      "322:\tlearn: 0.1740258\ttotal: 328ms\tremaining: 687ms\n",
      "323:\tlearn: 0.1737885\ttotal: 329ms\tremaining: 686ms\n",
      "324:\tlearn: 0.1735379\ttotal: 330ms\tremaining: 685ms\n",
      "325:\tlearn: 0.1732994\ttotal: 331ms\tremaining: 684ms\n",
      "326:\tlearn: 0.1731272\ttotal: 332ms\tremaining: 683ms\n",
      "327:\tlearn: 0.1728352\ttotal: 333ms\tremaining: 682ms\n",
      "328:\tlearn: 0.1726100\ttotal: 334ms\tremaining: 681ms\n",
      "329:\tlearn: 0.1722866\ttotal: 335ms\tremaining: 679ms\n",
      "330:\tlearn: 0.1719022\ttotal: 335ms\tremaining: 678ms\n",
      "331:\tlearn: 0.1714459\ttotal: 337ms\tremaining: 678ms\n",
      "332:\tlearn: 0.1712115\ttotal: 338ms\tremaining: 677ms\n",
      "333:\tlearn: 0.1709205\ttotal: 339ms\tremaining: 676ms\n",
      "334:\tlearn: 0.1706486\ttotal: 340ms\tremaining: 675ms\n",
      "335:\tlearn: 0.1703561\ttotal: 341ms\tremaining: 674ms\n",
      "336:\tlearn: 0.1700396\ttotal: 342ms\tremaining: 673ms\n",
      "337:\tlearn: 0.1698920\ttotal: 343ms\tremaining: 672ms\n",
      "338:\tlearn: 0.1696873\ttotal: 344ms\tremaining: 671ms\n",
      "339:\tlearn: 0.1693238\ttotal: 345ms\tremaining: 670ms\n",
      "340:\tlearn: 0.1689884\ttotal: 346ms\tremaining: 669ms\n",
      "341:\tlearn: 0.1686948\ttotal: 347ms\tremaining: 668ms\n",
      "342:\tlearn: 0.1684928\ttotal: 348ms\tremaining: 667ms\n",
      "343:\tlearn: 0.1682613\ttotal: 351ms\tremaining: 668ms\n",
      "344:\tlearn: 0.1678874\ttotal: 352ms\tremaining: 667ms\n",
      "345:\tlearn: 0.1676004\ttotal: 353ms\tremaining: 666ms\n",
      "346:\tlearn: 0.1671815\ttotal: 353ms\tremaining: 665ms\n",
      "347:\tlearn: 0.1669495\ttotal: 355ms\tremaining: 664ms\n",
      "348:\tlearn: 0.1667997\ttotal: 355ms\tremaining: 663ms\n",
      "349:\tlearn: 0.1664640\ttotal: 356ms\tremaining: 662ms\n",
      "350:\tlearn: 0.1662403\ttotal: 358ms\tremaining: 661ms\n",
      "351:\tlearn: 0.1658503\ttotal: 359ms\tremaining: 660ms\n",
      "352:\tlearn: 0.1656843\ttotal: 360ms\tremaining: 659ms\n",
      "353:\tlearn: 0.1654293\ttotal: 361ms\tremaining: 658ms\n",
      "354:\tlearn: 0.1651905\ttotal: 362ms\tremaining: 657ms\n",
      "355:\tlearn: 0.1650314\ttotal: 363ms\tremaining: 656ms\n",
      "356:\tlearn: 0.1645202\ttotal: 364ms\tremaining: 655ms\n",
      "357:\tlearn: 0.1643774\ttotal: 365ms\tremaining: 654ms\n",
      "358:\tlearn: 0.1640601\ttotal: 366ms\tremaining: 653ms\n",
      "359:\tlearn: 0.1637126\ttotal: 367ms\tremaining: 652ms\n",
      "360:\tlearn: 0.1633814\ttotal: 368ms\tremaining: 651ms\n",
      "361:\tlearn: 0.1631082\ttotal: 369ms\tremaining: 650ms\n",
      "362:\tlearn: 0.1628778\ttotal: 370ms\tremaining: 649ms\n",
      "363:\tlearn: 0.1625485\ttotal: 371ms\tremaining: 648ms\n",
      "364:\tlearn: 0.1623010\ttotal: 372ms\tremaining: 647ms\n",
      "365:\tlearn: 0.1621827\ttotal: 373ms\tremaining: 646ms\n",
      "366:\tlearn: 0.1620446\ttotal: 374ms\tremaining: 645ms\n",
      "367:\tlearn: 0.1617722\ttotal: 375ms\tremaining: 644ms\n",
      "368:\tlearn: 0.1613422\ttotal: 376ms\tremaining: 643ms\n",
      "369:\tlearn: 0.1610049\ttotal: 377ms\tremaining: 642ms\n",
      "370:\tlearn: 0.1607478\ttotal: 378ms\tremaining: 641ms\n",
      "371:\tlearn: 0.1604304\ttotal: 379ms\tremaining: 640ms\n",
      "372:\tlearn: 0.1602042\ttotal: 380ms\tremaining: 639ms\n",
      "373:\tlearn: 0.1597269\ttotal: 381ms\tremaining: 638ms\n",
      "374:\tlearn: 0.1594768\ttotal: 382ms\tremaining: 637ms\n",
      "375:\tlearn: 0.1591008\ttotal: 383ms\tremaining: 636ms\n"
     ]
    },
    {
     "name": "stdout",
     "output_type": "stream",
     "text": [
      "376:\tlearn: 0.1587963\ttotal: 385ms\tremaining: 636ms\n",
      "377:\tlearn: 0.1585393\ttotal: 386ms\tremaining: 635ms\n",
      "378:\tlearn: 0.1583352\ttotal: 387ms\tremaining: 634ms\n",
      "379:\tlearn: 0.1582473\ttotal: 388ms\tremaining: 633ms\n",
      "380:\tlearn: 0.1581016\ttotal: 389ms\tremaining: 632ms\n",
      "381:\tlearn: 0.1578082\ttotal: 391ms\tremaining: 633ms\n",
      "382:\tlearn: 0.1575570\ttotal: 392ms\tremaining: 632ms\n",
      "383:\tlearn: 0.1572775\ttotal: 393ms\tremaining: 630ms\n",
      "384:\tlearn: 0.1571553\ttotal: 394ms\tremaining: 629ms\n",
      "385:\tlearn: 0.1568502\ttotal: 395ms\tremaining: 629ms\n",
      "386:\tlearn: 0.1565620\ttotal: 396ms\tremaining: 627ms\n",
      "387:\tlearn: 0.1563414\ttotal: 397ms\tremaining: 626ms\n",
      "388:\tlearn: 0.1560462\ttotal: 398ms\tremaining: 625ms\n",
      "389:\tlearn: 0.1557811\ttotal: 399ms\tremaining: 624ms\n",
      "390:\tlearn: 0.1554522\ttotal: 400ms\tremaining: 624ms\n",
      "391:\tlearn: 0.1552416\ttotal: 402ms\tremaining: 623ms\n",
      "392:\tlearn: 0.1551279\ttotal: 402ms\tremaining: 622ms\n",
      "393:\tlearn: 0.1547738\ttotal: 403ms\tremaining: 621ms\n",
      "394:\tlearn: 0.1545855\ttotal: 405ms\tremaining: 620ms\n",
      "395:\tlearn: 0.1543627\ttotal: 406ms\tremaining: 619ms\n",
      "396:\tlearn: 0.1540044\ttotal: 407ms\tremaining: 618ms\n",
      "397:\tlearn: 0.1539297\ttotal: 408ms\tremaining: 617ms\n",
      "398:\tlearn: 0.1537118\ttotal: 409ms\tremaining: 616ms\n",
      "399:\tlearn: 0.1535911\ttotal: 410ms\tremaining: 615ms\n",
      "400:\tlearn: 0.1533489\ttotal: 411ms\tremaining: 614ms\n",
      "401:\tlearn: 0.1531358\ttotal: 412ms\tremaining: 612ms\n",
      "402:\tlearn: 0.1528161\ttotal: 413ms\tremaining: 611ms\n",
      "403:\tlearn: 0.1526531\ttotal: 414ms\tremaining: 610ms\n",
      "404:\tlearn: 0.1526300\ttotal: 414ms\tremaining: 609ms\n",
      "405:\tlearn: 0.1523620\ttotal: 416ms\tremaining: 608ms\n",
      "406:\tlearn: 0.1523269\ttotal: 417ms\tremaining: 607ms\n",
      "407:\tlearn: 0.1520677\ttotal: 418ms\tremaining: 606ms\n",
      "408:\tlearn: 0.1518617\ttotal: 419ms\tremaining: 605ms\n",
      "409:\tlearn: 0.1516515\ttotal: 420ms\tremaining: 604ms\n",
      "410:\tlearn: 0.1512277\ttotal: 421ms\tremaining: 603ms\n",
      "411:\tlearn: 0.1510717\ttotal: 422ms\tremaining: 602ms\n",
      "412:\tlearn: 0.1508080\ttotal: 423ms\tremaining: 601ms\n",
      "413:\tlearn: 0.1505402\ttotal: 424ms\tremaining: 600ms\n",
      "414:\tlearn: 0.1504530\ttotal: 425ms\tremaining: 599ms\n",
      "415:\tlearn: 0.1501899\ttotal: 426ms\tremaining: 598ms\n",
      "416:\tlearn: 0.1500504\ttotal: 427ms\tremaining: 597ms\n",
      "417:\tlearn: 0.1498892\ttotal: 428ms\tremaining: 596ms\n",
      "418:\tlearn: 0.1496387\ttotal: 429ms\tremaining: 595ms\n",
      "419:\tlearn: 0.1493660\ttotal: 430ms\tremaining: 594ms\n",
      "420:\tlearn: 0.1491918\ttotal: 431ms\tremaining: 593ms\n",
      "421:\tlearn: 0.1489604\ttotal: 432ms\tremaining: 592ms\n",
      "422:\tlearn: 0.1487712\ttotal: 433ms\tremaining: 591ms\n",
      "423:\tlearn: 0.1485961\ttotal: 434ms\tremaining: 590ms\n",
      "424:\tlearn: 0.1483473\ttotal: 435ms\tremaining: 589ms\n",
      "425:\tlearn: 0.1481801\ttotal: 436ms\tremaining: 588ms\n",
      "426:\tlearn: 0.1479708\ttotal: 437ms\tremaining: 586ms\n",
      "427:\tlearn: 0.1477732\ttotal: 438ms\tremaining: 585ms\n",
      "428:\tlearn: 0.1477029\ttotal: 439ms\tremaining: 584ms\n",
      "429:\tlearn: 0.1475288\ttotal: 440ms\tremaining: 583ms\n",
      "430:\tlearn: 0.1473800\ttotal: 441ms\tremaining: 582ms\n",
      "431:\tlearn: 0.1471291\ttotal: 442ms\tremaining: 581ms\n",
      "432:\tlearn: 0.1469233\ttotal: 443ms\tremaining: 580ms\n",
      "433:\tlearn: 0.1467463\ttotal: 444ms\tremaining: 579ms\n",
      "434:\tlearn: 0.1464093\ttotal: 445ms\tremaining: 578ms\n",
      "435:\tlearn: 0.1461885\ttotal: 446ms\tremaining: 577ms\n",
      "436:\tlearn: 0.1458861\ttotal: 447ms\tremaining: 576ms\n",
      "437:\tlearn: 0.1457341\ttotal: 448ms\tremaining: 575ms\n",
      "438:\tlearn: 0.1456614\ttotal: 449ms\tremaining: 574ms\n",
      "439:\tlearn: 0.1454578\ttotal: 450ms\tremaining: 573ms\n",
      "440:\tlearn: 0.1454257\ttotal: 451ms\tremaining: 571ms\n",
      "441:\tlearn: 0.1451471\ttotal: 452ms\tremaining: 570ms\n",
      "442:\tlearn: 0.1449098\ttotal: 453ms\tremaining: 569ms\n",
      "443:\tlearn: 0.1447119\ttotal: 454ms\tremaining: 568ms\n",
      "444:\tlearn: 0.1444174\ttotal: 455ms\tremaining: 568ms\n",
      "445:\tlearn: 0.1441048\ttotal: 456ms\tremaining: 567ms\n",
      "446:\tlearn: 0.1439058\ttotal: 457ms\tremaining: 566ms\n",
      "447:\tlearn: 0.1437984\ttotal: 458ms\tremaining: 564ms\n",
      "448:\tlearn: 0.1436048\ttotal: 459ms\tremaining: 563ms\n",
      "449:\tlearn: 0.1434713\ttotal: 460ms\tremaining: 562ms\n",
      "450:\tlearn: 0.1431744\ttotal: 461ms\tremaining: 561ms\n",
      "451:\tlearn: 0.1429357\ttotal: 462ms\tremaining: 560ms\n",
      "452:\tlearn: 0.1426801\ttotal: 463ms\tremaining: 559ms\n",
      "453:\tlearn: 0.1424815\ttotal: 464ms\tremaining: 558ms\n",
      "454:\tlearn: 0.1422270\ttotal: 465ms\tremaining: 557ms\n",
      "455:\tlearn: 0.1421154\ttotal: 466ms\tremaining: 556ms\n",
      "456:\tlearn: 0.1419050\ttotal: 467ms\tremaining: 554ms\n",
      "457:\tlearn: 0.1418202\ttotal: 468ms\tremaining: 554ms\n",
      "458:\tlearn: 0.1416088\ttotal: 469ms\tremaining: 553ms\n",
      "459:\tlearn: 0.1415668\ttotal: 470ms\tremaining: 552ms\n",
      "460:\tlearn: 0.1414088\ttotal: 471ms\tremaining: 551ms\n",
      "461:\tlearn: 0.1413686\ttotal: 472ms\tremaining: 550ms\n",
      "462:\tlearn: 0.1413293\ttotal: 473ms\tremaining: 549ms\n",
      "463:\tlearn: 0.1411573\ttotal: 474ms\tremaining: 548ms\n",
      "464:\tlearn: 0.1410195\ttotal: 475ms\tremaining: 547ms\n",
      "465:\tlearn: 0.1408250\ttotal: 476ms\tremaining: 546ms\n",
      "466:\tlearn: 0.1405577\ttotal: 477ms\tremaining: 545ms\n",
      "467:\tlearn: 0.1403189\ttotal: 478ms\tremaining: 544ms\n",
      "468:\tlearn: 0.1400969\ttotal: 479ms\tremaining: 543ms\n",
      "469:\tlearn: 0.1398709\ttotal: 480ms\tremaining: 542ms\n",
      "470:\tlearn: 0.1396290\ttotal: 481ms\tremaining: 541ms\n",
      "471:\tlearn: 0.1393662\ttotal: 482ms\tremaining: 540ms\n",
      "472:\tlearn: 0.1392417\ttotal: 483ms\tremaining: 539ms\n",
      "473:\tlearn: 0.1390442\ttotal: 484ms\tremaining: 538ms\n",
      "474:\tlearn: 0.1389039\ttotal: 485ms\tremaining: 537ms\n",
      "475:\tlearn: 0.1387311\ttotal: 486ms\tremaining: 535ms\n",
      "476:\tlearn: 0.1385738\ttotal: 487ms\tremaining: 534ms\n",
      "477:\tlearn: 0.1383506\ttotal: 488ms\tremaining: 533ms\n",
      "478:\tlearn: 0.1382742\ttotal: 489ms\tremaining: 532ms\n",
      "479:\tlearn: 0.1380817\ttotal: 490ms\tremaining: 531ms\n",
      "480:\tlearn: 0.1379493\ttotal: 491ms\tremaining: 530ms\n",
      "481:\tlearn: 0.1376137\ttotal: 492ms\tremaining: 529ms\n",
      "482:\tlearn: 0.1374742\ttotal: 493ms\tremaining: 528ms\n",
      "483:\tlearn: 0.1372873\ttotal: 494ms\tremaining: 527ms\n",
      "484:\tlearn: 0.1369734\ttotal: 495ms\tremaining: 526ms\n",
      "485:\tlearn: 0.1369094\ttotal: 496ms\tremaining: 525ms\n",
      "486:\tlearn: 0.1366932\ttotal: 497ms\tremaining: 524ms\n",
      "487:\tlearn: 0.1364943\ttotal: 498ms\tremaining: 523ms\n",
      "488:\tlearn: 0.1362284\ttotal: 499ms\tremaining: 522ms\n",
      "489:\tlearn: 0.1359805\ttotal: 500ms\tremaining: 521ms\n",
      "490:\tlearn: 0.1357756\ttotal: 501ms\tremaining: 520ms\n",
      "491:\tlearn: 0.1354319\ttotal: 502ms\tremaining: 518ms\n",
      "492:\tlearn: 0.1351272\ttotal: 503ms\tremaining: 517ms\n",
      "493:\tlearn: 0.1349620\ttotal: 504ms\tremaining: 516ms\n",
      "494:\tlearn: 0.1348651\ttotal: 505ms\tremaining: 515ms\n",
      "495:\tlearn: 0.1347834\ttotal: 506ms\tremaining: 514ms\n",
      "496:\tlearn: 0.1345247\ttotal: 507ms\tremaining: 513ms\n",
      "497:\tlearn: 0.1344859\ttotal: 508ms\tremaining: 512ms\n",
      "498:\tlearn: 0.1343700\ttotal: 509ms\tremaining: 511ms\n",
      "499:\tlearn: 0.1341865\ttotal: 510ms\tremaining: 510ms\n",
      "500:\tlearn: 0.1340016\ttotal: 511ms\tremaining: 509ms\n",
      "501:\tlearn: 0.1338496\ttotal: 512ms\tremaining: 507ms\n",
      "502:\tlearn: 0.1336170\ttotal: 513ms\tremaining: 506ms\n",
      "503:\tlearn: 0.1334075\ttotal: 513ms\tremaining: 505ms\n",
      "504:\tlearn: 0.1331459\ttotal: 514ms\tremaining: 504ms\n",
      "505:\tlearn: 0.1330711\ttotal: 515ms\tremaining: 503ms\n",
      "506:\tlearn: 0.1330373\ttotal: 516ms\tremaining: 502ms\n",
      "507:\tlearn: 0.1328713\ttotal: 517ms\tremaining: 501ms\n",
      "508:\tlearn: 0.1328369\ttotal: 518ms\tremaining: 500ms\n",
      "509:\tlearn: 0.1327441\ttotal: 519ms\tremaining: 499ms\n",
      "510:\tlearn: 0.1325219\ttotal: 520ms\tremaining: 498ms\n",
      "511:\tlearn: 0.1322412\ttotal: 521ms\tremaining: 497ms\n",
      "512:\tlearn: 0.1321039\ttotal: 522ms\tremaining: 496ms\n",
      "513:\tlearn: 0.1319286\ttotal: 523ms\tremaining: 494ms\n",
      "514:\tlearn: 0.1316918\ttotal: 524ms\tremaining: 493ms\n",
      "515:\tlearn: 0.1314539\ttotal: 525ms\tremaining: 492ms\n",
      "516:\tlearn: 0.1311877\ttotal: 526ms\tremaining: 491ms\n",
      "517:\tlearn: 0.1310138\ttotal: 527ms\tremaining: 490ms\n",
      "518:\tlearn: 0.1308743\ttotal: 528ms\tremaining: 489ms\n",
      "519:\tlearn: 0.1306752\ttotal: 529ms\tremaining: 488ms\n",
      "520:\tlearn: 0.1306537\ttotal: 530ms\tremaining: 487ms\n",
      "521:\tlearn: 0.1305407\ttotal: 531ms\tremaining: 486ms\n",
      "522:\tlearn: 0.1303790\ttotal: 532ms\tremaining: 485ms\n",
      "523:\tlearn: 0.1302682\ttotal: 533ms\tremaining: 484ms\n",
      "524:\tlearn: 0.1300538\ttotal: 534ms\tremaining: 483ms\n",
      "525:\tlearn: 0.1299345\ttotal: 535ms\tremaining: 482ms\n",
      "526:\tlearn: 0.1296872\ttotal: 536ms\tremaining: 481ms\n",
      "527:\tlearn: 0.1294333\ttotal: 537ms\tremaining: 480ms\n",
      "528:\tlearn: 0.1291899\ttotal: 538ms\tremaining: 479ms\n",
      "529:\tlearn: 0.1290186\ttotal: 539ms\tremaining: 478ms\n",
      "530:\tlearn: 0.1289187\ttotal: 540ms\tremaining: 477ms\n",
      "531:\tlearn: 0.1288248\ttotal: 541ms\tremaining: 476ms\n",
      "532:\tlearn: 0.1285768\ttotal: 542ms\tremaining: 474ms\n",
      "533:\tlearn: 0.1284415\ttotal: 543ms\tremaining: 474ms\n",
      "534:\tlearn: 0.1283078\ttotal: 544ms\tremaining: 473ms\n",
      "535:\tlearn: 0.1282076\ttotal: 545ms\tremaining: 472ms\n",
      "536:\tlearn: 0.1281553\ttotal: 546ms\tremaining: 470ms\n",
      "537:\tlearn: 0.1279391\ttotal: 547ms\tremaining: 469ms\n",
      "538:\tlearn: 0.1277254\ttotal: 548ms\tremaining: 468ms\n",
      "539:\tlearn: 0.1275981\ttotal: 549ms\tremaining: 467ms\n",
      "540:\tlearn: 0.1274148\ttotal: 549ms\tremaining: 466ms\n",
      "541:\tlearn: 0.1271907\ttotal: 550ms\tremaining: 465ms\n",
      "542:\tlearn: 0.1271334\ttotal: 552ms\tremaining: 464ms\n",
      "543:\tlearn: 0.1270407\ttotal: 552ms\tremaining: 463ms\n",
      "544:\tlearn: 0.1269895\ttotal: 554ms\tremaining: 462ms\n",
      "545:\tlearn: 0.1269705\ttotal: 555ms\tremaining: 461ms\n",
      "546:\tlearn: 0.1268897\ttotal: 556ms\tremaining: 460ms\n",
      "547:\tlearn: 0.1267174\ttotal: 557ms\tremaining: 459ms\n",
      "548:\tlearn: 0.1267062\ttotal: 558ms\tremaining: 458ms\n",
      "549:\tlearn: 0.1265341\ttotal: 559ms\tremaining: 457ms\n",
      "550:\tlearn: 0.1263564\ttotal: 560ms\tremaining: 456ms\n",
      "551:\tlearn: 0.1262521\ttotal: 560ms\tremaining: 455ms\n",
      "552:\tlearn: 0.1261086\ttotal: 561ms\tremaining: 454ms\n",
      "553:\tlearn: 0.1260384\ttotal: 563ms\tremaining: 453ms\n",
      "554:\tlearn: 0.1259181\ttotal: 564ms\tremaining: 452ms\n",
      "555:\tlearn: 0.1258621\ttotal: 564ms\tremaining: 451ms\n",
      "556:\tlearn: 0.1257004\ttotal: 566ms\tremaining: 450ms\n",
      "557:\tlearn: 0.1256829\ttotal: 567ms\tremaining: 449ms\n",
      "558:\tlearn: 0.1255029\ttotal: 567ms\tremaining: 448ms\n",
      "559:\tlearn: 0.1253962\ttotal: 568ms\tremaining: 447ms\n",
      "560:\tlearn: 0.1251360\ttotal: 569ms\tremaining: 446ms\n",
      "561:\tlearn: 0.1249412\ttotal: 570ms\tremaining: 445ms\n",
      "562:\tlearn: 0.1248126\ttotal: 571ms\tremaining: 443ms\n",
      "563:\tlearn: 0.1247229\ttotal: 572ms\tremaining: 442ms\n",
      "564:\tlearn: 0.1246936\ttotal: 573ms\tremaining: 441ms\n",
      "565:\tlearn: 0.1245956\ttotal: 574ms\tremaining: 440ms\n",
      "566:\tlearn: 0.1244866\ttotal: 575ms\tremaining: 439ms\n",
      "567:\tlearn: 0.1243167\ttotal: 576ms\tremaining: 438ms\n"
     ]
    },
    {
     "name": "stdout",
     "output_type": "stream",
     "text": [
      "568:\tlearn: 0.1240422\ttotal: 577ms\tremaining: 437ms\n",
      "569:\tlearn: 0.1238067\ttotal: 578ms\tremaining: 436ms\n",
      "570:\tlearn: 0.1237207\ttotal: 579ms\tremaining: 435ms\n",
      "571:\tlearn: 0.1233953\ttotal: 581ms\tremaining: 434ms\n",
      "572:\tlearn: 0.1231932\ttotal: 581ms\tremaining: 433ms\n",
      "573:\tlearn: 0.1231608\ttotal: 582ms\tremaining: 432ms\n",
      "574:\tlearn: 0.1230569\ttotal: 583ms\tremaining: 431ms\n",
      "575:\tlearn: 0.1227992\ttotal: 584ms\tremaining: 430ms\n",
      "576:\tlearn: 0.1226193\ttotal: 585ms\tremaining: 429ms\n",
      "577:\tlearn: 0.1225073\ttotal: 586ms\tremaining: 428ms\n",
      "578:\tlearn: 0.1224280\ttotal: 587ms\tremaining: 427ms\n",
      "579:\tlearn: 0.1223097\ttotal: 588ms\tremaining: 426ms\n",
      "580:\tlearn: 0.1221618\ttotal: 589ms\tremaining: 425ms\n",
      "581:\tlearn: 0.1220971\ttotal: 591ms\tremaining: 424ms\n",
      "582:\tlearn: 0.1218525\ttotal: 591ms\tremaining: 423ms\n",
      "583:\tlearn: 0.1216825\ttotal: 593ms\tremaining: 422ms\n",
      "584:\tlearn: 0.1214452\ttotal: 594ms\tremaining: 421ms\n",
      "585:\tlearn: 0.1213671\ttotal: 595ms\tremaining: 420ms\n",
      "586:\tlearn: 0.1211432\ttotal: 596ms\tremaining: 419ms\n",
      "587:\tlearn: 0.1208980\ttotal: 597ms\tremaining: 418ms\n",
      "588:\tlearn: 0.1207684\ttotal: 598ms\tremaining: 417ms\n",
      "589:\tlearn: 0.1207122\ttotal: 599ms\tremaining: 416ms\n",
      "590:\tlearn: 0.1205141\ttotal: 600ms\tremaining: 415ms\n",
      "591:\tlearn: 0.1203915\ttotal: 601ms\tremaining: 414ms\n",
      "592:\tlearn: 0.1203676\ttotal: 603ms\tremaining: 414ms\n",
      "593:\tlearn: 0.1202562\ttotal: 605ms\tremaining: 413ms\n",
      "594:\tlearn: 0.1200249\ttotal: 606ms\tremaining: 412ms\n",
      "595:\tlearn: 0.1199020\ttotal: 607ms\tremaining: 411ms\n",
      "596:\tlearn: 0.1197888\ttotal: 608ms\tremaining: 410ms\n",
      "597:\tlearn: 0.1195120\ttotal: 609ms\tremaining: 409ms\n",
      "598:\tlearn: 0.1193096\ttotal: 610ms\tremaining: 408ms\n",
      "599:\tlearn: 0.1191616\ttotal: 611ms\tremaining: 407ms\n",
      "600:\tlearn: 0.1189958\ttotal: 612ms\tremaining: 406ms\n",
      "601:\tlearn: 0.1189026\ttotal: 613ms\tremaining: 405ms\n",
      "602:\tlearn: 0.1187287\ttotal: 614ms\tremaining: 404ms\n",
      "603:\tlearn: 0.1186408\ttotal: 615ms\tremaining: 403ms\n",
      "604:\tlearn: 0.1185828\ttotal: 616ms\tremaining: 402ms\n",
      "605:\tlearn: 0.1183733\ttotal: 617ms\tremaining: 401ms\n",
      "606:\tlearn: 0.1183229\ttotal: 618ms\tremaining: 400ms\n",
      "607:\tlearn: 0.1182784\ttotal: 619ms\tremaining: 399ms\n",
      "608:\tlearn: 0.1181070\ttotal: 620ms\tremaining: 398ms\n",
      "609:\tlearn: 0.1179734\ttotal: 621ms\tremaining: 397ms\n",
      "610:\tlearn: 0.1178070\ttotal: 622ms\tremaining: 396ms\n",
      "611:\tlearn: 0.1176626\ttotal: 623ms\tremaining: 395ms\n",
      "612:\tlearn: 0.1175724\ttotal: 624ms\tremaining: 394ms\n",
      "613:\tlearn: 0.1173597\ttotal: 625ms\tremaining: 393ms\n",
      "614:\tlearn: 0.1171936\ttotal: 626ms\tremaining: 392ms\n",
      "615:\tlearn: 0.1170673\ttotal: 627ms\tremaining: 391ms\n",
      "616:\tlearn: 0.1168948\ttotal: 628ms\tremaining: 390ms\n",
      "617:\tlearn: 0.1168168\ttotal: 630ms\tremaining: 389ms\n",
      "618:\tlearn: 0.1167859\ttotal: 630ms\tremaining: 388ms\n",
      "619:\tlearn: 0.1166418\ttotal: 631ms\tremaining: 387ms\n",
      "620:\tlearn: 0.1164584\ttotal: 632ms\tremaining: 386ms\n",
      "621:\tlearn: 0.1163259\ttotal: 633ms\tremaining: 385ms\n",
      "622:\tlearn: 0.1161517\ttotal: 635ms\tremaining: 384ms\n",
      "623:\tlearn: 0.1160057\ttotal: 636ms\tremaining: 383ms\n",
      "624:\tlearn: 0.1158523\ttotal: 637ms\tremaining: 382ms\n",
      "625:\tlearn: 0.1156877\ttotal: 638ms\tremaining: 381ms\n",
      "626:\tlearn: 0.1155033\ttotal: 639ms\tremaining: 380ms\n",
      "627:\tlearn: 0.1154837\ttotal: 640ms\tremaining: 379ms\n",
      "628:\tlearn: 0.1153577\ttotal: 641ms\tremaining: 378ms\n",
      "629:\tlearn: 0.1152262\ttotal: 642ms\tremaining: 377ms\n",
      "630:\tlearn: 0.1151168\ttotal: 643ms\tremaining: 376ms\n",
      "631:\tlearn: 0.1149391\ttotal: 644ms\tremaining: 375ms\n",
      "632:\tlearn: 0.1148649\ttotal: 645ms\tremaining: 374ms\n",
      "633:\tlearn: 0.1148359\ttotal: 646ms\tremaining: 373ms\n",
      "634:\tlearn: 0.1146364\ttotal: 646ms\tremaining: 372ms\n",
      "635:\tlearn: 0.1144122\ttotal: 647ms\tremaining: 371ms\n",
      "636:\tlearn: 0.1143647\ttotal: 649ms\tremaining: 370ms\n",
      "637:\tlearn: 0.1141677\ttotal: 650ms\tremaining: 369ms\n",
      "638:\tlearn: 0.1140525\ttotal: 651ms\tremaining: 368ms\n",
      "639:\tlearn: 0.1138600\ttotal: 652ms\tremaining: 367ms\n",
      "640:\tlearn: 0.1137176\ttotal: 653ms\tremaining: 366ms\n",
      "641:\tlearn: 0.1136240\ttotal: 654ms\tremaining: 365ms\n",
      "642:\tlearn: 0.1134360\ttotal: 655ms\tremaining: 363ms\n",
      "643:\tlearn: 0.1134129\ttotal: 655ms\tremaining: 362ms\n",
      "644:\tlearn: 0.1131900\ttotal: 656ms\tremaining: 361ms\n",
      "645:\tlearn: 0.1130014\ttotal: 657ms\tremaining: 360ms\n",
      "646:\tlearn: 0.1128326\ttotal: 658ms\tremaining: 359ms\n",
      "647:\tlearn: 0.1128026\ttotal: 660ms\tremaining: 358ms\n",
      "648:\tlearn: 0.1127904\ttotal: 661ms\tremaining: 357ms\n",
      "649:\tlearn: 0.1127203\ttotal: 662ms\tremaining: 356ms\n",
      "650:\tlearn: 0.1125728\ttotal: 663ms\tremaining: 355ms\n",
      "651:\tlearn: 0.1124875\ttotal: 664ms\tremaining: 354ms\n",
      "652:\tlearn: 0.1122919\ttotal: 665ms\tremaining: 353ms\n",
      "653:\tlearn: 0.1122553\ttotal: 666ms\tremaining: 352ms\n",
      "654:\tlearn: 0.1121294\ttotal: 667ms\tremaining: 351ms\n",
      "655:\tlearn: 0.1119800\ttotal: 668ms\tremaining: 350ms\n",
      "656:\tlearn: 0.1118679\ttotal: 669ms\tremaining: 349ms\n",
      "657:\tlearn: 0.1118444\ttotal: 670ms\tremaining: 348ms\n",
      "658:\tlearn: 0.1117561\ttotal: 671ms\tremaining: 347ms\n",
      "659:\tlearn: 0.1115806\ttotal: 672ms\tremaining: 346ms\n",
      "660:\tlearn: 0.1113692\ttotal: 672ms\tremaining: 345ms\n",
      "661:\tlearn: 0.1112731\ttotal: 673ms\tremaining: 344ms\n",
      "662:\tlearn: 0.1111356\ttotal: 674ms\tremaining: 343ms\n",
      "663:\tlearn: 0.1110794\ttotal: 675ms\tremaining: 342ms\n",
      "664:\tlearn: 0.1108744\ttotal: 676ms\tremaining: 341ms\n",
      "665:\tlearn: 0.1107442\ttotal: 677ms\tremaining: 340ms\n",
      "666:\tlearn: 0.1105827\ttotal: 678ms\tremaining: 339ms\n",
      "667:\tlearn: 0.1105040\ttotal: 679ms\tremaining: 338ms\n",
      "668:\tlearn: 0.1104434\ttotal: 680ms\tremaining: 337ms\n",
      "669:\tlearn: 0.1104270\ttotal: 681ms\tremaining: 336ms\n",
      "670:\tlearn: 0.1102774\ttotal: 682ms\tremaining: 335ms\n",
      "671:\tlearn: 0.1100896\ttotal: 683ms\tremaining: 334ms\n",
      "672:\tlearn: 0.1100770\ttotal: 684ms\tremaining: 333ms\n",
      "673:\tlearn: 0.1100615\ttotal: 685ms\tremaining: 332ms\n",
      "674:\tlearn: 0.1100549\ttotal: 686ms\tremaining: 330ms\n",
      "675:\tlearn: 0.1099248\ttotal: 687ms\tremaining: 329ms\n",
      "676:\tlearn: 0.1098263\ttotal: 688ms\tremaining: 328ms\n",
      "677:\tlearn: 0.1096395\ttotal: 689ms\tremaining: 327ms\n",
      "678:\tlearn: 0.1096248\ttotal: 690ms\tremaining: 326ms\n",
      "679:\tlearn: 0.1094756\ttotal: 691ms\tremaining: 325ms\n",
      "680:\tlearn: 0.1093581\ttotal: 692ms\tremaining: 324ms\n",
      "681:\tlearn: 0.1091707\ttotal: 693ms\tremaining: 323ms\n",
      "682:\tlearn: 0.1090459\ttotal: 694ms\tremaining: 322ms\n",
      "683:\tlearn: 0.1090095\ttotal: 695ms\tremaining: 321ms\n",
      "684:\tlearn: 0.1088753\ttotal: 697ms\tremaining: 320ms\n",
      "685:\tlearn: 0.1087602\ttotal: 698ms\tremaining: 319ms\n",
      "686:\tlearn: 0.1087019\ttotal: 699ms\tremaining: 318ms\n",
      "687:\tlearn: 0.1085437\ttotal: 700ms\tremaining: 318ms\n",
      "688:\tlearn: 0.1083280\ttotal: 701ms\tremaining: 317ms\n",
      "689:\tlearn: 0.1082483\ttotal: 702ms\tremaining: 316ms\n",
      "690:\tlearn: 0.1081721\ttotal: 703ms\tremaining: 315ms\n",
      "691:\tlearn: 0.1080580\ttotal: 704ms\tremaining: 314ms\n",
      "692:\tlearn: 0.1079027\ttotal: 705ms\tremaining: 313ms\n",
      "693:\tlearn: 0.1077629\ttotal: 706ms\tremaining: 311ms\n",
      "694:\tlearn: 0.1075692\ttotal: 707ms\tremaining: 310ms\n",
      "695:\tlearn: 0.1074023\ttotal: 708ms\tremaining: 309ms\n",
      "696:\tlearn: 0.1072941\ttotal: 709ms\tremaining: 308ms\n",
      "697:\tlearn: 0.1071937\ttotal: 710ms\tremaining: 307ms\n",
      "698:\tlearn: 0.1071369\ttotal: 711ms\tremaining: 306ms\n",
      "699:\tlearn: 0.1069366\ttotal: 712ms\tremaining: 305ms\n",
      "700:\tlearn: 0.1067756\ttotal: 713ms\tremaining: 304ms\n",
      "701:\tlearn: 0.1067627\ttotal: 715ms\tremaining: 303ms\n",
      "702:\tlearn: 0.1066327\ttotal: 716ms\tremaining: 302ms\n",
      "703:\tlearn: 0.1064000\ttotal: 717ms\tremaining: 301ms\n",
      "704:\tlearn: 0.1063943\ttotal: 718ms\tremaining: 300ms\n",
      "705:\tlearn: 0.1062780\ttotal: 719ms\tremaining: 299ms\n",
      "706:\tlearn: 0.1061612\ttotal: 721ms\tremaining: 299ms\n",
      "707:\tlearn: 0.1059604\ttotal: 722ms\tremaining: 298ms\n",
      "708:\tlearn: 0.1058592\ttotal: 723ms\tremaining: 297ms\n",
      "709:\tlearn: 0.1057809\ttotal: 724ms\tremaining: 296ms\n",
      "710:\tlearn: 0.1055992\ttotal: 725ms\tremaining: 295ms\n",
      "711:\tlearn: 0.1055461\ttotal: 726ms\tremaining: 294ms\n",
      "712:\tlearn: 0.1053602\ttotal: 727ms\tremaining: 293ms\n",
      "713:\tlearn: 0.1051996\ttotal: 728ms\tremaining: 292ms\n",
      "714:\tlearn: 0.1050240\ttotal: 729ms\tremaining: 291ms\n",
      "715:\tlearn: 0.1048573\ttotal: 730ms\tremaining: 290ms\n",
      "716:\tlearn: 0.1047822\ttotal: 731ms\tremaining: 289ms\n",
      "717:\tlearn: 0.1046310\ttotal: 732ms\tremaining: 288ms\n",
      "718:\tlearn: 0.1044907\ttotal: 733ms\tremaining: 287ms\n",
      "719:\tlearn: 0.1043172\ttotal: 734ms\tremaining: 286ms\n",
      "720:\tlearn: 0.1041802\ttotal: 735ms\tremaining: 284ms\n",
      "721:\tlearn: 0.1040938\ttotal: 736ms\tremaining: 283ms\n",
      "722:\tlearn: 0.1040751\ttotal: 737ms\tremaining: 282ms\n",
      "723:\tlearn: 0.1039841\ttotal: 738ms\tremaining: 281ms\n",
      "724:\tlearn: 0.1038227\ttotal: 739ms\tremaining: 280ms\n",
      "725:\tlearn: 0.1036149\ttotal: 740ms\tremaining: 279ms\n",
      "726:\tlearn: 0.1034725\ttotal: 741ms\tremaining: 278ms\n",
      "727:\tlearn: 0.1033982\ttotal: 742ms\tremaining: 277ms\n",
      "728:\tlearn: 0.1033190\ttotal: 743ms\tremaining: 276ms\n",
      "729:\tlearn: 0.1031344\ttotal: 744ms\tremaining: 275ms\n",
      "730:\tlearn: 0.1029597\ttotal: 745ms\tremaining: 274ms\n",
      "731:\tlearn: 0.1028865\ttotal: 746ms\tremaining: 273ms\n",
      "732:\tlearn: 0.1027919\ttotal: 747ms\tremaining: 272ms\n",
      "733:\tlearn: 0.1026865\ttotal: 748ms\tremaining: 271ms\n",
      "734:\tlearn: 0.1026343\ttotal: 749ms\tremaining: 270ms\n",
      "735:\tlearn: 0.1024474\ttotal: 750ms\tremaining: 269ms\n",
      "736:\tlearn: 0.1023135\ttotal: 751ms\tremaining: 268ms\n",
      "737:\tlearn: 0.1021553\ttotal: 752ms\tremaining: 267ms\n",
      "738:\tlearn: 0.1020967\ttotal: 753ms\tremaining: 266ms\n",
      "739:\tlearn: 0.1019712\ttotal: 754ms\tremaining: 265ms\n",
      "740:\tlearn: 0.1018792\ttotal: 755ms\tremaining: 264ms\n",
      "741:\tlearn: 0.1017425\ttotal: 756ms\tremaining: 263ms\n",
      "742:\tlearn: 0.1016122\ttotal: 757ms\tremaining: 262ms\n",
      "743:\tlearn: 0.1014057\ttotal: 758ms\tremaining: 261ms\n",
      "744:\tlearn: 0.1012744\ttotal: 759ms\tremaining: 260ms\n",
      "745:\tlearn: 0.1012677\ttotal: 760ms\tremaining: 259ms\n",
      "746:\tlearn: 0.1011374\ttotal: 761ms\tremaining: 258ms\n",
      "747:\tlearn: 0.1009814\ttotal: 762ms\tremaining: 257ms\n",
      "748:\tlearn: 0.1008682\ttotal: 763ms\tremaining: 256ms\n",
      "749:\tlearn: 0.1007059\ttotal: 765ms\tremaining: 255ms\n",
      "750:\tlearn: 0.1006035\ttotal: 766ms\tremaining: 254ms\n",
      "751:\tlearn: 0.1004867\ttotal: 767ms\tremaining: 253ms\n",
      "752:\tlearn: 0.1003741\ttotal: 768ms\tremaining: 252ms\n"
     ]
    },
    {
     "name": "stdout",
     "output_type": "stream",
     "text": [
      "753:\tlearn: 0.1002555\ttotal: 770ms\tremaining: 251ms\n",
      "754:\tlearn: 0.1001009\ttotal: 771ms\tremaining: 250ms\n",
      "755:\tlearn: 0.1000000\ttotal: 772ms\tremaining: 249ms\n",
      "756:\tlearn: 0.0998856\ttotal: 773ms\tremaining: 248ms\n",
      "757:\tlearn: 0.0997651\ttotal: 775ms\tremaining: 247ms\n",
      "758:\tlearn: 0.0997424\ttotal: 776ms\tremaining: 246ms\n",
      "759:\tlearn: 0.0996200\ttotal: 777ms\tremaining: 245ms\n",
      "760:\tlearn: 0.0994365\ttotal: 778ms\tremaining: 244ms\n",
      "761:\tlearn: 0.0992682\ttotal: 779ms\tremaining: 243ms\n",
      "762:\tlearn: 0.0991313\ttotal: 780ms\tremaining: 242ms\n",
      "763:\tlearn: 0.0990572\ttotal: 781ms\tremaining: 241ms\n",
      "764:\tlearn: 0.0990399\ttotal: 782ms\tremaining: 240ms\n",
      "765:\tlearn: 0.0989685\ttotal: 783ms\tremaining: 239ms\n",
      "766:\tlearn: 0.0987889\ttotal: 784ms\tremaining: 238ms\n",
      "767:\tlearn: 0.0986209\ttotal: 785ms\tremaining: 237ms\n",
      "768:\tlearn: 0.0985105\ttotal: 786ms\tremaining: 236ms\n",
      "769:\tlearn: 0.0983734\ttotal: 787ms\tremaining: 235ms\n",
      "770:\tlearn: 0.0982626\ttotal: 788ms\tremaining: 234ms\n",
      "771:\tlearn: 0.0981704\ttotal: 789ms\tremaining: 233ms\n",
      "772:\tlearn: 0.0979904\ttotal: 790ms\tremaining: 232ms\n",
      "773:\tlearn: 0.0978889\ttotal: 791ms\tremaining: 231ms\n",
      "774:\tlearn: 0.0978032\ttotal: 792ms\tremaining: 230ms\n",
      "775:\tlearn: 0.0976697\ttotal: 794ms\tremaining: 229ms\n",
      "776:\tlearn: 0.0975303\ttotal: 795ms\tremaining: 228ms\n",
      "777:\tlearn: 0.0974171\ttotal: 796ms\tremaining: 227ms\n",
      "778:\tlearn: 0.0973009\ttotal: 797ms\tremaining: 226ms\n",
      "779:\tlearn: 0.0972022\ttotal: 798ms\tremaining: 225ms\n",
      "780:\tlearn: 0.0970575\ttotal: 799ms\tremaining: 224ms\n",
      "781:\tlearn: 0.0969529\ttotal: 800ms\tremaining: 223ms\n",
      "782:\tlearn: 0.0968982\ttotal: 802ms\tremaining: 222ms\n",
      "783:\tlearn: 0.0967815\ttotal: 803ms\tremaining: 221ms\n",
      "784:\tlearn: 0.0966458\ttotal: 804ms\tremaining: 220ms\n",
      "785:\tlearn: 0.0965797\ttotal: 805ms\tremaining: 219ms\n",
      "786:\tlearn: 0.0964555\ttotal: 806ms\tremaining: 218ms\n",
      "787:\tlearn: 0.0963030\ttotal: 808ms\tremaining: 217ms\n",
      "788:\tlearn: 0.0961809\ttotal: 809ms\tremaining: 216ms\n",
      "789:\tlearn: 0.0960645\ttotal: 810ms\tremaining: 215ms\n",
      "790:\tlearn: 0.0959162\ttotal: 811ms\tremaining: 214ms\n",
      "791:\tlearn: 0.0957808\ttotal: 812ms\tremaining: 213ms\n",
      "792:\tlearn: 0.0957731\ttotal: 813ms\tremaining: 212ms\n",
      "793:\tlearn: 0.0956424\ttotal: 814ms\tremaining: 211ms\n",
      "794:\tlearn: 0.0956247\ttotal: 815ms\tremaining: 210ms\n",
      "795:\tlearn: 0.0955202\ttotal: 816ms\tremaining: 209ms\n",
      "796:\tlearn: 0.0953437\ttotal: 817ms\tremaining: 208ms\n",
      "797:\tlearn: 0.0952268\ttotal: 818ms\tremaining: 207ms\n",
      "798:\tlearn: 0.0951098\ttotal: 819ms\tremaining: 206ms\n",
      "799:\tlearn: 0.0949570\ttotal: 820ms\tremaining: 205ms\n",
      "800:\tlearn: 0.0948219\ttotal: 821ms\tremaining: 204ms\n",
      "801:\tlearn: 0.0947261\ttotal: 823ms\tremaining: 203ms\n",
      "802:\tlearn: 0.0945884\ttotal: 824ms\tremaining: 202ms\n",
      "803:\tlearn: 0.0944747\ttotal: 825ms\tremaining: 201ms\n",
      "804:\tlearn: 0.0943656\ttotal: 826ms\tremaining: 200ms\n",
      "805:\tlearn: 0.0942647\ttotal: 828ms\tremaining: 199ms\n",
      "806:\tlearn: 0.0942417\ttotal: 829ms\tremaining: 198ms\n",
      "807:\tlearn: 0.0940733\ttotal: 830ms\tremaining: 197ms\n",
      "808:\tlearn: 0.0939328\ttotal: 831ms\tremaining: 196ms\n",
      "809:\tlearn: 0.0938472\ttotal: 832ms\tremaining: 195ms\n",
      "810:\tlearn: 0.0937499\ttotal: 833ms\tremaining: 194ms\n",
      "811:\tlearn: 0.0936012\ttotal: 834ms\tremaining: 193ms\n",
      "812:\tlearn: 0.0934514\ttotal: 835ms\tremaining: 192ms\n",
      "813:\tlearn: 0.0933645\ttotal: 836ms\tremaining: 191ms\n",
      "814:\tlearn: 0.0932100\ttotal: 837ms\tremaining: 190ms\n",
      "815:\tlearn: 0.0930588\ttotal: 838ms\tremaining: 189ms\n",
      "816:\tlearn: 0.0929536\ttotal: 840ms\tremaining: 188ms\n",
      "817:\tlearn: 0.0928963\ttotal: 841ms\tremaining: 187ms\n",
      "818:\tlearn: 0.0928273\ttotal: 842ms\tremaining: 186ms\n",
      "819:\tlearn: 0.0926437\ttotal: 842ms\tremaining: 185ms\n",
      "820:\tlearn: 0.0924956\ttotal: 843ms\tremaining: 184ms\n",
      "821:\tlearn: 0.0924328\ttotal: 845ms\tremaining: 183ms\n",
      "822:\tlearn: 0.0923278\ttotal: 845ms\tremaining: 182ms\n",
      "823:\tlearn: 0.0921766\ttotal: 847ms\tremaining: 181ms\n",
      "824:\tlearn: 0.0921058\ttotal: 848ms\tremaining: 180ms\n",
      "825:\tlearn: 0.0920174\ttotal: 849ms\tremaining: 179ms\n",
      "826:\tlearn: 0.0919592\ttotal: 849ms\tremaining: 178ms\n",
      "827:\tlearn: 0.0918695\ttotal: 850ms\tremaining: 177ms\n",
      "828:\tlearn: 0.0918127\ttotal: 851ms\tremaining: 176ms\n",
      "829:\tlearn: 0.0916439\ttotal: 853ms\tremaining: 175ms\n",
      "830:\tlearn: 0.0915927\ttotal: 853ms\tremaining: 174ms\n",
      "831:\tlearn: 0.0915303\ttotal: 855ms\tremaining: 173ms\n",
      "832:\tlearn: 0.0914257\ttotal: 855ms\tremaining: 172ms\n",
      "833:\tlearn: 0.0913656\ttotal: 856ms\tremaining: 170ms\n",
      "834:\tlearn: 0.0912319\ttotal: 857ms\tremaining: 169ms\n",
      "835:\tlearn: 0.0911737\ttotal: 858ms\tremaining: 168ms\n",
      "836:\tlearn: 0.0910953\ttotal: 859ms\tremaining: 167ms\n",
      "837:\tlearn: 0.0910110\ttotal: 860ms\tremaining: 166ms\n",
      "838:\tlearn: 0.0909546\ttotal: 861ms\tremaining: 165ms\n",
      "839:\tlearn: 0.0907962\ttotal: 862ms\tremaining: 164ms\n",
      "840:\tlearn: 0.0907828\ttotal: 863ms\tremaining: 163ms\n",
      "841:\tlearn: 0.0906675\ttotal: 864ms\tremaining: 162ms\n",
      "842:\tlearn: 0.0906018\ttotal: 865ms\tremaining: 161ms\n",
      "843:\tlearn: 0.0904597\ttotal: 866ms\tremaining: 160ms\n",
      "844:\tlearn: 0.0903747\ttotal: 867ms\tremaining: 159ms\n",
      "845:\tlearn: 0.0902496\ttotal: 867ms\tremaining: 158ms\n",
      "846:\tlearn: 0.0902257\ttotal: 869ms\tremaining: 157ms\n",
      "847:\tlearn: 0.0901797\ttotal: 869ms\tremaining: 156ms\n",
      "848:\tlearn: 0.0900837\ttotal: 870ms\tremaining: 155ms\n",
      "849:\tlearn: 0.0900099\ttotal: 871ms\tremaining: 154ms\n",
      "850:\tlearn: 0.0899589\ttotal: 872ms\tremaining: 153ms\n",
      "851:\tlearn: 0.0898913\ttotal: 873ms\tremaining: 152ms\n",
      "852:\tlearn: 0.0897603\ttotal: 874ms\tremaining: 151ms\n",
      "853:\tlearn: 0.0896848\ttotal: 875ms\tremaining: 150ms\n",
      "854:\tlearn: 0.0896075\ttotal: 876ms\tremaining: 149ms\n",
      "855:\tlearn: 0.0894928\ttotal: 877ms\tremaining: 148ms\n",
      "856:\tlearn: 0.0894450\ttotal: 878ms\tremaining: 146ms\n",
      "857:\tlearn: 0.0893948\ttotal: 879ms\tremaining: 145ms\n",
      "858:\tlearn: 0.0893830\ttotal: 880ms\tremaining: 144ms\n",
      "859:\tlearn: 0.0892961\ttotal: 881ms\tremaining: 143ms\n",
      "860:\tlearn: 0.0891376\ttotal: 882ms\tremaining: 142ms\n",
      "861:\tlearn: 0.0890291\ttotal: 883ms\tremaining: 141ms\n",
      "862:\tlearn: 0.0889341\ttotal: 884ms\tremaining: 140ms\n",
      "863:\tlearn: 0.0888381\ttotal: 885ms\tremaining: 139ms\n",
      "864:\tlearn: 0.0887634\ttotal: 886ms\tremaining: 138ms\n",
      "865:\tlearn: 0.0886450\ttotal: 887ms\tremaining: 137ms\n",
      "866:\tlearn: 0.0885472\ttotal: 888ms\tremaining: 136ms\n",
      "867:\tlearn: 0.0884751\ttotal: 890ms\tremaining: 135ms\n",
      "868:\tlearn: 0.0883378\ttotal: 891ms\tremaining: 134ms\n",
      "869:\tlearn: 0.0882642\ttotal: 892ms\tremaining: 133ms\n",
      "870:\tlearn: 0.0881258\ttotal: 893ms\tremaining: 132ms\n",
      "871:\tlearn: 0.0880235\ttotal: 893ms\tremaining: 131ms\n",
      "872:\tlearn: 0.0879383\ttotal: 894ms\tremaining: 130ms\n",
      "873:\tlearn: 0.0878486\ttotal: 896ms\tremaining: 129ms\n",
      "874:\tlearn: 0.0877570\ttotal: 896ms\tremaining: 128ms\n",
      "875:\tlearn: 0.0876460\ttotal: 897ms\tremaining: 127ms\n",
      "876:\tlearn: 0.0875533\ttotal: 898ms\tremaining: 126ms\n",
      "877:\tlearn: 0.0874561\ttotal: 899ms\tremaining: 125ms\n",
      "878:\tlearn: 0.0873821\ttotal: 901ms\tremaining: 124ms\n",
      "879:\tlearn: 0.0872434\ttotal: 902ms\tremaining: 123ms\n",
      "880:\tlearn: 0.0871065\ttotal: 903ms\tremaining: 122ms\n",
      "881:\tlearn: 0.0869761\ttotal: 904ms\tremaining: 121ms\n",
      "882:\tlearn: 0.0868780\ttotal: 904ms\tremaining: 120ms\n",
      "883:\tlearn: 0.0868283\ttotal: 905ms\tremaining: 119ms\n",
      "884:\tlearn: 0.0867414\ttotal: 906ms\tremaining: 118ms\n",
      "885:\tlearn: 0.0866413\ttotal: 907ms\tremaining: 117ms\n",
      "886:\tlearn: 0.0865251\ttotal: 909ms\tremaining: 116ms\n",
      "887:\tlearn: 0.0863871\ttotal: 909ms\tremaining: 115ms\n",
      "888:\tlearn: 0.0862561\ttotal: 910ms\tremaining: 114ms\n",
      "889:\tlearn: 0.0862053\ttotal: 911ms\tremaining: 113ms\n",
      "890:\tlearn: 0.0861155\ttotal: 912ms\tremaining: 112ms\n",
      "891:\tlearn: 0.0859896\ttotal: 913ms\tremaining: 111ms\n",
      "892:\tlearn: 0.0859265\ttotal: 914ms\tremaining: 110ms\n",
      "893:\tlearn: 0.0857853\ttotal: 915ms\tremaining: 109ms\n",
      "894:\tlearn: 0.0857461\ttotal: 916ms\tremaining: 108ms\n",
      "895:\tlearn: 0.0856804\ttotal: 917ms\tremaining: 106ms\n",
      "896:\tlearn: 0.0856311\ttotal: 918ms\tremaining: 105ms\n",
      "897:\tlearn: 0.0854795\ttotal: 919ms\tremaining: 104ms\n",
      "898:\tlearn: 0.0853604\ttotal: 920ms\tremaining: 103ms\n",
      "899:\tlearn: 0.0852618\ttotal: 921ms\tremaining: 102ms\n",
      "900:\tlearn: 0.0852351\ttotal: 922ms\tremaining: 101ms\n",
      "901:\tlearn: 0.0851076\ttotal: 923ms\tremaining: 100ms\n",
      "902:\tlearn: 0.0850750\ttotal: 924ms\tremaining: 99.3ms\n",
      "903:\tlearn: 0.0849726\ttotal: 925ms\tremaining: 98.2ms\n",
      "904:\tlearn: 0.0848725\ttotal: 926ms\tremaining: 97.2ms\n",
      "905:\tlearn: 0.0847817\ttotal: 927ms\tremaining: 96.2ms\n",
      "906:\tlearn: 0.0846817\ttotal: 928ms\tremaining: 95.2ms\n",
      "907:\tlearn: 0.0845909\ttotal: 929ms\tremaining: 94.1ms\n",
      "908:\tlearn: 0.0845176\ttotal: 930ms\tremaining: 93.1ms\n",
      "909:\tlearn: 0.0844415\ttotal: 931ms\tremaining: 92.1ms\n",
      "910:\tlearn: 0.0843716\ttotal: 932ms\tremaining: 91ms\n",
      "911:\tlearn: 0.0842571\ttotal: 933ms\tremaining: 90ms\n",
      "912:\tlearn: 0.0842269\ttotal: 934ms\tremaining: 89ms\n",
      "913:\tlearn: 0.0841561\ttotal: 935ms\tremaining: 87.9ms\n",
      "914:\tlearn: 0.0840334\ttotal: 936ms\tremaining: 86.9ms\n",
      "915:\tlearn: 0.0839466\ttotal: 937ms\tremaining: 85.9ms\n",
      "916:\tlearn: 0.0838740\ttotal: 938ms\tremaining: 84.9ms\n",
      "917:\tlearn: 0.0838695\ttotal: 939ms\tremaining: 83.8ms\n",
      "918:\tlearn: 0.0837949\ttotal: 940ms\tremaining: 82.8ms\n",
      "919:\tlearn: 0.0836803\ttotal: 940ms\tremaining: 81.8ms\n",
      "920:\tlearn: 0.0836068\ttotal: 942ms\tremaining: 80.8ms\n",
      "921:\tlearn: 0.0834964\ttotal: 943ms\tremaining: 79.7ms\n",
      "922:\tlearn: 0.0833961\ttotal: 943ms\tremaining: 78.7ms\n",
      "923:\tlearn: 0.0832796\ttotal: 944ms\tremaining: 77.7ms\n",
      "924:\tlearn: 0.0832000\ttotal: 946ms\tremaining: 76.7ms\n",
      "925:\tlearn: 0.0831471\ttotal: 947ms\tremaining: 75.7ms\n",
      "926:\tlearn: 0.0830722\ttotal: 948ms\tremaining: 74.7ms\n",
      "927:\tlearn: 0.0829274\ttotal: 949ms\tremaining: 73.6ms\n",
      "928:\tlearn: 0.0828302\ttotal: 950ms\tremaining: 72.6ms\n",
      "929:\tlearn: 0.0827658\ttotal: 951ms\tremaining: 71.6ms\n",
      "930:\tlearn: 0.0826845\ttotal: 952ms\tremaining: 70.5ms\n",
      "931:\tlearn: 0.0825818\ttotal: 953ms\tremaining: 69.5ms\n",
      "932:\tlearn: 0.0824679\ttotal: 954ms\tremaining: 68.5ms\n",
      "933:\tlearn: 0.0823659\ttotal: 955ms\tremaining: 67.5ms\n",
      "934:\tlearn: 0.0823167\ttotal: 956ms\tremaining: 66.4ms\n",
      "935:\tlearn: 0.0823129\ttotal: 957ms\tremaining: 65.4ms\n",
      "936:\tlearn: 0.0822755\ttotal: 958ms\tremaining: 64.4ms\n",
      "937:\tlearn: 0.0821923\ttotal: 959ms\tremaining: 63.4ms\n",
      "938:\tlearn: 0.0820927\ttotal: 960ms\tremaining: 62.3ms\n",
      "939:\tlearn: 0.0820124\ttotal: 961ms\tremaining: 61.3ms\n"
     ]
    },
    {
     "name": "stdout",
     "output_type": "stream",
     "text": [
      "940:\tlearn: 0.0820077\ttotal: 962ms\tremaining: 60.3ms\n",
      "941:\tlearn: 0.0819662\ttotal: 963ms\tremaining: 59.3ms\n",
      "942:\tlearn: 0.0818976\ttotal: 964ms\tremaining: 58.3ms\n",
      "943:\tlearn: 0.0818045\ttotal: 965ms\tremaining: 57.3ms\n",
      "944:\tlearn: 0.0817642\ttotal: 966ms\tremaining: 56.2ms\n",
      "945:\tlearn: 0.0817103\ttotal: 967ms\tremaining: 55.2ms\n",
      "946:\tlearn: 0.0815987\ttotal: 968ms\tremaining: 54.2ms\n",
      "947:\tlearn: 0.0814624\ttotal: 969ms\tremaining: 53.2ms\n",
      "948:\tlearn: 0.0813594\ttotal: 970ms\tremaining: 52.1ms\n",
      "949:\tlearn: 0.0813003\ttotal: 971ms\tremaining: 51.1ms\n",
      "950:\tlearn: 0.0812319\ttotal: 972ms\tremaining: 50.1ms\n",
      "951:\tlearn: 0.0811630\ttotal: 973ms\tremaining: 49.1ms\n",
      "952:\tlearn: 0.0811210\ttotal: 974ms\tremaining: 48ms\n",
      "953:\tlearn: 0.0810448\ttotal: 975ms\tremaining: 47ms\n",
      "954:\tlearn: 0.0808945\ttotal: 976ms\tremaining: 46ms\n",
      "955:\tlearn: 0.0808515\ttotal: 977ms\tremaining: 45ms\n",
      "956:\tlearn: 0.0808437\ttotal: 978ms\tremaining: 44ms\n",
      "957:\tlearn: 0.0807466\ttotal: 979ms\tremaining: 42.9ms\n",
      "958:\tlearn: 0.0806649\ttotal: 980ms\tremaining: 41.9ms\n",
      "959:\tlearn: 0.0805845\ttotal: 981ms\tremaining: 40.9ms\n",
      "960:\tlearn: 0.0805157\ttotal: 982ms\tremaining: 39.9ms\n",
      "961:\tlearn: 0.0804559\ttotal: 984ms\tremaining: 38.9ms\n",
      "962:\tlearn: 0.0804469\ttotal: 985ms\tremaining: 37.8ms\n",
      "963:\tlearn: 0.0803783\ttotal: 986ms\tremaining: 36.8ms\n",
      "964:\tlearn: 0.0803109\ttotal: 987ms\tremaining: 35.8ms\n",
      "965:\tlearn: 0.0802533\ttotal: 988ms\tremaining: 34.8ms\n",
      "966:\tlearn: 0.0801704\ttotal: 989ms\tremaining: 33.7ms\n",
      "967:\tlearn: 0.0801396\ttotal: 990ms\tremaining: 32.7ms\n",
      "968:\tlearn: 0.0799990\ttotal: 991ms\tremaining: 31.7ms\n",
      "969:\tlearn: 0.0799084\ttotal: 992ms\tremaining: 30.7ms\n",
      "970:\tlearn: 0.0797961\ttotal: 993ms\tremaining: 29.6ms\n",
      "971:\tlearn: 0.0797687\ttotal: 994ms\tremaining: 28.6ms\n",
      "972:\tlearn: 0.0797650\ttotal: 995ms\tremaining: 27.6ms\n",
      "973:\tlearn: 0.0796391\ttotal: 996ms\tremaining: 26.6ms\n",
      "974:\tlearn: 0.0796324\ttotal: 996ms\tremaining: 25.5ms\n",
      "975:\tlearn: 0.0795491\ttotal: 997ms\tremaining: 24.5ms\n",
      "976:\tlearn: 0.0794484\ttotal: 998ms\tremaining: 23.5ms\n",
      "977:\tlearn: 0.0794028\ttotal: 999ms\tremaining: 22.5ms\n",
      "978:\tlearn: 0.0793063\ttotal: 1s\tremaining: 21.5ms\n",
      "979:\tlearn: 0.0792152\ttotal: 1s\tremaining: 20.4ms\n",
      "980:\tlearn: 0.0792128\ttotal: 1s\tremaining: 19.4ms\n",
      "981:\tlearn: 0.0791032\ttotal: 1s\tremaining: 18.4ms\n",
      "982:\tlearn: 0.0790279\ttotal: 1s\tremaining: 17.4ms\n",
      "983:\tlearn: 0.0790244\ttotal: 1s\tremaining: 16.3ms\n",
      "984:\tlearn: 0.0790145\ttotal: 1.01s\tremaining: 15.3ms\n",
      "985:\tlearn: 0.0789049\ttotal: 1.01s\tremaining: 14.3ms\n",
      "986:\tlearn: 0.0788200\ttotal: 1.01s\tremaining: 13.3ms\n",
      "987:\tlearn: 0.0787328\ttotal: 1.01s\tremaining: 12.3ms\n",
      "988:\tlearn: 0.0786851\ttotal: 1.01s\tremaining: 11.2ms\n",
      "989:\tlearn: 0.0785413\ttotal: 1.01s\tremaining: 10.2ms\n",
      "990:\tlearn: 0.0784334\ttotal: 1.01s\tremaining: 9.19ms\n",
      "991:\tlearn: 0.0783715\ttotal: 1.01s\tremaining: 8.17ms\n",
      "992:\tlearn: 0.0783608\ttotal: 1.01s\tremaining: 7.15ms\n",
      "993:\tlearn: 0.0783483\ttotal: 1.01s\tremaining: 6.13ms\n",
      "994:\tlearn: 0.0782360\ttotal: 1.01s\tremaining: 5.1ms\n",
      "995:\tlearn: 0.0781586\ttotal: 1.02s\tremaining: 4.08ms\n",
      "996:\tlearn: 0.0781033\ttotal: 1.02s\tremaining: 3.06ms\n",
      "997:\tlearn: 0.0779937\ttotal: 1.02s\tremaining: 2.04ms\n",
      "998:\tlearn: 0.0779114\ttotal: 1.02s\tremaining: 1.02ms\n",
      "999:\tlearn: 0.0778478\ttotal: 1.02s\tremaining: 0us\n"
     ]
    },
    {
     "data": {
      "text/html": [
       "<div>\n",
       "<style scoped>\n",
       "    .dataframe tbody tr th:only-of-type {\n",
       "        vertical-align: middle;\n",
       "    }\n",
       "\n",
       "    .dataframe tbody tr th {\n",
       "        vertical-align: top;\n",
       "    }\n",
       "\n",
       "    .dataframe thead th {\n",
       "        text-align: right;\n",
       "    }\n",
       "</style>\n",
       "<table border=\"1\" class=\"dataframe\">\n",
       "  <thead>\n",
       "    <tr style=\"text-align: right;\">\n",
       "      <th></th>\n",
       "      <th>mse</th>\n",
       "    </tr>\n",
       "  </thead>\n",
       "  <tbody>\n",
       "    <tr>\n",
       "      <th>RandomForestRegressor</th>\n",
       "      <td>0.0369</td>\n",
       "    </tr>\n",
       "    <tr>\n",
       "      <th>SVR</th>\n",
       "      <td>0.2229</td>\n",
       "    </tr>\n",
       "    <tr>\n",
       "      <th>KNeighborsRegressor</th>\n",
       "      <td>0.0519</td>\n",
       "    </tr>\n",
       "    <tr>\n",
       "      <th>LGBMRegreessor</th>\n",
       "      <td>0.0373</td>\n",
       "    </tr>\n",
       "    <tr>\n",
       "      <th>XGBRegressor</th>\n",
       "      <td>0.0387</td>\n",
       "    </tr>\n",
       "    <tr>\n",
       "      <th>EXTRARegressor</th>\n",
       "      <td>0.0349</td>\n",
       "    </tr>\n",
       "    <tr>\n",
       "      <th>CatBoostRegressor</th>\n",
       "      <td>0.0362</td>\n",
       "    </tr>\n",
       "    <tr>\n",
       "      <th>Voting</th>\n",
       "      <td>0.0341</td>\n",
       "    </tr>\n",
       "  </tbody>\n",
       "</table>\n",
       "</div>"
      ],
      "text/plain": [
       "                         mse\n",
       "RandomForestRegressor 0.0369\n",
       "SVR                   0.2229\n",
       "KNeighborsRegressor   0.0519\n",
       "LGBMRegreessor        0.0373\n",
       "XGBRegressor          0.0387\n",
       "EXTRARegressor        0.0349\n",
       "CatBoostRegressor     0.0362\n",
       "Voting                0.0341"
      ]
     },
     "execution_count": 9,
     "metadata": {},
     "output_type": "execute_result"
    }
   ],
   "source": [
    "def NMAE(true, pred):\n",
    "    mae = np.mean(np.abs(true-pred))\n",
    "    score = mae / np.mean(np.abs(true))\n",
    "    return score\n",
    "\n",
    "nmae=[]\n",
    "models=[RandomForestRegressor,SVR,KNeighborsRegressor,LGBMRegressor,XGBRegressor,ExtraTreesRegressor,CatBoostRegressor]\n",
    "for i in models:\n",
    "    reg=i()\n",
    "    reg.fit(X_train,y_train)\n",
    "    pred=reg.predict(X_test)\n",
    "    mse.append(NMAE(y_test,pred))\n",
    "    \n",
    "algorism=['rf_reg','KNN','svr','xgb_reg','lgbm_reg','extra_reg','cat_reg']\n",
    "\n",
    "\n",
    "# lgbm_params= {'lambda_l1': 1.776746024131738e-08, 'lambda_l2': 1.6357395553052135e-05, 'num_leaves': 60, 'n_estimators': 909, 'feature_fraction': 0.7654450449982961, 'bagging_fraction': 0.4362714208794097, 'min_child_samples': 14}\n",
    "# rf_params= {'n_estimators': 255, 'max_depth': 73, 'min_samples_split': 5, 'min_samples_leaf': 2}\n",
    "# extra_params= {'n_estimators': 764, 'max_depth': 20, 'min_samples_split': 3, 'min_samples_leaf': 3}\n",
    "\n",
    "for i in algorism:\n",
    "    if i=='rf_reg':\n",
    "        rf_reg=RandomForestRegressor(**rf_params,random_state=42)\n",
    "    elif i=='KNN':\n",
    "        knn_reg=KNeighborsRegressor()\n",
    "    elif i=='svr':\n",
    "        svr=SVR(kernel='linear')\n",
    "    elif i=='xgb_reg':\n",
    "        xgb_reg=XGBRegressor(random_state=42)\n",
    "    elif i=='extra_reg':\n",
    "        extra_reg=ExtraTreesRegressor(**extra_params,random_state=42)\n",
    "    elif i=='cat_reg':\n",
    "        cat_reg= CatBoostRegressor(random_state=42)\n",
    "    else:\n",
    "        lgbm_reg=LGBMRegressor(**lgbm_params,random_state=42)\n",
    "        \n",
    "vot_model=VotingRegressor(estimators=[('LGBoost',lgbm_reg),('Rf',rf_reg),('EXTRA RF',extra_reg),('cat_reg',cat_reg)])\n",
    "vot_model.fit(X_train,y_train)\n",
    "pred2=vot_model.predict(X_test)\n",
    "nmae.append(NMAE(y_test,pred2))\n",
    "\n",
    "nmae_data=pd.DataFrame(mse,index=['RandomForestRegressor','SVR','KNeighborsRegressor','LGBMRegreessor','XGBRegressor','EXTRARegressor','CatBoostRegressor','Voting'],columns=['mse'])\n",
    "nmae_data"
   ]
  },
  {
   "cell_type": "markdown",
   "id": "10f7f8b4",
   "metadata": {},
   "source": [
    "# parameters (optuna)"
   ]
  },
  {
   "cell_type": "code",
   "execution_count": 11,
   "id": "7f694d53",
   "metadata": {
    "ExecuteTime": {
     "end_time": "2022-05-11T02:07:01.187938Z",
     "start_time": "2022-05-11T02:06:42.955983Z"
    },
    "scrolled": true
   },
   "outputs": [
    {
     "name": "stderr",
     "output_type": "stream",
     "text": [
      "\u001b[32m[I 2022-05-11 11:06:42,979]\u001b[0m A new study created in memory with name: no-name-c29b7afd-6e64-4135-a8a3-dc3bc95153a0\u001b[0m\n"
     ]
    },
    {
     "name": "stdout",
     "output_type": "stream",
     "text": [
      "[LightGBM] [Warning] feature_fraction is set=0.5307486082291663, colsample_bytree=1.0 will be ignored. Current value: feature_fraction=0.5307486082291663\n",
      "[LightGBM] [Warning] lambda_l1 is set=9.078853483895135e-05, reg_alpha=0.0 will be ignored. Current value: lambda_l1=9.078853483895135e-05\n",
      "[LightGBM] [Warning] bagging_fraction is set=0.919087576569294, subsample=1.0 will be ignored. Current value: bagging_fraction=0.919087576569294\n",
      "[LightGBM] [Warning] lambda_l2 is set=0.03358585286789913, reg_lambda=0.0 will be ignored. Current value: lambda_l2=0.03358585286789913\n",
      "[LightGBM] [Warning] bagging_freq is set=51, subsample_freq=0 will be ignored. Current value: bagging_freq=51\n"
     ]
    },
    {
     "name": "stderr",
     "output_type": "stream",
     "text": [
      "\u001b[32m[I 2022-05-11 11:06:43,473]\u001b[0m Trial 0 finished with value: 0.03655892815568999 and parameters: {'lambda_l1': 9.078853483895135e-05, 'lambda_l2': 0.03358585286789913, 'num_leaves': 167, 'n_estimators': 727, 'feature_fraction': 0.5307486082291663, 'bagging_fraction': 0.919087576569294, 'min_child_samples': 51}. Best is trial 0 with value: 0.03655892815568999.\u001b[0m\n"
     ]
    },
    {
     "name": "stdout",
     "output_type": "stream",
     "text": [
      "[LightGBM] [Warning] feature_fraction is set=0.802894547442065, colsample_bytree=1.0 will be ignored. Current value: feature_fraction=0.802894547442065\n",
      "[LightGBM] [Warning] lambda_l1 is set=0.017474274461751867, reg_alpha=0.0 will be ignored. Current value: lambda_l1=0.017474274461751867\n",
      "[LightGBM] [Warning] bagging_fraction is set=0.5317442899667877, subsample=1.0 will be ignored. Current value: bagging_fraction=0.5317442899667877\n",
      "[LightGBM] [Warning] lambda_l2 is set=0.0005325899345952098, reg_lambda=0.0 will be ignored. Current value: lambda_l2=0.0005325899345952098\n",
      "[LightGBM] [Warning] bagging_freq is set=40, subsample_freq=0 will be ignored. Current value: bagging_freq=40\n"
     ]
    },
    {
     "name": "stderr",
     "output_type": "stream",
     "text": [
      "\u001b[32m[I 2022-05-11 11:06:44,017]\u001b[0m Trial 1 finished with value: 0.03581852676828778 and parameters: {'lambda_l1': 0.017474274461751867, 'lambda_l2': 0.0005325899345952098, 'num_leaves': 455, 'n_estimators': 1257, 'feature_fraction': 0.802894547442065, 'bagging_fraction': 0.5317442899667877, 'min_child_samples': 40}. Best is trial 1 with value: 0.03581852676828778.\u001b[0m\n"
     ]
    },
    {
     "name": "stdout",
     "output_type": "stream",
     "text": [
      "[LightGBM] [Warning] feature_fraction is set=0.7983629032369957, colsample_bytree=1.0 will be ignored. Current value: feature_fraction=0.7983629032369957\n",
      "[LightGBM] [Warning] lambda_l1 is set=7.666239892887975e-08, reg_alpha=0.0 will be ignored. Current value: lambda_l1=7.666239892887975e-08\n",
      "[LightGBM] [Warning] bagging_fraction is set=0.4320439191475025, subsample=1.0 will be ignored. Current value: bagging_fraction=0.4320439191475025\n",
      "[LightGBM] [Warning] lambda_l2 is set=3.953770822902107e-06, reg_lambda=0.0 will be ignored. Current value: lambda_l2=3.953770822902107e-06\n",
      "[LightGBM] [Warning] bagging_freq is set=14, subsample_freq=0 will be ignored. Current value: bagging_freq=14\n"
     ]
    },
    {
     "name": "stderr",
     "output_type": "stream",
     "text": [
      "\u001b[32m[I 2022-05-11 11:06:44,384]\u001b[0m Trial 2 finished with value: 0.036246380296670704 and parameters: {'lambda_l1': 7.666239892887975e-08, 'lambda_l2': 3.953770822902107e-06, 'num_leaves': 142, 'n_estimators': 1210, 'feature_fraction': 0.7983629032369957, 'bagging_fraction': 0.4320439191475025, 'min_child_samples': 14}. Best is trial 1 with value: 0.03581852676828778.\u001b[0m\n"
     ]
    },
    {
     "name": "stdout",
     "output_type": "stream",
     "text": [
      "[LightGBM] [Warning] feature_fraction is set=0.7258213533850517, colsample_bytree=1.0 will be ignored. Current value: feature_fraction=0.7258213533850517\n",
      "[LightGBM] [Warning] lambda_l1 is set=0.027589808523426882, reg_alpha=0.0 will be ignored. Current value: lambda_l1=0.027589808523426882\n",
      "[LightGBM] [Warning] bagging_fraction is set=0.5848942874968927, subsample=1.0 will be ignored. Current value: bagging_fraction=0.5848942874968927\n",
      "[LightGBM] [Warning] lambda_l2 is set=6.797327494135526, reg_lambda=0.0 will be ignored. Current value: lambda_l2=6.797327494135526\n",
      "[LightGBM] [Warning] bagging_freq is set=11, subsample_freq=0 will be ignored. Current value: bagging_freq=11\n"
     ]
    },
    {
     "name": "stderr",
     "output_type": "stream",
     "text": [
      "\u001b[32m[I 2022-05-11 11:06:45,488]\u001b[0m Trial 3 finished with value: 0.03406065011058072 and parameters: {'lambda_l1': 0.027589808523426882, 'lambda_l2': 6.797327494135526, 'num_leaves': 231, 'n_estimators': 2910, 'feature_fraction': 0.7258213533850517, 'bagging_fraction': 0.5848942874968927, 'min_child_samples': 11}. Best is trial 3 with value: 0.03406065011058072.\u001b[0m\n"
     ]
    },
    {
     "name": "stdout",
     "output_type": "stream",
     "text": [
      "[LightGBM] [Warning] feature_fraction is set=0.6939515999735961, colsample_bytree=1.0 will be ignored. Current value: feature_fraction=0.6939515999735961\n",
      "[LightGBM] [Warning] lambda_l1 is set=0.5996751090592694, reg_alpha=0.0 will be ignored. Current value: lambda_l1=0.5996751090592694\n",
      "[LightGBM] [Warning] bagging_fraction is set=0.8681412763827302, subsample=1.0 will be ignored. Current value: bagging_fraction=0.8681412763827302\n",
      "[LightGBM] [Warning] lambda_l2 is set=3.5555188614312024e-07, reg_lambda=0.0 will be ignored. Current value: lambda_l2=3.5555188614312024e-07\n",
      "[LightGBM] [Warning] bagging_freq is set=10, subsample_freq=0 will be ignored. Current value: bagging_freq=10\n"
     ]
    },
    {
     "name": "stderr",
     "output_type": "stream",
     "text": [
      "\u001b[32m[I 2022-05-11 11:06:46,113]\u001b[0m Trial 4 finished with value: 0.033713085259515226 and parameters: {'lambda_l1': 0.5996751090592694, 'lambda_l2': 3.5555188614312024e-07, 'num_leaves': 50, 'n_estimators': 1336, 'feature_fraction': 0.6939515999735961, 'bagging_fraction': 0.8681412763827302, 'min_child_samples': 10}. Best is trial 4 with value: 0.033713085259515226.\u001b[0m\n",
      "\u001b[32m[I 2022-05-11 11:06:46,265]\u001b[0m Trial 5 finished with value: 0.048605127444450134 and parameters: {'lambda_l1': 8.667001601553485e-06, 'lambda_l2': 6.84989588726226e-08, 'num_leaves': 246, 'n_estimators': 210, 'feature_fraction': 0.6348776188154303, 'bagging_fraction': 0.6629094849534556, 'min_child_samples': 18}. Best is trial 4 with value: 0.033713085259515226.\u001b[0m\n"
     ]
    },
    {
     "name": "stdout",
     "output_type": "stream",
     "text": [
      "[LightGBM] [Warning] feature_fraction is set=0.6348776188154303, colsample_bytree=1.0 will be ignored. Current value: feature_fraction=0.6348776188154303\n",
      "[LightGBM] [Warning] lambda_l1 is set=8.667001601553485e-06, reg_alpha=0.0 will be ignored. Current value: lambda_l1=8.667001601553485e-06\n",
      "[LightGBM] [Warning] bagging_fraction is set=0.6629094849534556, subsample=1.0 will be ignored. Current value: bagging_fraction=0.6629094849534556\n",
      "[LightGBM] [Warning] lambda_l2 is set=6.84989588726226e-08, reg_lambda=0.0 will be ignored. Current value: lambda_l2=6.84989588726226e-08\n",
      "[LightGBM] [Warning] bagging_freq is set=18, subsample_freq=0 will be ignored. Current value: bagging_freq=18\n",
      "[LightGBM] [Warning] feature_fraction is set=0.878936320747285, colsample_bytree=1.0 will be ignored. Current value: feature_fraction=0.878936320747285\n",
      "[LightGBM] [Warning] lambda_l1 is set=0.7526117973246422, reg_alpha=0.0 will be ignored. Current value: lambda_l1=0.7526117973246422\n",
      "[LightGBM] [Warning] bagging_fraction is set=0.8307125507417548, subsample=1.0 will be ignored. Current value: bagging_fraction=0.8307125507417548\n",
      "[LightGBM] [Warning] lambda_l2 is set=0.11436479208695519, reg_lambda=0.0 will be ignored. Current value: lambda_l2=0.11436479208695519\n",
      "[LightGBM] [Warning] bagging_freq is set=7, subsample_freq=0 will be ignored. Current value: bagging_freq=7\n"
     ]
    },
    {
     "name": "stderr",
     "output_type": "stream",
     "text": [
      "\u001b[32m[I 2022-05-11 11:06:46,492]\u001b[0m Trial 6 finished with value: 0.03592738040536511 and parameters: {'lambda_l1': 0.7526117973246422, 'lambda_l2': 0.11436479208695519, 'num_leaves': 231, 'n_estimators': 483, 'feature_fraction': 0.878936320747285, 'bagging_fraction': 0.8307125507417548, 'min_child_samples': 7}. Best is trial 4 with value: 0.033713085259515226.\u001b[0m\n"
     ]
    },
    {
     "name": "stdout",
     "output_type": "stream",
     "text": [
      "[LightGBM] [Warning] feature_fraction is set=0.677713937877866, colsample_bytree=1.0 will be ignored. Current value: feature_fraction=0.677713937877866\n",
      "[LightGBM] [Warning] lambda_l1 is set=2.2868484842815288e-07, reg_alpha=0.0 will be ignored. Current value: lambda_l1=2.2868484842815288e-07\n",
      "[LightGBM] [Warning] bagging_fraction is set=0.8927509491276464, subsample=1.0 will be ignored. Current value: bagging_fraction=0.8927509491276464\n",
      "[LightGBM] [Warning] lambda_l2 is set=0.010938029141184656, reg_lambda=0.0 will be ignored. Current value: lambda_l2=0.010938029141184656\n",
      "[LightGBM] [Warning] bagging_freq is set=17, subsample_freq=0 will be ignored. Current value: bagging_freq=17\n"
     ]
    },
    {
     "name": "stderr",
     "output_type": "stream",
     "text": [
      "\u001b[32m[I 2022-05-11 11:06:48,529]\u001b[0m Trial 7 finished with value: 0.03374792843279671 and parameters: {'lambda_l1': 2.2868484842815288e-07, 'lambda_l2': 0.010938029141184656, 'num_leaves': 130, 'n_estimators': 2903, 'feature_fraction': 0.677713937877866, 'bagging_fraction': 0.8927509491276464, 'min_child_samples': 17}. Best is trial 4 with value: 0.033713085259515226.\u001b[0m\n"
     ]
    },
    {
     "name": "stdout",
     "output_type": "stream",
     "text": [
      "[LightGBM] [Warning] feature_fraction is set=0.7145437669553465, colsample_bytree=1.0 will be ignored. Current value: feature_fraction=0.7145437669553465\n",
      "[LightGBM] [Warning] lambda_l1 is set=7.27338032493407e-05, reg_alpha=0.0 will be ignored. Current value: lambda_l1=7.27338032493407e-05\n",
      "[LightGBM] [Warning] bagging_fraction is set=0.6586009713589203, subsample=1.0 will be ignored. Current value: bagging_fraction=0.6586009713589203\n",
      "[LightGBM] [Warning] lambda_l2 is set=0.003025563241280729, reg_lambda=0.0 will be ignored. Current value: lambda_l2=0.003025563241280729\n",
      "[LightGBM] [Warning] bagging_freq is set=94, subsample_freq=0 will be ignored. Current value: bagging_freq=94\n"
     ]
    },
    {
     "name": "stderr",
     "output_type": "stream",
     "text": [
      "\u001b[32m[I 2022-05-11 11:06:49,361]\u001b[0m Trial 8 finished with value: 0.03636650240254164 and parameters: {'lambda_l1': 7.27338032493407e-05, 'lambda_l2': 0.003025563241280729, 'num_leaves': 284, 'n_estimators': 1444, 'feature_fraction': 0.7145437669553465, 'bagging_fraction': 0.6586009713589203, 'min_child_samples': 94}. Best is trial 4 with value: 0.033713085259515226.\u001b[0m\n"
     ]
    },
    {
     "name": "stdout",
     "output_type": "stream",
     "text": [
      "[LightGBM] [Warning] feature_fraction is set=0.5890963975546482, colsample_bytree=1.0 will be ignored. Current value: feature_fraction=0.5890963975546482\n",
      "[LightGBM] [Warning] lambda_l1 is set=0.21629976878520732, reg_alpha=0.0 will be ignored. Current value: lambda_l1=0.21629976878520732\n",
      "[LightGBM] [Warning] bagging_fraction is set=0.4191535785843903, subsample=1.0 will be ignored. Current value: bagging_fraction=0.4191535785843903\n",
      "[LightGBM] [Warning] lambda_l2 is set=1.2071297626076732e-07, reg_lambda=0.0 will be ignored. Current value: lambda_l2=1.2071297626076732e-07\n",
      "[LightGBM] [Warning] bagging_freq is set=75, subsample_freq=0 will be ignored. Current value: bagging_freq=75\n"
     ]
    },
    {
     "name": "stderr",
     "output_type": "stream",
     "text": [
      "\u001b[32m[I 2022-05-11 11:06:50,451]\u001b[0m Trial 9 finished with value: 0.03672251329699235 and parameters: {'lambda_l1': 0.21629976878520732, 'lambda_l2': 1.2071297626076732e-07, 'num_leaves': 248, 'n_estimators': 2993, 'feature_fraction': 0.5890963975546482, 'bagging_fraction': 0.4191535785843903, 'min_child_samples': 75}. Best is trial 4 with value: 0.033713085259515226.\u001b[0m\n"
     ]
    },
    {
     "name": "stdout",
     "output_type": "stream",
     "text": [
      "[LightGBM] [Warning] feature_fraction is set=0.43010676569184225, colsample_bytree=1.0 will be ignored. Current value: feature_fraction=0.43010676569184225\n",
      "[LightGBM] [Warning] lambda_l1 is set=6.87063471591638, reg_alpha=0.0 will be ignored. Current value: lambda_l1=6.87063471591638\n",
      "[LightGBM] [Warning] bagging_fraction is set=0.998234488673088, subsample=1.0 will be ignored. Current value: bagging_fraction=0.998234488673088\n",
      "[LightGBM] [Warning] lambda_l2 is set=1.3579464589810306e-05, reg_lambda=0.0 will be ignored. Current value: lambda_l2=1.3579464589810306e-05\n",
      "[LightGBM] [Warning] bagging_freq is set=36, subsample_freq=0 will be ignored. Current value: bagging_freq=36\n"
     ]
    },
    {
     "name": "stderr",
     "output_type": "stream",
     "text": [
      "\u001b[32m[I 2022-05-11 11:06:50,829]\u001b[0m Trial 10 finished with value: 0.03530508062075707 and parameters: {'lambda_l1': 6.87063471591638, 'lambda_l2': 1.3579464589810306e-05, 'num_leaves': 12, 'n_estimators': 2164, 'feature_fraction': 0.43010676569184225, 'bagging_fraction': 0.998234488673088, 'min_child_samples': 36}. Best is trial 4 with value: 0.033713085259515226.\u001b[0m\n"
     ]
    },
    {
     "name": "stdout",
     "output_type": "stream",
     "text": [
      "[LightGBM] [Warning] feature_fraction is set=0.9977009840732596, colsample_bytree=1.0 will be ignored. Current value: feature_fraction=0.9977009840732596\n",
      "[LightGBM] [Warning] lambda_l1 is set=1.052609168519256e-08, reg_alpha=0.0 will be ignored. Current value: lambda_l1=1.052609168519256e-08\n",
      "[LightGBM] [Warning] bagging_fraction is set=0.8087335087582791, subsample=1.0 will be ignored. Current value: bagging_fraction=0.8087335087582791\n",
      "[LightGBM] [Warning] lambda_l2 is set=1.3583615393376335e-05, reg_lambda=0.0 will be ignored. Current value: lambda_l2=1.3583615393376335e-05\n",
      "[LightGBM] [Warning] bagging_freq is set=25, subsample_freq=0 will be ignored. Current value: bagging_freq=25\n"
     ]
    },
    {
     "name": "stderr",
     "output_type": "stream",
     "text": [
      "\u001b[32m[I 2022-05-11 11:06:51,153]\u001b[0m Trial 11 finished with value: 0.039984608603144005 and parameters: {'lambda_l1': 1.052609168519256e-08, 'lambda_l2': 1.3583615393376335e-05, 'num_leaves': 3, 'n_estimators': 2088, 'feature_fraction': 0.9977009840732596, 'bagging_fraction': 0.8087335087582791, 'min_child_samples': 25}. Best is trial 4 with value: 0.033713085259515226.\u001b[0m\n"
     ]
    },
    {
     "name": "stdout",
     "output_type": "stream",
     "text": [
      "[LightGBM] [Warning] feature_fraction is set=0.6385391963382238, colsample_bytree=1.0 will be ignored. Current value: feature_fraction=0.6385391963382238\n",
      "[LightGBM] [Warning] lambda_l1 is set=6.159398578263957e-07, reg_alpha=0.0 will be ignored. Current value: lambda_l1=6.159398578263957e-07\n",
      "[LightGBM] [Warning] bagging_fraction is set=0.807441282768546, subsample=1.0 will be ignored. Current value: bagging_fraction=0.807441282768546\n",
      "[LightGBM] [Warning] lambda_l2 is set=1.544396159372907e-08, reg_lambda=0.0 will be ignored. Current value: lambda_l2=1.544396159372907e-08\n",
      "[LightGBM] [Warning] bagging_freq is set=31, subsample_freq=0 will be ignored. Current value: bagging_freq=31\n"
     ]
    },
    {
     "name": "stderr",
     "output_type": "stream",
     "text": [
      "\u001b[32m[I 2022-05-11 11:06:52,557]\u001b[0m Trial 12 finished with value: 0.03747401772329735 and parameters: {'lambda_l1': 6.159398578263957e-07, 'lambda_l2': 1.544396159372907e-08, 'num_leaves': 102, 'n_estimators': 2054, 'feature_fraction': 0.6385391963382238, 'bagging_fraction': 0.807441282768546, 'min_child_samples': 31}. Best is trial 4 with value: 0.033713085259515226.\u001b[0m\n"
     ]
    },
    {
     "name": "stdout",
     "output_type": "stream",
     "text": [
      "[LightGBM] [Warning] feature_fraction is set=0.5103921841246037, colsample_bytree=1.0 will be ignored. Current value: feature_fraction=0.5103921841246037\n",
      "[LightGBM] [Warning] lambda_l1 is set=0.0031312079038249506, reg_alpha=0.0 will be ignored. Current value: lambda_l1=0.0031312079038249506\n",
      "[LightGBM] [Warning] bagging_fraction is set=0.9014188231796354, subsample=1.0 will be ignored. Current value: bagging_fraction=0.9014188231796354\n",
      "[LightGBM] [Warning] lambda_l2 is set=0.32676182748101673, reg_lambda=0.0 will be ignored. Current value: lambda_l2=0.32676182748101673\n",
      "[LightGBM] [Warning] bagging_freq is set=63, subsample_freq=0 will be ignored. Current value: bagging_freq=63\n"
     ]
    },
    {
     "name": "stderr",
     "output_type": "stream",
     "text": [
      "\u001b[32m[I 2022-05-11 11:06:54,138]\u001b[0m Trial 13 finished with value: 0.03202241431923558 and parameters: {'lambda_l1': 0.0031312079038249506, 'lambda_l2': 0.32676182748101673, 'num_leaves': 87, 'n_estimators': 2534, 'feature_fraction': 0.5103921841246037, 'bagging_fraction': 0.9014188231796354, 'min_child_samples': 63}. Best is trial 13 with value: 0.03202241431923558.\u001b[0m\n"
     ]
    },
    {
     "name": "stdout",
     "output_type": "stream",
     "text": [
      "[LightGBM] [Warning] feature_fraction is set=0.41118433482485706, colsample_bytree=1.0 will be ignored. Current value: feature_fraction=0.41118433482485706\n",
      "[LightGBM] [Warning] lambda_l1 is set=0.0032291976640620675, reg_alpha=0.0 will be ignored. Current value: lambda_l1=0.0032291976640620675\n",
      "[LightGBM] [Warning] bagging_fraction is set=0.9845227149134205, subsample=1.0 will be ignored. Current value: bagging_fraction=0.9845227149134205\n",
      "[LightGBM] [Warning] lambda_l2 is set=4.8009152612902355, reg_lambda=0.0 will be ignored. Current value: lambda_l2=4.8009152612902355\n",
      "[LightGBM] [Warning] bagging_freq is set=69, subsample_freq=0 will be ignored. Current value: bagging_freq=69\n"
     ]
    },
    {
     "name": "stderr",
     "output_type": "stream",
     "text": [
      "\u001b[32m[I 2022-05-11 11:06:55,183]\u001b[0m Trial 14 finished with value: 0.03648870743996521 and parameters: {'lambda_l1': 0.0032291976640620675, 'lambda_l2': 4.8009152612902355, 'num_leaves': 67, 'n_estimators': 1787, 'feature_fraction': 0.41118433482485706, 'bagging_fraction': 0.9845227149134205, 'min_child_samples': 69}. Best is trial 13 with value: 0.03202241431923558.\u001b[0m\n"
     ]
    },
    {
     "name": "stdout",
     "output_type": "stream",
     "text": [
      "[LightGBM] [Warning] feature_fraction is set=0.5272826465017068, colsample_bytree=1.0 will be ignored. Current value: feature_fraction=0.5272826465017068\n",
      "[LightGBM] [Warning] lambda_l1 is set=0.0026357325818284535, reg_alpha=0.0 will be ignored. Current value: lambda_l1=0.0026357325818284535\n",
      "[LightGBM] [Warning] bagging_fraction is set=0.7261660708531414, subsample=1.0 will be ignored. Current value: bagging_fraction=0.7261660708531414\n",
      "[LightGBM] [Warning] lambda_l2 is set=0.33710293260226765, reg_lambda=0.0 will be ignored. Current value: lambda_l2=0.33710293260226765\n",
      "[LightGBM] [Warning] bagging_freq is set=62, subsample_freq=0 will be ignored. Current value: bagging_freq=62\n"
     ]
    },
    {
     "name": "stderr",
     "output_type": "stream",
     "text": [
      "\u001b[32m[I 2022-05-11 11:06:56,433]\u001b[0m Trial 15 finished with value: 0.032661486832899315 and parameters: {'lambda_l1': 0.0026357325818284535, 'lambda_l2': 0.33710293260226765, 'num_leaves': 358, 'n_estimators': 2433, 'feature_fraction': 0.5272826465017068, 'bagging_fraction': 0.7261660708531414, 'min_child_samples': 62}. Best is trial 13 with value: 0.03202241431923558.\u001b[0m\n"
     ]
    },
    {
     "name": "stdout",
     "output_type": "stream",
     "text": [
      "[LightGBM] [Warning] feature_fraction is set=0.4958459793182427, colsample_bytree=1.0 will be ignored. Current value: feature_fraction=0.4958459793182427\n",
      "[LightGBM] [Warning] lambda_l1 is set=0.0019432581704715891, reg_alpha=0.0 will be ignored. Current value: lambda_l1=0.0019432581704715891\n",
      "[LightGBM] [Warning] bagging_fraction is set=0.7263724899250356, subsample=1.0 will be ignored. Current value: bagging_fraction=0.7263724899250356\n",
      "[LightGBM] [Warning] lambda_l2 is set=0.6102387777164053, reg_lambda=0.0 will be ignored. Current value: lambda_l2=0.6102387777164053\n",
      "[LightGBM] [Warning] bagging_freq is set=70, subsample_freq=0 will be ignored. Current value: bagging_freq=70\n"
     ]
    },
    {
     "name": "stderr",
     "output_type": "stream",
     "text": [
      "\u001b[32m[I 2022-05-11 11:06:57,777]\u001b[0m Trial 16 finished with value: 0.03500873559742222 and parameters: {'lambda_l1': 0.0019432581704715891, 'lambda_l2': 0.6102387777164053, 'num_leaves': 380, 'n_estimators': 2478, 'feature_fraction': 0.4958459793182427, 'bagging_fraction': 0.7263724899250356, 'min_child_samples': 70}. Best is trial 13 with value: 0.03202241431923558.\u001b[0m\n"
     ]
    },
    {
     "name": "stdout",
     "output_type": "stream",
     "text": [
      "[LightGBM] [Warning] feature_fraction is set=0.5058008266273011, colsample_bytree=1.0 will be ignored. Current value: feature_fraction=0.5058008266273011\n",
      "[LightGBM] [Warning] lambda_l1 is set=0.0009568466212558921, reg_alpha=0.0 will be ignored. Current value: lambda_l1=0.0009568466212558921\n",
      "[LightGBM] [Warning] bagging_fraction is set=0.7471444204611851, subsample=1.0 will be ignored. Current value: bagging_fraction=0.7471444204611851\n",
      "[LightGBM] [Warning] lambda_l2 is set=0.3920507559383343, reg_lambda=0.0 will be ignored. Current value: lambda_l2=0.3920507559383343\n",
      "[LightGBM] [Warning] bagging_freq is set=57, subsample_freq=0 will be ignored. Current value: bagging_freq=57\n"
     ]
    },
    {
     "name": "stderr",
     "output_type": "stream",
     "text": [
      "\u001b[32m[I 2022-05-11 11:06:59,089]\u001b[0m Trial 17 finished with value: 0.034412017143369895 and parameters: {'lambda_l1': 0.0009568466212558921, 'lambda_l2': 0.3920507559383343, 'num_leaves': 334, 'n_estimators': 2510, 'feature_fraction': 0.5058008266273011, 'bagging_fraction': 0.7471444204611851, 'min_child_samples': 57}. Best is trial 13 with value: 0.03202241431923558.\u001b[0m\n"
     ]
    },
    {
     "name": "stdout",
     "output_type": "stream",
     "text": [
      "[LightGBM] [Warning] feature_fraction is set=0.5660038564463179, colsample_bytree=1.0 will be ignored. Current value: feature_fraction=0.5660038564463179\n",
      "[LightGBM] [Warning] lambda_l1 is set=9.798635295051463e-06, reg_alpha=0.0 will be ignored. Current value: lambda_l1=9.798635295051463e-06\n",
      "[LightGBM] [Warning] bagging_fraction is set=0.6046946980484333, subsample=1.0 will be ignored. Current value: bagging_fraction=0.6046946980484333\n",
      "[LightGBM] [Warning] lambda_l2 is set=0.0004672356258340117, reg_lambda=0.0 will be ignored. Current value: lambda_l2=0.0004672356258340117\n",
      "[LightGBM] [Warning] bagging_freq is set=87, subsample_freq=0 will be ignored. Current value: bagging_freq=87\n"
     ]
    },
    {
     "name": "stderr",
     "output_type": "stream",
     "text": [
      "\u001b[32m[I 2022-05-11 11:07:00,254]\u001b[0m Trial 18 finished with value: 0.03515708784568802 and parameters: {'lambda_l1': 9.798635295051463e-06, 'lambda_l2': 0.0004672356258340117, 'num_leaves': 495, 'n_estimators': 2483, 'feature_fraction': 0.5660038564463179, 'bagging_fraction': 0.6046946980484333, 'min_child_samples': 87}. Best is trial 13 with value: 0.03202241431923558.\u001b[0m\n"
     ]
    },
    {
     "name": "stdout",
     "output_type": "stream",
     "text": [
      "[LightGBM] [Warning] feature_fraction is set=0.4560609034063313, colsample_bytree=1.0 will be ignored. Current value: feature_fraction=0.4560609034063313\n",
      "[LightGBM] [Warning] lambda_l1 is set=0.028905075129817836, reg_alpha=0.0 will be ignored. Current value: lambda_l1=0.028905075129817836\n",
      "[LightGBM] [Warning] bagging_fraction is set=0.7721119919622494, subsample=1.0 will be ignored. Current value: bagging_fraction=0.7721119919622494\n",
      "[LightGBM] [Warning] lambda_l2 is set=0.005760925567388815, reg_lambda=0.0 will be ignored. Current value: lambda_l2=0.005760925567388815\n",
      "[LightGBM] [Warning] bagging_freq is set=57, subsample_freq=0 will be ignored. Current value: bagging_freq=57\n"
     ]
    },
    {
     "name": "stderr",
     "output_type": "stream",
     "text": [
      "\u001b[32m[I 2022-05-11 11:07:01,185]\u001b[0m Trial 19 finished with value: 0.03698363959274002 and parameters: {'lambda_l1': 0.028905075129817836, 'lambda_l2': 0.005760925567388815, 'num_leaves': 402, 'n_estimators': 1717, 'feature_fraction': 0.4560609034063313, 'bagging_fraction': 0.7721119919622494, 'min_child_samples': 57}. Best is trial 13 with value: 0.03202241431923558.\u001b[0m\n"
     ]
    },
    {
     "name": "stdout",
     "output_type": "stream",
     "text": [
      "Best Trial : score 0.03202241431923558, \n",
      "params {'lambda_l1': 0.0031312079038249506, 'lambda_l2': 0.32676182748101673, 'num_leaves': 87, 'n_estimators': 2534, 'feature_fraction': 0.5103921841246037, 'bagging_fraction': 0.9014188231796354, 'min_child_samples': 63}\n"
     ]
    }
   ],
   "source": [
    "def objectiveLGBM(trial: Trial, X,y,test):\n",
    "    param = {\n",
    "        'objective':'regression',\n",
    "        'metric':'root_mean_squared_error',\n",
    "        'verbosity':-1,\n",
    "        'boosting_type':'gbdt',\n",
    "        'lambda_l1':trial.suggest_loguniform('lambda_l1',1e-8, 10.0),\n",
    "        'lambda_l2':trial.suggest_loguniform('lambda_l2',1e-8, 10.0),\n",
    "        'num_leaves':trial.suggest_int('num_leaves',2,512),\n",
    "        'learning_rate':0.01,\n",
    "        'n_estimators':trial.suggest_int('n_estimators',100,3000),\n",
    "        'feature_fraction':trial.suggest_uniform('feature_fraction',0.4,1.0),\n",
    "        'bagging_fraction':trial.suggest_uniform('bagging_fraction',0.4,1.0),\n",
    "        'bagging_freq':trial.suggest_int('min_child_samples',5,100),\n",
    "        'gpu_use_dp':True\n",
    "    }\n",
    "    X_train,X_test,y_train,y_test =train_test_split(X,y, test_size=.3)\n",
    "    \n",
    "    lgbm_regr= LGBMRegressor(**param)\n",
    "    lgbm_regr=lgbm_regr.fit(X_train,y_train,verbose=False)\n",
    "    \n",
    "    score=NMAE(lgbm_regr.predict(X_test),y_test)\n",
    "    return score\n",
    "\n",
    "study= optuna.create_study(direction='minimize',sampler=TPESampler())\n",
    "study.optimize(lambda trial: objectiveLGBM(trial,X,y,X_test), n_trials=20)\n",
    "print(\"Best Trial : score {}, \\nparams {}\".format(study.best_trial.value, study.best_trial.params))\n",
    "\n",
    "\n",
    "\n",
    "def objectiveExtra(trial : Trial, X,y,test):\n",
    "    param = {\n",
    "        'n_estimators':trial.suggest_int('n_estimators',100,1000),\n",
    "        'criterion':'squared_error',\n",
    "        'max_depth':trial.suggest_int('max_depth',10,100),\n",
    "        'min_samples_split':trial.suggest_int('min_samples_split',2,10),\n",
    "        'min_samples_leaf':trial.suggest_int('min_samples_leaf',1,5)\n",
    "    }\n",
    "    X_train,X_test,y_train,y_test =train_test_split(X,y, test_size=.3)\n",
    "    \n",
    "    extra_regr= ExtraTreesRegressor(**param)\n",
    "    extra_regr=extra_reg.fit(X_train,y_train)\n",
    "    \n",
    "    score=NMAE(extra_regr.predict(X_test),y_test)\n",
    "    return score\n",
    "\n",
    "# study= optuna.create_study(direction='minimize',sampler=TPESampler())\n",
    "# study.optimize(lambda trial: objectiveExtra(trial,X,y,X_test), n_trials=20)\n",
    "# print(\"Best Trial : score {}, \\nparams {}\".format(study.best_trial.value, study.best_trial.params))\n",
    "\n",
    "def objectiveRandom(trial : Trial, X,y,test):\n",
    "    param = {\n",
    "        'n_estimators':trial.suggest_int('n_estimators',100,1000),\n",
    "        'criterion':'squared_error',\n",
    "        'max_depth':trial.suggest_int('max_depth',10,100),\n",
    "        'min_samples_split':trial.suggest_int('min_samples_split',2,10),\n",
    "        'min_samples_leaf':trial.suggest_int('min_samples_leaf',1,5)\n",
    "    }\n",
    "    X_train,X_test,y_train,y_test =train_test_split(X,y, test_size=.3)\n",
    "    \n",
    "    random_regr= RandomForestRegressor(**param)\n",
    "    random_regr=random_regr.fit(X_train,y_train)\n",
    "    \n",
    "    score=NMAE(random_regr.predict(X_test),y_test)\n",
    "    return score\n",
    "\n",
    "# study= optuna.create_study(direction='minimize',sampler=TPESampler())\n",
    "# study.optimize(lambda trial: objectiveRandom(trial,X,y,X_test), n_trials=20)\n",
    "# print(\"Best Trial : score {}, \\nparams {}\".format(study.best_trial.value, study.best_trial.params))"
   ]
  },
  {
   "cell_type": "code",
   "execution_count": 35,
   "id": "91f64b47",
   "metadata": {
    "ExecuteTime": {
     "end_time": "2022-05-10T01:39:24.790939Z",
     "start_time": "2022-05-10T01:39:24.734740Z"
    }
   },
   "outputs": [
    {
     "data": {
      "text/html": [
       "        <script type=\"text/javascript\">\n",
       "        window.PlotlyConfig = {MathJaxConfig: 'local'};\n",
       "        if (window.MathJax) {MathJax.Hub.Config({SVG: {font: \"STIX-Web\"}});}\n",
       "        if (typeof require !== 'undefined') {\n",
       "        require.undef(\"plotly\");\n",
       "        requirejs.config({\n",
       "            paths: {\n",
       "                'plotly': ['https://cdn.plot.ly/plotly-2.9.0.min']\n",
       "            }\n",
       "        });\n",
       "        require(['plotly'], function(Plotly) {\n",
       "            window._Plotly = Plotly;\n",
       "        });\n",
       "        }\n",
       "        </script>\n",
       "        "
      ]
     },
     "metadata": {},
     "output_type": "display_data"
    },
    {
     "data": {
      "text/html": [
       "        <script type=\"text/javascript\">\n",
       "        window.PlotlyConfig = {MathJaxConfig: 'local'};\n",
       "        if (window.MathJax) {MathJax.Hub.Config({SVG: {font: \"STIX-Web\"}});}\n",
       "        if (typeof require !== 'undefined') {\n",
       "        require.undef(\"plotly\");\n",
       "        requirejs.config({\n",
       "            paths: {\n",
       "                'plotly': ['https://cdn.plot.ly/plotly-2.9.0.min']\n",
       "            }\n",
       "        });\n",
       "        require(['plotly'], function(Plotly) {\n",
       "            window._Plotly = Plotly;\n",
       "        });\n",
       "        }\n",
       "        </script>\n",
       "        "
      ]
     },
     "metadata": {},
     "output_type": "display_data"
    },
    {
     "data": {
      "application/vnd.plotly.v1+json": {
       "config": {
        "linkText": "Export to plot.ly",
        "plotlyServerURL": "https://plot.ly",
        "showLink": false
       },
       "data": [
        {
         "marker": {
          "color": [
           0.00022611538811243112,
           0.00029479989519716287,
           0.0010553496640839709,
           0.0011692006995994942,
           0.0011808303182901628,
           0.001253397577197855,
           0.001275685332105113,
           0.0013044976388484578,
           0.0013312641909754386,
           0.0020863695315801126,
           0.002309271794242466,
           0.002784946205753493,
           0.002806618704236188,
           0.002840510826930236,
           0.0034335474476393088,
           0.005553545645218384,
           0.006703013624165532,
           0.007519929100482778,
           0.059667089849214816,
           0.07100510529216462,
           0.12881447417354852,
           0.13861950876901744,
           0.22934761403405846,
           0.3274173142973376
          ],
          "colorscale": [
           [
            0,
            "#440154"
           ],
           [
            0.1111111111111111,
            "#482878"
           ],
           [
            0.2222222222222222,
            "#3e4989"
           ],
           [
            0.3333333333333333,
            "#31688e"
           ],
           [
            0.4444444444444444,
            "#26828e"
           ],
           [
            0.5555555555555556,
            "#1f9e89"
           ],
           [
            0.6666666666666666,
            "#35b779"
           ],
           [
            0.7777777777777778,
            "#6ece58"
           ],
           [
            0.8888888888888888,
            "#b5de2b"
           ],
           [
            1,
            "#fde725"
           ]
          ],
          "reversescale": true
         },
         "name": "Random Forest Feature importance",
         "orientation": "h",
         "type": "bar",
         "x": [
          0.00022611538811243112,
          0.00029479989519716287,
          0.0010553496640839709,
          0.0011692006995994942,
          0.0011808303182901628,
          0.001253397577197855,
          0.001275685332105113,
          0.0013044976388484578,
          0.0013312641909754386,
          0.0020863695315801126,
          0.002309271794242466,
          0.002784946205753493,
          0.002806618704236188,
          0.002840510826930236,
          0.0034335474476393088,
          0.005553545645218384,
          0.006703013624165532,
          0.007519929100482778,
          0.059667089849214816,
          0.07100510529216462,
          0.12881447417354852,
          0.13861950876901744,
          0.22934761403405846,
          0.3274173142973376
         ],
         "y": [
          "Complain",
          "AcceptedCmp2",
          "AcceptedCmp1",
          "AcceptedCmp3",
          "Marital_Status_Married",
          "Response",
          "Marital_Status_Together",
          "Marital_Status_Single",
          "AcceptedCmp4",
          "Year_Birth",
          "AcceptedCmp5",
          "Recency",
          "Year_Customer",
          "Education",
          "Teenhome",
          "NumWebVisitsMonth",
          "Child",
          "NumDealsPurchases",
          "Kidhome",
          "NumWebPurchases",
          "NumStorePurchases",
          "Income",
          "NumCatalogPurchases",
          "TotalPurchases"
         ]
        }
       ],
       "layout": {
        "height": 1000,
        "margin": {
         "l": 300
        },
        "template": {
         "data": {
          "bar": [
           {
            "error_x": {
             "color": "#2a3f5f"
            },
            "error_y": {
             "color": "#2a3f5f"
            },
            "marker": {
             "line": {
              "color": "#E5ECF6",
              "width": 0.5
             },
             "pattern": {
              "fillmode": "overlay",
              "size": 10,
              "solidity": 0.2
             }
            },
            "type": "bar"
           }
          ],
          "barpolar": [
           {
            "marker": {
             "line": {
              "color": "#E5ECF6",
              "width": 0.5
             },
             "pattern": {
              "fillmode": "overlay",
              "size": 10,
              "solidity": 0.2
             }
            },
            "type": "barpolar"
           }
          ],
          "carpet": [
           {
            "aaxis": {
             "endlinecolor": "#2a3f5f",
             "gridcolor": "white",
             "linecolor": "white",
             "minorgridcolor": "white",
             "startlinecolor": "#2a3f5f"
            },
            "baxis": {
             "endlinecolor": "#2a3f5f",
             "gridcolor": "white",
             "linecolor": "white",
             "minorgridcolor": "white",
             "startlinecolor": "#2a3f5f"
            },
            "type": "carpet"
           }
          ],
          "choropleth": [
           {
            "colorbar": {
             "outlinewidth": 0,
             "ticks": ""
            },
            "type": "choropleth"
           }
          ],
          "contour": [
           {
            "colorbar": {
             "outlinewidth": 0,
             "ticks": ""
            },
            "colorscale": [
             [
              0,
              "#0d0887"
             ],
             [
              0.1111111111111111,
              "#46039f"
             ],
             [
              0.2222222222222222,
              "#7201a8"
             ],
             [
              0.3333333333333333,
              "#9c179e"
             ],
             [
              0.4444444444444444,
              "#bd3786"
             ],
             [
              0.5555555555555556,
              "#d8576b"
             ],
             [
              0.6666666666666666,
              "#ed7953"
             ],
             [
              0.7777777777777778,
              "#fb9f3a"
             ],
             [
              0.8888888888888888,
              "#fdca26"
             ],
             [
              1,
              "#f0f921"
             ]
            ],
            "type": "contour"
           }
          ],
          "contourcarpet": [
           {
            "colorbar": {
             "outlinewidth": 0,
             "ticks": ""
            },
            "type": "contourcarpet"
           }
          ],
          "heatmap": [
           {
            "colorbar": {
             "outlinewidth": 0,
             "ticks": ""
            },
            "colorscale": [
             [
              0,
              "#0d0887"
             ],
             [
              0.1111111111111111,
              "#46039f"
             ],
             [
              0.2222222222222222,
              "#7201a8"
             ],
             [
              0.3333333333333333,
              "#9c179e"
             ],
             [
              0.4444444444444444,
              "#bd3786"
             ],
             [
              0.5555555555555556,
              "#d8576b"
             ],
             [
              0.6666666666666666,
              "#ed7953"
             ],
             [
              0.7777777777777778,
              "#fb9f3a"
             ],
             [
              0.8888888888888888,
              "#fdca26"
             ],
             [
              1,
              "#f0f921"
             ]
            ],
            "type": "heatmap"
           }
          ],
          "heatmapgl": [
           {
            "colorbar": {
             "outlinewidth": 0,
             "ticks": ""
            },
            "colorscale": [
             [
              0,
              "#0d0887"
             ],
             [
              0.1111111111111111,
              "#46039f"
             ],
             [
              0.2222222222222222,
              "#7201a8"
             ],
             [
              0.3333333333333333,
              "#9c179e"
             ],
             [
              0.4444444444444444,
              "#bd3786"
             ],
             [
              0.5555555555555556,
              "#d8576b"
             ],
             [
              0.6666666666666666,
              "#ed7953"
             ],
             [
              0.7777777777777778,
              "#fb9f3a"
             ],
             [
              0.8888888888888888,
              "#fdca26"
             ],
             [
              1,
              "#f0f921"
             ]
            ],
            "type": "heatmapgl"
           }
          ],
          "histogram": [
           {
            "marker": {
             "pattern": {
              "fillmode": "overlay",
              "size": 10,
              "solidity": 0.2
             }
            },
            "type": "histogram"
           }
          ],
          "histogram2d": [
           {
            "colorbar": {
             "outlinewidth": 0,
             "ticks": ""
            },
            "colorscale": [
             [
              0,
              "#0d0887"
             ],
             [
              0.1111111111111111,
              "#46039f"
             ],
             [
              0.2222222222222222,
              "#7201a8"
             ],
             [
              0.3333333333333333,
              "#9c179e"
             ],
             [
              0.4444444444444444,
              "#bd3786"
             ],
             [
              0.5555555555555556,
              "#d8576b"
             ],
             [
              0.6666666666666666,
              "#ed7953"
             ],
             [
              0.7777777777777778,
              "#fb9f3a"
             ],
             [
              0.8888888888888888,
              "#fdca26"
             ],
             [
              1,
              "#f0f921"
             ]
            ],
            "type": "histogram2d"
           }
          ],
          "histogram2dcontour": [
           {
            "colorbar": {
             "outlinewidth": 0,
             "ticks": ""
            },
            "colorscale": [
             [
              0,
              "#0d0887"
             ],
             [
              0.1111111111111111,
              "#46039f"
             ],
             [
              0.2222222222222222,
              "#7201a8"
             ],
             [
              0.3333333333333333,
              "#9c179e"
             ],
             [
              0.4444444444444444,
              "#bd3786"
             ],
             [
              0.5555555555555556,
              "#d8576b"
             ],
             [
              0.6666666666666666,
              "#ed7953"
             ],
             [
              0.7777777777777778,
              "#fb9f3a"
             ],
             [
              0.8888888888888888,
              "#fdca26"
             ],
             [
              1,
              "#f0f921"
             ]
            ],
            "type": "histogram2dcontour"
           }
          ],
          "mesh3d": [
           {
            "colorbar": {
             "outlinewidth": 0,
             "ticks": ""
            },
            "type": "mesh3d"
           }
          ],
          "parcoords": [
           {
            "line": {
             "colorbar": {
              "outlinewidth": 0,
              "ticks": ""
             }
            },
            "type": "parcoords"
           }
          ],
          "pie": [
           {
            "automargin": true,
            "type": "pie"
           }
          ],
          "scatter": [
           {
            "marker": {
             "colorbar": {
              "outlinewidth": 0,
              "ticks": ""
             }
            },
            "type": "scatter"
           }
          ],
          "scatter3d": [
           {
            "line": {
             "colorbar": {
              "outlinewidth": 0,
              "ticks": ""
             }
            },
            "marker": {
             "colorbar": {
              "outlinewidth": 0,
              "ticks": ""
             }
            },
            "type": "scatter3d"
           }
          ],
          "scattercarpet": [
           {
            "marker": {
             "colorbar": {
              "outlinewidth": 0,
              "ticks": ""
             }
            },
            "type": "scattercarpet"
           }
          ],
          "scattergeo": [
           {
            "marker": {
             "colorbar": {
              "outlinewidth": 0,
              "ticks": ""
             }
            },
            "type": "scattergeo"
           }
          ],
          "scattergl": [
           {
            "marker": {
             "colorbar": {
              "outlinewidth": 0,
              "ticks": ""
             }
            },
            "type": "scattergl"
           }
          ],
          "scattermapbox": [
           {
            "marker": {
             "colorbar": {
              "outlinewidth": 0,
              "ticks": ""
             }
            },
            "type": "scattermapbox"
           }
          ],
          "scatterpolar": [
           {
            "marker": {
             "colorbar": {
              "outlinewidth": 0,
              "ticks": ""
             }
            },
            "type": "scatterpolar"
           }
          ],
          "scatterpolargl": [
           {
            "marker": {
             "colorbar": {
              "outlinewidth": 0,
              "ticks": ""
             }
            },
            "type": "scatterpolargl"
           }
          ],
          "scatterternary": [
           {
            "marker": {
             "colorbar": {
              "outlinewidth": 0,
              "ticks": ""
             }
            },
            "type": "scatterternary"
           }
          ],
          "surface": [
           {
            "colorbar": {
             "outlinewidth": 0,
             "ticks": ""
            },
            "colorscale": [
             [
              0,
              "#0d0887"
             ],
             [
              0.1111111111111111,
              "#46039f"
             ],
             [
              0.2222222222222222,
              "#7201a8"
             ],
             [
              0.3333333333333333,
              "#9c179e"
             ],
             [
              0.4444444444444444,
              "#bd3786"
             ],
             [
              0.5555555555555556,
              "#d8576b"
             ],
             [
              0.6666666666666666,
              "#ed7953"
             ],
             [
              0.7777777777777778,
              "#fb9f3a"
             ],
             [
              0.8888888888888888,
              "#fdca26"
             ],
             [
              1,
              "#f0f921"
             ]
            ],
            "type": "surface"
           }
          ],
          "table": [
           {
            "cells": {
             "fill": {
              "color": "#EBF0F8"
             },
             "line": {
              "color": "white"
             }
            },
            "header": {
             "fill": {
              "color": "#C8D4E3"
             },
             "line": {
              "color": "white"
             }
            },
            "type": "table"
           }
          ]
         },
         "layout": {
          "annotationdefaults": {
           "arrowcolor": "#2a3f5f",
           "arrowhead": 0,
           "arrowwidth": 1
          },
          "autotypenumbers": "strict",
          "coloraxis": {
           "colorbar": {
            "outlinewidth": 0,
            "ticks": ""
           }
          },
          "colorscale": {
           "diverging": [
            [
             0,
             "#8e0152"
            ],
            [
             0.1,
             "#c51b7d"
            ],
            [
             0.2,
             "#de77ae"
            ],
            [
             0.3,
             "#f1b6da"
            ],
            [
             0.4,
             "#fde0ef"
            ],
            [
             0.5,
             "#f7f7f7"
            ],
            [
             0.6,
             "#e6f5d0"
            ],
            [
             0.7,
             "#b8e186"
            ],
            [
             0.8,
             "#7fbc41"
            ],
            [
             0.9,
             "#4d9221"
            ],
            [
             1,
             "#276419"
            ]
           ],
           "sequential": [
            [
             0,
             "#0d0887"
            ],
            [
             0.1111111111111111,
             "#46039f"
            ],
            [
             0.2222222222222222,
             "#7201a8"
            ],
            [
             0.3333333333333333,
             "#9c179e"
            ],
            [
             0.4444444444444444,
             "#bd3786"
            ],
            [
             0.5555555555555556,
             "#d8576b"
            ],
            [
             0.6666666666666666,
             "#ed7953"
            ],
            [
             0.7777777777777778,
             "#fb9f3a"
            ],
            [
             0.8888888888888888,
             "#fdca26"
            ],
            [
             1,
             "#f0f921"
            ]
           ],
           "sequentialminus": [
            [
             0,
             "#0d0887"
            ],
            [
             0.1111111111111111,
             "#46039f"
            ],
            [
             0.2222222222222222,
             "#7201a8"
            ],
            [
             0.3333333333333333,
             "#9c179e"
            ],
            [
             0.4444444444444444,
             "#bd3786"
            ],
            [
             0.5555555555555556,
             "#d8576b"
            ],
            [
             0.6666666666666666,
             "#ed7953"
            ],
            [
             0.7777777777777778,
             "#fb9f3a"
            ],
            [
             0.8888888888888888,
             "#fdca26"
            ],
            [
             1,
             "#f0f921"
            ]
           ]
          },
          "colorway": [
           "#636efa",
           "#EF553B",
           "#00cc96",
           "#ab63fa",
           "#FFA15A",
           "#19d3f3",
           "#FF6692",
           "#B6E880",
           "#FF97FF",
           "#FECB52"
          ],
          "font": {
           "color": "#2a3f5f"
          },
          "geo": {
           "bgcolor": "white",
           "lakecolor": "white",
           "landcolor": "#E5ECF6",
           "showlakes": true,
           "showland": true,
           "subunitcolor": "white"
          },
          "hoverlabel": {
           "align": "left"
          },
          "hovermode": "closest",
          "mapbox": {
           "style": "light"
          },
          "paper_bgcolor": "white",
          "plot_bgcolor": "#E5ECF6",
          "polar": {
           "angularaxis": {
            "gridcolor": "white",
            "linecolor": "white",
            "ticks": ""
           },
           "bgcolor": "#E5ECF6",
           "radialaxis": {
            "gridcolor": "white",
            "linecolor": "white",
            "ticks": ""
           }
          },
          "scene": {
           "xaxis": {
            "backgroundcolor": "#E5ECF6",
            "gridcolor": "white",
            "gridwidth": 2,
            "linecolor": "white",
            "showbackground": true,
            "ticks": "",
            "zerolinecolor": "white"
           },
           "yaxis": {
            "backgroundcolor": "#E5ECF6",
            "gridcolor": "white",
            "gridwidth": 2,
            "linecolor": "white",
            "showbackground": true,
            "ticks": "",
            "zerolinecolor": "white"
           },
           "zaxis": {
            "backgroundcolor": "#E5ECF6",
            "gridcolor": "white",
            "gridwidth": 2,
            "linecolor": "white",
            "showbackground": true,
            "ticks": "",
            "zerolinecolor": "white"
           }
          },
          "shapedefaults": {
           "line": {
            "color": "#2a3f5f"
           }
          },
          "ternary": {
           "aaxis": {
            "gridcolor": "white",
            "linecolor": "white",
            "ticks": ""
           },
           "baxis": {
            "gridcolor": "white",
            "linecolor": "white",
            "ticks": ""
           },
           "bgcolor": "#E5ECF6",
           "caxis": {
            "gridcolor": "white",
            "linecolor": "white",
            "ticks": ""
           }
          },
          "title": {
           "x": 0.05
          },
          "xaxis": {
           "automargin": true,
           "gridcolor": "white",
           "linecolor": "white",
           "ticks": "",
           "title": {
            "standoff": 15
           },
           "zerolinecolor": "white",
           "zerolinewidth": 2
          },
          "yaxis": {
           "automargin": true,
           "gridcolor": "white",
           "linecolor": "white",
           "ticks": "",
           "title": {
            "standoff": 15
           },
           "zerolinecolor": "white",
           "zerolinewidth": 2
          }
         }
        },
        "title": {
         "text": "Barplot of Feature importances"
        },
        "width": 1000,
        "yaxis": {
         "showgrid": false,
         "showline": false,
         "showticklabels": true
        }
       }
      },
      "text/html": [
       "<div>                            <div id=\"c63bf5a6-6ee3-4299-a6e6-b0f8b4a6d7c8\" class=\"plotly-graph-div\" style=\"height:1000px; width:1000px;\"></div>            <script type=\"text/javascript\">                require([\"plotly\"], function(Plotly) {                    window.PLOTLYENV=window.PLOTLYENV || {};                                    if (document.getElementById(\"c63bf5a6-6ee3-4299-a6e6-b0f8b4a6d7c8\")) {                    Plotly.newPlot(                        \"c63bf5a6-6ee3-4299-a6e6-b0f8b4a6d7c8\",                        [{\"marker\":{\"color\":[0.00022611538811243112,0.00029479989519716287,0.0010553496640839709,0.0011692006995994942,0.0011808303182901628,0.001253397577197855,0.001275685332105113,0.0013044976388484578,0.0013312641909754386,0.0020863695315801126,0.002309271794242466,0.002784946205753493,0.002806618704236188,0.002840510826930236,0.0034335474476393088,0.005553545645218384,0.006703013624165532,0.007519929100482778,0.059667089849214816,0.07100510529216462,0.12881447417354852,0.13861950876901744,0.22934761403405846,0.3274173142973376],\"colorscale\":[[0.0,\"#440154\"],[0.1111111111111111,\"#482878\"],[0.2222222222222222,\"#3e4989\"],[0.3333333333333333,\"#31688e\"],[0.4444444444444444,\"#26828e\"],[0.5555555555555556,\"#1f9e89\"],[0.6666666666666666,\"#35b779\"],[0.7777777777777778,\"#6ece58\"],[0.8888888888888888,\"#b5de2b\"],[1.0,\"#fde725\"]],\"reversescale\":true},\"name\":\"Random Forest Feature importance\",\"orientation\":\"h\",\"x\":[0.00022611538811243112,0.00029479989519716287,0.0010553496640839709,0.0011692006995994942,0.0011808303182901628,0.001253397577197855,0.001275685332105113,0.0013044976388484578,0.0013312641909754386,0.0020863695315801126,0.002309271794242466,0.002784946205753493,0.002806618704236188,0.002840510826930236,0.0034335474476393088,0.005553545645218384,0.006703013624165532,0.007519929100482778,0.059667089849214816,0.07100510529216462,0.12881447417354852,0.13861950876901744,0.22934761403405846,0.3274173142973376],\"y\":[\"Complain\",\"AcceptedCmp2\",\"AcceptedCmp1\",\"AcceptedCmp3\",\"Marital_Status_Married\",\"Response\",\"Marital_Status_Together\",\"Marital_Status_Single\",\"AcceptedCmp4\",\"Year_Birth\",\"AcceptedCmp5\",\"Recency\",\"Year_Customer\",\"Education\",\"Teenhome\",\"NumWebVisitsMonth\",\"Child\",\"NumDealsPurchases\",\"Kidhome\",\"NumWebPurchases\",\"NumStorePurchases\",\"Income\",\"NumCatalogPurchases\",\"TotalPurchases\"],\"type\":\"bar\"}],                        {\"height\":1000,\"margin\":{\"l\":300},\"template\":{\"data\":{\"barpolar\":[{\"marker\":{\"line\":{\"color\":\"#E5ECF6\",\"width\":0.5},\"pattern\":{\"fillmode\":\"overlay\",\"size\":10,\"solidity\":0.2}},\"type\":\"barpolar\"}],\"bar\":[{\"error_x\":{\"color\":\"#2a3f5f\"},\"error_y\":{\"color\":\"#2a3f5f\"},\"marker\":{\"line\":{\"color\":\"#E5ECF6\",\"width\":0.5},\"pattern\":{\"fillmode\":\"overlay\",\"size\":10,\"solidity\":0.2}},\"type\":\"bar\"}],\"carpet\":[{\"aaxis\":{\"endlinecolor\":\"#2a3f5f\",\"gridcolor\":\"white\",\"linecolor\":\"white\",\"minorgridcolor\":\"white\",\"startlinecolor\":\"#2a3f5f\"},\"baxis\":{\"endlinecolor\":\"#2a3f5f\",\"gridcolor\":\"white\",\"linecolor\":\"white\",\"minorgridcolor\":\"white\",\"startlinecolor\":\"#2a3f5f\"},\"type\":\"carpet\"}],\"choropleth\":[{\"colorbar\":{\"outlinewidth\":0,\"ticks\":\"\"},\"type\":\"choropleth\"}],\"contourcarpet\":[{\"colorbar\":{\"outlinewidth\":0,\"ticks\":\"\"},\"type\":\"contourcarpet\"}],\"contour\":[{\"colorbar\":{\"outlinewidth\":0,\"ticks\":\"\"},\"colorscale\":[[0.0,\"#0d0887\"],[0.1111111111111111,\"#46039f\"],[0.2222222222222222,\"#7201a8\"],[0.3333333333333333,\"#9c179e\"],[0.4444444444444444,\"#bd3786\"],[0.5555555555555556,\"#d8576b\"],[0.6666666666666666,\"#ed7953\"],[0.7777777777777778,\"#fb9f3a\"],[0.8888888888888888,\"#fdca26\"],[1.0,\"#f0f921\"]],\"type\":\"contour\"}],\"heatmapgl\":[{\"colorbar\":{\"outlinewidth\":0,\"ticks\":\"\"},\"colorscale\":[[0.0,\"#0d0887\"],[0.1111111111111111,\"#46039f\"],[0.2222222222222222,\"#7201a8\"],[0.3333333333333333,\"#9c179e\"],[0.4444444444444444,\"#bd3786\"],[0.5555555555555556,\"#d8576b\"],[0.6666666666666666,\"#ed7953\"],[0.7777777777777778,\"#fb9f3a\"],[0.8888888888888888,\"#fdca26\"],[1.0,\"#f0f921\"]],\"type\":\"heatmapgl\"}],\"heatmap\":[{\"colorbar\":{\"outlinewidth\":0,\"ticks\":\"\"},\"colorscale\":[[0.0,\"#0d0887\"],[0.1111111111111111,\"#46039f\"],[0.2222222222222222,\"#7201a8\"],[0.3333333333333333,\"#9c179e\"],[0.4444444444444444,\"#bd3786\"],[0.5555555555555556,\"#d8576b\"],[0.6666666666666666,\"#ed7953\"],[0.7777777777777778,\"#fb9f3a\"],[0.8888888888888888,\"#fdca26\"],[1.0,\"#f0f921\"]],\"type\":\"heatmap\"}],\"histogram2dcontour\":[{\"colorbar\":{\"outlinewidth\":0,\"ticks\":\"\"},\"colorscale\":[[0.0,\"#0d0887\"],[0.1111111111111111,\"#46039f\"],[0.2222222222222222,\"#7201a8\"],[0.3333333333333333,\"#9c179e\"],[0.4444444444444444,\"#bd3786\"],[0.5555555555555556,\"#d8576b\"],[0.6666666666666666,\"#ed7953\"],[0.7777777777777778,\"#fb9f3a\"],[0.8888888888888888,\"#fdca26\"],[1.0,\"#f0f921\"]],\"type\":\"histogram2dcontour\"}],\"histogram2d\":[{\"colorbar\":{\"outlinewidth\":0,\"ticks\":\"\"},\"colorscale\":[[0.0,\"#0d0887\"],[0.1111111111111111,\"#46039f\"],[0.2222222222222222,\"#7201a8\"],[0.3333333333333333,\"#9c179e\"],[0.4444444444444444,\"#bd3786\"],[0.5555555555555556,\"#d8576b\"],[0.6666666666666666,\"#ed7953\"],[0.7777777777777778,\"#fb9f3a\"],[0.8888888888888888,\"#fdca26\"],[1.0,\"#f0f921\"]],\"type\":\"histogram2d\"}],\"histogram\":[{\"marker\":{\"pattern\":{\"fillmode\":\"overlay\",\"size\":10,\"solidity\":0.2}},\"type\":\"histogram\"}],\"mesh3d\":[{\"colorbar\":{\"outlinewidth\":0,\"ticks\":\"\"},\"type\":\"mesh3d\"}],\"parcoords\":[{\"line\":{\"colorbar\":{\"outlinewidth\":0,\"ticks\":\"\"}},\"type\":\"parcoords\"}],\"pie\":[{\"automargin\":true,\"type\":\"pie\"}],\"scatter3d\":[{\"line\":{\"colorbar\":{\"outlinewidth\":0,\"ticks\":\"\"}},\"marker\":{\"colorbar\":{\"outlinewidth\":0,\"ticks\":\"\"}},\"type\":\"scatter3d\"}],\"scattercarpet\":[{\"marker\":{\"colorbar\":{\"outlinewidth\":0,\"ticks\":\"\"}},\"type\":\"scattercarpet\"}],\"scattergeo\":[{\"marker\":{\"colorbar\":{\"outlinewidth\":0,\"ticks\":\"\"}},\"type\":\"scattergeo\"}],\"scattergl\":[{\"marker\":{\"colorbar\":{\"outlinewidth\":0,\"ticks\":\"\"}},\"type\":\"scattergl\"}],\"scattermapbox\":[{\"marker\":{\"colorbar\":{\"outlinewidth\":0,\"ticks\":\"\"}},\"type\":\"scattermapbox\"}],\"scatterpolargl\":[{\"marker\":{\"colorbar\":{\"outlinewidth\":0,\"ticks\":\"\"}},\"type\":\"scatterpolargl\"}],\"scatterpolar\":[{\"marker\":{\"colorbar\":{\"outlinewidth\":0,\"ticks\":\"\"}},\"type\":\"scatterpolar\"}],\"scatter\":[{\"marker\":{\"colorbar\":{\"outlinewidth\":0,\"ticks\":\"\"}},\"type\":\"scatter\"}],\"scatterternary\":[{\"marker\":{\"colorbar\":{\"outlinewidth\":0,\"ticks\":\"\"}},\"type\":\"scatterternary\"}],\"surface\":[{\"colorbar\":{\"outlinewidth\":0,\"ticks\":\"\"},\"colorscale\":[[0.0,\"#0d0887\"],[0.1111111111111111,\"#46039f\"],[0.2222222222222222,\"#7201a8\"],[0.3333333333333333,\"#9c179e\"],[0.4444444444444444,\"#bd3786\"],[0.5555555555555556,\"#d8576b\"],[0.6666666666666666,\"#ed7953\"],[0.7777777777777778,\"#fb9f3a\"],[0.8888888888888888,\"#fdca26\"],[1.0,\"#f0f921\"]],\"type\":\"surface\"}],\"table\":[{\"cells\":{\"fill\":{\"color\":\"#EBF0F8\"},\"line\":{\"color\":\"white\"}},\"header\":{\"fill\":{\"color\":\"#C8D4E3\"},\"line\":{\"color\":\"white\"}},\"type\":\"table\"}]},\"layout\":{\"annotationdefaults\":{\"arrowcolor\":\"#2a3f5f\",\"arrowhead\":0,\"arrowwidth\":1},\"autotypenumbers\":\"strict\",\"coloraxis\":{\"colorbar\":{\"outlinewidth\":0,\"ticks\":\"\"}},\"colorscale\":{\"diverging\":[[0,\"#8e0152\"],[0.1,\"#c51b7d\"],[0.2,\"#de77ae\"],[0.3,\"#f1b6da\"],[0.4,\"#fde0ef\"],[0.5,\"#f7f7f7\"],[0.6,\"#e6f5d0\"],[0.7,\"#b8e186\"],[0.8,\"#7fbc41\"],[0.9,\"#4d9221\"],[1,\"#276419\"]],\"sequential\":[[0.0,\"#0d0887\"],[0.1111111111111111,\"#46039f\"],[0.2222222222222222,\"#7201a8\"],[0.3333333333333333,\"#9c179e\"],[0.4444444444444444,\"#bd3786\"],[0.5555555555555556,\"#d8576b\"],[0.6666666666666666,\"#ed7953\"],[0.7777777777777778,\"#fb9f3a\"],[0.8888888888888888,\"#fdca26\"],[1.0,\"#f0f921\"]],\"sequentialminus\":[[0.0,\"#0d0887\"],[0.1111111111111111,\"#46039f\"],[0.2222222222222222,\"#7201a8\"],[0.3333333333333333,\"#9c179e\"],[0.4444444444444444,\"#bd3786\"],[0.5555555555555556,\"#d8576b\"],[0.6666666666666666,\"#ed7953\"],[0.7777777777777778,\"#fb9f3a\"],[0.8888888888888888,\"#fdca26\"],[1.0,\"#f0f921\"]]},\"colorway\":[\"#636efa\",\"#EF553B\",\"#00cc96\",\"#ab63fa\",\"#FFA15A\",\"#19d3f3\",\"#FF6692\",\"#B6E880\",\"#FF97FF\",\"#FECB52\"],\"font\":{\"color\":\"#2a3f5f\"},\"geo\":{\"bgcolor\":\"white\",\"lakecolor\":\"white\",\"landcolor\":\"#E5ECF6\",\"showlakes\":true,\"showland\":true,\"subunitcolor\":\"white\"},\"hoverlabel\":{\"align\":\"left\"},\"hovermode\":\"closest\",\"mapbox\":{\"style\":\"light\"},\"paper_bgcolor\":\"white\",\"plot_bgcolor\":\"#E5ECF6\",\"polar\":{\"angularaxis\":{\"gridcolor\":\"white\",\"linecolor\":\"white\",\"ticks\":\"\"},\"bgcolor\":\"#E5ECF6\",\"radialaxis\":{\"gridcolor\":\"white\",\"linecolor\":\"white\",\"ticks\":\"\"}},\"scene\":{\"xaxis\":{\"backgroundcolor\":\"#E5ECF6\",\"gridcolor\":\"white\",\"gridwidth\":2,\"linecolor\":\"white\",\"showbackground\":true,\"ticks\":\"\",\"zerolinecolor\":\"white\"},\"yaxis\":{\"backgroundcolor\":\"#E5ECF6\",\"gridcolor\":\"white\",\"gridwidth\":2,\"linecolor\":\"white\",\"showbackground\":true,\"ticks\":\"\",\"zerolinecolor\":\"white\"},\"zaxis\":{\"backgroundcolor\":\"#E5ECF6\",\"gridcolor\":\"white\",\"gridwidth\":2,\"linecolor\":\"white\",\"showbackground\":true,\"ticks\":\"\",\"zerolinecolor\":\"white\"}},\"shapedefaults\":{\"line\":{\"color\":\"#2a3f5f\"}},\"ternary\":{\"aaxis\":{\"gridcolor\":\"white\",\"linecolor\":\"white\",\"ticks\":\"\"},\"baxis\":{\"gridcolor\":\"white\",\"linecolor\":\"white\",\"ticks\":\"\"},\"bgcolor\":\"#E5ECF6\",\"caxis\":{\"gridcolor\":\"white\",\"linecolor\":\"white\",\"ticks\":\"\"}},\"title\":{\"x\":0.05},\"xaxis\":{\"automargin\":true,\"gridcolor\":\"white\",\"linecolor\":\"white\",\"ticks\":\"\",\"title\":{\"standoff\":15},\"zerolinecolor\":\"white\",\"zerolinewidth\":2},\"yaxis\":{\"automargin\":true,\"gridcolor\":\"white\",\"linecolor\":\"white\",\"ticks\":\"\",\"title\":{\"standoff\":15},\"zerolinecolor\":\"white\",\"zerolinewidth\":2}}},\"title\":{\"text\":\"Barplot of Feature importances\"},\"width\":1000,\"yaxis\":{\"showgrid\":false,\"showline\":false,\"showticklabels\":true}},                        {\"responsive\": true}                    ).then(function(){\n",
       "                            \n",
       "var gd = document.getElementById('c63bf5a6-6ee3-4299-a6e6-b0f8b4a6d7c8');\n",
       "var x = new MutationObserver(function (mutations, observer) {{\n",
       "        var display = window.getComputedStyle(gd).display;\n",
       "        if (!display || display === 'none') {{\n",
       "            console.log([gd, 'removed!']);\n",
       "            Plotly.purge(gd);\n",
       "            observer.disconnect();\n",
       "        }}\n",
       "}});\n",
       "\n",
       "// Listen for the removal of the full notebook cells\n",
       "var notebookContainer = gd.closest('#notebook-container');\n",
       "if (notebookContainer) {{\n",
       "    x.observe(notebookContainer, {childList: true});\n",
       "}}\n",
       "\n",
       "// Listen for the clearing of the current output cell\n",
       "var outputEl = gd.closest('.output');\n",
       "if (outputEl) {{\n",
       "    x.observe(outputEl, {childList: true});\n",
       "}}\n",
       "\n",
       "                        })                };                });            </script>        </div>"
      ]
     },
     "metadata": {},
     "output_type": "display_data"
    }
   ],
   "source": [
    "import plotly.offline as py\n",
    "py.init_notebook_mode(connected=True)\n",
    "from plotly.offline import init_notebook_mode, iplot\n",
    "init_notebook_mode(connected=True)\n",
    "import plotly.graph_objs as go\n",
    "import plotly.offline as offline\n",
    "x, y = (list(x) for x in zip(*sorted(zip(etr.feature_importances_, X_train.columns.values), \n",
    "                                                            reverse = False)))\n",
    "trace2 = go.Bar(\n",
    "    x=x ,\n",
    "    y=y,\n",
    "    marker=dict(\n",
    "        color=x,\n",
    "        colorscale = 'Viridis',\n",
    "        reversescale = True\n",
    "    ),\n",
    "    name='Random Forest Feature importance',\n",
    "    orientation='h',\n",
    ")\n",
    "\n",
    "layout = dict(\n",
    "    title='Barplot of Feature importances',\n",
    "     width = 1000, height = 1000,\n",
    "    yaxis=dict(\n",
    "        showgrid=False,\n",
    "        showline=False,\n",
    "        showticklabels=True,\n",
    "#         domain=[0, 0.85],\n",
    "    ),\n",
    "    margin=dict(\n",
    "    l=300,\n",
    "),\n",
    ")\n",
    "\n",
    "fig1 = go.Figure(data=[trace2])\n",
    "fig1['layout'].update(layout)\n",
    "py.iplot(fig1, filename='plots')"
   ]
  },
  {
   "cell_type": "markdown",
   "id": "fe807a0e",
   "metadata": {},
   "source": [
    "# pred"
   ]
  },
  {
   "cell_type": "code",
   "execution_count": 58,
   "id": "65295353",
   "metadata": {
    "ExecuteTime": {
     "end_time": "2022-05-10T01:49:03.119144Z",
     "start_time": "2022-05-10T01:49:02.912363Z"
    }
   },
   "outputs": [],
   "source": [
    "final_pred = vot_model.predict(test)\n",
    "sample_submission['target'] = np.expm1(final_pred)\n",
    "sample_submission.to_csv(\"/Users/bnj/Desktop/백남진/project/data/drive-download-20220502T013044Z-001/submision.csv\",index=False)"
   ]
  }
 ],
 "metadata": {
  "kernelspec": {
   "display_name": "Python 3 (ipykernel)",
   "language": "python",
   "name": "python3"
  },
  "language_info": {
   "codemirror_mode": {
    "name": "ipython",
    "version": 3
   },
   "file_extension": ".py",
   "mimetype": "text/x-python",
   "name": "python",
   "nbconvert_exporter": "python",
   "pygments_lexer": "ipython3",
   "version": "3.9.7"
  },
  "toc": {
   "base_numbering": 1,
   "nav_menu": {},
   "number_sections": true,
   "sideBar": true,
   "skip_h1_title": false,
   "title_cell": "Table of Contents",
   "title_sidebar": "Contents",
   "toc_cell": false,
   "toc_position": {},
   "toc_section_display": true,
   "toc_window_display": false
  },
  "varInspector": {
   "cols": {
    "lenName": 16,
    "lenType": 16,
    "lenVar": 40
   },
   "kernels_config": {
    "python": {
     "delete_cmd_postfix": "",
     "delete_cmd_prefix": "del ",
     "library": "var_list.py",
     "varRefreshCmd": "print(var_dic_list())"
    },
    "r": {
     "delete_cmd_postfix": ") ",
     "delete_cmd_prefix": "rm(",
     "library": "var_list.r",
     "varRefreshCmd": "cat(var_dic_list()) "
    }
   },
   "types_to_exclude": [
    "module",
    "function",
    "builtin_function_or_method",
    "instance",
    "_Feature"
   ],
   "window_display": false
  }
 },
 "nbformat": 4,
 "nbformat_minor": 5
}
