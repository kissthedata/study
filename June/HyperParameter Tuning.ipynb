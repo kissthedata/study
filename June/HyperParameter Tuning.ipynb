{
 "cells": [
  {
   "cell_type": "code",
   "execution_count": 1,
   "id": "ff28064d",
   "metadata": {
    "ExecuteTime": {
     "end_time": "2022-06-09T04:12:19.119701Z",
     "start_time": "2022-06-09T04:12:19.107513Z"
    }
   },
   "outputs": [],
   "source": [
    "data = pd.read_csv(\"./data.csv\")\n",
    "data.drop(['id','Unnamed: 32'],1,inplace=True)"
   ]
  },
  {
   "cell_type": "code",
   "execution_count": 2,
   "id": "b149ee16",
   "metadata": {
    "ExecuteTime": {
     "end_time": "2022-06-09T04:12:19.133457Z",
     "start_time": "2022-06-09T04:12:19.120970Z"
    }
   },
   "outputs": [
    {
     "data": {
      "text/html": [
       "<div>\n",
       "<style scoped>\n",
       "    .dataframe tbody tr th:only-of-type {\n",
       "        vertical-align: middle;\n",
       "    }\n",
       "\n",
       "    .dataframe tbody tr th {\n",
       "        vertical-align: top;\n",
       "    }\n",
       "\n",
       "    .dataframe thead th {\n",
       "        text-align: right;\n",
       "    }\n",
       "</style>\n",
       "<table border=\"1\" class=\"dataframe\">\n",
       "  <thead>\n",
       "    <tr style=\"text-align: right;\">\n",
       "      <th></th>\n",
       "      <th>diagnosis</th>\n",
       "      <th>radius_mean</th>\n",
       "      <th>texture_mean</th>\n",
       "      <th>perimeter_mean</th>\n",
       "      <th>area_mean</th>\n",
       "      <th>smoothness_mean</th>\n",
       "      <th>compactness_mean</th>\n",
       "      <th>concavity_mean</th>\n",
       "      <th>concave points_mean</th>\n",
       "      <th>symmetry_mean</th>\n",
       "      <th>fractal_dimension_mean</th>\n",
       "      <th>radius_se</th>\n",
       "      <th>texture_se</th>\n",
       "      <th>perimeter_se</th>\n",
       "      <th>area_se</th>\n",
       "      <th>smoothness_se</th>\n",
       "      <th>compactness_se</th>\n",
       "      <th>concavity_se</th>\n",
       "      <th>concave points_se</th>\n",
       "      <th>symmetry_se</th>\n",
       "      <th>fractal_dimension_se</th>\n",
       "      <th>radius_worst</th>\n",
       "      <th>texture_worst</th>\n",
       "      <th>perimeter_worst</th>\n",
       "      <th>area_worst</th>\n",
       "      <th>smoothness_worst</th>\n",
       "      <th>compactness_worst</th>\n",
       "      <th>concavity_worst</th>\n",
       "      <th>concave points_worst</th>\n",
       "      <th>symmetry_worst</th>\n",
       "      <th>fractal_dimension_worst</th>\n",
       "    </tr>\n",
       "  </thead>\n",
       "  <tbody>\n",
       "    <tr>\n",
       "      <th>0</th>\n",
       "      <td>M</td>\n",
       "      <td>17.9900</td>\n",
       "      <td>10.3800</td>\n",
       "      <td>122.8000</td>\n",
       "      <td>1001.0000</td>\n",
       "      <td>0.1184</td>\n",
       "      <td>0.2776</td>\n",
       "      <td>0.3001</td>\n",
       "      <td>0.1471</td>\n",
       "      <td>0.2419</td>\n",
       "      <td>0.0787</td>\n",
       "      <td>1.0950</td>\n",
       "      <td>0.9053</td>\n",
       "      <td>8.5890</td>\n",
       "      <td>153.4000</td>\n",
       "      <td>0.0064</td>\n",
       "      <td>0.0490</td>\n",
       "      <td>0.0537</td>\n",
       "      <td>0.0159</td>\n",
       "      <td>0.0300</td>\n",
       "      <td>0.0062</td>\n",
       "      <td>25.3800</td>\n",
       "      <td>17.3300</td>\n",
       "      <td>184.6000</td>\n",
       "      <td>2019.0000</td>\n",
       "      <td>0.1622</td>\n",
       "      <td>0.6656</td>\n",
       "      <td>0.7119</td>\n",
       "      <td>0.2654</td>\n",
       "      <td>0.4601</td>\n",
       "      <td>0.1189</td>\n",
       "    </tr>\n",
       "    <tr>\n",
       "      <th>1</th>\n",
       "      <td>M</td>\n",
       "      <td>20.5700</td>\n",
       "      <td>17.7700</td>\n",
       "      <td>132.9000</td>\n",
       "      <td>1326.0000</td>\n",
       "      <td>0.0847</td>\n",
       "      <td>0.0786</td>\n",
       "      <td>0.0869</td>\n",
       "      <td>0.0702</td>\n",
       "      <td>0.1812</td>\n",
       "      <td>0.0567</td>\n",
       "      <td>0.5435</td>\n",
       "      <td>0.7339</td>\n",
       "      <td>3.3980</td>\n",
       "      <td>74.0800</td>\n",
       "      <td>0.0052</td>\n",
       "      <td>0.0131</td>\n",
       "      <td>0.0186</td>\n",
       "      <td>0.0134</td>\n",
       "      <td>0.0139</td>\n",
       "      <td>0.0035</td>\n",
       "      <td>24.9900</td>\n",
       "      <td>23.4100</td>\n",
       "      <td>158.8000</td>\n",
       "      <td>1956.0000</td>\n",
       "      <td>0.1238</td>\n",
       "      <td>0.1866</td>\n",
       "      <td>0.2416</td>\n",
       "      <td>0.1860</td>\n",
       "      <td>0.2750</td>\n",
       "      <td>0.0890</td>\n",
       "    </tr>\n",
       "    <tr>\n",
       "      <th>2</th>\n",
       "      <td>M</td>\n",
       "      <td>19.6900</td>\n",
       "      <td>21.2500</td>\n",
       "      <td>130.0000</td>\n",
       "      <td>1203.0000</td>\n",
       "      <td>0.1096</td>\n",
       "      <td>0.1599</td>\n",
       "      <td>0.1974</td>\n",
       "      <td>0.1279</td>\n",
       "      <td>0.2069</td>\n",
       "      <td>0.0600</td>\n",
       "      <td>0.7456</td>\n",
       "      <td>0.7869</td>\n",
       "      <td>4.5850</td>\n",
       "      <td>94.0300</td>\n",
       "      <td>0.0062</td>\n",
       "      <td>0.0401</td>\n",
       "      <td>0.0383</td>\n",
       "      <td>0.0206</td>\n",
       "      <td>0.0225</td>\n",
       "      <td>0.0046</td>\n",
       "      <td>23.5700</td>\n",
       "      <td>25.5300</td>\n",
       "      <td>152.5000</td>\n",
       "      <td>1709.0000</td>\n",
       "      <td>0.1444</td>\n",
       "      <td>0.4245</td>\n",
       "      <td>0.4504</td>\n",
       "      <td>0.2430</td>\n",
       "      <td>0.3613</td>\n",
       "      <td>0.0876</td>\n",
       "    </tr>\n",
       "    <tr>\n",
       "      <th>3</th>\n",
       "      <td>M</td>\n",
       "      <td>11.4200</td>\n",
       "      <td>20.3800</td>\n",
       "      <td>77.5800</td>\n",
       "      <td>386.1000</td>\n",
       "      <td>0.1425</td>\n",
       "      <td>0.2839</td>\n",
       "      <td>0.2414</td>\n",
       "      <td>0.1052</td>\n",
       "      <td>0.2597</td>\n",
       "      <td>0.0974</td>\n",
       "      <td>0.4956</td>\n",
       "      <td>1.1560</td>\n",
       "      <td>3.4450</td>\n",
       "      <td>27.2300</td>\n",
       "      <td>0.0091</td>\n",
       "      <td>0.0746</td>\n",
       "      <td>0.0566</td>\n",
       "      <td>0.0187</td>\n",
       "      <td>0.0596</td>\n",
       "      <td>0.0092</td>\n",
       "      <td>14.9100</td>\n",
       "      <td>26.5000</td>\n",
       "      <td>98.8700</td>\n",
       "      <td>567.7000</td>\n",
       "      <td>0.2098</td>\n",
       "      <td>0.8663</td>\n",
       "      <td>0.6869</td>\n",
       "      <td>0.2575</td>\n",
       "      <td>0.6638</td>\n",
       "      <td>0.1730</td>\n",
       "    </tr>\n",
       "    <tr>\n",
       "      <th>4</th>\n",
       "      <td>M</td>\n",
       "      <td>20.2900</td>\n",
       "      <td>14.3400</td>\n",
       "      <td>135.1000</td>\n",
       "      <td>1297.0000</td>\n",
       "      <td>0.1003</td>\n",
       "      <td>0.1328</td>\n",
       "      <td>0.1980</td>\n",
       "      <td>0.1043</td>\n",
       "      <td>0.1809</td>\n",
       "      <td>0.0588</td>\n",
       "      <td>0.7572</td>\n",
       "      <td>0.7813</td>\n",
       "      <td>5.4380</td>\n",
       "      <td>94.4400</td>\n",
       "      <td>0.0115</td>\n",
       "      <td>0.0246</td>\n",
       "      <td>0.0569</td>\n",
       "      <td>0.0188</td>\n",
       "      <td>0.0176</td>\n",
       "      <td>0.0051</td>\n",
       "      <td>22.5400</td>\n",
       "      <td>16.6700</td>\n",
       "      <td>152.2000</td>\n",
       "      <td>1575.0000</td>\n",
       "      <td>0.1374</td>\n",
       "      <td>0.2050</td>\n",
       "      <td>0.4000</td>\n",
       "      <td>0.1625</td>\n",
       "      <td>0.2364</td>\n",
       "      <td>0.0768</td>\n",
       "    </tr>\n",
       "  </tbody>\n",
       "</table>\n",
       "</div>"
      ],
      "text/plain": [
       "  diagnosis  radius_mean  texture_mean  perimeter_mean  area_mean  \\\n",
       "0         M      17.9900       10.3800        122.8000  1001.0000   \n",
       "1         M      20.5700       17.7700        132.9000  1326.0000   \n",
       "2         M      19.6900       21.2500        130.0000  1203.0000   \n",
       "3         M      11.4200       20.3800         77.5800   386.1000   \n",
       "4         M      20.2900       14.3400        135.1000  1297.0000   \n",
       "\n",
       "   smoothness_mean  compactness_mean  concavity_mean  concave points_mean  \\\n",
       "0           0.1184            0.2776          0.3001               0.1471   \n",
       "1           0.0847            0.0786          0.0869               0.0702   \n",
       "2           0.1096            0.1599          0.1974               0.1279   \n",
       "3           0.1425            0.2839          0.2414               0.1052   \n",
       "4           0.1003            0.1328          0.1980               0.1043   \n",
       "\n",
       "   symmetry_mean  fractal_dimension_mean  radius_se  texture_se  perimeter_se  \\\n",
       "0         0.2419                  0.0787     1.0950      0.9053        8.5890   \n",
       "1         0.1812                  0.0567     0.5435      0.7339        3.3980   \n",
       "2         0.2069                  0.0600     0.7456      0.7869        4.5850   \n",
       "3         0.2597                  0.0974     0.4956      1.1560        3.4450   \n",
       "4         0.1809                  0.0588     0.7572      0.7813        5.4380   \n",
       "\n",
       "   area_se  smoothness_se  compactness_se  concavity_se  concave points_se  \\\n",
       "0 153.4000         0.0064          0.0490        0.0537             0.0159   \n",
       "1  74.0800         0.0052          0.0131        0.0186             0.0134   \n",
       "2  94.0300         0.0062          0.0401        0.0383             0.0206   \n",
       "3  27.2300         0.0091          0.0746        0.0566             0.0187   \n",
       "4  94.4400         0.0115          0.0246        0.0569             0.0188   \n",
       "\n",
       "   symmetry_se  fractal_dimension_se  radius_worst  texture_worst  \\\n",
       "0       0.0300                0.0062       25.3800        17.3300   \n",
       "1       0.0139                0.0035       24.9900        23.4100   \n",
       "2       0.0225                0.0046       23.5700        25.5300   \n",
       "3       0.0596                0.0092       14.9100        26.5000   \n",
       "4       0.0176                0.0051       22.5400        16.6700   \n",
       "\n",
       "   perimeter_worst  area_worst  smoothness_worst  compactness_worst  \\\n",
       "0         184.6000   2019.0000            0.1622             0.6656   \n",
       "1         158.8000   1956.0000            0.1238             0.1866   \n",
       "2         152.5000   1709.0000            0.1444             0.4245   \n",
       "3          98.8700    567.7000            0.2098             0.8663   \n",
       "4         152.2000   1575.0000            0.1374             0.2050   \n",
       "\n",
       "   concavity_worst  concave points_worst  symmetry_worst  \\\n",
       "0           0.7119                0.2654          0.4601   \n",
       "1           0.2416                0.1860          0.2750   \n",
       "2           0.4504                0.2430          0.3613   \n",
       "3           0.6869                0.2575          0.6638   \n",
       "4           0.4000                0.1625          0.2364   \n",
       "\n",
       "   fractal_dimension_worst  \n",
       "0                   0.1189  \n",
       "1                   0.0890  \n",
       "2                   0.0876  \n",
       "3                   0.1730  \n",
       "4                   0.0768  "
      ]
     },
     "execution_count": 2,
     "metadata": {},
     "output_type": "execute_result"
    }
   ],
   "source": [
    "data.head()"
   ]
  },
  {
   "cell_type": "code",
   "execution_count": 3,
   "id": "c541f206",
   "metadata": {
    "ExecuteTime": {
     "end_time": "2022-06-09T04:12:19.136681Z",
     "start_time": "2022-06-09T04:12:19.134361Z"
    }
   },
   "outputs": [
    {
     "data": {
      "text/plain": [
       "(569, 31)"
      ]
     },
     "execution_count": 3,
     "metadata": {},
     "output_type": "execute_result"
    }
   ],
   "source": [
    "data.shape"
   ]
  },
  {
   "cell_type": "code",
   "execution_count": 4,
   "id": "30810439",
   "metadata": {
    "ExecuteTime": {
     "end_time": "2022-06-09T04:12:19.140927Z",
     "start_time": "2022-06-09T04:12:19.138332Z"
    }
   },
   "outputs": [],
   "source": [
    "data['diagnosis']= data['diagnosis'].apply(lambda x : 1 if x == 'M' else 0)"
   ]
  },
  {
   "cell_type": "code",
   "execution_count": 5,
   "id": "9a370cb0",
   "metadata": {
    "ExecuteTime": {
     "end_time": "2022-06-09T04:12:19.274339Z",
     "start_time": "2022-06-09T04:12:19.141858Z"
    }
   },
   "outputs": [],
   "source": [
    "train = data[:500]\n",
    "test = data[500:]\n",
    "target = test['diagnosis']\n",
    "test.drop(['diagnosis'],1,inplace=True)"
   ]
  },
  {
   "cell_type": "markdown",
   "id": "390d9300",
   "metadata": {},
   "source": [
    "# StandardScaler"
   ]
  },
  {
   "cell_type": "code",
   "execution_count": 6,
   "id": "3bf1aa64",
   "metadata": {
    "ExecuteTime": {
     "end_time": "2022-06-09T04:12:19.352356Z",
     "start_time": "2022-06-09T04:12:19.275481Z"
    }
   },
   "outputs": [
    {
     "data": {
      "text/plain": [
       "<AxesSubplot:>"
      ]
     },
     "execution_count": 6,
     "metadata": {},
     "output_type": "execute_result"
    },
    {
     "data": {
      "image/png": "[encoded data removed]",
      "text/plain": [
       "<Figure size 576x396 with 1 Axes>"
      ]
     },
     "metadata": {},
     "output_type": "display_data"
    }
   ],
   "source": [
    "train['diagnosis'].value_counts().plot.bar()"
   ]
  },
  {
   "cell_type": "code",
   "execution_count": 7,
   "id": "b299713e",
   "metadata": {
    "ExecuteTime": {
     "end_time": "2022-06-09T04:12:19.423463Z",
     "start_time": "2022-06-09T04:12:19.353468Z"
    }
   },
   "outputs": [
    {
     "data": {
      "text/plain": [
       "0.9773238380809596"
      ]
     },
     "execution_count": 7,
     "metadata": {},
     "output_type": "execute_result"
    }
   ],
   "source": [
    "X = train.iloc[:,1: ]\n",
    "y = train.iloc[:,0]\n",
    "\n",
    "X_train,X_test,y_train,y_test = train_test_split(X,y,test_size=.3, random_state=42)\n",
    "\n",
    "from sklearn.preprocessing import StandardScaler\n",
    "\n",
    "scaler = StandardScaler()\n",
    "X_train= scaler.fit_transform(X_train)\n",
    "X_test = scaler.transform(X_test)\n",
    "\n",
    "from sklearn.neighbors import KNeighborsClassifier\n",
    "\n",
    "model=KNeighborsClassifier(n_neighbors=3)\n",
    "\n",
    "model.fit(X_train,y_train)\n",
    "\n",
    "pred = model.predict(X_test)\n",
    "\n",
    "from sklearn.metrics import roc_auc_score, accuracy_score, f1_score, classification_report\n",
    "\n",
    "roc_auc_score(y_test,pred)"
   ]
  },
  {
   "cell_type": "markdown",
   "id": "6714d5cc",
   "metadata": {},
   "source": [
    "---"
   ]
  },
  {
   "cell_type": "markdown",
   "id": "ef5893ee",
   "metadata": {},
   "source": [
    "위 과정을 pipeline으로 간결하게, 한 번에 작업이 가능합니다."
   ]
  },
  {
   "cell_type": "markdown",
   "id": "3a0ca7ce",
   "metadata": {},
   "source": [
    "# PIPELINE"
   ]
  },
  {
   "cell_type": "code",
   "execution_count": 8,
   "id": "5f60be29",
   "metadata": {
    "ExecuteTime": {
     "end_time": "2022-06-09T04:12:19.434849Z",
     "start_time": "2022-06-09T04:12:19.424831Z"
    }
   },
   "outputs": [
    {
     "data": {
      "text/plain": [
       "0.9773238380809596"
      ]
     },
     "execution_count": 8,
     "metadata": {},
     "output_type": "execute_result"
    }
   ],
   "source": [
    "from sklearn.pipeline import Pipeline\n",
    "\n",
    "pipe = Pipeline([\n",
    "    ('scaler',StandardScaler()),\n",
    "    ('KNN',KNeighborsClassifier(n_neighbors=3))\n",
    "])\n",
    "\n",
    "pipe.fit(X_train,y_train)\n",
    "\n",
    "roc_auc_score(y_test, pipe.predict(X_test))"
   ]
  },
  {
   "cell_type": "markdown",
   "id": "91447488",
   "metadata": {},
   "source": [
    "# Models"
   ]
  },
  {
   "cell_type": "code",
   "execution_count": 23,
   "id": "4ae99202",
   "metadata": {
    "ExecuteTime": {
     "end_time": "2022-06-09T04:22:06.912446Z",
     "start_time": "2022-06-09T04:22:02.047995Z"
    }
   },
   "outputs": [
    {
     "name": "stdout",
     "output_type": "stream",
     "text": [
      "[13:22:02] WARNING: ../src/learner.cc:1115: Starting in XGBoost 1.3.0, the default evaluation metric used with the objective 'binary:logistic' was changed from 'error' to 'logloss'. Explicitly set eval_metric if you'd like to restore the old behavior.\n",
      "Learning rate set to 0.00658\n",
      "0:\tlearn: 0.6822826\ttotal: 2.24ms\tremaining: 2.24s\n",
      "1:\tlearn: 0.6728725\ttotal: 4.44ms\tremaining: 2.21s\n",
      "2:\tlearn: 0.6634260\ttotal: 6.45ms\tremaining: 2.14s\n",
      "3:\tlearn: 0.6560777\ttotal: 8.56ms\tremaining: 2.13s\n",
      "4:\tlearn: 0.6461087\ttotal: 10.8ms\tremaining: 2.15s\n",
      "5:\tlearn: 0.6383959\ttotal: 12.8ms\tremaining: 2.12s\n",
      "6:\tlearn: 0.6287276\ttotal: 14.9ms\tremaining: 2.11s\n",
      "7:\tlearn: 0.6195595\ttotal: 17.2ms\tremaining: 2.13s\n",
      "8:\tlearn: 0.6088917\ttotal: 19.1ms\tremaining: 2.11s\n",
      "9:\tlearn: 0.6004885\ttotal: 21.4ms\tremaining: 2.12s\n",
      "10:\tlearn: 0.5923762\ttotal: 23.4ms\tremaining: 2.1s\n",
      "11:\tlearn: 0.5842295\ttotal: 25.2ms\tremaining: 2.08s\n",
      "12:\tlearn: 0.5759056\ttotal: 27.4ms\tremaining: 2.08s\n",
      "13:\tlearn: 0.5683703\ttotal: 29.6ms\tremaining: 2.08s\n",
      "14:\tlearn: 0.5604651\ttotal: 31.5ms\tremaining: 2.07s\n",
      "15:\tlearn: 0.5531635\ttotal: 33.6ms\tremaining: 2.06s\n",
      "16:\tlearn: 0.5462284\ttotal: 35.5ms\tremaining: 2.05s\n",
      "17:\tlearn: 0.5387954\ttotal: 37.4ms\tremaining: 2.04s\n",
      "18:\tlearn: 0.5328585\ttotal: 39.4ms\tremaining: 2.03s\n",
      "19:\tlearn: 0.5256704\ttotal: 41.6ms\tremaining: 2.04s\n",
      "20:\tlearn: 0.5189044\ttotal: 43.8ms\tremaining: 2.04s\n",
      "21:\tlearn: 0.5126556\ttotal: 45.8ms\tremaining: 2.03s\n",
      "22:\tlearn: 0.5057593\ttotal: 47.8ms\tremaining: 2.03s\n",
      "23:\tlearn: 0.5000832\ttotal: 49.8ms\tremaining: 2.03s\n",
      "24:\tlearn: 0.4934999\ttotal: 51.6ms\tremaining: 2.01s\n",
      "25:\tlearn: 0.4872536\ttotal: 53.8ms\tremaining: 2.02s\n",
      "26:\tlearn: 0.4809547\ttotal: 55.8ms\tremaining: 2.01s\n",
      "27:\tlearn: 0.4759889\ttotal: 57.7ms\tremaining: 2s\n",
      "28:\tlearn: 0.4693044\ttotal: 60ms\tremaining: 2.01s\n",
      "29:\tlearn: 0.4619326\ttotal: 62ms\tremaining: 2s\n",
      "30:\tlearn: 0.4555904\ttotal: 63.9ms\tremaining: 2s\n",
      "31:\tlearn: 0.4497644\ttotal: 66ms\tremaining: 2s\n",
      "32:\tlearn: 0.4445068\ttotal: 68.1ms\tremaining: 2s\n",
      "33:\tlearn: 0.4383698\ttotal: 70ms\tremaining: 1.99s\n",
      "34:\tlearn: 0.4322819\ttotal: 72.1ms\tremaining: 1.99s\n",
      "35:\tlearn: 0.4271013\ttotal: 73.9ms\tremaining: 1.98s\n",
      "36:\tlearn: 0.4219376\ttotal: 75.8ms\tremaining: 1.97s\n",
      "37:\tlearn: 0.4171646\ttotal: 77.8ms\tremaining: 1.97s\n",
      "38:\tlearn: 0.4112969\ttotal: 79.9ms\tremaining: 1.97s\n",
      "39:\tlearn: 0.4061712\ttotal: 82.1ms\tremaining: 1.97s\n",
      "40:\tlearn: 0.4014711\ttotal: 84ms\tremaining: 1.97s\n",
      "41:\tlearn: 0.3972554\ttotal: 86.1ms\tremaining: 1.96s\n",
      "42:\tlearn: 0.3928532\ttotal: 88.3ms\tremaining: 1.96s\n",
      "43:\tlearn: 0.3891938\ttotal: 90.5ms\tremaining: 1.97s\n",
      "44:\tlearn: 0.3845553\ttotal: 92.6ms\tremaining: 1.96s\n",
      "45:\tlearn: 0.3790351\ttotal: 94.8ms\tremaining: 1.97s\n",
      "46:\tlearn: 0.3752074\ttotal: 96.8ms\tremaining: 1.96s\n",
      "47:\tlearn: 0.3704092\ttotal: 99.1ms\tremaining: 1.96s\n",
      "48:\tlearn: 0.3669859\ttotal: 101ms\tremaining: 1.96s\n",
      "49:\tlearn: 0.3634101\ttotal: 103ms\tremaining: 1.96s\n",
      "50:\tlearn: 0.3594610\ttotal: 105ms\tremaining: 1.96s\n",
      "51:\tlearn: 0.3550350\ttotal: 107ms\tremaining: 1.95s\n",
      "52:\tlearn: 0.3513873\ttotal: 109ms\tremaining: 1.95s\n",
      "53:\tlearn: 0.3474861\ttotal: 111ms\tremaining: 1.95s\n",
      "54:\tlearn: 0.3438282\ttotal: 113ms\tremaining: 1.94s\n",
      "55:\tlearn: 0.3400674\ttotal: 115ms\tremaining: 1.93s\n",
      "56:\tlearn: 0.3363543\ttotal: 117ms\tremaining: 1.93s\n",
      "57:\tlearn: 0.3322133\ttotal: 118ms\tremaining: 1.92s\n",
      "58:\tlearn: 0.3283561\ttotal: 121ms\tremaining: 1.92s\n",
      "59:\tlearn: 0.3247163\ttotal: 123ms\tremaining: 1.92s\n",
      "60:\tlearn: 0.3205703\ttotal: 125ms\tremaining: 1.92s\n",
      "61:\tlearn: 0.3174402\ttotal: 127ms\tremaining: 1.92s\n",
      "62:\tlearn: 0.3140544\ttotal: 129ms\tremaining: 1.92s\n",
      "63:\tlearn: 0.3103478\ttotal: 131ms\tremaining: 1.92s\n",
      "64:\tlearn: 0.3070392\ttotal: 134ms\tremaining: 1.92s\n",
      "65:\tlearn: 0.3035358\ttotal: 136ms\tremaining: 1.92s\n",
      "66:\tlearn: 0.3001007\ttotal: 138ms\tremaining: 1.92s\n",
      "67:\tlearn: 0.2970232\ttotal: 140ms\tremaining: 1.92s\n",
      "68:\tlearn: 0.2942206\ttotal: 142ms\tremaining: 1.91s\n",
      "69:\tlearn: 0.2911600\ttotal: 144ms\tremaining: 1.91s\n",
      "70:\tlearn: 0.2878078\ttotal: 146ms\tremaining: 1.91s\n",
      "71:\tlearn: 0.2843531\ttotal: 148ms\tremaining: 1.91s\n",
      "72:\tlearn: 0.2813243\ttotal: 150ms\tremaining: 1.9s\n",
      "73:\tlearn: 0.2781937\ttotal: 152ms\tremaining: 1.9s\n",
      "74:\tlearn: 0.2749745\ttotal: 154ms\tremaining: 1.9s\n",
      "75:\tlearn: 0.2726800\ttotal: 156ms\tremaining: 1.9s\n",
      "76:\tlearn: 0.2699991\ttotal: 158ms\tremaining: 1.9s\n",
      "77:\tlearn: 0.2672401\ttotal: 160ms\tremaining: 1.89s\n",
      "78:\tlearn: 0.2644845\ttotal: 163ms\tremaining: 1.9s\n",
      "79:\tlearn: 0.2621230\ttotal: 165ms\tremaining: 1.89s\n",
      "80:\tlearn: 0.2596596\ttotal: 167ms\tremaining: 1.89s\n",
      "81:\tlearn: 0.2576959\ttotal: 169ms\tremaining: 1.89s\n",
      "82:\tlearn: 0.2551118\ttotal: 170ms\tremaining: 1.88s\n",
      "83:\tlearn: 0.2523646\ttotal: 172ms\tremaining: 1.88s\n",
      "84:\tlearn: 0.2498456\ttotal: 175ms\tremaining: 1.88s\n",
      "85:\tlearn: 0.2473077\ttotal: 177ms\tremaining: 1.88s\n",
      "86:\tlearn: 0.2445758\ttotal: 180ms\tremaining: 1.89s\n",
      "87:\tlearn: 0.2422558\ttotal: 182ms\tremaining: 1.89s\n",
      "88:\tlearn: 0.2399904\ttotal: 185ms\tremaining: 1.89s\n",
      "89:\tlearn: 0.2383242\ttotal: 187ms\tremaining: 1.89s\n",
      "90:\tlearn: 0.2361828\ttotal: 190ms\tremaining: 1.89s\n",
      "91:\tlearn: 0.2338825\ttotal: 191ms\tremaining: 1.89s\n",
      "92:\tlearn: 0.2315962\ttotal: 193ms\tremaining: 1.88s\n",
      "93:\tlearn: 0.2297695\ttotal: 196ms\tremaining: 1.89s\n",
      "94:\tlearn: 0.2274610\ttotal: 198ms\tremaining: 1.89s\n",
      "95:\tlearn: 0.2254503\ttotal: 200ms\tremaining: 1.88s\n",
      "96:\tlearn: 0.2236981\ttotal: 202ms\tremaining: 1.88s\n",
      "97:\tlearn: 0.2216953\ttotal: 204ms\tremaining: 1.88s\n",
      "98:\tlearn: 0.2195204\ttotal: 206ms\tremaining: 1.88s\n",
      "99:\tlearn: 0.2178572\ttotal: 208ms\tremaining: 1.87s\n",
      "100:\tlearn: 0.2162700\ttotal: 210ms\tremaining: 1.87s\n",
      "101:\tlearn: 0.2145609\ttotal: 213ms\tremaining: 1.88s\n",
      "102:\tlearn: 0.2128377\ttotal: 215ms\tremaining: 1.87s\n",
      "103:\tlearn: 0.2107773\ttotal: 217ms\tremaining: 1.87s\n",
      "104:\tlearn: 0.2091868\ttotal: 219ms\tremaining: 1.87s\n",
      "105:\tlearn: 0.2071982\ttotal: 221ms\tremaining: 1.86s\n",
      "106:\tlearn: 0.2051575\ttotal: 223ms\tremaining: 1.86s\n",
      "107:\tlearn: 0.2033204\ttotal: 225ms\tremaining: 1.86s\n",
      "108:\tlearn: 0.2017892\ttotal: 227ms\tremaining: 1.86s\n",
      "109:\tlearn: 0.1997626\ttotal: 229ms\tremaining: 1.85s\n",
      "110:\tlearn: 0.1980694\ttotal: 231ms\tremaining: 1.85s\n",
      "111:\tlearn: 0.1963947\ttotal: 233ms\tremaining: 1.85s\n",
      "112:\tlearn: 0.1946152\ttotal: 235ms\tremaining: 1.84s\n",
      "113:\tlearn: 0.1929091\ttotal: 237ms\tremaining: 1.84s\n",
      "114:\tlearn: 0.1910571\ttotal: 239ms\tremaining: 1.84s\n",
      "115:\tlearn: 0.1896558\ttotal: 241ms\tremaining: 1.83s\n",
      "116:\tlearn: 0.1875616\ttotal: 243ms\tremaining: 1.83s\n",
      "117:\tlearn: 0.1860554\ttotal: 245ms\tremaining: 1.83s\n",
      "118:\tlearn: 0.1844584\ttotal: 247ms\tremaining: 1.82s\n",
      "119:\tlearn: 0.1834061\ttotal: 249ms\tremaining: 1.82s\n",
      "120:\tlearn: 0.1817434\ttotal: 250ms\tremaining: 1.82s\n",
      "121:\tlearn: 0.1803301\ttotal: 252ms\tremaining: 1.82s\n",
      "122:\tlearn: 0.1790936\ttotal: 254ms\tremaining: 1.81s\n",
      "123:\tlearn: 0.1779018\ttotal: 256ms\tremaining: 1.81s\n",
      "124:\tlearn: 0.1765196\ttotal: 258ms\tremaining: 1.81s\n",
      "125:\tlearn: 0.1754275\ttotal: 260ms\tremaining: 1.8s\n",
      "126:\tlearn: 0.1740082\ttotal: 262ms\tremaining: 1.8s\n",
      "127:\tlearn: 0.1728560\ttotal: 264ms\tremaining: 1.8s\n",
      "128:\tlearn: 0.1716705\ttotal: 266ms\tremaining: 1.79s\n",
      "129:\tlearn: 0.1702433\ttotal: 268ms\tremaining: 1.79s\n",
      "130:\tlearn: 0.1690325\ttotal: 269ms\tremaining: 1.79s\n",
      "131:\tlearn: 0.1678021\ttotal: 272ms\tremaining: 1.78s\n",
      "132:\tlearn: 0.1665215\ttotal: 273ms\tremaining: 1.78s\n",
      "133:\tlearn: 0.1652430\ttotal: 275ms\tremaining: 1.78s\n",
      "134:\tlearn: 0.1637923\ttotal: 277ms\tremaining: 1.77s\n",
      "135:\tlearn: 0.1627618\ttotal: 279ms\tremaining: 1.77s\n",
      "136:\tlearn: 0.1613232\ttotal: 281ms\tremaining: 1.77s\n",
      "137:\tlearn: 0.1602377\ttotal: 283ms\tremaining: 1.76s\n",
      "138:\tlearn: 0.1590123\ttotal: 285ms\tremaining: 1.76s\n",
      "139:\tlearn: 0.1578266\ttotal: 287ms\tremaining: 1.76s\n",
      "140:\tlearn: 0.1567842\ttotal: 288ms\tremaining: 1.76s\n",
      "141:\tlearn: 0.1559165\ttotal: 290ms\tremaining: 1.75s\n",
      "142:\tlearn: 0.1545826\ttotal: 292ms\tremaining: 1.75s\n",
      "143:\tlearn: 0.1535970\ttotal: 294ms\tremaining: 1.75s\n",
      "144:\tlearn: 0.1521903\ttotal: 296ms\tremaining: 1.75s\n",
      "145:\tlearn: 0.1510636\ttotal: 298ms\tremaining: 1.74s\n",
      "146:\tlearn: 0.1499879\ttotal: 300ms\tremaining: 1.74s\n",
      "147:\tlearn: 0.1491936\ttotal: 302ms\tremaining: 1.74s\n",
      "148:\tlearn: 0.1481526\ttotal: 304ms\tremaining: 1.73s\n",
      "149:\tlearn: 0.1472874\ttotal: 306ms\tremaining: 1.73s\n",
      "150:\tlearn: 0.1463914\ttotal: 307ms\tremaining: 1.73s\n",
      "151:\tlearn: 0.1456723\ttotal: 309ms\tremaining: 1.72s\n",
      "152:\tlearn: 0.1446292\ttotal: 311ms\tremaining: 1.72s\n",
      "153:\tlearn: 0.1439989\ttotal: 313ms\tremaining: 1.72s\n",
      "154:\tlearn: 0.1431347\ttotal: 315ms\tremaining: 1.72s\n",
      "155:\tlearn: 0.1419225\ttotal: 317ms\tremaining: 1.71s\n",
      "156:\tlearn: 0.1408474\ttotal: 318ms\tremaining: 1.71s\n",
      "157:\tlearn: 0.1398877\ttotal: 320ms\tremaining: 1.71s\n",
      "158:\tlearn: 0.1390701\ttotal: 322ms\tremaining: 1.7s\n",
      "159:\tlearn: 0.1381979\ttotal: 324ms\tremaining: 1.7s\n",
      "160:\tlearn: 0.1372475\ttotal: 326ms\tremaining: 1.7s\n",
      "161:\tlearn: 0.1364401\ttotal: 328ms\tremaining: 1.69s\n",
      "162:\tlearn: 0.1355914\ttotal: 329ms\tremaining: 1.69s\n",
      "163:\tlearn: 0.1346732\ttotal: 331ms\tremaining: 1.69s\n",
      "164:\tlearn: 0.1336694\ttotal: 333ms\tremaining: 1.69s\n",
      "165:\tlearn: 0.1328377\ttotal: 335ms\tremaining: 1.68s\n",
      "166:\tlearn: 0.1320840\ttotal: 337ms\tremaining: 1.68s\n",
      "167:\tlearn: 0.1311866\ttotal: 339ms\tremaining: 1.68s\n",
      "168:\tlearn: 0.1304556\ttotal: 340ms\tremaining: 1.67s\n",
      "169:\tlearn: 0.1295471\ttotal: 342ms\tremaining: 1.67s\n",
      "170:\tlearn: 0.1288174\ttotal: 344ms\tremaining: 1.67s\n",
      "171:\tlearn: 0.1279967\ttotal: 346ms\tremaining: 1.66s\n",
      "172:\tlearn: 0.1273200\ttotal: 348ms\tremaining: 1.66s\n",
      "173:\tlearn: 0.1263952\ttotal: 349ms\tremaining: 1.66s\n",
      "174:\tlearn: 0.1256573\ttotal: 351ms\tremaining: 1.66s\n",
      "175:\tlearn: 0.1247170\ttotal: 353ms\tremaining: 1.65s\n",
      "176:\tlearn: 0.1240984\ttotal: 355ms\tremaining: 1.65s\n"
     ]
    },
    {
     "name": "stdout",
     "output_type": "stream",
     "text": [
      "177:\tlearn: 0.1232237\ttotal: 357ms\tremaining: 1.65s\n",
      "178:\tlearn: 0.1226159\ttotal: 359ms\tremaining: 1.65s\n",
      "179:\tlearn: 0.1218041\ttotal: 361ms\tremaining: 1.64s\n",
      "180:\tlearn: 0.1212970\ttotal: 363ms\tremaining: 1.64s\n",
      "181:\tlearn: 0.1206995\ttotal: 365ms\tremaining: 1.64s\n",
      "182:\tlearn: 0.1199541\ttotal: 366ms\tremaining: 1.64s\n",
      "183:\tlearn: 0.1192768\ttotal: 368ms\tremaining: 1.63s\n",
      "184:\tlearn: 0.1185788\ttotal: 371ms\tremaining: 1.63s\n",
      "185:\tlearn: 0.1177649\ttotal: 373ms\tremaining: 1.63s\n",
      "186:\tlearn: 0.1170671\ttotal: 375ms\tremaining: 1.63s\n",
      "187:\tlearn: 0.1165067\ttotal: 377ms\tremaining: 1.63s\n",
      "188:\tlearn: 0.1158301\ttotal: 379ms\tremaining: 1.63s\n",
      "189:\tlearn: 0.1149939\ttotal: 382ms\tremaining: 1.63s\n",
      "190:\tlearn: 0.1143911\ttotal: 384ms\tremaining: 1.63s\n",
      "191:\tlearn: 0.1137462\ttotal: 386ms\tremaining: 1.62s\n",
      "192:\tlearn: 0.1131981\ttotal: 388ms\tremaining: 1.62s\n",
      "193:\tlearn: 0.1126180\ttotal: 390ms\tremaining: 1.62s\n",
      "194:\tlearn: 0.1120759\ttotal: 392ms\tremaining: 1.62s\n",
      "195:\tlearn: 0.1114479\ttotal: 395ms\tremaining: 1.62s\n",
      "196:\tlearn: 0.1109164\ttotal: 397ms\tremaining: 1.62s\n",
      "197:\tlearn: 0.1102161\ttotal: 399ms\tremaining: 1.62s\n",
      "198:\tlearn: 0.1095615\ttotal: 401ms\tremaining: 1.61s\n",
      "199:\tlearn: 0.1091994\ttotal: 403ms\tremaining: 1.61s\n",
      "200:\tlearn: 0.1085046\ttotal: 405ms\tremaining: 1.61s\n",
      "201:\tlearn: 0.1079130\ttotal: 407ms\tremaining: 1.61s\n",
      "202:\tlearn: 0.1072294\ttotal: 409ms\tremaining: 1.6s\n",
      "203:\tlearn: 0.1068677\ttotal: 410ms\tremaining: 1.6s\n",
      "204:\tlearn: 0.1063471\ttotal: 412ms\tremaining: 1.6s\n",
      "205:\tlearn: 0.1059017\ttotal: 414ms\tremaining: 1.6s\n",
      "206:\tlearn: 0.1054438\ttotal: 416ms\tremaining: 1.59s\n",
      "207:\tlearn: 0.1047576\ttotal: 418ms\tremaining: 1.59s\n",
      "208:\tlearn: 0.1042719\ttotal: 420ms\tremaining: 1.59s\n",
      "209:\tlearn: 0.1035579\ttotal: 422ms\tremaining: 1.59s\n",
      "210:\tlearn: 0.1029557\ttotal: 424ms\tremaining: 1.58s\n",
      "211:\tlearn: 0.1024222\ttotal: 426ms\tremaining: 1.58s\n",
      "212:\tlearn: 0.1018632\ttotal: 427ms\tremaining: 1.58s\n",
      "213:\tlearn: 0.1013463\ttotal: 429ms\tremaining: 1.58s\n",
      "214:\tlearn: 0.1008566\ttotal: 431ms\tremaining: 1.57s\n",
      "215:\tlearn: 0.1004529\ttotal: 433ms\tremaining: 1.57s\n",
      "216:\tlearn: 0.1000725\ttotal: 435ms\tremaining: 1.57s\n",
      "217:\tlearn: 0.0994986\ttotal: 437ms\tremaining: 1.57s\n",
      "218:\tlearn: 0.0990714\ttotal: 439ms\tremaining: 1.56s\n",
      "219:\tlearn: 0.0987124\ttotal: 441ms\tremaining: 1.56s\n",
      "220:\tlearn: 0.0983545\ttotal: 444ms\tremaining: 1.56s\n",
      "221:\tlearn: 0.0977669\ttotal: 446ms\tremaining: 1.56s\n",
      "222:\tlearn: 0.0972964\ttotal: 448ms\tremaining: 1.56s\n",
      "223:\tlearn: 0.0969827\ttotal: 450ms\tremaining: 1.56s\n",
      "224:\tlearn: 0.0965567\ttotal: 452ms\tremaining: 1.56s\n",
      "225:\tlearn: 0.0962316\ttotal: 455ms\tremaining: 1.56s\n",
      "226:\tlearn: 0.0957624\ttotal: 457ms\tremaining: 1.56s\n",
      "227:\tlearn: 0.0953427\ttotal: 459ms\tremaining: 1.55s\n",
      "228:\tlearn: 0.0947867\ttotal: 461ms\tremaining: 1.55s\n",
      "229:\tlearn: 0.0942946\ttotal: 464ms\tremaining: 1.55s\n",
      "230:\tlearn: 0.0939001\ttotal: 466ms\tremaining: 1.55s\n",
      "231:\tlearn: 0.0935679\ttotal: 468ms\tremaining: 1.55s\n",
      "232:\tlearn: 0.0931209\ttotal: 471ms\tremaining: 1.55s\n",
      "233:\tlearn: 0.0926148\ttotal: 473ms\tremaining: 1.55s\n",
      "234:\tlearn: 0.0921535\ttotal: 476ms\tremaining: 1.55s\n",
      "235:\tlearn: 0.0916075\ttotal: 478ms\tremaining: 1.55s\n",
      "236:\tlearn: 0.0912165\ttotal: 481ms\tremaining: 1.55s\n",
      "237:\tlearn: 0.0908009\ttotal: 483ms\tremaining: 1.54s\n",
      "238:\tlearn: 0.0904296\ttotal: 485ms\tremaining: 1.54s\n",
      "239:\tlearn: 0.0899603\ttotal: 487ms\tremaining: 1.54s\n",
      "240:\tlearn: 0.0896554\ttotal: 490ms\tremaining: 1.54s\n",
      "241:\tlearn: 0.0891227\ttotal: 492ms\tremaining: 1.54s\n",
      "242:\tlearn: 0.0888787\ttotal: 495ms\tremaining: 1.54s\n",
      "243:\tlearn: 0.0886457\ttotal: 497ms\tremaining: 1.54s\n",
      "244:\tlearn: 0.0881400\ttotal: 499ms\tremaining: 1.54s\n",
      "245:\tlearn: 0.0876888\ttotal: 502ms\tremaining: 1.54s\n",
      "246:\tlearn: 0.0872014\ttotal: 505ms\tremaining: 1.54s\n",
      "247:\tlearn: 0.0867761\ttotal: 507ms\tremaining: 1.54s\n",
      "248:\tlearn: 0.0862439\ttotal: 510ms\tremaining: 1.54s\n",
      "249:\tlearn: 0.0859687\ttotal: 512ms\tremaining: 1.53s\n",
      "250:\tlearn: 0.0856989\ttotal: 514ms\tremaining: 1.53s\n",
      "251:\tlearn: 0.0853312\ttotal: 516ms\tremaining: 1.53s\n",
      "252:\tlearn: 0.0848775\ttotal: 519ms\tremaining: 1.53s\n",
      "253:\tlearn: 0.0845201\ttotal: 522ms\tremaining: 1.53s\n",
      "254:\tlearn: 0.0841449\ttotal: 524ms\tremaining: 1.53s\n",
      "255:\tlearn: 0.0838099\ttotal: 526ms\tremaining: 1.53s\n",
      "256:\tlearn: 0.0835808\ttotal: 528ms\tremaining: 1.52s\n",
      "257:\tlearn: 0.0832657\ttotal: 530ms\tremaining: 1.52s\n",
      "258:\tlearn: 0.0828861\ttotal: 532ms\tremaining: 1.52s\n",
      "259:\tlearn: 0.0825651\ttotal: 534ms\tremaining: 1.52s\n",
      "260:\tlearn: 0.0822763\ttotal: 536ms\tremaining: 1.52s\n",
      "261:\tlearn: 0.0819823\ttotal: 538ms\tremaining: 1.51s\n",
      "262:\tlearn: 0.0817158\ttotal: 540ms\tremaining: 1.51s\n",
      "263:\tlearn: 0.0813379\ttotal: 542ms\tremaining: 1.51s\n",
      "264:\tlearn: 0.0810777\ttotal: 544ms\tremaining: 1.51s\n",
      "265:\tlearn: 0.0806412\ttotal: 546ms\tremaining: 1.51s\n",
      "266:\tlearn: 0.0803061\ttotal: 549ms\tremaining: 1.5s\n",
      "267:\tlearn: 0.0799923\ttotal: 551ms\tremaining: 1.5s\n",
      "268:\tlearn: 0.0796243\ttotal: 553ms\tremaining: 1.5s\n",
      "269:\tlearn: 0.0792406\ttotal: 555ms\tremaining: 1.5s\n",
      "270:\tlearn: 0.0788381\ttotal: 558ms\tremaining: 1.5s\n",
      "271:\tlearn: 0.0784963\ttotal: 560ms\tremaining: 1.5s\n",
      "272:\tlearn: 0.0782135\ttotal: 562ms\tremaining: 1.5s\n",
      "273:\tlearn: 0.0779165\ttotal: 565ms\tremaining: 1.5s\n",
      "274:\tlearn: 0.0776611\ttotal: 567ms\tremaining: 1.49s\n",
      "275:\tlearn: 0.0773380\ttotal: 569ms\tremaining: 1.49s\n",
      "276:\tlearn: 0.0770262\ttotal: 572ms\tremaining: 1.49s\n",
      "277:\tlearn: 0.0767862\ttotal: 574ms\tremaining: 1.49s\n",
      "278:\tlearn: 0.0764791\ttotal: 576ms\tremaining: 1.49s\n",
      "279:\tlearn: 0.0761608\ttotal: 578ms\tremaining: 1.49s\n",
      "280:\tlearn: 0.0757804\ttotal: 580ms\tremaining: 1.48s\n",
      "281:\tlearn: 0.0754727\ttotal: 583ms\tremaining: 1.48s\n",
      "282:\tlearn: 0.0752515\ttotal: 585ms\tremaining: 1.48s\n",
      "283:\tlearn: 0.0748797\ttotal: 588ms\tremaining: 1.48s\n",
      "284:\tlearn: 0.0746567\ttotal: 590ms\tremaining: 1.48s\n",
      "285:\tlearn: 0.0742374\ttotal: 591ms\tremaining: 1.48s\n",
      "286:\tlearn: 0.0740167\ttotal: 593ms\tremaining: 1.47s\n",
      "287:\tlearn: 0.0736738\ttotal: 596ms\tremaining: 1.47s\n",
      "288:\tlearn: 0.0733836\ttotal: 598ms\tremaining: 1.47s\n",
      "289:\tlearn: 0.0730924\ttotal: 601ms\tremaining: 1.47s\n",
      "290:\tlearn: 0.0727688\ttotal: 603ms\tremaining: 1.47s\n",
      "291:\tlearn: 0.0724438\ttotal: 604ms\tremaining: 1.47s\n",
      "292:\tlearn: 0.0721422\ttotal: 606ms\tremaining: 1.46s\n",
      "293:\tlearn: 0.0718609\ttotal: 608ms\tremaining: 1.46s\n",
      "294:\tlearn: 0.0717078\ttotal: 610ms\tremaining: 1.46s\n",
      "295:\tlearn: 0.0714471\ttotal: 613ms\tremaining: 1.46s\n",
      "296:\tlearn: 0.0712308\ttotal: 615ms\tremaining: 1.46s\n",
      "297:\tlearn: 0.0709186\ttotal: 618ms\tremaining: 1.45s\n",
      "298:\tlearn: 0.0706296\ttotal: 620ms\tremaining: 1.45s\n",
      "299:\tlearn: 0.0702966\ttotal: 622ms\tremaining: 1.45s\n",
      "300:\tlearn: 0.0699590\ttotal: 623ms\tremaining: 1.45s\n",
      "301:\tlearn: 0.0697340\ttotal: 625ms\tremaining: 1.45s\n",
      "302:\tlearn: 0.0695248\ttotal: 628ms\tremaining: 1.44s\n",
      "303:\tlearn: 0.0692830\ttotal: 631ms\tremaining: 1.44s\n",
      "304:\tlearn: 0.0690538\ttotal: 633ms\tremaining: 1.44s\n",
      "305:\tlearn: 0.0687733\ttotal: 635ms\tremaining: 1.44s\n",
      "306:\tlearn: 0.0684932\ttotal: 637ms\tremaining: 1.44s\n",
      "307:\tlearn: 0.0682767\ttotal: 639ms\tremaining: 1.44s\n",
      "308:\tlearn: 0.0679773\ttotal: 641ms\tremaining: 1.43s\n",
      "309:\tlearn: 0.0677213\ttotal: 643ms\tremaining: 1.43s\n",
      "310:\tlearn: 0.0674662\ttotal: 645ms\tremaining: 1.43s\n",
      "311:\tlearn: 0.0671981\ttotal: 647ms\tremaining: 1.43s\n",
      "312:\tlearn: 0.0670282\ttotal: 649ms\tremaining: 1.42s\n",
      "313:\tlearn: 0.0667162\ttotal: 650ms\tremaining: 1.42s\n",
      "314:\tlearn: 0.0663747\ttotal: 652ms\tremaining: 1.42s\n",
      "315:\tlearn: 0.0661558\ttotal: 654ms\tremaining: 1.42s\n",
      "316:\tlearn: 0.0658664\ttotal: 656ms\tremaining: 1.41s\n",
      "317:\tlearn: 0.0656455\ttotal: 658ms\tremaining: 1.41s\n",
      "318:\tlearn: 0.0653048\ttotal: 660ms\tremaining: 1.41s\n",
      "319:\tlearn: 0.0650454\ttotal: 662ms\tremaining: 1.41s\n",
      "320:\tlearn: 0.0648379\ttotal: 663ms\tremaining: 1.4s\n",
      "321:\tlearn: 0.0645088\ttotal: 666ms\tremaining: 1.4s\n",
      "322:\tlearn: 0.0642558\ttotal: 668ms\tremaining: 1.4s\n",
      "323:\tlearn: 0.0638984\ttotal: 670ms\tremaining: 1.4s\n",
      "324:\tlearn: 0.0637242\ttotal: 672ms\tremaining: 1.4s\n",
      "325:\tlearn: 0.0634766\ttotal: 673ms\tremaining: 1.39s\n",
      "326:\tlearn: 0.0633035\ttotal: 675ms\tremaining: 1.39s\n",
      "327:\tlearn: 0.0630772\ttotal: 677ms\tremaining: 1.39s\n",
      "328:\tlearn: 0.0628669\ttotal: 679ms\tremaining: 1.39s\n",
      "329:\tlearn: 0.0625477\ttotal: 681ms\tremaining: 1.38s\n",
      "330:\tlearn: 0.0623195\ttotal: 683ms\tremaining: 1.38s\n",
      "331:\tlearn: 0.0620886\ttotal: 685ms\tremaining: 1.38s\n",
      "332:\tlearn: 0.0618518\ttotal: 687ms\tremaining: 1.38s\n",
      "333:\tlearn: 0.0615157\ttotal: 689ms\tremaining: 1.37s\n",
      "334:\tlearn: 0.0613191\ttotal: 691ms\tremaining: 1.37s\n",
      "335:\tlearn: 0.0611497\ttotal: 692ms\tremaining: 1.37s\n",
      "336:\tlearn: 0.0610217\ttotal: 694ms\tremaining: 1.36s\n",
      "337:\tlearn: 0.0608584\ttotal: 696ms\tremaining: 1.36s\n",
      "338:\tlearn: 0.0606003\ttotal: 698ms\tremaining: 1.36s\n",
      "339:\tlearn: 0.0603763\ttotal: 700ms\tremaining: 1.36s\n",
      "340:\tlearn: 0.0600287\ttotal: 702ms\tremaining: 1.36s\n",
      "341:\tlearn: 0.0599054\ttotal: 704ms\tremaining: 1.35s\n",
      "342:\tlearn: 0.0596639\ttotal: 706ms\tremaining: 1.35s\n",
      "343:\tlearn: 0.0594437\ttotal: 708ms\tremaining: 1.35s\n",
      "344:\tlearn: 0.0592035\ttotal: 709ms\tremaining: 1.35s\n",
      "345:\tlearn: 0.0590069\ttotal: 711ms\tremaining: 1.34s\n",
      "346:\tlearn: 0.0588561\ttotal: 713ms\tremaining: 1.34s\n",
      "347:\tlearn: 0.0586556\ttotal: 715ms\tremaining: 1.34s\n",
      "348:\tlearn: 0.0584761\ttotal: 717ms\tremaining: 1.34s\n",
      "349:\tlearn: 0.0583126\ttotal: 719ms\tremaining: 1.33s\n",
      "350:\tlearn: 0.0580358\ttotal: 721ms\tremaining: 1.33s\n",
      "351:\tlearn: 0.0577796\ttotal: 723ms\tremaining: 1.33s\n",
      "352:\tlearn: 0.0575040\ttotal: 724ms\tremaining: 1.33s\n",
      "353:\tlearn: 0.0573333\ttotal: 726ms\tremaining: 1.32s\n",
      "354:\tlearn: 0.0571404\ttotal: 728ms\tremaining: 1.32s\n",
      "355:\tlearn: 0.0569170\ttotal: 730ms\tremaining: 1.32s\n",
      "356:\tlearn: 0.0567135\ttotal: 732ms\tremaining: 1.32s\n",
      "357:\tlearn: 0.0564890\ttotal: 734ms\tremaining: 1.31s\n",
      "358:\tlearn: 0.0563041\ttotal: 735ms\tremaining: 1.31s\n",
      "359:\tlearn: 0.0561231\ttotal: 737ms\tremaining: 1.31s\n",
      "360:\tlearn: 0.0559523\ttotal: 740ms\tremaining: 1.31s\n"
     ]
    },
    {
     "name": "stdout",
     "output_type": "stream",
     "text": [
      "361:\tlearn: 0.0558108\ttotal: 742ms\tremaining: 1.31s\n",
      "362:\tlearn: 0.0556131\ttotal: 744ms\tremaining: 1.3s\n",
      "363:\tlearn: 0.0554224\ttotal: 746ms\tremaining: 1.3s\n",
      "364:\tlearn: 0.0552681\ttotal: 748ms\tremaining: 1.3s\n",
      "365:\tlearn: 0.0550967\ttotal: 750ms\tremaining: 1.3s\n",
      "366:\tlearn: 0.0548683\ttotal: 752ms\tremaining: 1.3s\n",
      "367:\tlearn: 0.0547701\ttotal: 754ms\tremaining: 1.29s\n",
      "368:\tlearn: 0.0546441\ttotal: 757ms\tremaining: 1.29s\n",
      "369:\tlearn: 0.0545106\ttotal: 759ms\tremaining: 1.29s\n",
      "370:\tlearn: 0.0543026\ttotal: 762ms\tremaining: 1.29s\n",
      "371:\tlearn: 0.0541492\ttotal: 764ms\tremaining: 1.29s\n",
      "372:\tlearn: 0.0539372\ttotal: 766ms\tremaining: 1.29s\n",
      "373:\tlearn: 0.0538057\ttotal: 768ms\tremaining: 1.28s\n",
      "374:\tlearn: 0.0536050\ttotal: 770ms\tremaining: 1.28s\n",
      "375:\tlearn: 0.0533587\ttotal: 772ms\tremaining: 1.28s\n",
      "376:\tlearn: 0.0531912\ttotal: 774ms\tremaining: 1.28s\n",
      "377:\tlearn: 0.0530078\ttotal: 776ms\tremaining: 1.28s\n",
      "378:\tlearn: 0.0528026\ttotal: 778ms\tremaining: 1.27s\n",
      "379:\tlearn: 0.0525839\ttotal: 779ms\tremaining: 1.27s\n",
      "380:\tlearn: 0.0524089\ttotal: 781ms\tremaining: 1.27s\n",
      "381:\tlearn: 0.0522387\ttotal: 783ms\tremaining: 1.27s\n",
      "382:\tlearn: 0.0520413\ttotal: 785ms\tremaining: 1.26s\n",
      "383:\tlearn: 0.0519034\ttotal: 787ms\tremaining: 1.26s\n",
      "384:\tlearn: 0.0517074\ttotal: 789ms\tremaining: 1.26s\n",
      "385:\tlearn: 0.0514809\ttotal: 791ms\tremaining: 1.26s\n",
      "386:\tlearn: 0.0513608\ttotal: 792ms\tremaining: 1.25s\n",
      "387:\tlearn: 0.0511951\ttotal: 794ms\tremaining: 1.25s\n",
      "388:\tlearn: 0.0509790\ttotal: 796ms\tremaining: 1.25s\n",
      "389:\tlearn: 0.0507838\ttotal: 798ms\tremaining: 1.25s\n",
      "390:\tlearn: 0.0506581\ttotal: 800ms\tremaining: 1.25s\n",
      "391:\tlearn: 0.0505265\ttotal: 802ms\tremaining: 1.24s\n",
      "392:\tlearn: 0.0503799\ttotal: 804ms\tremaining: 1.24s\n",
      "393:\tlearn: 0.0502250\ttotal: 806ms\tremaining: 1.24s\n",
      "394:\tlearn: 0.0500013\ttotal: 807ms\tremaining: 1.24s\n",
      "395:\tlearn: 0.0498483\ttotal: 809ms\tremaining: 1.23s\n",
      "396:\tlearn: 0.0496822\ttotal: 811ms\tremaining: 1.23s\n",
      "397:\tlearn: 0.0495309\ttotal: 813ms\tremaining: 1.23s\n",
      "398:\tlearn: 0.0494185\ttotal: 815ms\tremaining: 1.23s\n",
      "399:\tlearn: 0.0492460\ttotal: 817ms\tremaining: 1.22s\n",
      "400:\tlearn: 0.0490814\ttotal: 819ms\tremaining: 1.22s\n",
      "401:\tlearn: 0.0489173\ttotal: 820ms\tremaining: 1.22s\n",
      "402:\tlearn: 0.0488197\ttotal: 822ms\tremaining: 1.22s\n",
      "403:\tlearn: 0.0486692\ttotal: 824ms\tremaining: 1.22s\n",
      "404:\tlearn: 0.0485465\ttotal: 826ms\tremaining: 1.21s\n",
      "405:\tlearn: 0.0484209\ttotal: 828ms\tremaining: 1.21s\n",
      "406:\tlearn: 0.0483588\ttotal: 830ms\tremaining: 1.21s\n",
      "407:\tlearn: 0.0481771\ttotal: 832ms\tremaining: 1.21s\n",
      "408:\tlearn: 0.0480498\ttotal: 834ms\tremaining: 1.2s\n",
      "409:\tlearn: 0.0479114\ttotal: 836ms\tremaining: 1.2s\n",
      "410:\tlearn: 0.0477790\ttotal: 837ms\tremaining: 1.2s\n",
      "411:\tlearn: 0.0476189\ttotal: 839ms\tremaining: 1.2s\n",
      "412:\tlearn: 0.0474809\ttotal: 841ms\tremaining: 1.2s\n",
      "413:\tlearn: 0.0473619\ttotal: 843ms\tremaining: 1.19s\n",
      "414:\tlearn: 0.0472094\ttotal: 845ms\tremaining: 1.19s\n",
      "415:\tlearn: 0.0470782\ttotal: 847ms\tremaining: 1.19s\n",
      "416:\tlearn: 0.0468685\ttotal: 849ms\tremaining: 1.19s\n",
      "417:\tlearn: 0.0466959\ttotal: 851ms\tremaining: 1.18s\n",
      "418:\tlearn: 0.0465068\ttotal: 853ms\tremaining: 1.18s\n",
      "419:\tlearn: 0.0463080\ttotal: 854ms\tremaining: 1.18s\n",
      "420:\tlearn: 0.0461612\ttotal: 856ms\tremaining: 1.18s\n",
      "421:\tlearn: 0.0460563\ttotal: 858ms\tremaining: 1.18s\n",
      "422:\tlearn: 0.0459389\ttotal: 860ms\tremaining: 1.17s\n",
      "423:\tlearn: 0.0457949\ttotal: 862ms\tremaining: 1.17s\n",
      "424:\tlearn: 0.0456642\ttotal: 864ms\tremaining: 1.17s\n",
      "425:\tlearn: 0.0455411\ttotal: 865ms\tremaining: 1.17s\n",
      "426:\tlearn: 0.0454043\ttotal: 867ms\tremaining: 1.16s\n",
      "427:\tlearn: 0.0452629\ttotal: 869ms\tremaining: 1.16s\n",
      "428:\tlearn: 0.0451240\ttotal: 871ms\tremaining: 1.16s\n",
      "429:\tlearn: 0.0450298\ttotal: 873ms\tremaining: 1.16s\n",
      "430:\tlearn: 0.0449097\ttotal: 875ms\tremaining: 1.15s\n",
      "431:\tlearn: 0.0447990\ttotal: 877ms\tremaining: 1.15s\n",
      "432:\tlearn: 0.0446855\ttotal: 879ms\tremaining: 1.15s\n",
      "433:\tlearn: 0.0445295\ttotal: 880ms\tremaining: 1.15s\n",
      "434:\tlearn: 0.0444318\ttotal: 882ms\tremaining: 1.15s\n",
      "435:\tlearn: 0.0442997\ttotal: 884ms\tremaining: 1.14s\n",
      "436:\tlearn: 0.0441098\ttotal: 886ms\tremaining: 1.14s\n",
      "437:\tlearn: 0.0439814\ttotal: 888ms\tremaining: 1.14s\n",
      "438:\tlearn: 0.0438759\ttotal: 890ms\tremaining: 1.14s\n",
      "439:\tlearn: 0.0437444\ttotal: 892ms\tremaining: 1.13s\n",
      "440:\tlearn: 0.0436452\ttotal: 893ms\tremaining: 1.13s\n",
      "441:\tlearn: 0.0435288\ttotal: 895ms\tremaining: 1.13s\n",
      "442:\tlearn: 0.0434630\ttotal: 897ms\tremaining: 1.13s\n",
      "443:\tlearn: 0.0433547\ttotal: 899ms\tremaining: 1.13s\n",
      "444:\tlearn: 0.0432742\ttotal: 901ms\tremaining: 1.12s\n",
      "445:\tlearn: 0.0431142\ttotal: 903ms\tremaining: 1.12s\n",
      "446:\tlearn: 0.0430416\ttotal: 905ms\tremaining: 1.12s\n",
      "447:\tlearn: 0.0429001\ttotal: 906ms\tremaining: 1.12s\n",
      "448:\tlearn: 0.0427319\ttotal: 908ms\tremaining: 1.11s\n",
      "449:\tlearn: 0.0426347\ttotal: 910ms\tremaining: 1.11s\n",
      "450:\tlearn: 0.0424752\ttotal: 912ms\tremaining: 1.11s\n",
      "451:\tlearn: 0.0423830\ttotal: 914ms\tremaining: 1.11s\n",
      "452:\tlearn: 0.0422703\ttotal: 916ms\tremaining: 1.11s\n",
      "453:\tlearn: 0.0420993\ttotal: 918ms\tremaining: 1.1s\n",
      "454:\tlearn: 0.0420204\ttotal: 920ms\tremaining: 1.1s\n",
      "455:\tlearn: 0.0419035\ttotal: 922ms\tremaining: 1.1s\n",
      "456:\tlearn: 0.0417638\ttotal: 924ms\tremaining: 1.1s\n",
      "457:\tlearn: 0.0416518\ttotal: 926ms\tremaining: 1.09s\n",
      "458:\tlearn: 0.0415216\ttotal: 928ms\tremaining: 1.09s\n",
      "459:\tlearn: 0.0414393\ttotal: 930ms\tremaining: 1.09s\n",
      "460:\tlearn: 0.0413243\ttotal: 932ms\tremaining: 1.09s\n",
      "461:\tlearn: 0.0411820\ttotal: 934ms\tremaining: 1.09s\n",
      "462:\tlearn: 0.0410724\ttotal: 936ms\tremaining: 1.08s\n",
      "463:\tlearn: 0.0409257\ttotal: 938ms\tremaining: 1.08s\n",
      "464:\tlearn: 0.0408391\ttotal: 940ms\tremaining: 1.08s\n",
      "465:\tlearn: 0.0407094\ttotal: 942ms\tremaining: 1.08s\n",
      "466:\tlearn: 0.0405967\ttotal: 944ms\tremaining: 1.08s\n",
      "467:\tlearn: 0.0405300\ttotal: 946ms\tremaining: 1.07s\n",
      "468:\tlearn: 0.0404084\ttotal: 948ms\tremaining: 1.07s\n",
      "469:\tlearn: 0.0402535\ttotal: 950ms\tremaining: 1.07s\n",
      "470:\tlearn: 0.0401220\ttotal: 952ms\tremaining: 1.07s\n",
      "471:\tlearn: 0.0399783\ttotal: 954ms\tremaining: 1.07s\n",
      "472:\tlearn: 0.0398852\ttotal: 957ms\tremaining: 1.07s\n",
      "473:\tlearn: 0.0397497\ttotal: 959ms\tremaining: 1.06s\n",
      "474:\tlearn: 0.0396614\ttotal: 961ms\tremaining: 1.06s\n",
      "475:\tlearn: 0.0395731\ttotal: 962ms\tremaining: 1.06s\n",
      "476:\tlearn: 0.0394122\ttotal: 964ms\tremaining: 1.06s\n",
      "477:\tlearn: 0.0392586\ttotal: 966ms\tremaining: 1.05s\n",
      "478:\tlearn: 0.0391917\ttotal: 968ms\tremaining: 1.05s\n",
      "479:\tlearn: 0.0390637\ttotal: 970ms\tremaining: 1.05s\n",
      "480:\tlearn: 0.0389540\ttotal: 972ms\tremaining: 1.05s\n",
      "481:\tlearn: 0.0388799\ttotal: 974ms\tremaining: 1.05s\n",
      "482:\tlearn: 0.0387501\ttotal: 976ms\tremaining: 1.04s\n",
      "483:\tlearn: 0.0386550\ttotal: 978ms\tremaining: 1.04s\n",
      "484:\tlearn: 0.0385862\ttotal: 980ms\tremaining: 1.04s\n",
      "485:\tlearn: 0.0384635\ttotal: 981ms\tremaining: 1.04s\n",
      "486:\tlearn: 0.0383654\ttotal: 983ms\tremaining: 1.03s\n",
      "487:\tlearn: 0.0382570\ttotal: 985ms\tremaining: 1.03s\n",
      "488:\tlearn: 0.0381689\ttotal: 987ms\tremaining: 1.03s\n",
      "489:\tlearn: 0.0380842\ttotal: 989ms\tremaining: 1.03s\n",
      "490:\tlearn: 0.0380049\ttotal: 991ms\tremaining: 1.03s\n",
      "491:\tlearn: 0.0379102\ttotal: 993ms\tremaining: 1.02s\n",
      "492:\tlearn: 0.0377985\ttotal: 995ms\tremaining: 1.02s\n",
      "493:\tlearn: 0.0376717\ttotal: 997ms\tremaining: 1.02s\n",
      "494:\tlearn: 0.0375919\ttotal: 999ms\tremaining: 1.02s\n",
      "495:\tlearn: 0.0374979\ttotal: 1s\tremaining: 1.02s\n",
      "496:\tlearn: 0.0374162\ttotal: 1s\tremaining: 1.01s\n",
      "497:\tlearn: 0.0372856\ttotal: 1s\tremaining: 1.01s\n",
      "498:\tlearn: 0.0372093\ttotal: 1.01s\tremaining: 1.01s\n",
      "499:\tlearn: 0.0370989\ttotal: 1.01s\tremaining: 1.01s\n",
      "500:\tlearn: 0.0370061\ttotal: 1.01s\tremaining: 1.01s\n",
      "501:\tlearn: 0.0369054\ttotal: 1.01s\tremaining: 1s\n",
      "502:\tlearn: 0.0367904\ttotal: 1.01s\tremaining: 1s\n",
      "503:\tlearn: 0.0366997\ttotal: 1.01s\tremaining: 1000ms\n",
      "504:\tlearn: 0.0366281\ttotal: 1.02s\tremaining: 998ms\n",
      "505:\tlearn: 0.0365387\ttotal: 1.02s\tremaining: 995ms\n",
      "506:\tlearn: 0.0364732\ttotal: 1.02s\tremaining: 993ms\n",
      "507:\tlearn: 0.0363798\ttotal: 1.02s\tremaining: 991ms\n",
      "508:\tlearn: 0.0362979\ttotal: 1.02s\tremaining: 989ms\n",
      "509:\tlearn: 0.0362135\ttotal: 1.03s\tremaining: 987ms\n",
      "510:\tlearn: 0.0361148\ttotal: 1.03s\tremaining: 985ms\n",
      "511:\tlearn: 0.0359939\ttotal: 1.03s\tremaining: 983ms\n",
      "512:\tlearn: 0.0359113\ttotal: 1.03s\tremaining: 980ms\n",
      "513:\tlearn: 0.0358124\ttotal: 1.03s\tremaining: 978ms\n",
      "514:\tlearn: 0.0357246\ttotal: 1.04s\tremaining: 976ms\n",
      "515:\tlearn: 0.0356498\ttotal: 1.04s\tremaining: 974ms\n",
      "516:\tlearn: 0.0355485\ttotal: 1.04s\tremaining: 972ms\n",
      "517:\tlearn: 0.0354556\ttotal: 1.04s\tremaining: 970ms\n",
      "518:\tlearn: 0.0353450\ttotal: 1.04s\tremaining: 967ms\n",
      "519:\tlearn: 0.0352713\ttotal: 1.04s\tremaining: 965ms\n",
      "520:\tlearn: 0.0351883\ttotal: 1.05s\tremaining: 963ms\n",
      "521:\tlearn: 0.0350949\ttotal: 1.05s\tremaining: 961ms\n",
      "522:\tlearn: 0.0350111\ttotal: 1.05s\tremaining: 959ms\n",
      "523:\tlearn: 0.0349383\ttotal: 1.05s\tremaining: 957ms\n",
      "524:\tlearn: 0.0348748\ttotal: 1.05s\tremaining: 955ms\n",
      "525:\tlearn: 0.0348037\ttotal: 1.06s\tremaining: 953ms\n",
      "526:\tlearn: 0.0347143\ttotal: 1.06s\tremaining: 951ms\n",
      "527:\tlearn: 0.0346313\ttotal: 1.06s\tremaining: 948ms\n",
      "528:\tlearn: 0.0345511\ttotal: 1.06s\tremaining: 946ms\n",
      "529:\tlearn: 0.0344553\ttotal: 1.06s\tremaining: 944ms\n",
      "530:\tlearn: 0.0343291\ttotal: 1.07s\tremaining: 942ms\n",
      "531:\tlearn: 0.0342455\ttotal: 1.07s\tremaining: 940ms\n",
      "532:\tlearn: 0.0341434\ttotal: 1.07s\tremaining: 938ms\n",
      "533:\tlearn: 0.0340460\ttotal: 1.07s\tremaining: 936ms\n",
      "534:\tlearn: 0.0339796\ttotal: 1.07s\tremaining: 934ms\n",
      "535:\tlearn: 0.0338960\ttotal: 1.08s\tremaining: 932ms\n",
      "536:\tlearn: 0.0337942\ttotal: 1.08s\tremaining: 930ms\n",
      "537:\tlearn: 0.0337220\ttotal: 1.08s\tremaining: 927ms\n",
      "538:\tlearn: 0.0336419\ttotal: 1.08s\tremaining: 925ms\n",
      "539:\tlearn: 0.0335607\ttotal: 1.08s\tremaining: 923ms\n",
      "540:\tlearn: 0.0334636\ttotal: 1.08s\tremaining: 921ms\n",
      "541:\tlearn: 0.0333911\ttotal: 1.09s\tremaining: 919ms\n",
      "542:\tlearn: 0.0332992\ttotal: 1.09s\tremaining: 917ms\n",
      "543:\tlearn: 0.0331964\ttotal: 1.09s\tremaining: 915ms\n",
      "544:\tlearn: 0.0331134\ttotal: 1.09s\tremaining: 912ms\n",
      "545:\tlearn: 0.0330602\ttotal: 1.09s\tremaining: 910ms\n",
      "546:\tlearn: 0.0330102\ttotal: 1.1s\tremaining: 908ms\n",
      "547:\tlearn: 0.0329207\ttotal: 1.1s\tremaining: 906ms\n",
      "548:\tlearn: 0.0328409\ttotal: 1.1s\tremaining: 904ms\n",
      "549:\tlearn: 0.0327600\ttotal: 1.1s\tremaining: 902ms\n",
      "550:\tlearn: 0.0327118\ttotal: 1.1s\tremaining: 900ms\n",
      "551:\tlearn: 0.0326530\ttotal: 1.11s\tremaining: 898ms\n",
      "552:\tlearn: 0.0326129\ttotal: 1.11s\tremaining: 896ms\n",
      "553:\tlearn: 0.0324966\ttotal: 1.11s\tremaining: 893ms\n",
      "554:\tlearn: 0.0323542\ttotal: 1.11s\tremaining: 891ms\n",
      "555:\tlearn: 0.0322425\ttotal: 1.11s\tremaining: 889ms\n",
      "556:\tlearn: 0.0321914\ttotal: 1.11s\tremaining: 887ms\n",
      "557:\tlearn: 0.0321287\ttotal: 1.12s\tremaining: 885ms\n",
      "558:\tlearn: 0.0320635\ttotal: 1.12s\tremaining: 883ms\n",
      "559:\tlearn: 0.0319896\ttotal: 1.12s\tremaining: 881ms\n",
      "560:\tlearn: 0.0319296\ttotal: 1.12s\tremaining: 879ms\n",
      "561:\tlearn: 0.0318198\ttotal: 1.13s\tremaining: 877ms\n",
      "562:\tlearn: 0.0317656\ttotal: 1.13s\tremaining: 875ms\n",
      "563:\tlearn: 0.0316873\ttotal: 1.13s\tremaining: 873ms\n"
     ]
    },
    {
     "name": "stdout",
     "output_type": "stream",
     "text": [
      "564:\tlearn: 0.0316235\ttotal: 1.13s\tremaining: 871ms\n",
      "565:\tlearn: 0.0315522\ttotal: 1.13s\tremaining: 870ms\n",
      "566:\tlearn: 0.0314622\ttotal: 1.14s\tremaining: 868ms\n",
      "567:\tlearn: 0.0314100\ttotal: 1.14s\tremaining: 866ms\n",
      "568:\tlearn: 0.0313418\ttotal: 1.14s\tremaining: 864ms\n",
      "569:\tlearn: 0.0312525\ttotal: 1.14s\tremaining: 862ms\n",
      "570:\tlearn: 0.0311634\ttotal: 1.15s\tremaining: 861ms\n",
      "571:\tlearn: 0.0310751\ttotal: 1.15s\tremaining: 859ms\n",
      "572:\tlearn: 0.0310074\ttotal: 1.15s\tremaining: 857ms\n",
      "573:\tlearn: 0.0309445\ttotal: 1.15s\tremaining: 855ms\n",
      "574:\tlearn: 0.0308500\ttotal: 1.15s\tremaining: 853ms\n",
      "575:\tlearn: 0.0308011\ttotal: 1.16s\tremaining: 851ms\n",
      "576:\tlearn: 0.0307554\ttotal: 1.16s\tremaining: 849ms\n",
      "577:\tlearn: 0.0306612\ttotal: 1.16s\tremaining: 847ms\n",
      "578:\tlearn: 0.0305795\ttotal: 1.16s\tremaining: 845ms\n",
      "579:\tlearn: 0.0305238\ttotal: 1.16s\tremaining: 843ms\n",
      "580:\tlearn: 0.0304308\ttotal: 1.17s\tremaining: 841ms\n",
      "581:\tlearn: 0.0304006\ttotal: 1.17s\tremaining: 839ms\n",
      "582:\tlearn: 0.0303520\ttotal: 1.17s\tremaining: 838ms\n",
      "583:\tlearn: 0.0302634\ttotal: 1.17s\tremaining: 836ms\n",
      "584:\tlearn: 0.0302033\ttotal: 1.18s\tremaining: 834ms\n",
      "585:\tlearn: 0.0301342\ttotal: 1.18s\tremaining: 832ms\n",
      "586:\tlearn: 0.0300477\ttotal: 1.18s\tremaining: 830ms\n",
      "587:\tlearn: 0.0299862\ttotal: 1.18s\tremaining: 828ms\n",
      "588:\tlearn: 0.0299216\ttotal: 1.18s\tremaining: 826ms\n",
      "589:\tlearn: 0.0298650\ttotal: 1.19s\tremaining: 824ms\n",
      "590:\tlearn: 0.0297966\ttotal: 1.19s\tremaining: 822ms\n",
      "591:\tlearn: 0.0297469\ttotal: 1.19s\tremaining: 820ms\n",
      "592:\tlearn: 0.0296908\ttotal: 1.19s\tremaining: 818ms\n",
      "593:\tlearn: 0.0296226\ttotal: 1.19s\tremaining: 816ms\n",
      "594:\tlearn: 0.0295541\ttotal: 1.2s\tremaining: 814ms\n",
      "595:\tlearn: 0.0294571\ttotal: 1.2s\tremaining: 812ms\n",
      "596:\tlearn: 0.0293764\ttotal: 1.2s\tremaining: 810ms\n",
      "597:\tlearn: 0.0293168\ttotal: 1.2s\tremaining: 808ms\n",
      "598:\tlearn: 0.0292517\ttotal: 1.2s\tremaining: 806ms\n",
      "599:\tlearn: 0.0291869\ttotal: 1.21s\tremaining: 804ms\n",
      "600:\tlearn: 0.0291550\ttotal: 1.21s\tremaining: 802ms\n",
      "601:\tlearn: 0.0291005\ttotal: 1.21s\tremaining: 801ms\n",
      "602:\tlearn: 0.0290562\ttotal: 1.21s\tremaining: 799ms\n",
      "603:\tlearn: 0.0289870\ttotal: 1.21s\tremaining: 796ms\n",
      "604:\tlearn: 0.0288951\ttotal: 1.22s\tremaining: 794ms\n",
      "605:\tlearn: 0.0288151\ttotal: 1.22s\tremaining: 792ms\n",
      "606:\tlearn: 0.0287466\ttotal: 1.22s\tremaining: 790ms\n",
      "607:\tlearn: 0.0286658\ttotal: 1.22s\tremaining: 788ms\n",
      "608:\tlearn: 0.0285856\ttotal: 1.22s\tremaining: 786ms\n",
      "609:\tlearn: 0.0284948\ttotal: 1.23s\tremaining: 784ms\n",
      "610:\tlearn: 0.0284229\ttotal: 1.23s\tremaining: 782ms\n",
      "611:\tlearn: 0.0283583\ttotal: 1.23s\tremaining: 780ms\n",
      "612:\tlearn: 0.0282907\ttotal: 1.23s\tremaining: 778ms\n",
      "613:\tlearn: 0.0282253\ttotal: 1.23s\tremaining: 776ms\n",
      "614:\tlearn: 0.0281697\ttotal: 1.24s\tremaining: 774ms\n",
      "615:\tlearn: 0.0281278\ttotal: 1.24s\tremaining: 772ms\n",
      "616:\tlearn: 0.0280455\ttotal: 1.24s\tremaining: 770ms\n",
      "617:\tlearn: 0.0279982\ttotal: 1.24s\tremaining: 768ms\n",
      "618:\tlearn: 0.0279273\ttotal: 1.24s\tremaining: 766ms\n",
      "619:\tlearn: 0.0278660\ttotal: 1.25s\tremaining: 763ms\n",
      "620:\tlearn: 0.0277862\ttotal: 1.25s\tremaining: 761ms\n",
      "621:\tlearn: 0.0277736\ttotal: 1.25s\tremaining: 759ms\n",
      "622:\tlearn: 0.0277090\ttotal: 1.25s\tremaining: 757ms\n",
      "623:\tlearn: 0.0276598\ttotal: 1.25s\tremaining: 755ms\n",
      "624:\tlearn: 0.0276130\ttotal: 1.25s\tremaining: 753ms\n",
      "625:\tlearn: 0.0275483\ttotal: 1.26s\tremaining: 751ms\n",
      "626:\tlearn: 0.0274780\ttotal: 1.26s\tremaining: 749ms\n",
      "627:\tlearn: 0.0274327\ttotal: 1.26s\tremaining: 747ms\n",
      "628:\tlearn: 0.0273875\ttotal: 1.26s\tremaining: 744ms\n",
      "629:\tlearn: 0.0273290\ttotal: 1.26s\tremaining: 742ms\n",
      "630:\tlearn: 0.0272880\ttotal: 1.26s\tremaining: 740ms\n",
      "631:\tlearn: 0.0272300\ttotal: 1.27s\tremaining: 738ms\n",
      "632:\tlearn: 0.0271812\ttotal: 1.27s\tremaining: 736ms\n",
      "633:\tlearn: 0.0271046\ttotal: 1.27s\tremaining: 734ms\n",
      "634:\tlearn: 0.0270520\ttotal: 1.27s\tremaining: 732ms\n",
      "635:\tlearn: 0.0270049\ttotal: 1.27s\tremaining: 730ms\n",
      "636:\tlearn: 0.0269477\ttotal: 1.28s\tremaining: 728ms\n",
      "637:\tlearn: 0.0268684\ttotal: 1.28s\tremaining: 726ms\n",
      "638:\tlearn: 0.0268357\ttotal: 1.28s\tremaining: 724ms\n",
      "639:\tlearn: 0.0268020\ttotal: 1.28s\tremaining: 722ms\n",
      "640:\tlearn: 0.0267150\ttotal: 1.28s\tremaining: 720ms\n",
      "641:\tlearn: 0.0266322\ttotal: 1.29s\tremaining: 718ms\n",
      "642:\tlearn: 0.0265859\ttotal: 1.29s\tremaining: 715ms\n",
      "643:\tlearn: 0.0264928\ttotal: 1.29s\tremaining: 713ms\n",
      "644:\tlearn: 0.0264348\ttotal: 1.29s\tremaining: 711ms\n",
      "645:\tlearn: 0.0263836\ttotal: 1.29s\tremaining: 709ms\n",
      "646:\tlearn: 0.0263175\ttotal: 1.29s\tremaining: 707ms\n",
      "647:\tlearn: 0.0262740\ttotal: 1.3s\tremaining: 705ms\n",
      "648:\tlearn: 0.0262279\ttotal: 1.3s\tremaining: 703ms\n",
      "649:\tlearn: 0.0261538\ttotal: 1.3s\tremaining: 701ms\n",
      "650:\tlearn: 0.0260963\ttotal: 1.3s\tremaining: 699ms\n",
      "651:\tlearn: 0.0260567\ttotal: 1.3s\tremaining: 697ms\n",
      "652:\tlearn: 0.0260072\ttotal: 1.31s\tremaining: 695ms\n",
      "653:\tlearn: 0.0259537\ttotal: 1.31s\tremaining: 693ms\n",
      "654:\tlearn: 0.0258980\ttotal: 1.31s\tremaining: 691ms\n",
      "655:\tlearn: 0.0258297\ttotal: 1.31s\tremaining: 688ms\n",
      "656:\tlearn: 0.0257602\ttotal: 1.31s\tremaining: 686ms\n",
      "657:\tlearn: 0.0257142\ttotal: 1.32s\tremaining: 684ms\n",
      "658:\tlearn: 0.0256340\ttotal: 1.32s\tremaining: 682ms\n",
      "659:\tlearn: 0.0255952\ttotal: 1.32s\tremaining: 680ms\n",
      "660:\tlearn: 0.0255498\ttotal: 1.32s\tremaining: 678ms\n",
      "661:\tlearn: 0.0254702\ttotal: 1.32s\tremaining: 676ms\n",
      "662:\tlearn: 0.0254105\ttotal: 1.32s\tremaining: 674ms\n",
      "663:\tlearn: 0.0253924\ttotal: 1.33s\tremaining: 672ms\n",
      "664:\tlearn: 0.0253395\ttotal: 1.33s\tremaining: 670ms\n",
      "665:\tlearn: 0.0253179\ttotal: 1.33s\tremaining: 668ms\n",
      "666:\tlearn: 0.0252736\ttotal: 1.33s\tremaining: 666ms\n",
      "667:\tlearn: 0.0251996\ttotal: 1.34s\tremaining: 664ms\n",
      "668:\tlearn: 0.0251466\ttotal: 1.34s\tremaining: 662ms\n",
      "669:\tlearn: 0.0251295\ttotal: 1.34s\tremaining: 660ms\n",
      "670:\tlearn: 0.0250879\ttotal: 1.34s\tremaining: 659ms\n",
      "671:\tlearn: 0.0250619\ttotal: 1.34s\tremaining: 657ms\n",
      "672:\tlearn: 0.0250063\ttotal: 1.35s\tremaining: 655ms\n",
      "673:\tlearn: 0.0249622\ttotal: 1.35s\tremaining: 653ms\n",
      "674:\tlearn: 0.0249095\ttotal: 1.35s\tremaining: 651ms\n",
      "675:\tlearn: 0.0248314\ttotal: 1.35s\tremaining: 649ms\n",
      "676:\tlearn: 0.0247751\ttotal: 1.35s\tremaining: 647ms\n",
      "677:\tlearn: 0.0247231\ttotal: 1.36s\tremaining: 645ms\n",
      "678:\tlearn: 0.0246658\ttotal: 1.36s\tremaining: 643ms\n",
      "679:\tlearn: 0.0246239\ttotal: 1.36s\tremaining: 641ms\n",
      "680:\tlearn: 0.0245607\ttotal: 1.36s\tremaining: 639ms\n",
      "681:\tlearn: 0.0244933\ttotal: 1.36s\tremaining: 637ms\n",
      "682:\tlearn: 0.0244459\ttotal: 1.37s\tremaining: 634ms\n",
      "683:\tlearn: 0.0243953\ttotal: 1.37s\tremaining: 633ms\n",
      "684:\tlearn: 0.0243514\ttotal: 1.37s\tremaining: 631ms\n",
      "685:\tlearn: 0.0243214\ttotal: 1.37s\tremaining: 628ms\n",
      "686:\tlearn: 0.0242675\ttotal: 1.38s\tremaining: 627ms\n",
      "687:\tlearn: 0.0242132\ttotal: 1.38s\tremaining: 625ms\n",
      "688:\tlearn: 0.0241666\ttotal: 1.38s\tremaining: 622ms\n",
      "689:\tlearn: 0.0241061\ttotal: 1.38s\tremaining: 620ms\n",
      "690:\tlearn: 0.0240535\ttotal: 1.38s\tremaining: 618ms\n",
      "691:\tlearn: 0.0239986\ttotal: 1.39s\tremaining: 617ms\n",
      "692:\tlearn: 0.0239386\ttotal: 1.39s\tremaining: 614ms\n",
      "693:\tlearn: 0.0239044\ttotal: 1.39s\tremaining: 612ms\n",
      "694:\tlearn: 0.0238347\ttotal: 1.39s\tremaining: 610ms\n",
      "695:\tlearn: 0.0237889\ttotal: 1.39s\tremaining: 608ms\n",
      "696:\tlearn: 0.0237072\ttotal: 1.39s\tremaining: 606ms\n",
      "697:\tlearn: 0.0236616\ttotal: 1.4s\tremaining: 604ms\n",
      "698:\tlearn: 0.0236054\ttotal: 1.4s\tremaining: 602ms\n",
      "699:\tlearn: 0.0235474\ttotal: 1.4s\tremaining: 600ms\n",
      "700:\tlearn: 0.0235040\ttotal: 1.4s\tremaining: 598ms\n",
      "701:\tlearn: 0.0234421\ttotal: 1.4s\tremaining: 596ms\n",
      "702:\tlearn: 0.0233926\ttotal: 1.41s\tremaining: 594ms\n",
      "703:\tlearn: 0.0233424\ttotal: 1.41s\tremaining: 592ms\n",
      "704:\tlearn: 0.0233024\ttotal: 1.41s\tremaining: 590ms\n",
      "705:\tlearn: 0.0232657\ttotal: 1.41s\tremaining: 588ms\n",
      "706:\tlearn: 0.0232016\ttotal: 1.41s\tremaining: 586ms\n",
      "707:\tlearn: 0.0231686\ttotal: 1.42s\tremaining: 584ms\n",
      "708:\tlearn: 0.0231154\ttotal: 1.42s\tremaining: 582ms\n",
      "709:\tlearn: 0.0230842\ttotal: 1.42s\tremaining: 580ms\n",
      "710:\tlearn: 0.0230328\ttotal: 1.42s\tremaining: 578ms\n",
      "711:\tlearn: 0.0229826\ttotal: 1.42s\tremaining: 576ms\n",
      "712:\tlearn: 0.0229272\ttotal: 1.42s\tremaining: 573ms\n",
      "713:\tlearn: 0.0228860\ttotal: 1.43s\tremaining: 571ms\n",
      "714:\tlearn: 0.0228273\ttotal: 1.43s\tremaining: 570ms\n",
      "715:\tlearn: 0.0227714\ttotal: 1.43s\tremaining: 568ms\n",
      "716:\tlearn: 0.0227197\ttotal: 1.43s\tremaining: 566ms\n",
      "717:\tlearn: 0.0226721\ttotal: 1.43s\tremaining: 563ms\n",
      "718:\tlearn: 0.0226128\ttotal: 1.44s\tremaining: 561ms\n",
      "719:\tlearn: 0.0225558\ttotal: 1.44s\tremaining: 559ms\n",
      "720:\tlearn: 0.0225172\ttotal: 1.44s\tremaining: 557ms\n",
      "721:\tlearn: 0.0224438\ttotal: 1.44s\tremaining: 555ms\n",
      "722:\tlearn: 0.0223859\ttotal: 1.44s\tremaining: 553ms\n",
      "723:\tlearn: 0.0223471\ttotal: 1.45s\tremaining: 551ms\n",
      "724:\tlearn: 0.0223093\ttotal: 1.45s\tremaining: 549ms\n",
      "725:\tlearn: 0.0222660\ttotal: 1.45s\tremaining: 547ms\n",
      "726:\tlearn: 0.0222232\ttotal: 1.45s\tremaining: 545ms\n",
      "727:\tlearn: 0.0221829\ttotal: 1.45s\tremaining: 543ms\n",
      "728:\tlearn: 0.0221557\ttotal: 1.46s\tremaining: 541ms\n",
      "729:\tlearn: 0.0220832\ttotal: 1.46s\tremaining: 539ms\n",
      "730:\tlearn: 0.0220389\ttotal: 1.46s\tremaining: 537ms\n",
      "731:\tlearn: 0.0220056\ttotal: 1.46s\tremaining: 535ms\n",
      "732:\tlearn: 0.0219583\ttotal: 1.46s\tremaining: 533ms\n",
      "733:\tlearn: 0.0219230\ttotal: 1.46s\tremaining: 531ms\n",
      "734:\tlearn: 0.0218771\ttotal: 1.47s\tremaining: 529ms\n",
      "735:\tlearn: 0.0218386\ttotal: 1.47s\tremaining: 527ms\n",
      "736:\tlearn: 0.0217900\ttotal: 1.47s\tremaining: 525ms\n",
      "737:\tlearn: 0.0217533\ttotal: 1.47s\tremaining: 522ms\n",
      "738:\tlearn: 0.0217092\ttotal: 1.47s\tremaining: 520ms\n",
      "739:\tlearn: 0.0216548\ttotal: 1.48s\tremaining: 518ms\n",
      "740:\tlearn: 0.0215956\ttotal: 1.48s\tremaining: 516ms\n",
      "741:\tlearn: 0.0215416\ttotal: 1.48s\tremaining: 514ms\n",
      "742:\tlearn: 0.0214916\ttotal: 1.48s\tremaining: 512ms\n",
      "743:\tlearn: 0.0214505\ttotal: 1.48s\tremaining: 510ms\n",
      "744:\tlearn: 0.0214071\ttotal: 1.49s\tremaining: 509ms\n",
      "745:\tlearn: 0.0213658\ttotal: 1.49s\tremaining: 506ms\n",
      "746:\tlearn: 0.0213101\ttotal: 1.49s\tremaining: 504ms\n",
      "747:\tlearn: 0.0212419\ttotal: 1.49s\tremaining: 502ms\n",
      "748:\tlearn: 0.0211922\ttotal: 1.49s\tremaining: 500ms\n",
      "749:\tlearn: 0.0211633\ttotal: 1.5s\tremaining: 498ms\n",
      "750:\tlearn: 0.0211205\ttotal: 1.5s\tremaining: 496ms\n",
      "751:\tlearn: 0.0210580\ttotal: 1.5s\tremaining: 494ms\n",
      "752:\tlearn: 0.0210110\ttotal: 1.5s\tremaining: 492ms\n",
      "753:\tlearn: 0.0209884\ttotal: 1.5s\tremaining: 490ms\n",
      "754:\tlearn: 0.0209418\ttotal: 1.5s\tremaining: 488ms\n",
      "755:\tlearn: 0.0208998\ttotal: 1.51s\tremaining: 486ms\n",
      "756:\tlearn: 0.0208680\ttotal: 1.51s\tremaining: 484ms\n",
      "757:\tlearn: 0.0208314\ttotal: 1.51s\tremaining: 482ms\n",
      "758:\tlearn: 0.0207840\ttotal: 1.51s\tremaining: 480ms\n",
      "759:\tlearn: 0.0207505\ttotal: 1.51s\tremaining: 478ms\n",
      "760:\tlearn: 0.0207091\ttotal: 1.51s\tremaining: 476ms\n",
      "761:\tlearn: 0.0206630\ttotal: 1.52s\tremaining: 474ms\n",
      "762:\tlearn: 0.0206251\ttotal: 1.52s\tremaining: 472ms\n"
     ]
    },
    {
     "name": "stdout",
     "output_type": "stream",
     "text": [
      "763:\tlearn: 0.0206050\ttotal: 1.52s\tremaining: 470ms\n",
      "764:\tlearn: 0.0205667\ttotal: 1.52s\tremaining: 468ms\n",
      "765:\tlearn: 0.0205449\ttotal: 1.52s\tremaining: 466ms\n",
      "766:\tlearn: 0.0204933\ttotal: 1.53s\tremaining: 464ms\n",
      "767:\tlearn: 0.0204504\ttotal: 1.53s\tremaining: 462ms\n",
      "768:\tlearn: 0.0203985\ttotal: 1.53s\tremaining: 460ms\n",
      "769:\tlearn: 0.0203510\ttotal: 1.53s\tremaining: 458ms\n",
      "770:\tlearn: 0.0203013\ttotal: 1.53s\tremaining: 456ms\n",
      "771:\tlearn: 0.0202542\ttotal: 1.54s\tremaining: 454ms\n",
      "772:\tlearn: 0.0201982\ttotal: 1.54s\tremaining: 452ms\n",
      "773:\tlearn: 0.0201620\ttotal: 1.54s\tremaining: 450ms\n",
      "774:\tlearn: 0.0201241\ttotal: 1.54s\tremaining: 448ms\n",
      "775:\tlearn: 0.0200856\ttotal: 1.55s\tremaining: 446ms\n",
      "776:\tlearn: 0.0200498\ttotal: 1.55s\tremaining: 444ms\n",
      "777:\tlearn: 0.0200054\ttotal: 1.55s\tremaining: 442ms\n",
      "778:\tlearn: 0.0199653\ttotal: 1.55s\tremaining: 440ms\n",
      "779:\tlearn: 0.0199388\ttotal: 1.55s\tremaining: 439ms\n",
      "780:\tlearn: 0.0198980\ttotal: 1.56s\tremaining: 436ms\n",
      "781:\tlearn: 0.0198558\ttotal: 1.56s\tremaining: 434ms\n",
      "782:\tlearn: 0.0198171\ttotal: 1.56s\tremaining: 432ms\n",
      "783:\tlearn: 0.0197745\ttotal: 1.56s\tremaining: 431ms\n",
      "784:\tlearn: 0.0197425\ttotal: 1.56s\tremaining: 428ms\n",
      "785:\tlearn: 0.0197053\ttotal: 1.57s\tremaining: 426ms\n",
      "786:\tlearn: 0.0196663\ttotal: 1.57s\tremaining: 424ms\n",
      "787:\tlearn: 0.0196154\ttotal: 1.57s\tremaining: 422ms\n",
      "788:\tlearn: 0.0195816\ttotal: 1.57s\tremaining: 420ms\n",
      "789:\tlearn: 0.0195401\ttotal: 1.57s\tremaining: 418ms\n",
      "790:\tlearn: 0.0195042\ttotal: 1.57s\tremaining: 416ms\n",
      "791:\tlearn: 0.0194568\ttotal: 1.58s\tremaining: 414ms\n",
      "792:\tlearn: 0.0194493\ttotal: 1.58s\tremaining: 412ms\n",
      "793:\tlearn: 0.0194202\ttotal: 1.58s\tremaining: 411ms\n",
      "794:\tlearn: 0.0193860\ttotal: 1.58s\tremaining: 409ms\n",
      "795:\tlearn: 0.0193507\ttotal: 1.59s\tremaining: 407ms\n",
      "796:\tlearn: 0.0193190\ttotal: 1.59s\tremaining: 405ms\n",
      "797:\tlearn: 0.0192719\ttotal: 1.59s\tremaining: 403ms\n",
      "798:\tlearn: 0.0192432\ttotal: 1.59s\tremaining: 401ms\n",
      "799:\tlearn: 0.0192001\ttotal: 1.6s\tremaining: 399ms\n",
      "800:\tlearn: 0.0191762\ttotal: 1.6s\tremaining: 397ms\n",
      "801:\tlearn: 0.0191325\ttotal: 1.6s\tremaining: 395ms\n",
      "802:\tlearn: 0.0191012\ttotal: 1.6s\tremaining: 393ms\n",
      "803:\tlearn: 0.0190692\ttotal: 1.6s\tremaining: 391ms\n",
      "804:\tlearn: 0.0190213\ttotal: 1.61s\tremaining: 389ms\n",
      "805:\tlearn: 0.0189753\ttotal: 1.61s\tremaining: 388ms\n",
      "806:\tlearn: 0.0189499\ttotal: 1.61s\tremaining: 386ms\n",
      "807:\tlearn: 0.0189337\ttotal: 1.61s\tremaining: 384ms\n",
      "808:\tlearn: 0.0189075\ttotal: 1.62s\tremaining: 382ms\n",
      "809:\tlearn: 0.0188709\ttotal: 1.62s\tremaining: 380ms\n",
      "810:\tlearn: 0.0188261\ttotal: 1.62s\tremaining: 378ms\n",
      "811:\tlearn: 0.0187915\ttotal: 1.62s\tremaining: 376ms\n",
      "812:\tlearn: 0.0187428\ttotal: 1.63s\tremaining: 374ms\n",
      "813:\tlearn: 0.0187116\ttotal: 1.63s\tremaining: 372ms\n",
      "814:\tlearn: 0.0186738\ttotal: 1.63s\tremaining: 370ms\n",
      "815:\tlearn: 0.0186407\ttotal: 1.63s\tremaining: 368ms\n",
      "816:\tlearn: 0.0185998\ttotal: 1.63s\tremaining: 366ms\n",
      "817:\tlearn: 0.0185556\ttotal: 1.64s\tremaining: 364ms\n",
      "818:\tlearn: 0.0185159\ttotal: 1.64s\tremaining: 362ms\n",
      "819:\tlearn: 0.0184625\ttotal: 1.64s\tremaining: 360ms\n",
      "820:\tlearn: 0.0184327\ttotal: 1.64s\tremaining: 358ms\n",
      "821:\tlearn: 0.0183928\ttotal: 1.64s\tremaining: 356ms\n",
      "822:\tlearn: 0.0183579\ttotal: 1.65s\tremaining: 354ms\n",
      "823:\tlearn: 0.0183165\ttotal: 1.65s\tremaining: 352ms\n",
      "824:\tlearn: 0.0182820\ttotal: 1.65s\tremaining: 350ms\n",
      "825:\tlearn: 0.0182479\ttotal: 1.65s\tremaining: 348ms\n",
      "826:\tlearn: 0.0182095\ttotal: 1.66s\tremaining: 346ms\n",
      "827:\tlearn: 0.0181712\ttotal: 1.66s\tremaining: 344ms\n",
      "828:\tlearn: 0.0181284\ttotal: 1.66s\tremaining: 342ms\n",
      "829:\tlearn: 0.0181119\ttotal: 1.66s\tremaining: 340ms\n",
      "830:\tlearn: 0.0180857\ttotal: 1.66s\tremaining: 338ms\n",
      "831:\tlearn: 0.0180768\ttotal: 1.66s\tremaining: 336ms\n",
      "832:\tlearn: 0.0180468\ttotal: 1.67s\tremaining: 334ms\n",
      "833:\tlearn: 0.0180227\ttotal: 1.67s\tremaining: 332ms\n",
      "834:\tlearn: 0.0179752\ttotal: 1.67s\tremaining: 330ms\n",
      "835:\tlearn: 0.0179277\ttotal: 1.67s\tremaining: 328ms\n",
      "836:\tlearn: 0.0178924\ttotal: 1.67s\tremaining: 326ms\n",
      "837:\tlearn: 0.0178580\ttotal: 1.68s\tremaining: 324ms\n",
      "838:\tlearn: 0.0178248\ttotal: 1.68s\tremaining: 322ms\n",
      "839:\tlearn: 0.0177901\ttotal: 1.68s\tremaining: 320ms\n",
      "840:\tlearn: 0.0177473\ttotal: 1.68s\tremaining: 318ms\n",
      "841:\tlearn: 0.0177037\ttotal: 1.68s\tremaining: 316ms\n",
      "842:\tlearn: 0.0176601\ttotal: 1.69s\tremaining: 314ms\n",
      "843:\tlearn: 0.0176157\ttotal: 1.69s\tremaining: 312ms\n",
      "844:\tlearn: 0.0175989\ttotal: 1.69s\tremaining: 310ms\n",
      "845:\tlearn: 0.0175524\ttotal: 1.69s\tremaining: 308ms\n",
      "846:\tlearn: 0.0175266\ttotal: 1.69s\tremaining: 306ms\n",
      "847:\tlearn: 0.0174934\ttotal: 1.7s\tremaining: 304ms\n",
      "848:\tlearn: 0.0174584\ttotal: 1.7s\tremaining: 302ms\n",
      "849:\tlearn: 0.0174141\ttotal: 1.7s\tremaining: 300ms\n",
      "850:\tlearn: 0.0173889\ttotal: 1.7s\tremaining: 298ms\n",
      "851:\tlearn: 0.0173413\ttotal: 1.7s\tremaining: 296ms\n",
      "852:\tlearn: 0.0173088\ttotal: 1.7s\tremaining: 294ms\n",
      "853:\tlearn: 0.0172863\ttotal: 1.71s\tremaining: 292ms\n",
      "854:\tlearn: 0.0172617\ttotal: 1.71s\tremaining: 290ms\n",
      "855:\tlearn: 0.0172291\ttotal: 1.71s\tremaining: 288ms\n",
      "856:\tlearn: 0.0171857\ttotal: 1.71s\tremaining: 286ms\n",
      "857:\tlearn: 0.0171517\ttotal: 1.71s\tremaining: 284ms\n",
      "858:\tlearn: 0.0171136\ttotal: 1.72s\tremaining: 282ms\n",
      "859:\tlearn: 0.0170706\ttotal: 1.72s\tremaining: 280ms\n",
      "860:\tlearn: 0.0170477\ttotal: 1.72s\tremaining: 278ms\n",
      "861:\tlearn: 0.0170231\ttotal: 1.72s\tremaining: 276ms\n",
      "862:\tlearn: 0.0169923\ttotal: 1.73s\tremaining: 274ms\n",
      "863:\tlearn: 0.0169491\ttotal: 1.73s\tremaining: 272ms\n",
      "864:\tlearn: 0.0169044\ttotal: 1.73s\tremaining: 270ms\n",
      "865:\tlearn: 0.0168703\ttotal: 1.73s\tremaining: 268ms\n",
      "866:\tlearn: 0.0168345\ttotal: 1.73s\tremaining: 266ms\n",
      "867:\tlearn: 0.0168033\ttotal: 1.74s\tremaining: 264ms\n",
      "868:\tlearn: 0.0167745\ttotal: 1.74s\tremaining: 262ms\n",
      "869:\tlearn: 0.0167463\ttotal: 1.74s\tremaining: 260ms\n",
      "870:\tlearn: 0.0167309\ttotal: 1.74s\tremaining: 258ms\n",
      "871:\tlearn: 0.0166985\ttotal: 1.74s\tremaining: 256ms\n",
      "872:\tlearn: 0.0166841\ttotal: 1.75s\tremaining: 254ms\n",
      "873:\tlearn: 0.0166518\ttotal: 1.75s\tremaining: 252ms\n",
      "874:\tlearn: 0.0166181\ttotal: 1.75s\tremaining: 250ms\n",
      "875:\tlearn: 0.0165944\ttotal: 1.75s\tremaining: 248ms\n",
      "876:\tlearn: 0.0165635\ttotal: 1.75s\tremaining: 246ms\n",
      "877:\tlearn: 0.0165581\ttotal: 1.75s\tremaining: 244ms\n",
      "878:\tlearn: 0.0165370\ttotal: 1.76s\tremaining: 242ms\n",
      "879:\tlearn: 0.0165126\ttotal: 1.76s\tremaining: 240ms\n",
      "880:\tlearn: 0.0164820\ttotal: 1.76s\tremaining: 238ms\n",
      "881:\tlearn: 0.0164544\ttotal: 1.76s\tremaining: 236ms\n",
      "882:\tlearn: 0.0164366\ttotal: 1.76s\tremaining: 234ms\n",
      "883:\tlearn: 0.0164138\ttotal: 1.77s\tremaining: 232ms\n",
      "884:\tlearn: 0.0163955\ttotal: 1.77s\tremaining: 230ms\n",
      "885:\tlearn: 0.0163643\ttotal: 1.77s\tremaining: 228ms\n",
      "886:\tlearn: 0.0163300\ttotal: 1.77s\tremaining: 226ms\n",
      "887:\tlearn: 0.0162961\ttotal: 1.77s\tremaining: 224ms\n",
      "888:\tlearn: 0.0162717\ttotal: 1.77s\tremaining: 222ms\n",
      "889:\tlearn: 0.0162221\ttotal: 1.78s\tremaining: 220ms\n",
      "890:\tlearn: 0.0161915\ttotal: 1.78s\tremaining: 218ms\n",
      "891:\tlearn: 0.0161475\ttotal: 1.78s\tremaining: 216ms\n",
      "892:\tlearn: 0.0161128\ttotal: 1.78s\tremaining: 214ms\n",
      "893:\tlearn: 0.0160833\ttotal: 1.78s\tremaining: 212ms\n",
      "894:\tlearn: 0.0160576\ttotal: 1.79s\tremaining: 210ms\n",
      "895:\tlearn: 0.0160182\ttotal: 1.79s\tremaining: 208ms\n",
      "896:\tlearn: 0.0159972\ttotal: 1.79s\tremaining: 206ms\n",
      "897:\tlearn: 0.0159737\ttotal: 1.79s\tremaining: 204ms\n",
      "898:\tlearn: 0.0159541\ttotal: 1.79s\tremaining: 202ms\n",
      "899:\tlearn: 0.0159196\ttotal: 1.8s\tremaining: 200ms\n",
      "900:\tlearn: 0.0158763\ttotal: 1.8s\tremaining: 198ms\n",
      "901:\tlearn: 0.0158624\ttotal: 1.8s\tremaining: 196ms\n",
      "902:\tlearn: 0.0158254\ttotal: 1.8s\tremaining: 194ms\n",
      "903:\tlearn: 0.0158012\ttotal: 1.8s\tremaining: 192ms\n",
      "904:\tlearn: 0.0157601\ttotal: 1.8s\tremaining: 190ms\n",
      "905:\tlearn: 0.0157325\ttotal: 1.81s\tremaining: 188ms\n",
      "906:\tlearn: 0.0157117\ttotal: 1.81s\tremaining: 186ms\n",
      "907:\tlearn: 0.0156893\ttotal: 1.81s\tremaining: 184ms\n",
      "908:\tlearn: 0.0156516\ttotal: 1.81s\tremaining: 182ms\n",
      "909:\tlearn: 0.0156177\ttotal: 1.81s\tremaining: 180ms\n",
      "910:\tlearn: 0.0155931\ttotal: 1.82s\tremaining: 178ms\n",
      "911:\tlearn: 0.0155800\ttotal: 1.82s\tremaining: 176ms\n",
      "912:\tlearn: 0.0155480\ttotal: 1.82s\tremaining: 174ms\n",
      "913:\tlearn: 0.0155263\ttotal: 1.82s\tremaining: 172ms\n",
      "914:\tlearn: 0.0154933\ttotal: 1.82s\tremaining: 170ms\n",
      "915:\tlearn: 0.0154542\ttotal: 1.83s\tremaining: 168ms\n",
      "916:\tlearn: 0.0154391\ttotal: 1.83s\tremaining: 166ms\n",
      "917:\tlearn: 0.0154075\ttotal: 1.83s\tremaining: 164ms\n",
      "918:\tlearn: 0.0153782\ttotal: 1.83s\tremaining: 162ms\n",
      "919:\tlearn: 0.0153598\ttotal: 1.83s\tremaining: 160ms\n",
      "920:\tlearn: 0.0153426\ttotal: 1.84s\tremaining: 158ms\n",
      "921:\tlearn: 0.0153114\ttotal: 1.84s\tremaining: 156ms\n",
      "922:\tlearn: 0.0152930\ttotal: 1.84s\tremaining: 154ms\n",
      "923:\tlearn: 0.0152570\ttotal: 1.84s\tremaining: 152ms\n",
      "924:\tlearn: 0.0152368\ttotal: 1.84s\tremaining: 150ms\n",
      "925:\tlearn: 0.0152137\ttotal: 1.85s\tremaining: 148ms\n",
      "926:\tlearn: 0.0151919\ttotal: 1.85s\tremaining: 146ms\n",
      "927:\tlearn: 0.0151577\ttotal: 1.85s\tremaining: 144ms\n",
      "928:\tlearn: 0.0151540\ttotal: 1.85s\tremaining: 142ms\n",
      "929:\tlearn: 0.0151180\ttotal: 1.85s\tremaining: 140ms\n",
      "930:\tlearn: 0.0150775\ttotal: 1.85s\tremaining: 138ms\n",
      "931:\tlearn: 0.0150584\ttotal: 1.86s\tremaining: 136ms\n",
      "932:\tlearn: 0.0150551\ttotal: 1.86s\tremaining: 134ms\n",
      "933:\tlearn: 0.0150260\ttotal: 1.86s\tremaining: 132ms\n",
      "934:\tlearn: 0.0150122\ttotal: 1.86s\tremaining: 130ms\n",
      "935:\tlearn: 0.0149833\ttotal: 1.86s\tremaining: 128ms\n",
      "936:\tlearn: 0.0149450\ttotal: 1.87s\tremaining: 126ms\n",
      "937:\tlearn: 0.0149107\ttotal: 1.87s\tremaining: 124ms\n",
      "938:\tlearn: 0.0148744\ttotal: 1.87s\tremaining: 122ms\n",
      "939:\tlearn: 0.0148571\ttotal: 1.87s\tremaining: 120ms\n",
      "940:\tlearn: 0.0148397\ttotal: 1.87s\tremaining: 118ms\n",
      "941:\tlearn: 0.0148347\ttotal: 1.88s\tremaining: 116ms\n",
      "942:\tlearn: 0.0148143\ttotal: 1.88s\tremaining: 114ms\n",
      "943:\tlearn: 0.0147964\ttotal: 1.88s\tremaining: 112ms\n",
      "944:\tlearn: 0.0147704\ttotal: 1.88s\tremaining: 110ms\n",
      "945:\tlearn: 0.0147477\ttotal: 1.88s\tremaining: 108ms\n",
      "946:\tlearn: 0.0147215\ttotal: 1.89s\tremaining: 106ms\n",
      "947:\tlearn: 0.0146951\ttotal: 1.89s\tremaining: 104ms\n",
      "948:\tlearn: 0.0146664\ttotal: 1.89s\tremaining: 102ms\n",
      "949:\tlearn: 0.0146615\ttotal: 1.89s\tremaining: 99.6ms\n",
      "950:\tlearn: 0.0146448\ttotal: 1.89s\tremaining: 97.6ms\n",
      "951:\tlearn: 0.0146162\ttotal: 1.9s\tremaining: 95.6ms\n",
      "952:\tlearn: 0.0146066\ttotal: 1.9s\tremaining: 93.6ms\n",
      "953:\tlearn: 0.0145748\ttotal: 1.9s\tremaining: 91.6ms\n",
      "954:\tlearn: 0.0145556\ttotal: 1.9s\tremaining: 89.6ms\n",
      "955:\tlearn: 0.0145245\ttotal: 1.9s\tremaining: 87.6ms\n",
      "956:\tlearn: 0.0145217\ttotal: 1.91s\tremaining: 85.6ms\n",
      "957:\tlearn: 0.0144849\ttotal: 1.91s\tremaining: 83.6ms\n"
     ]
    },
    {
     "name": "stdout",
     "output_type": "stream",
     "text": [
      "958:\tlearn: 0.0144565\ttotal: 1.91s\tremaining: 81.7ms\n",
      "959:\tlearn: 0.0144141\ttotal: 1.91s\tremaining: 79.7ms\n",
      "960:\tlearn: 0.0143892\ttotal: 1.91s\tremaining: 77.7ms\n",
      "961:\tlearn: 0.0143713\ttotal: 1.92s\tremaining: 75.7ms\n",
      "962:\tlearn: 0.0143437\ttotal: 1.92s\tremaining: 73.7ms\n",
      "963:\tlearn: 0.0143144\ttotal: 1.92s\tremaining: 71.8ms\n",
      "964:\tlearn: 0.0142930\ttotal: 1.92s\tremaining: 69.8ms\n",
      "965:\tlearn: 0.0142778\ttotal: 1.93s\tremaining: 67.8ms\n",
      "966:\tlearn: 0.0142749\ttotal: 1.93s\tremaining: 65.8ms\n",
      "967:\tlearn: 0.0142726\ttotal: 1.93s\tremaining: 63.8ms\n",
      "968:\tlearn: 0.0142529\ttotal: 1.93s\tremaining: 61.8ms\n",
      "969:\tlearn: 0.0142269\ttotal: 1.93s\tremaining: 59.8ms\n",
      "970:\tlearn: 0.0142065\ttotal: 1.94s\tremaining: 57.8ms\n",
      "971:\tlearn: 0.0141911\ttotal: 1.94s\tremaining: 55.8ms\n",
      "972:\tlearn: 0.0141584\ttotal: 1.94s\tremaining: 53.9ms\n",
      "973:\tlearn: 0.0141329\ttotal: 1.94s\tremaining: 51.9ms\n",
      "974:\tlearn: 0.0141165\ttotal: 1.95s\tremaining: 49.9ms\n",
      "975:\tlearn: 0.0141140\ttotal: 1.95s\tremaining: 47.9ms\n",
      "976:\tlearn: 0.0140814\ttotal: 1.95s\tremaining: 45.9ms\n",
      "977:\tlearn: 0.0140678\ttotal: 1.95s\tremaining: 43.9ms\n",
      "978:\tlearn: 0.0140625\ttotal: 1.95s\tremaining: 41.9ms\n",
      "979:\tlearn: 0.0140606\ttotal: 1.96s\tremaining: 39.9ms\n",
      "980:\tlearn: 0.0140562\ttotal: 1.96s\tremaining: 37.9ms\n",
      "981:\tlearn: 0.0140375\ttotal: 1.96s\tremaining: 35.9ms\n",
      "982:\tlearn: 0.0140145\ttotal: 1.96s\tremaining: 33.9ms\n",
      "983:\tlearn: 0.0139948\ttotal: 1.96s\tremaining: 31.9ms\n",
      "984:\tlearn: 0.0139829\ttotal: 1.96s\tremaining: 29.9ms\n",
      "985:\tlearn: 0.0139612\ttotal: 1.97s\tremaining: 27.9ms\n",
      "986:\tlearn: 0.0139364\ttotal: 1.97s\tremaining: 25.9ms\n",
      "987:\tlearn: 0.0139208\ttotal: 1.97s\tremaining: 23.9ms\n",
      "988:\tlearn: 0.0139169\ttotal: 1.97s\tremaining: 21.9ms\n",
      "989:\tlearn: 0.0139151\ttotal: 1.97s\tremaining: 19.9ms\n",
      "990:\tlearn: 0.0138900\ttotal: 1.98s\tremaining: 18ms\n",
      "991:\tlearn: 0.0138843\ttotal: 1.98s\tremaining: 16ms\n",
      "992:\tlearn: 0.0138544\ttotal: 1.98s\tremaining: 14ms\n",
      "993:\tlearn: 0.0138510\ttotal: 1.98s\tremaining: 12ms\n",
      "994:\tlearn: 0.0138339\ttotal: 1.98s\tremaining: 9.97ms\n",
      "995:\tlearn: 0.0138313\ttotal: 1.99s\tremaining: 7.98ms\n",
      "996:\tlearn: 0.0138041\ttotal: 1.99s\tremaining: 5.98ms\n",
      "997:\tlearn: 0.0137832\ttotal: 1.99s\tremaining: 3.99ms\n",
      "998:\tlearn: 0.0137585\ttotal: 1.99s\tremaining: 1.99ms\n",
      "999:\tlearn: 0.0137333\ttotal: 1.99s\tremaining: 0us\n",
      "[13:22:06] WARNING: ../src/learner.cc:1115: Starting in XGBoost 1.3.0, the default evaluation metric used with the objective 'binary:logistic' was changed from 'error' to 'logloss'. Explicitly set eval_metric if you'd like to restore the old behavior.\n"
     ]
    },
    {
     "ename": "CatBoostError",
     "evalue": "Only one of parameters ['verbose', 'logging_level', 'verbose_eval', 'silent'] should be set",
     "output_type": "error",
     "traceback": [
      "\u001b[0;31m---------------------------------------------------------------------------\u001b[0m",
      "\u001b[0;31mCatBoostError\u001b[0m                             Traceback (most recent call last)",
      "\u001b[0;32m/var/folders/ts/7t0kscw95ksd70pztwbm11h00000gn/T/ipykernel_66417/286087794.py\u001b[0m in \u001b[0;36m<module>\u001b[0;34m\u001b[0m\n\u001b[1;32m     44\u001b[0m \u001b[0;31m#앙상블!\u001b[0m\u001b[0;34m\u001b[0m\u001b[0;34m\u001b[0m\u001b[0m\n\u001b[1;32m     45\u001b[0m \u001b[0mvot_model\u001b[0m\u001b[0;34m=\u001b[0m\u001b[0mVotingClassifier\u001b[0m\u001b[0;34m(\u001b[0m\u001b[0mestimators\u001b[0m\u001b[0;34m=\u001b[0m\u001b[0;34m[\u001b[0m\u001b[0;34m(\u001b[0m\u001b[0;34m'RandomForest'\u001b[0m\u001b[0;34m,\u001b[0m\u001b[0mrf_clf\u001b[0m\u001b[0;34m)\u001b[0m\u001b[0;34m,\u001b[0m\u001b[0;34m(\u001b[0m\u001b[0;34m'LogisticRegression'\u001b[0m\u001b[0;34m,\u001b[0m\u001b[0mlr_clf\u001b[0m\u001b[0;34m)\u001b[0m\u001b[0;34m,\u001b[0m\u001b[0;34m(\u001b[0m\u001b[0;34m'SVC'\u001b[0m\u001b[0;34m,\u001b[0m\u001b[0msvc\u001b[0m\u001b[0;34m)\u001b[0m\u001b[0;34m,\u001b[0m\u001b[0;34m(\u001b[0m\u001b[0;34m'KNN'\u001b[0m\u001b[0;34m,\u001b[0m\u001b[0mknn_clf\u001b[0m\u001b[0;34m)\u001b[0m\u001b[0;34m,\u001b[0m\u001b[0;34m(\u001b[0m\u001b[0;34m'LGBoost'\u001b[0m\u001b[0;34m,\u001b[0m\u001b[0mlgbm_clf\u001b[0m\u001b[0;34m)\u001b[0m\u001b[0;34m,\u001b[0m\u001b[0;34m(\u001b[0m\u001b[0;34m'XGBoost'\u001b[0m\u001b[0;34m,\u001b[0m\u001b[0mxgb_clf\u001b[0m\u001b[0;34m)\u001b[0m\u001b[0;34m,\u001b[0m\u001b[0;34m(\u001b[0m\u001b[0;34m'Catboost'\u001b[0m\u001b[0;34m,\u001b[0m\u001b[0mcb_clf\u001b[0m\u001b[0;34m)\u001b[0m\u001b[0;34m]\u001b[0m\u001b[0;34m,\u001b[0m\u001b[0mvoting\u001b[0m\u001b[0;34m=\u001b[0m\u001b[0;34m'soft'\u001b[0m\u001b[0;34m)\u001b[0m\u001b[0;34m\u001b[0m\u001b[0;34m\u001b[0m\u001b[0m\n\u001b[0;32m---> 46\u001b[0;31m \u001b[0mvot_model\u001b[0m\u001b[0;34m.\u001b[0m\u001b[0mfit\u001b[0m\u001b[0;34m(\u001b[0m\u001b[0mX_train\u001b[0m\u001b[0;34m,\u001b[0m\u001b[0my_train\u001b[0m\u001b[0;34m)\u001b[0m\u001b[0;34m\u001b[0m\u001b[0;34m\u001b[0m\u001b[0m\n\u001b[0m\u001b[1;32m     47\u001b[0m \u001b[0mpred2\u001b[0m\u001b[0;34m=\u001b[0m\u001b[0mvot_model\u001b[0m\u001b[0;34m.\u001b[0m\u001b[0mpredict\u001b[0m\u001b[0;34m(\u001b[0m\u001b[0mX_test\u001b[0m\u001b[0;34m)\u001b[0m\u001b[0;34m\u001b[0m\u001b[0;34m\u001b[0m\u001b[0m\n\u001b[1;32m     48\u001b[0m \u001b[0maccuracy\u001b[0m\u001b[0;34m.\u001b[0m\u001b[0mappend\u001b[0m\u001b[0;34m(\u001b[0m\u001b[0maccuracy_score\u001b[0m\u001b[0;34m(\u001b[0m\u001b[0my_test\u001b[0m\u001b[0;34m,\u001b[0m\u001b[0mpred2\u001b[0m\u001b[0;34m)\u001b[0m\u001b[0;34m)\u001b[0m\u001b[0;34m\u001b[0m\u001b[0;34m\u001b[0m\u001b[0m\n",
      "\u001b[0;32m/opt/anaconda3/lib/python3.9/site-packages/sklearn/ensemble/_voting.py\u001b[0m in \u001b[0;36mfit\u001b[0;34m(self, X, y, sample_weight)\u001b[0m\n\u001b[1;32m    322\u001b[0m         \u001b[0mtransformed_y\u001b[0m \u001b[0;34m=\u001b[0m \u001b[0mself\u001b[0m\u001b[0;34m.\u001b[0m\u001b[0mle_\u001b[0m\u001b[0;34m.\u001b[0m\u001b[0mtransform\u001b[0m\u001b[0;34m(\u001b[0m\u001b[0my\u001b[0m\u001b[0;34m)\u001b[0m\u001b[0;34m\u001b[0m\u001b[0;34m\u001b[0m\u001b[0m\n\u001b[1;32m    323\u001b[0m \u001b[0;34m\u001b[0m\u001b[0m\n\u001b[0;32m--> 324\u001b[0;31m         \u001b[0;32mreturn\u001b[0m \u001b[0msuper\u001b[0m\u001b[0;34m(\u001b[0m\u001b[0;34m)\u001b[0m\u001b[0;34m.\u001b[0m\u001b[0mfit\u001b[0m\u001b[0;34m(\u001b[0m\u001b[0mX\u001b[0m\u001b[0;34m,\u001b[0m \u001b[0mtransformed_y\u001b[0m\u001b[0;34m,\u001b[0m \u001b[0msample_weight\u001b[0m\u001b[0;34m)\u001b[0m\u001b[0;34m\u001b[0m\u001b[0;34m\u001b[0m\u001b[0m\n\u001b[0m\u001b[1;32m    325\u001b[0m \u001b[0;34m\u001b[0m\u001b[0m\n\u001b[1;32m    326\u001b[0m     \u001b[0;32mdef\u001b[0m \u001b[0mpredict\u001b[0m\u001b[0;34m(\u001b[0m\u001b[0mself\u001b[0m\u001b[0;34m,\u001b[0m \u001b[0mX\u001b[0m\u001b[0;34m)\u001b[0m\u001b[0;34m:\u001b[0m\u001b[0;34m\u001b[0m\u001b[0;34m\u001b[0m\u001b[0m\n",
      "\u001b[0;32m/opt/anaconda3/lib/python3.9/site-packages/sklearn/ensemble/_voting.py\u001b[0m in \u001b[0;36mfit\u001b[0;34m(self, X, y, sample_weight)\u001b[0m\n\u001b[1;32m     72\u001b[0m             )\n\u001b[1;32m     73\u001b[0m \u001b[0;34m\u001b[0m\u001b[0m\n\u001b[0;32m---> 74\u001b[0;31m         self.estimators_ = Parallel(n_jobs=self.n_jobs)(\n\u001b[0m\u001b[1;32m     75\u001b[0m             delayed(_fit_single_estimator)(\n\u001b[1;32m     76\u001b[0m                 \u001b[0mclone\u001b[0m\u001b[0;34m(\u001b[0m\u001b[0mclf\u001b[0m\u001b[0;34m)\u001b[0m\u001b[0;34m,\u001b[0m\u001b[0;34m\u001b[0m\u001b[0;34m\u001b[0m\u001b[0m\n",
      "\u001b[0;32m/opt/anaconda3/lib/python3.9/site-packages/joblib/parallel.py\u001b[0m in \u001b[0;36m__call__\u001b[0;34m(self, iterable)\u001b[0m\n\u001b[1;32m   1044\u001b[0m                 \u001b[0mself\u001b[0m\u001b[0;34m.\u001b[0m\u001b[0m_iterating\u001b[0m \u001b[0;34m=\u001b[0m \u001b[0mself\u001b[0m\u001b[0;34m.\u001b[0m\u001b[0m_original_iterator\u001b[0m \u001b[0;32mis\u001b[0m \u001b[0;32mnot\u001b[0m \u001b[0;32mNone\u001b[0m\u001b[0;34m\u001b[0m\u001b[0;34m\u001b[0m\u001b[0m\n\u001b[1;32m   1045\u001b[0m \u001b[0;34m\u001b[0m\u001b[0m\n\u001b[0;32m-> 1046\u001b[0;31m             \u001b[0;32mwhile\u001b[0m \u001b[0mself\u001b[0m\u001b[0;34m.\u001b[0m\u001b[0mdispatch_one_batch\u001b[0m\u001b[0;34m(\u001b[0m\u001b[0miterator\u001b[0m\u001b[0;34m)\u001b[0m\u001b[0;34m:\u001b[0m\u001b[0;34m\u001b[0m\u001b[0;34m\u001b[0m\u001b[0m\n\u001b[0m\u001b[1;32m   1047\u001b[0m                 \u001b[0;32mpass\u001b[0m\u001b[0;34m\u001b[0m\u001b[0;34m\u001b[0m\u001b[0m\n\u001b[1;32m   1048\u001b[0m \u001b[0;34m\u001b[0m\u001b[0m\n",
      "\u001b[0;32m/opt/anaconda3/lib/python3.9/site-packages/joblib/parallel.py\u001b[0m in \u001b[0;36mdispatch_one_batch\u001b[0;34m(self, iterator)\u001b[0m\n\u001b[1;32m    859\u001b[0m                 \u001b[0;32mreturn\u001b[0m \u001b[0;32mFalse\u001b[0m\u001b[0;34m\u001b[0m\u001b[0;34m\u001b[0m\u001b[0m\n\u001b[1;32m    860\u001b[0m             \u001b[0;32melse\u001b[0m\u001b[0;34m:\u001b[0m\u001b[0;34m\u001b[0m\u001b[0;34m\u001b[0m\u001b[0m\n\u001b[0;32m--> 861\u001b[0;31m                 \u001b[0mself\u001b[0m\u001b[0;34m.\u001b[0m\u001b[0m_dispatch\u001b[0m\u001b[0;34m(\u001b[0m\u001b[0mtasks\u001b[0m\u001b[0;34m)\u001b[0m\u001b[0;34m\u001b[0m\u001b[0;34m\u001b[0m\u001b[0m\n\u001b[0m\u001b[1;32m    862\u001b[0m                 \u001b[0;32mreturn\u001b[0m \u001b[0;32mTrue\u001b[0m\u001b[0;34m\u001b[0m\u001b[0;34m\u001b[0m\u001b[0m\n\u001b[1;32m    863\u001b[0m \u001b[0;34m\u001b[0m\u001b[0m\n",
      "\u001b[0;32m/opt/anaconda3/lib/python3.9/site-packages/joblib/parallel.py\u001b[0m in \u001b[0;36m_dispatch\u001b[0;34m(self, batch)\u001b[0m\n\u001b[1;32m    777\u001b[0m         \u001b[0;32mwith\u001b[0m \u001b[0mself\u001b[0m\u001b[0;34m.\u001b[0m\u001b[0m_lock\u001b[0m\u001b[0;34m:\u001b[0m\u001b[0;34m\u001b[0m\u001b[0;34m\u001b[0m\u001b[0m\n\u001b[1;32m    778\u001b[0m             \u001b[0mjob_idx\u001b[0m \u001b[0;34m=\u001b[0m \u001b[0mlen\u001b[0m\u001b[0;34m(\u001b[0m\u001b[0mself\u001b[0m\u001b[0;34m.\u001b[0m\u001b[0m_jobs\u001b[0m\u001b[0;34m)\u001b[0m\u001b[0;34m\u001b[0m\u001b[0;34m\u001b[0m\u001b[0m\n\u001b[0;32m--> 779\u001b[0;31m             \u001b[0mjob\u001b[0m \u001b[0;34m=\u001b[0m \u001b[0mself\u001b[0m\u001b[0;34m.\u001b[0m\u001b[0m_backend\u001b[0m\u001b[0;34m.\u001b[0m\u001b[0mapply_async\u001b[0m\u001b[0;34m(\u001b[0m\u001b[0mbatch\u001b[0m\u001b[0;34m,\u001b[0m \u001b[0mcallback\u001b[0m\u001b[0;34m=\u001b[0m\u001b[0mcb\u001b[0m\u001b[0;34m)\u001b[0m\u001b[0;34m\u001b[0m\u001b[0;34m\u001b[0m\u001b[0m\n\u001b[0m\u001b[1;32m    780\u001b[0m             \u001b[0;31m# A job can complete so quickly than its callback is\u001b[0m\u001b[0;34m\u001b[0m\u001b[0;34m\u001b[0m\u001b[0m\n\u001b[1;32m    781\u001b[0m             \u001b[0;31m# called before we get here, causing self._jobs to\u001b[0m\u001b[0;34m\u001b[0m\u001b[0;34m\u001b[0m\u001b[0m\n",
      "\u001b[0;32m/opt/anaconda3/lib/python3.9/site-packages/joblib/_parallel_backends.py\u001b[0m in \u001b[0;36mapply_async\u001b[0;34m(self, func, callback)\u001b[0m\n\u001b[1;32m    206\u001b[0m     \u001b[0;32mdef\u001b[0m \u001b[0mapply_async\u001b[0m\u001b[0;34m(\u001b[0m\u001b[0mself\u001b[0m\u001b[0;34m,\u001b[0m \u001b[0mfunc\u001b[0m\u001b[0;34m,\u001b[0m \u001b[0mcallback\u001b[0m\u001b[0;34m=\u001b[0m\u001b[0;32mNone\u001b[0m\u001b[0;34m)\u001b[0m\u001b[0;34m:\u001b[0m\u001b[0;34m\u001b[0m\u001b[0;34m\u001b[0m\u001b[0m\n\u001b[1;32m    207\u001b[0m         \u001b[0;34m\"\"\"Schedule a func to be run\"\"\"\u001b[0m\u001b[0;34m\u001b[0m\u001b[0;34m\u001b[0m\u001b[0m\n\u001b[0;32m--> 208\u001b[0;31m         \u001b[0mresult\u001b[0m \u001b[0;34m=\u001b[0m \u001b[0mImmediateResult\u001b[0m\u001b[0;34m(\u001b[0m\u001b[0mfunc\u001b[0m\u001b[0;34m)\u001b[0m\u001b[0;34m\u001b[0m\u001b[0;34m\u001b[0m\u001b[0m\n\u001b[0m\u001b[1;32m    209\u001b[0m         \u001b[0;32mif\u001b[0m \u001b[0mcallback\u001b[0m\u001b[0;34m:\u001b[0m\u001b[0;34m\u001b[0m\u001b[0;34m\u001b[0m\u001b[0m\n\u001b[1;32m    210\u001b[0m             \u001b[0mcallback\u001b[0m\u001b[0;34m(\u001b[0m\u001b[0mresult\u001b[0m\u001b[0;34m)\u001b[0m\u001b[0;34m\u001b[0m\u001b[0;34m\u001b[0m\u001b[0m\n",
      "\u001b[0;32m/opt/anaconda3/lib/python3.9/site-packages/joblib/_parallel_backends.py\u001b[0m in \u001b[0;36m__init__\u001b[0;34m(self, batch)\u001b[0m\n\u001b[1;32m    570\u001b[0m         \u001b[0;31m# Don't delay the application, to avoid keeping the input\u001b[0m\u001b[0;34m\u001b[0m\u001b[0;34m\u001b[0m\u001b[0m\n\u001b[1;32m    571\u001b[0m         \u001b[0;31m# arguments in memory\u001b[0m\u001b[0;34m\u001b[0m\u001b[0;34m\u001b[0m\u001b[0m\n\u001b[0;32m--> 572\u001b[0;31m         \u001b[0mself\u001b[0m\u001b[0;34m.\u001b[0m\u001b[0mresults\u001b[0m \u001b[0;34m=\u001b[0m \u001b[0mbatch\u001b[0m\u001b[0;34m(\u001b[0m\u001b[0;34m)\u001b[0m\u001b[0;34m\u001b[0m\u001b[0;34m\u001b[0m\u001b[0m\n\u001b[0m\u001b[1;32m    573\u001b[0m \u001b[0;34m\u001b[0m\u001b[0m\n\u001b[1;32m    574\u001b[0m     \u001b[0;32mdef\u001b[0m \u001b[0mget\u001b[0m\u001b[0;34m(\u001b[0m\u001b[0mself\u001b[0m\u001b[0;34m)\u001b[0m\u001b[0;34m:\u001b[0m\u001b[0;34m\u001b[0m\u001b[0;34m\u001b[0m\u001b[0m\n",
      "\u001b[0;32m/opt/anaconda3/lib/python3.9/site-packages/joblib/parallel.py\u001b[0m in \u001b[0;36m__call__\u001b[0;34m(self)\u001b[0m\n\u001b[1;32m    260\u001b[0m         \u001b[0;31m# change the default number of processes to -1\u001b[0m\u001b[0;34m\u001b[0m\u001b[0;34m\u001b[0m\u001b[0m\n\u001b[1;32m    261\u001b[0m         \u001b[0;32mwith\u001b[0m \u001b[0mparallel_backend\u001b[0m\u001b[0;34m(\u001b[0m\u001b[0mself\u001b[0m\u001b[0;34m.\u001b[0m\u001b[0m_backend\u001b[0m\u001b[0;34m,\u001b[0m \u001b[0mn_jobs\u001b[0m\u001b[0;34m=\u001b[0m\u001b[0mself\u001b[0m\u001b[0;34m.\u001b[0m\u001b[0m_n_jobs\u001b[0m\u001b[0;34m)\u001b[0m\u001b[0;34m:\u001b[0m\u001b[0;34m\u001b[0m\u001b[0;34m\u001b[0m\u001b[0m\n\u001b[0;32m--> 262\u001b[0;31m             return [func(*args, **kwargs)\n\u001b[0m\u001b[1;32m    263\u001b[0m                     for func, args, kwargs in self.items]\n\u001b[1;32m    264\u001b[0m \u001b[0;34m\u001b[0m\u001b[0m\n",
      "\u001b[0;32m/opt/anaconda3/lib/python3.9/site-packages/joblib/parallel.py\u001b[0m in \u001b[0;36m<listcomp>\u001b[0;34m(.0)\u001b[0m\n\u001b[1;32m    260\u001b[0m         \u001b[0;31m# change the default number of processes to -1\u001b[0m\u001b[0;34m\u001b[0m\u001b[0;34m\u001b[0m\u001b[0m\n\u001b[1;32m    261\u001b[0m         \u001b[0;32mwith\u001b[0m \u001b[0mparallel_backend\u001b[0m\u001b[0;34m(\u001b[0m\u001b[0mself\u001b[0m\u001b[0;34m.\u001b[0m\u001b[0m_backend\u001b[0m\u001b[0;34m,\u001b[0m \u001b[0mn_jobs\u001b[0m\u001b[0;34m=\u001b[0m\u001b[0mself\u001b[0m\u001b[0;34m.\u001b[0m\u001b[0m_n_jobs\u001b[0m\u001b[0;34m)\u001b[0m\u001b[0;34m:\u001b[0m\u001b[0;34m\u001b[0m\u001b[0;34m\u001b[0m\u001b[0m\n\u001b[0;32m--> 262\u001b[0;31m             return [func(*args, **kwargs)\n\u001b[0m\u001b[1;32m    263\u001b[0m                     for func, args, kwargs in self.items]\n\u001b[1;32m    264\u001b[0m \u001b[0;34m\u001b[0m\u001b[0m\n",
      "\u001b[0;32m/opt/anaconda3/lib/python3.9/site-packages/sklearn/utils/fixes.py\u001b[0m in \u001b[0;36m__call__\u001b[0;34m(self, *args, **kwargs)\u001b[0m\n\u001b[1;32m    214\u001b[0m     \u001b[0;32mdef\u001b[0m \u001b[0m__call__\u001b[0m\u001b[0;34m(\u001b[0m\u001b[0mself\u001b[0m\u001b[0;34m,\u001b[0m \u001b[0;34m*\u001b[0m\u001b[0margs\u001b[0m\u001b[0;34m,\u001b[0m \u001b[0;34m**\u001b[0m\u001b[0mkwargs\u001b[0m\u001b[0;34m)\u001b[0m\u001b[0;34m:\u001b[0m\u001b[0;34m\u001b[0m\u001b[0;34m\u001b[0m\u001b[0m\n\u001b[1;32m    215\u001b[0m         \u001b[0;32mwith\u001b[0m \u001b[0mconfig_context\u001b[0m\u001b[0;34m(\u001b[0m\u001b[0;34m**\u001b[0m\u001b[0mself\u001b[0m\u001b[0;34m.\u001b[0m\u001b[0mconfig\u001b[0m\u001b[0;34m)\u001b[0m\u001b[0;34m:\u001b[0m\u001b[0;34m\u001b[0m\u001b[0;34m\u001b[0m\u001b[0m\n\u001b[0;32m--> 216\u001b[0;31m             \u001b[0;32mreturn\u001b[0m \u001b[0mself\u001b[0m\u001b[0;34m.\u001b[0m\u001b[0mfunction\u001b[0m\u001b[0;34m(\u001b[0m\u001b[0;34m*\u001b[0m\u001b[0margs\u001b[0m\u001b[0;34m,\u001b[0m \u001b[0;34m**\u001b[0m\u001b[0mkwargs\u001b[0m\u001b[0;34m)\u001b[0m\u001b[0;34m\u001b[0m\u001b[0;34m\u001b[0m\u001b[0m\n\u001b[0m\u001b[1;32m    217\u001b[0m \u001b[0;34m\u001b[0m\u001b[0m\n\u001b[1;32m    218\u001b[0m \u001b[0;34m\u001b[0m\u001b[0m\n",
      "\u001b[0;32m/opt/anaconda3/lib/python3.9/site-packages/sklearn/ensemble/_base.py\u001b[0m in \u001b[0;36m_fit_single_estimator\u001b[0;34m(estimator, X, y, sample_weight, message_clsname, message)\u001b[0m\n\u001b[1;32m     40\u001b[0m     \u001b[0;32melse\u001b[0m\u001b[0;34m:\u001b[0m\u001b[0;34m\u001b[0m\u001b[0;34m\u001b[0m\u001b[0m\n\u001b[1;32m     41\u001b[0m         \u001b[0;32mwith\u001b[0m \u001b[0m_print_elapsed_time\u001b[0m\u001b[0;34m(\u001b[0m\u001b[0mmessage_clsname\u001b[0m\u001b[0;34m,\u001b[0m \u001b[0mmessage\u001b[0m\u001b[0;34m)\u001b[0m\u001b[0;34m:\u001b[0m\u001b[0;34m\u001b[0m\u001b[0;34m\u001b[0m\u001b[0m\n\u001b[0;32m---> 42\u001b[0;31m             \u001b[0mestimator\u001b[0m\u001b[0;34m.\u001b[0m\u001b[0mfit\u001b[0m\u001b[0;34m(\u001b[0m\u001b[0mX\u001b[0m\u001b[0;34m,\u001b[0m \u001b[0my\u001b[0m\u001b[0;34m)\u001b[0m\u001b[0;34m\u001b[0m\u001b[0;34m\u001b[0m\u001b[0m\n\u001b[0m\u001b[1;32m     43\u001b[0m     \u001b[0;32mreturn\u001b[0m \u001b[0mestimator\u001b[0m\u001b[0;34m\u001b[0m\u001b[0;34m\u001b[0m\u001b[0m\n\u001b[1;32m     44\u001b[0m \u001b[0;34m\u001b[0m\u001b[0m\n",
      "\u001b[0;32m/opt/anaconda3/lib/python3.9/site-packages/catboost/core.py\u001b[0m in \u001b[0;36mfit\u001b[0;34m(self, X, y, cat_features, text_features, embedding_features, sample_weight, baseline, use_best_model, eval_set, verbose, logging_level, plot, column_description, verbose_eval, metric_period, silent, early_stopping_rounds, save_snapshot, snapshot_file, snapshot_interval, init_model, callbacks, log_cout, log_cerr)\u001b[0m\n\u001b[1;32m   4669\u001b[0m \u001b[0;34m\u001b[0m\u001b[0m\n\u001b[1;32m   4670\u001b[0m         \u001b[0mparams\u001b[0m \u001b[0;34m=\u001b[0m \u001b[0mself\u001b[0m\u001b[0;34m.\u001b[0m\u001b[0m_init_params\u001b[0m\u001b[0;34m.\u001b[0m\u001b[0mcopy\u001b[0m\u001b[0;34m(\u001b[0m\u001b[0;34m)\u001b[0m\u001b[0;34m\u001b[0m\u001b[0;34m\u001b[0m\u001b[0m\n\u001b[0;32m-> 4671\u001b[0;31m         \u001b[0m_process_synonyms\u001b[0m\u001b[0;34m(\u001b[0m\u001b[0mparams\u001b[0m\u001b[0;34m)\u001b[0m\u001b[0;34m\u001b[0m\u001b[0;34m\u001b[0m\u001b[0m\n\u001b[0m\u001b[1;32m   4672\u001b[0m         \u001b[0;32mif\u001b[0m \u001b[0;34m'loss_function'\u001b[0m \u001b[0;32min\u001b[0m \u001b[0mparams\u001b[0m\u001b[0;34m:\u001b[0m\u001b[0;34m\u001b[0m\u001b[0;34m\u001b[0m\u001b[0m\n\u001b[1;32m   4673\u001b[0m             \u001b[0mCatBoostClassifier\u001b[0m\u001b[0;34m.\u001b[0m\u001b[0m_check_is_compatible_loss\u001b[0m\u001b[0;34m(\u001b[0m\u001b[0mparams\u001b[0m\u001b[0;34m[\u001b[0m\u001b[0;34m'loss_function'\u001b[0m\u001b[0;34m]\u001b[0m\u001b[0;34m)\u001b[0m\u001b[0;34m\u001b[0m\u001b[0;34m\u001b[0m\u001b[0m\n",
      "\u001b[0;32m/opt/anaconda3/lib/python3.9/site-packages/catboost/core.py\u001b[0m in \u001b[0;36m_process_synonyms\u001b[0;34m(params)\u001b[0m\n\u001b[1;32m   1279\u001b[0m         \u001b[0;32mdel\u001b[0m \u001b[0mparams\u001b[0m\u001b[0;34m[\u001b[0m\u001b[0;34m'silent'\u001b[0m\u001b[0;34m]\u001b[0m\u001b[0;34m\u001b[0m\u001b[0;34m\u001b[0m\u001b[0m\n\u001b[1;32m   1280\u001b[0m \u001b[0;34m\u001b[0m\u001b[0m\n\u001b[0;32m-> 1281\u001b[0;31m     metric_period, verbose, logging_level = _process_verbose(\n\u001b[0m\u001b[1;32m   1282\u001b[0m         metric_period, verbose, logging_level, verbose_eval, silent)\n\u001b[1;32m   1283\u001b[0m \u001b[0;34m\u001b[0m\u001b[0m\n",
      "\u001b[0;32m/opt/anaconda3/lib/python3.9/site-packages/catboost/core.py\u001b[0m in \u001b[0;36m_process_verbose\u001b[0;34m(metric_period, verbose, logging_level, verbose_eval, silent)\u001b[0m\n\u001b[1;32m    164\u001b[0m     \u001b[0mat_most_one\u001b[0m \u001b[0;34m=\u001b[0m \u001b[0msum\u001b[0m\u001b[0;34m(\u001b[0m\u001b[0mparams\u001b[0m\u001b[0;34m.\u001b[0m\u001b[0mget\u001b[0m\u001b[0;34m(\u001b[0m\u001b[0mexclusive\u001b[0m\u001b[0;34m)\u001b[0m \u001b[0;32mis\u001b[0m \u001b[0;32mnot\u001b[0m \u001b[0;32mNone\u001b[0m \u001b[0;32mfor\u001b[0m \u001b[0mexclusive\u001b[0m \u001b[0;32min\u001b[0m \u001b[0mexclusive_params\u001b[0m\u001b[0;34m)\u001b[0m\u001b[0;34m\u001b[0m\u001b[0;34m\u001b[0m\u001b[0m\n\u001b[1;32m    165\u001b[0m     \u001b[0;32mif\u001b[0m \u001b[0mat_most_one\u001b[0m \u001b[0;34m>\u001b[0m \u001b[0;36m1\u001b[0m\u001b[0;34m:\u001b[0m\u001b[0;34m\u001b[0m\u001b[0;34m\u001b[0m\u001b[0m\n\u001b[0;32m--> 166\u001b[0;31m         \u001b[0;32mraise\u001b[0m \u001b[0mCatBoostError\u001b[0m\u001b[0;34m(\u001b[0m\u001b[0;34m'Only one of parameters {} should be set'\u001b[0m\u001b[0;34m.\u001b[0m\u001b[0mformat\u001b[0m\u001b[0;34m(\u001b[0m\u001b[0mexclusive_params\u001b[0m\u001b[0;34m)\u001b[0m\u001b[0;34m)\u001b[0m\u001b[0;34m\u001b[0m\u001b[0;34m\u001b[0m\u001b[0m\n\u001b[0m\u001b[1;32m    167\u001b[0m \u001b[0;34m\u001b[0m\u001b[0m\n\u001b[1;32m    168\u001b[0m     \u001b[0;32mif\u001b[0m \u001b[0mverbose\u001b[0m \u001b[0;32mis\u001b[0m \u001b[0;32mNone\u001b[0m\u001b[0;34m:\u001b[0m\u001b[0;34m\u001b[0m\u001b[0;34m\u001b[0m\u001b[0m\n",
      "\u001b[0;31mCatBoostError\u001b[0m: Only one of parameters ['verbose', 'logging_level', 'verbose_eval', 'silent'] should be set"
     ]
    }
   ],
   "source": [
    "from sklearn.model_selection import train_test_split\n",
    "from sklearn.ensemble import RandomForestClassifier\n",
    "from sklearn.linear_model import LogisticRegression\n",
    "from sklearn.svm import SVC\n",
    "from sklearn.neighbors import KNeighborsClassifier\n",
    "from lightgbm import LGBMClassifier\n",
    "from sklearn.metrics import accuracy_score\n",
    "from xgboost import XGBClassifier\n",
    "from sklearn.ensemble import VotingClassifier\n",
    "from catboost import CatBoostClassifier\n",
    "\n",
    "X = train.iloc[:,1: ]\n",
    "y = train.iloc[:,0]\n",
    "\n",
    "X_train,X_test,y_train,y_test = train_test_split(X,y,test_size=.3, random_state=42)\n",
    "\n",
    "accuracy=[]\n",
    "models=[RandomForestClassifier,LogisticRegression,SVC,KNeighborsClassifier,LGBMClassifier,XGBClassifier,CatBoostClassifier]\n",
    "\n",
    "for i in models:\n",
    "    clf=i()\n",
    "    clf.fit(X_train,y_train)\n",
    "    pred=clf.predict(X_test)\n",
    "    accuracy.append(accuracy_score(y_test,pred))\n",
    "    \n",
    "algorism=['rf_clf','lr_clf','svc','knn','lgbm_clf','xgb_clf','cb_clf']\n",
    "\n",
    "for i in algorism:\n",
    "    if i=='rf_clf':\n",
    "        lr_clf=RandomForestClassifier(random_state=42)\n",
    "    elif i=='lr_clf':\n",
    "        rf_clf=LogisticRegression(random_state=42)\n",
    "    elif i=='svc':\n",
    "        svc=SVC(kernel='linear',probability=True)\n",
    "    elif i=='knn':\n",
    "        knn_clf=KNeighborsClassifier()\n",
    "    elif i=='cb_clf':\n",
    "        cb_clf = CatBoostClassifier(random_state=42)\n",
    "    elif i=='xgb_clf':\n",
    "        xgb_clf=XGBClassifier(random_state=42)\n",
    "    else:\n",
    "        lgbm_clf=LGBMClassifier(random_state=42)\n",
    "\n",
    "#앙상블!\n",
    "vot_model=VotingClassifier(estimators=[('RandomForest',rf_clf),('LogisticRegression',lr_clf),('SVC',svc),('KNN',knn_clf),('LGBoost',lgbm_clf),('XGBoost',xgb_clf),('Catboost',cb_clf)],voting='soft')\n",
    "vot_model.fit(X_train,y_train)\n",
    "pred2=vot_model.predict(X_test)\n",
    "accuracy.append(accuracy_score(y_test,pred2))\n",
    "\n",
    "accuracy_data=pd.DataFrame(accuracy,index=['RandomForestClassifier','LogisticRegression','SVC','KNeighborsClassifier','LGBMClassifier','XGBClassifier','CatboostClassifier','Voting'],columns=['Accuracy'])\n",
    "accuracy_data"
   ]
  },
  {
   "cell_type": "markdown",
   "id": "aa8b1bf5",
   "metadata": {},
   "source": [
    "**CatBoost는 학습률과 같은 튜닝을 알아서 해주기 떄문에 하지 않겠습니다**"
   ]
  },
  {
   "cell_type": "markdown",
   "id": "a12043a7",
   "metadata": {},
   "source": [
    "그래서, LGBM으로 작업을 하겠습니다."
   ]
  },
  {
   "cell_type": "code",
   "execution_count": 10,
   "id": "50af9a35",
   "metadata": {
    "ExecuteTime": {
     "end_time": "2022-06-09T04:12:27.571335Z",
     "start_time": "2022-06-09T04:12:27.568978Z"
    }
   },
   "outputs": [],
   "source": [
    "#사용할 모델 정의\n",
    "model = LGBMClassifier(random_state=42,)\n",
    "\n",
    "from sklearn.model_selection import GridSearchCV\n",
    "\n",
    "params = {\n",
    "    'n_estimators':[50,100,200],\n",
    "    'min_child_samples':[10,20,30],\n",
    "    'max_depth':[3,5,7,10,12],\n",
    "    'learning_rate':[1,0.1,0.05,0.01,0.001]\n",
    "}"
   ]
  },
  {
   "cell_type": "markdown",
   "id": "9ef168d8",
   "metadata": {},
   "source": [
    "# GridSearchCV"
   ]
  },
  {
   "cell_type": "markdown",
   "id": "08cea48c",
   "metadata": {},
   "source": [
    "GridSearchCV는 params의 값들을 모두 조합하여 최적의 하이파라미터튜닝을 합니다.  \n",
    "**데이터셋이 작은 경우에 사용해주는 것이 좋습니다**"
   ]
  },
  {
   "cell_type": "code",
   "execution_count": 11,
   "id": "ab8fae43",
   "metadata": {
    "ExecuteTime": {
     "end_time": "2022-06-09T04:12:35.245919Z",
     "start_time": "2022-06-09T04:12:27.572337Z"
    }
   },
   "outputs": [
    {
     "data": {
      "text/plain": [
       "GridSearchCV(cv=5, estimator=LGBMClassifier(random_state=42), n_jobs=-1,\n",
       "             param_grid={'learning_rate': [1, 0.1, 0.05, 0.01, 0.001],\n",
       "                         'max_depth': [3, 5, 7, 10, 12],\n",
       "                         'min_child_samples': [10, 20, 30],\n",
       "                         'n_estimators': [50, 100, 200]},\n",
       "             scoring='accuracy')"
      ]
     },
     "execution_count": 11,
     "metadata": {},
     "output_type": "execute_result"
    }
   ],
   "source": [
    "gs = GridSearchCV(estimator=model, param_grid= params, n_jobs=-1,cv=5,scoring='accuracy')\n",
    "\n",
    "gs.fit(X_train,y_train)"
   ]
  },
  {
   "cell_type": "code",
   "execution_count": 12,
   "id": "eee5de6a",
   "metadata": {
    "ExecuteTime": {
     "end_time": "2022-06-09T04:12:35.251201Z",
     "start_time": "2022-06-09T04:12:35.248074Z"
    }
   },
   "outputs": [
    {
     "data": {
      "text/plain": [
       "{'learning_rate': 0.1,\n",
       " 'max_depth': 10,\n",
       " 'min_child_samples': 20,\n",
       " 'n_estimators': 200}"
      ]
     },
     "execution_count": 12,
     "metadata": {},
     "output_type": "execute_result"
    }
   ],
   "source": [
    "#그래서 최적의 튜닝은?\n",
    "gs.best_params_"
   ]
  },
  {
   "cell_type": "code",
   "execution_count": 13,
   "id": "958b26db",
   "metadata": {
    "ExecuteTime": {
     "end_time": "2022-06-09T04:12:35.257443Z",
     "start_time": "2022-06-09T04:12:35.252389Z"
    }
   },
   "outputs": [
    {
     "data": {
      "text/plain": [
       "0.98"
      ]
     },
     "execution_count": 13,
     "metadata": {},
     "output_type": "execute_result"
    }
   ],
   "source": [
    "pred = gs.predict(X_test)\n",
    "accuracy_score(y_test,pred)"
   ]
  },
  {
   "cell_type": "markdown",
   "id": "77182a15",
   "metadata": {},
   "source": [
    "하이퍼파라미터 튜닝으로 점수가 상승했습니다.  "
   ]
  },
  {
   "cell_type": "markdown",
   "id": "32eb9955",
   "metadata": {},
   "source": [
    "아래는 위에서 보았던 None Tuning LGBMClassifier의 정확도, 0.9733입니다."
   ]
  },
  {
   "attachments": {
    "image.png": {
     "image/png": "[encoded data removed]"
    }
   },
   "cell_type": "markdown",
   "id": "1c71c064",
   "metadata": {},
   "source": [
    "<div>\n",
    "<img src=\"attachment:image.png\" width=\"300\"/>\n",
    "</div>"
   ]
  },
  {
   "cell_type": "markdown",
   "id": "ce131188",
   "metadata": {},
   "source": [
    "# RandomizedSearchCV"
   ]
  },
  {
   "cell_type": "markdown",
   "id": "c03487a9",
   "metadata": {},
   "source": [
    "RandomizedSearchCV는 데이터셋이 큰 경우에 사용하기 적합합니다.  \n",
    "params의 값들을 랜덤으로 조합하여 최적의 점수를 만드려 노력합니다."
   ]
  },
  {
   "cell_type": "code",
   "execution_count": 14,
   "id": "bc5f808e",
   "metadata": {
    "ExecuteTime": {
     "end_time": "2022-06-09T04:12:35.565852Z",
     "start_time": "2022-06-09T04:12:35.258670Z"
    }
   },
   "outputs": [
    {
     "data": {
      "text/plain": [
       "RandomizedSearchCV(cv=5, estimator=LGBMClassifier(random_state=42), n_jobs=-1,\n",
       "                   param_distributions={'learning_rate': [1, 0.1, 0.05, 0.01,\n",
       "                                                          0.001],\n",
       "                                        'max_depth': [3, 5, 7, 10, 12],\n",
       "                                        'min_child_samples': [10, 20, 30],\n",
       "                                        'n_estimators': [50, 100, 200]},\n",
       "                   scoring='accuracy')"
      ]
     },
     "execution_count": 14,
     "metadata": {},
     "output_type": "execute_result"
    }
   ],
   "source": [
    "rs = RandomizedSearchCV(estimator=model,param_distributions=params,cv=5,n_jobs=-1,scoring='accuracy')\n",
    "\n",
    "rs.fit(X_train,y_train)"
   ]
  },
  {
   "cell_type": "markdown",
   "id": "56dab64f",
   "metadata": {},
   "source": [
    "**RandomizedSearchCV를 실행해보면 GridSerachCV보다 빠르게 끝납니다.**"
   ]
  },
  {
   "cell_type": "code",
   "execution_count": 15,
   "id": "0a8b30d4",
   "metadata": {
    "ExecuteTime": {
     "end_time": "2022-06-09T04:12:35.570248Z",
     "start_time": "2022-06-09T04:12:35.567511Z"
    }
   },
   "outputs": [
    {
     "data": {
      "text/plain": [
       "{'n_estimators': 100,\n",
       " 'min_child_samples': 30,\n",
       " 'max_depth': 5,\n",
       " 'learning_rate': 0.05}"
      ]
     },
     "execution_count": 15,
     "metadata": {},
     "output_type": "execute_result"
    }
   ],
   "source": [
    "#그래서 최적의 파라미터는?\n",
    "rs.best_params_"
   ]
  },
  {
   "cell_type": "code",
   "execution_count": 16,
   "id": "8bef4248",
   "metadata": {
    "ExecuteTime": {
     "end_time": "2022-06-09T04:12:35.576570Z",
     "start_time": "2022-06-09T04:12:35.571798Z"
    }
   },
   "outputs": [
    {
     "data": {
      "text/plain": [
       "0.9666666666666667"
      ]
     },
     "execution_count": 16,
     "metadata": {},
     "output_type": "execute_result"
    }
   ],
   "source": [
    "pred = rs.predict(X_test)\n",
    "accuracy_score(y_test,pred)"
   ]
  },
  {
   "cell_type": "markdown",
   "id": "71b8ef70",
   "metadata": {},
   "source": [
    "점수가 그대로군요."
   ]
  },
  {
   "cell_type": "markdown",
   "id": "da2eda20",
   "metadata": {},
   "source": [
    "**Obseravation**\n",
    "\n",
    "* 자원 소모를 최소화하기 위해 데이터셋이 작은 경우 ```GridSearch```를 진행하고 큰 경우에는 ```RandomizedSearch```를 진행합니다."
   ]
  },
  {
   "cell_type": "markdown",
   "id": "db25660f",
   "metadata": {},
   "source": [
    "**그럼, RandomizedSearch를 먼저 진행해서 그 근처에 있는 값들을 GridSerach 작업을 해주면 되지 않을까요?**\n",
    "\n",
    "그래서 우리는 ```Optuna```에 대해 알아봅시다."
   ]
  },
  {
   "cell_type": "markdown",
   "id": "ec823d49",
   "metadata": {},
   "source": [
    "# Optuna"
   ]
  },
  {
   "cell_type": "markdown",
   "id": "8f321d34",
   "metadata": {},
   "source": [
    "**Optuna**는 AutoHyperparameter Tuning입니다."
   ]
  },
  {
   "cell_type": "code",
   "execution_count": 17,
   "id": "d8fbc93d",
   "metadata": {
    "ExecuteTime": {
     "end_time": "2022-06-09T04:12:43.902395Z",
     "start_time": "2022-06-09T04:12:35.578182Z"
    }
   },
   "outputs": [
    {
     "name": "stderr",
     "output_type": "stream",
     "text": [
      "\u001b[32m[I 2022-06-09 13:12:35,585]\u001b[0m A new study created in memory with name: no-name-6a5656f5-82b2-4115-8683-65b9da1b9a5a\u001b[0m\n"
     ]
    },
    {
     "name": "stdout",
     "output_type": "stream",
     "text": [
      "[LightGBM] [Warning] feature_fraction is set=0.7550676946617381, colsample_bytree=1.0 will be ignored. Current value: feature_fraction=0.7550676946617381\n",
      "[LightGBM] [Warning] lambda_l1 is set=5.863499556188259, reg_alpha=0.0 will be ignored. Current value: lambda_l1=5.863499556188259\n",
      "[LightGBM] [Warning] bagging_fraction is set=0.6678604291667368, subsample=1.0 will be ignored. Current value: bagging_fraction=0.6678604291667368\n",
      "[LightGBM] [Warning] lambda_l2 is set=0.0005542947890576611, reg_lambda=0.0 will be ignored. Current value: lambda_l2=0.0005542947890576611\n",
      "[LightGBM] [Warning] bagging_freq is set=48, subsample_freq=0 will be ignored. Current value: bagging_freq=48\n"
     ]
    },
    {
     "name": "stderr",
     "output_type": "stream",
     "text": [
      "\u001b[32m[I 2022-06-09 13:12:35,906]\u001b[0m Trial 0 finished with value: 0.96 and parameters: {'lambda_l1': 5.863499556188259, 'lambda_l2': 0.0005542947890576611, 'num_leaves': 181, 'n_estimators': 1976, 'feature_fraction': 0.7550676946617381, 'bagging_fraction': 0.6678604291667368, 'min_child_samples': 48}. Best is trial 0 with value: 0.96.\u001b[0m\n"
     ]
    },
    {
     "name": "stdout",
     "output_type": "stream",
     "text": [
      "[LightGBM] [Warning] feature_fraction is set=0.5511446774693695, colsample_bytree=1.0 will be ignored. Current value: feature_fraction=0.5511446774693695\n",
      "[LightGBM] [Warning] lambda_l1 is set=0.012646989739195926, reg_alpha=0.0 will be ignored. Current value: lambda_l1=0.012646989739195926\n",
      "[LightGBM] [Warning] bagging_fraction is set=0.7925557788549262, subsample=1.0 will be ignored. Current value: bagging_fraction=0.7925557788549262\n",
      "[LightGBM] [Warning] lambda_l2 is set=1.6505741211113213e-06, reg_lambda=0.0 will be ignored. Current value: lambda_l2=1.6505741211113213e-06\n",
      "[LightGBM] [Warning] bagging_freq is set=19, subsample_freq=0 will be ignored. Current value: bagging_freq=19\n"
     ]
    },
    {
     "name": "stderr",
     "output_type": "stream",
     "text": [
      "\u001b[32m[I 2022-06-09 13:12:36,537]\u001b[0m Trial 1 finished with value: 0.98 and parameters: {'lambda_l1': 0.012646989739195926, 'lambda_l2': 1.6505741211113213e-06, 'num_leaves': 305, 'n_estimators': 1938, 'feature_fraction': 0.5511446774693695, 'bagging_fraction': 0.7925557788549262, 'min_child_samples': 19}. Best is trial 1 with value: 0.98.\u001b[0m\n"
     ]
    },
    {
     "name": "stdout",
     "output_type": "stream",
     "text": [
      "[LightGBM] [Warning] feature_fraction is set=0.6579710820453142, colsample_bytree=1.0 will be ignored. Current value: feature_fraction=0.6579710820453142\n",
      "[LightGBM] [Warning] lambda_l1 is set=0.0005830758138404658, reg_alpha=0.0 will be ignored. Current value: lambda_l1=0.0005830758138404658\n",
      "[LightGBM] [Warning] bagging_fraction is set=0.7135716476139702, subsample=1.0 will be ignored. Current value: bagging_fraction=0.7135716476139702\n",
      "[LightGBM] [Warning] lambda_l2 is set=3.754538278220935, reg_lambda=0.0 will be ignored. Current value: lambda_l2=3.754538278220935\n",
      "[LightGBM] [Warning] bagging_freq is set=40, subsample_freq=0 will be ignored. Current value: bagging_freq=40\n"
     ]
    },
    {
     "name": "stderr",
     "output_type": "stream",
     "text": [
      "\u001b[32m[I 2022-06-09 13:12:37,346]\u001b[0m Trial 2 finished with value: 0.9866666666666667 and parameters: {'lambda_l1': 0.0005830758138404658, 'lambda_l2': 3.754538278220935, 'num_leaves': 70, 'n_estimators': 2007, 'feature_fraction': 0.6579710820453142, 'bagging_fraction': 0.7135716476139702, 'min_child_samples': 40}. Best is trial 2 with value: 0.9866666666666667.\u001b[0m\n"
     ]
    },
    {
     "name": "stdout",
     "output_type": "stream",
     "text": [
      "[LightGBM] [Warning] feature_fraction is set=0.7674481909916597, colsample_bytree=1.0 will be ignored. Current value: feature_fraction=0.7674481909916597\n",
      "[LightGBM] [Warning] lambda_l1 is set=4.1027042133464924e-08, reg_alpha=0.0 will be ignored. Current value: lambda_l1=4.1027042133464924e-08\n",
      "[LightGBM] [Warning] bagging_fraction is set=0.613184902848048, subsample=1.0 will be ignored. Current value: bagging_fraction=0.613184902848048\n",
      "[LightGBM] [Warning] lambda_l2 is set=1.97616042448901e-08, reg_lambda=0.0 will be ignored. Current value: lambda_l2=1.97616042448901e-08\n",
      "[LightGBM] [Warning] bagging_freq is set=64, subsample_freq=0 will be ignored. Current value: bagging_freq=64\n"
     ]
    },
    {
     "name": "stderr",
     "output_type": "stream",
     "text": [
      "\u001b[32m[I 2022-06-09 13:12:37,602]\u001b[0m Trial 3 finished with value: 0.9733333333333334 and parameters: {'lambda_l1': 4.1027042133464924e-08, 'lambda_l2': 1.97616042448901e-08, 'num_leaves': 110, 'n_estimators': 758, 'feature_fraction': 0.7674481909916597, 'bagging_fraction': 0.613184902848048, 'min_child_samples': 64}. Best is trial 2 with value: 0.9866666666666667.\u001b[0m\n"
     ]
    },
    {
     "name": "stdout",
     "output_type": "stream",
     "text": [
      "[LightGBM] [Warning] feature_fraction is set=0.6162134108534365, colsample_bytree=1.0 will be ignored. Current value: feature_fraction=0.6162134108534365\n",
      "[LightGBM] [Warning] lambda_l1 is set=0.4654448877274014, reg_alpha=0.0 will be ignored. Current value: lambda_l1=0.4654448877274014\n",
      "[LightGBM] [Warning] bagging_fraction is set=0.7565310447192475, subsample=1.0 will be ignored. Current value: bagging_fraction=0.7565310447192475\n",
      "[LightGBM] [Warning] lambda_l2 is set=0.002778833526992799, reg_lambda=0.0 will be ignored. Current value: lambda_l2=0.002778833526992799\n",
      "[LightGBM] [Warning] bagging_freq is set=66, subsample_freq=0 will be ignored. Current value: bagging_freq=66\n"
     ]
    },
    {
     "name": "stderr",
     "output_type": "stream",
     "text": [
      "\u001b[32m[I 2022-06-09 13:12:37,858]\u001b[0m Trial 4 finished with value: 0.9866666666666667 and parameters: {'lambda_l1': 0.4654448877274014, 'lambda_l2': 0.002778833526992799, 'num_leaves': 262, 'n_estimators': 1136, 'feature_fraction': 0.6162134108534365, 'bagging_fraction': 0.7565310447192475, 'min_child_samples': 66}. Best is trial 2 with value: 0.9866666666666667.\u001b[0m\n"
     ]
    },
    {
     "name": "stdout",
     "output_type": "stream",
     "text": [
      "[LightGBM] [Warning] feature_fraction is set=0.7019251158541239, colsample_bytree=1.0 will be ignored. Current value: feature_fraction=0.7019251158541239\n",
      "[LightGBM] [Warning] lambda_l1 is set=0.0009487557184893762, reg_alpha=0.0 will be ignored. Current value: lambda_l1=0.0009487557184893762\n",
      "[LightGBM] [Warning] bagging_fraction is set=0.891795372347985, subsample=1.0 will be ignored. Current value: bagging_fraction=0.891795372347985\n",
      "[LightGBM] [Warning] lambda_l2 is set=2.8571179633509986e-08, reg_lambda=0.0 will be ignored. Current value: lambda_l2=2.8571179633509986e-08\n",
      "[LightGBM] [Warning] bagging_freq is set=72, subsample_freq=0 will be ignored. Current value: bagging_freq=72\n"
     ]
    },
    {
     "name": "stderr",
     "output_type": "stream",
     "text": [
      "\u001b[32m[I 2022-06-09 13:12:38,625]\u001b[0m Trial 5 finished with value: 0.98 and parameters: {'lambda_l1': 0.0009487557184893762, 'lambda_l2': 2.8571179633509986e-08, 'num_leaves': 266, 'n_estimators': 2094, 'feature_fraction': 0.7019251158541239, 'bagging_fraction': 0.891795372347985, 'min_child_samples': 72}. Best is trial 2 with value: 0.9866666666666667.\u001b[0m\n"
     ]
    },
    {
     "name": "stdout",
     "output_type": "stream",
     "text": [
      "[LightGBM] [Warning] feature_fraction is set=0.6983346466850465, colsample_bytree=1.0 will be ignored. Current value: feature_fraction=0.6983346466850465\n",
      "[LightGBM] [Warning] lambda_l1 is set=2.1475348175070096e-07, reg_alpha=0.0 will be ignored. Current value: lambda_l1=2.1475348175070096e-07\n",
      "[LightGBM] [Warning] bagging_fraction is set=0.9319331151738002, subsample=1.0 will be ignored. Current value: bagging_fraction=0.9319331151738002\n",
      "[LightGBM] [Warning] lambda_l2 is set=1.4213416256282208e-08, reg_lambda=0.0 will be ignored. Current value: lambda_l2=1.4213416256282208e-08\n",
      "[LightGBM] [Warning] bagging_freq is set=49, subsample_freq=0 will be ignored. Current value: bagging_freq=49\n"
     ]
    },
    {
     "name": "stderr",
     "output_type": "stream",
     "text": [
      "\u001b[32m[I 2022-06-09 13:12:39,285]\u001b[0m Trial 6 finished with value: 0.9666666666666667 and parameters: {'lambda_l1': 2.1475348175070096e-07, 'lambda_l2': 1.4213416256282208e-08, 'num_leaves': 324, 'n_estimators': 1274, 'feature_fraction': 0.6983346466850465, 'bagging_fraction': 0.9319331151738002, 'min_child_samples': 49}. Best is trial 2 with value: 0.9866666666666667.\u001b[0m\n",
      "\u001b[32m[I 2022-06-09 13:12:39,471]\u001b[0m Trial 7 finished with value: 0.98 and parameters: {'lambda_l1': 0.01866578309942005, 'lambda_l2': 4.738452870277947, 'num_leaves': 39, 'n_estimators': 702, 'feature_fraction': 0.9244105327901898, 'bagging_fraction': 0.9176176781778298, 'min_child_samples': 73}. Best is trial 2 with value: 0.9866666666666667.\u001b[0m\n"
     ]
    },
    {
     "name": "stdout",
     "output_type": "stream",
     "text": [
      "[LightGBM] [Warning] feature_fraction is set=0.9244105327901898, colsample_bytree=1.0 will be ignored. Current value: feature_fraction=0.9244105327901898\n",
      "[LightGBM] [Warning] lambda_l1 is set=0.01866578309942005, reg_alpha=0.0 will be ignored. Current value: lambda_l1=0.01866578309942005\n",
      "[LightGBM] [Warning] bagging_fraction is set=0.9176176781778298, subsample=1.0 will be ignored. Current value: bagging_fraction=0.9176176781778298\n",
      "[LightGBM] [Warning] lambda_l2 is set=4.738452870277947, reg_lambda=0.0 will be ignored. Current value: lambda_l2=4.738452870277947\n",
      "[LightGBM] [Warning] bagging_freq is set=73, subsample_freq=0 will be ignored. Current value: bagging_freq=73\n",
      "[LightGBM] [Warning] feature_fraction is set=0.5660068982361754, colsample_bytree=1.0 will be ignored. Current value: feature_fraction=0.5660068982361754\n",
      "[LightGBM] [Warning] lambda_l1 is set=0.016758006127352117, reg_alpha=0.0 will be ignored. Current value: lambda_l1=0.016758006127352117\n",
      "[LightGBM] [Warning] bagging_fraction is set=0.9730604737847424, subsample=1.0 will be ignored. Current value: bagging_fraction=0.9730604737847424\n",
      "[LightGBM] [Warning] lambda_l2 is set=6.187235961451971e-05, reg_lambda=0.0 will be ignored. Current value: lambda_l2=6.187235961451971e-05\n",
      "[LightGBM] [Warning] bagging_freq is set=61, subsample_freq=0 will be ignored. Current value: bagging_freq=61\n"
     ]
    },
    {
     "name": "stderr",
     "output_type": "stream",
     "text": [
      "\u001b[32m[I 2022-06-09 13:12:39,736]\u001b[0m Trial 8 finished with value: 0.9733333333333334 and parameters: {'lambda_l1': 0.016758006127352117, 'lambda_l2': 6.187235961451971e-05, 'num_leaves': 7, 'n_estimators': 722, 'feature_fraction': 0.5660068982361754, 'bagging_fraction': 0.9730604737847424, 'min_child_samples': 61}. Best is trial 2 with value: 0.9866666666666667.\u001b[0m\n"
     ]
    },
    {
     "name": "stdout",
     "output_type": "stream",
     "text": [
      "[LightGBM] [Warning] feature_fraction is set=0.8268464045159942, colsample_bytree=1.0 will be ignored. Current value: feature_fraction=0.8268464045159942\n",
      "[LightGBM] [Warning] lambda_l1 is set=0.011410260453991124, reg_alpha=0.0 will be ignored. Current value: lambda_l1=0.011410260453991124\n",
      "[LightGBM] [Warning] bagging_fraction is set=0.45233191419590557, subsample=1.0 will be ignored. Current value: bagging_fraction=0.45233191419590557\n",
      "[LightGBM] [Warning] lambda_l2 is set=8.214445180485791e-05, reg_lambda=0.0 will be ignored. Current value: lambda_l2=8.214445180485791e-05\n",
      "[LightGBM] [Warning] bagging_freq is set=62, subsample_freq=0 will be ignored. Current value: bagging_freq=62\n"
     ]
    },
    {
     "name": "stderr",
     "output_type": "stream",
     "text": [
      "\u001b[32m[I 2022-06-09 13:12:40,129]\u001b[0m Trial 9 finished with value: 0.98 and parameters: {'lambda_l1': 0.011410260453991124, 'lambda_l2': 8.214445180485791e-05, 'num_leaves': 465, 'n_estimators': 1688, 'feature_fraction': 0.8268464045159942, 'bagging_fraction': 0.45233191419590557, 'min_child_samples': 62}. Best is trial 2 with value: 0.9866666666666667.\u001b[0m\n"
     ]
    },
    {
     "name": "stdout",
     "output_type": "stream",
     "text": [
      "[LightGBM] [Warning] feature_fraction is set=0.4009395560135105, colsample_bytree=1.0 will be ignored. Current value: feature_fraction=0.4009395560135105\n",
      "[LightGBM] [Warning] lambda_l1 is set=7.183482647672878e-06, reg_alpha=0.0 will be ignored. Current value: lambda_l1=7.183482647672878e-06\n",
      "[LightGBM] [Warning] bagging_fraction is set=0.5454745717831367, subsample=1.0 will be ignored. Current value: bagging_fraction=0.5454745717831367\n",
      "[LightGBM] [Warning] lambda_l2 is set=9.781807571271475, reg_lambda=0.0 will be ignored. Current value: lambda_l2=9.781807571271475\n",
      "[LightGBM] [Warning] bagging_freq is set=100, subsample_freq=0 will be ignored. Current value: bagging_freq=100\n"
     ]
    },
    {
     "name": "stderr",
     "output_type": "stream",
     "text": [
      "\u001b[32m[I 2022-06-09 13:12:40,646]\u001b[0m Trial 10 finished with value: 0.9866666666666667 and parameters: {'lambda_l1': 7.183482647672878e-06, 'lambda_l2': 9.781807571271475, 'num_leaves': 142, 'n_estimators': 2852, 'feature_fraction': 0.4009395560135105, 'bagging_fraction': 0.5454745717831367, 'min_child_samples': 100}. Best is trial 2 with value: 0.9866666666666667.\u001b[0m\n"
     ]
    },
    {
     "name": "stdout",
     "output_type": "stream",
     "text": [
      "[LightGBM] [Warning] feature_fraction is set=0.5892559504128325, colsample_bytree=1.0 will be ignored. Current value: feature_fraction=0.5892559504128325\n",
      "[LightGBM] [Warning] lambda_l1 is set=7.285609363754012, reg_alpha=0.0 will be ignored. Current value: lambda_l1=7.285609363754012\n",
      "[LightGBM] [Warning] bagging_fraction is set=0.7789777998849612, subsample=1.0 will be ignored. Current value: bagging_fraction=0.7789777998849612\n",
      "[LightGBM] [Warning] lambda_l2 is set=0.0619397485254441, reg_lambda=0.0 will be ignored. Current value: lambda_l2=0.0619397485254441\n",
      "[LightGBM] [Warning] bagging_freq is set=26, subsample_freq=0 will be ignored. Current value: bagging_freq=26\n"
     ]
    },
    {
     "name": "stderr",
     "output_type": "stream",
     "text": [
      "\u001b[32m[I 2022-06-09 13:12:40,966]\u001b[0m Trial 11 finished with value: 0.96 and parameters: {'lambda_l1': 7.285609363754012, 'lambda_l2': 0.0619397485254441, 'num_leaves': 383, 'n_estimators': 2388, 'feature_fraction': 0.5892559504128325, 'bagging_fraction': 0.7789777998849612, 'min_child_samples': 26}. Best is trial 2 with value: 0.9866666666666667.\u001b[0m\n"
     ]
    },
    {
     "name": "stdout",
     "output_type": "stream",
     "text": [
      "[LightGBM] [Warning] feature_fraction is set=0.4610151071607109, colsample_bytree=1.0 will be ignored. Current value: feature_fraction=0.4610151071607109\n",
      "[LightGBM] [Warning] lambda_l1 is set=2.7189363445856893e-05, reg_alpha=0.0 will be ignored. Current value: lambda_l1=2.7189363445856893e-05\n",
      "[LightGBM] [Warning] bagging_fraction is set=0.7681544237561416, subsample=1.0 will be ignored. Current value: bagging_fraction=0.7681544237561416\n",
      "[LightGBM] [Warning] lambda_l2 is set=0.045156057783544735, reg_lambda=0.0 will be ignored. Current value: lambda_l2=0.045156057783544735\n",
      "[LightGBM] [Warning] bagging_freq is set=35, subsample_freq=0 will be ignored. Current value: bagging_freq=35\n"
     ]
    },
    {
     "name": "stderr",
     "output_type": "stream",
     "text": [
      "\u001b[32m[I 2022-06-09 13:12:41,342]\u001b[0m Trial 12 finished with value: 0.9866666666666667 and parameters: {'lambda_l1': 2.7189363445856893e-05, 'lambda_l2': 0.045156057783544735, 'num_leaves': 205, 'n_estimators': 1425, 'feature_fraction': 0.4610151071607109, 'bagging_fraction': 0.7681544237561416, 'min_child_samples': 35}. Best is trial 2 with value: 0.9866666666666667.\u001b[0m\n",
      "\u001b[32m[I 2022-06-09 13:12:41,537]\u001b[0m Trial 13 finished with value: 0.9866666666666667 and parameters: {'lambda_l1': 1.4843944119900436, 'lambda_l2': 0.08447772115396487, 'num_leaves': 78, 'n_estimators': 1264, 'feature_fraction': 0.6462788374349998, 'bagging_fraction': 0.7052803988595597, 'min_child_samples': 5}. Best is trial 2 with value: 0.9866666666666667.\u001b[0m\n"
     ]
    },
    {
     "name": "stdout",
     "output_type": "stream",
     "text": [
      "[LightGBM] [Warning] feature_fraction is set=0.6462788374349998, colsample_bytree=1.0 will be ignored. Current value: feature_fraction=0.6462788374349998\n",
      "[LightGBM] [Warning] lambda_l1 is set=1.4843944119900436, reg_alpha=0.0 will be ignored. Current value: lambda_l1=1.4843944119900436\n",
      "[LightGBM] [Warning] bagging_fraction is set=0.7052803988595597, subsample=1.0 will be ignored. Current value: bagging_fraction=0.7052803988595597\n",
      "[LightGBM] [Warning] lambda_l2 is set=0.08447772115396487, reg_lambda=0.0 will be ignored. Current value: lambda_l2=0.08447772115396487\n",
      "[LightGBM] [Warning] bagging_freq is set=5, subsample_freq=0 will be ignored. Current value: bagging_freq=5\n",
      "[LightGBM] [Warning] feature_fraction is set=0.5058933701357176, colsample_bytree=1.0 will be ignored. Current value: feature_fraction=0.5058933701357176\n",
      "[LightGBM] [Warning] lambda_l1 is set=0.2467747955335506, reg_alpha=0.0 will be ignored. Current value: lambda_l1=0.2467747955335506\n",
      "[LightGBM] [Warning] bagging_fraction is set=0.8315215083072616, subsample=1.0 will be ignored. Current value: bagging_fraction=0.8315215083072616\n",
      "[LightGBM] [Warning] lambda_l2 is set=0.0028469832044877735, reg_lambda=0.0 will be ignored. Current value: lambda_l2=0.0028469832044877735\n",
      "[LightGBM] [Warning] bagging_freq is set=89, subsample_freq=0 will be ignored. Current value: bagging_freq=89\n"
     ]
    },
    {
     "name": "stderr",
     "output_type": "stream",
     "text": [
      "\u001b[32m[I 2022-06-09 13:12:41,962]\u001b[0m Trial 14 finished with value: 0.98 and parameters: {'lambda_l1': 0.2467747955335506, 'lambda_l2': 0.0028469832044877735, 'num_leaves': 234, 'n_estimators': 2768, 'feature_fraction': 0.5058933701357176, 'bagging_fraction': 0.8315215083072616, 'min_child_samples': 89}. Best is trial 2 with value: 0.9866666666666667.\u001b[0m\n"
     ]
    },
    {
     "name": "stdout",
     "output_type": "stream",
     "text": [
      "[LightGBM] [Warning] feature_fraction is set=0.9997911553098375, colsample_bytree=1.0 will be ignored. Current value: feature_fraction=0.9997911553098375\n",
      "[LightGBM] [Warning] lambda_l1 is set=0.0001931893004204814, reg_alpha=0.0 will be ignored. Current value: lambda_l1=0.0001931893004204814\n",
      "[LightGBM] [Warning] bagging_fraction is set=0.5737498083358961, subsample=1.0 will be ignored. Current value: bagging_fraction=0.5737498083358961\n",
      "[LightGBM] [Warning] lambda_l2 is set=0.6542786274372386, reg_lambda=0.0 will be ignored. Current value: lambda_l2=0.6542786274372386\n",
      "[LightGBM] [Warning] bagging_freq is set=44, subsample_freq=0 will be ignored. Current value: bagging_freq=44\n"
     ]
    },
    {
     "name": "stderr",
     "output_type": "stream",
     "text": [
      "\u001b[32m[I 2022-06-09 13:12:42,466]\u001b[0m Trial 15 finished with value: 0.9866666666666667 and parameters: {'lambda_l1': 0.0001931893004204814, 'lambda_l2': 0.6542786274372386, 'num_leaves': 395, 'n_estimators': 2492, 'feature_fraction': 0.9997911553098375, 'bagging_fraction': 0.5737498083358961, 'min_child_samples': 44}. Best is trial 2 with value: 0.9866666666666667.\u001b[0m\n"
     ]
    },
    {
     "name": "stdout",
     "output_type": "stream",
     "text": [
      "[LightGBM] [Warning] feature_fraction is set=0.6204988941183459, colsample_bytree=1.0 will be ignored. Current value: feature_fraction=0.6204988941183459\n",
      "[LightGBM] [Warning] lambda_l1 is set=3.5134556407671937e-06, reg_alpha=0.0 will be ignored. Current value: lambda_l1=3.5134556407671937e-06\n",
      "[LightGBM] [Warning] bagging_fraction is set=0.7032734815142109, subsample=1.0 will be ignored. Current value: bagging_fraction=0.7032734815142109\n",
      "[LightGBM] [Warning] lambda_l2 is set=2.8355328768620433e-06, reg_lambda=0.0 will be ignored. Current value: lambda_l2=2.8355328768620433e-06\n",
      "[LightGBM] [Warning] bagging_freq is set=79, subsample_freq=0 will be ignored. Current value: bagging_freq=79\n"
     ]
    },
    {
     "name": "stderr",
     "output_type": "stream",
     "text": [
      "\u001b[32m[I 2022-06-09 13:12:42,938]\u001b[0m Trial 16 finished with value: 0.9733333333333334 and parameters: {'lambda_l1': 3.5134556407671937e-06, 'lambda_l2': 2.8355328768620433e-06, 'num_leaves': 507, 'n_estimators': 1542, 'feature_fraction': 0.6204988941183459, 'bagging_fraction': 0.7032734815142109, 'min_child_samples': 79}. Best is trial 2 with value: 0.9866666666666667.\u001b[0m\n",
      "\u001b[32m[I 2022-06-09 13:12:43,129]\u001b[0m Trial 17 finished with value: 0.98 and parameters: {'lambda_l1': 0.3329989012375285, 'lambda_l2': 0.0054335721588144965, 'num_leaves': 150, 'n_estimators': 1106, 'feature_fraction': 0.8080021210324972, 'bagging_fraction': 0.4737573717290116, 'min_child_samples': 34}. Best is trial 2 with value: 0.9866666666666667.\u001b[0m\n"
     ]
    },
    {
     "name": "stdout",
     "output_type": "stream",
     "text": [
      "[LightGBM] [Warning] feature_fraction is set=0.8080021210324972, colsample_bytree=1.0 will be ignored. Current value: feature_fraction=0.8080021210324972\n",
      "[LightGBM] [Warning] lambda_l1 is set=0.3329989012375285, reg_alpha=0.0 will be ignored. Current value: lambda_l1=0.3329989012375285\n",
      "[LightGBM] [Warning] bagging_fraction is set=0.4737573717290116, subsample=1.0 will be ignored. Current value: bagging_fraction=0.4737573717290116\n",
      "[LightGBM] [Warning] lambda_l2 is set=0.0054335721588144965, reg_lambda=0.0 will be ignored. Current value: lambda_l2=0.0054335721588144965\n",
      "[LightGBM] [Warning] bagging_freq is set=34, subsample_freq=0 will be ignored. Current value: bagging_freq=34\n",
      "[LightGBM] [Warning] feature_fraction is set=0.9969604564650777, colsample_bytree=1.0 will be ignored. Current value: feature_fraction=0.9969604564650777\n",
      "[LightGBM] [Warning] lambda_l1 is set=0.0002647315865701002, reg_alpha=0.0 will be ignored. Current value: lambda_l1=0.0002647315865701002\n",
      "[LightGBM] [Warning] bagging_fraction is set=0.5950378087411684, subsample=1.0 will be ignored. Current value: bagging_fraction=0.5950378087411684\n",
      "[LightGBM] [Warning] lambda_l2 is set=1.0641639718888072, reg_lambda=0.0 will be ignored. Current value: lambda_l2=1.0641639718888072\n",
      "[LightGBM] [Warning] bagging_freq is set=39, subsample_freq=0 will be ignored. Current value: bagging_freq=39\n"
     ]
    },
    {
     "name": "stderr",
     "output_type": "stream",
     "text": [
      "\u001b[32m[I 2022-06-09 13:12:43,573]\u001b[0m Trial 18 finished with value: 0.9733333333333334 and parameters: {'lambda_l1': 0.0002647315865701002, 'lambda_l2': 1.0641639718888072, 'num_leaves': 392, 'n_estimators': 2370, 'feature_fraction': 0.9969604564650777, 'bagging_fraction': 0.5950378087411684, 'min_child_samples': 39}. Best is trial 2 with value: 0.9866666666666667.\u001b[0m\n"
     ]
    },
    {
     "name": "stdout",
     "output_type": "stream",
     "text": [
      "[LightGBM] [Warning] feature_fraction is set=0.6823690422710288, colsample_bytree=1.0 will be ignored. Current value: feature_fraction=0.6823690422710288\n",
      "[LightGBM] [Warning] lambda_l1 is set=0.0021204193386780115, reg_alpha=0.0 will be ignored. Current value: lambda_l1=0.0021204193386780115\n",
      "[LightGBM] [Warning] bagging_fraction is set=0.8515027121134852, subsample=1.0 will be ignored. Current value: bagging_fraction=0.8515027121134852\n",
      "[LightGBM] [Warning] lambda_l2 is set=1.9744294547326246e-06, reg_lambda=0.0 will be ignored. Current value: lambda_l2=1.9744294547326246e-06\n",
      "[LightGBM] [Warning] bagging_freq is set=57, subsample_freq=0 will be ignored. Current value: bagging_freq=57\n"
     ]
    },
    {
     "name": "stderr",
     "output_type": "stream",
     "text": [
      "\u001b[32m[I 2022-06-09 13:12:43,900]\u001b[0m Trial 19 finished with value: 0.98 and parameters: {'lambda_l1': 0.0021204193386780115, 'lambda_l2': 1.9744294547326246e-06, 'num_leaves': 277, 'n_estimators': 995, 'feature_fraction': 0.6823690422710288, 'bagging_fraction': 0.8515027121134852, 'min_child_samples': 57}. Best is trial 2 with value: 0.9866666666666667.\u001b[0m\n"
     ]
    },
    {
     "name": "stdout",
     "output_type": "stream",
     "text": [
      "\n",
      "Best Trial : score 0.9866666666666667, \n",
      "params {'lambda_l1': 0.0005830758138404658, 'lambda_l2': 3.754538278220935, 'num_leaves': 70, 'n_estimators': 2007, 'feature_fraction': 0.6579710820453142, 'bagging_fraction': 0.7135716476139702, 'min_child_samples': 40}\n"
     ]
    }
   ],
   "source": [
    "from optuna.samplers import TPESampler\n",
    "\n",
    "#Oputna는 함수정의는 필수입니다.\n",
    "def objectiveLGBM(trial: Trial, X,y,test):\n",
    "    param = {\n",
    "        'objective':'binary',\n",
    "        'metric':'accuracy',\n",
    "        'verbosity':-1,\n",
    "        'boosting_type':'gbdt',\n",
    "        'lambda_l1':trial.suggest_loguniform('lambda_l1',1e-8, 10.0),\n",
    "        'lambda_l2':trial.suggest_loguniform('lambda_l2',1e-8, 10.0),\n",
    "        'num_leaves':trial.suggest_int('num_leaves',2,512),\n",
    "        'learning_rate':0.01,\n",
    "        'n_estimators':trial.suggest_int('n_estimators',700,3000),\n",
    "        'feature_fraction':trial.suggest_uniform('feature_fraction',0.4,1.0),\n",
    "        'bagging_fraction':trial.suggest_uniform('bagging_fraction',0.4,1.0),\n",
    "        'bagging_freq':trial.suggest_int('min_child_samples',5,100),\n",
    "        'gpu_use_dp':True\n",
    "    }\n",
    "#     X_train,X_test,y_train,y_test =train_test_split(X,y, test_size=.3)\n",
    "    \n",
    "    lgbm_clf= LGBMClassifier(**param) #딕셔너리와 함수 매개변수를 매칭시키기 위해서 **를 사용해줍니다.\n",
    "    lgbm_clf=lgbm_clf.fit(X_train,y_train,verbose=False)\n",
    "    \n",
    "    score=accuracy_score(y_test,lgbm_clf.predict(X_test))\n",
    "    return score\n",
    "\n",
    "study= optuna.create_study(direction='maximize',sampler=TPESampler())\n",
    "study.optimize(lambda trial: objectiveLGBM(trial,X,y,X_test), n_trials=20)\n",
    "print()\n",
    "print(\"Best Trial : score {}, \\nparams {}\".format(study.best_trial.value, study.best_trial.params))"
   ]
  },
  {
   "cell_type": "code",
   "execution_count": 26,
   "id": "960a627b",
   "metadata": {
    "ExecuteTime": {
     "end_time": "2022-06-09T04:24:52.990342Z",
     "start_time": "2022-06-09T04:24:52.983354Z"
    }
   },
   "outputs": [
    {
     "data": {
      "text/plain": [
       "{'lambda_l1': 0.0005830758138404658,\n",
       " 'lambda_l2': 3.754538278220935,\n",
       " 'num_leaves': 70,\n",
       " 'n_estimators': 2007,\n",
       " 'feature_fraction': 0.6579710820453142,\n",
       " 'bagging_fraction': 0.7135716476139702,\n",
       " 'min_child_samples': 40}"
      ]
     },
     "execution_count": 26,
     "metadata": {},
     "output_type": "execute_result"
    }
   ],
   "source": [
    "params = study.best_trial.params\n",
    "params"
   ]
  },
  {
   "cell_type": "markdown",
   "id": "ba70842c",
   "metadata": {},
   "source": [
    "Wow! 맨 밑에 best Trial score이 거의 0.99네요!"
   ]
  },
  {
   "cell_type": "markdown",
   "id": "a8b52e89",
   "metadata": {},
   "source": [
    "이렇게 하이퍼 파라미터 튜닝을 마치겠습니다. 감사합니다."
   ]
  }
 ],
 "metadata": {
  "kernelspec": {
   "display_name": "Python 3 (ipykernel)",
   "language": "python",
   "name": "python3"
  },
  "language_info": {
   "codemirror_mode": {
    "name": "ipython",
    "version": 3
   },
   "file_extension": ".py",
   "mimetype": "text/x-python",
   "name": "python",
   "nbconvert_exporter": "python",
   "pygments_lexer": "ipython3",
   "version": "3.9.7"
  },
  "toc": {
   "base_numbering": 1,
   "nav_menu": {},
   "number_sections": true,
   "sideBar": true,
   "skip_h1_title": false,
   "title_cell": "Table of Contents",
   "title_sidebar": "Contents",
   "toc_cell": false,
   "toc_position": {},
   "toc_section_display": true,
   "toc_window_display": false
  },
  "varInspector": {
   "cols": {
    "lenName": 16,
    "lenType": 16,
    "lenVar": 40
   },
   "kernels_config": {
    "python": {
     "delete_cmd_postfix": "",
     "delete_cmd_prefix": "del ",
     "library": "var_list.py",
     "varRefreshCmd": "print(var_dic_list())"
    },
    "r": {
     "delete_cmd_postfix": ") ",
     "delete_cmd_prefix": "rm(",
     "library": "var_list.r",
     "varRefreshCmd": "cat(var_dic_list()) "
    }
   },
   "types_to_exclude": [
    "module",
    "function",
    "builtin_function_or_method",
    "instance",
    "_Feature"
   ],
   "window_display": false
  }
 },
 "nbformat": 4,
 "nbformat_minor": 5
}
